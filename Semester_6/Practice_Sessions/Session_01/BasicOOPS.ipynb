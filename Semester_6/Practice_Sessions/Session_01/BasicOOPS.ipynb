{
 "cells": [
  {
   "cell_type": "code",
   "execution_count": 8,
   "id": "d791904a-f7d3-435c-98f9-233d74ba891f",
   "metadata": {},
   "outputs": [],
   "source": [
    "class Employee:\n",
    "    language = \"Python\"    # language and salary are class attributes\n",
    "    salary = 50000\n",
    "\n",
    "    def employee_info(self):\n",
    "        print(f\"Name: {self.name}, Language: {self.language}, Salary: {self.salary}\\n\")\n",
    "\n",
    "    @staticmethod\n",
    "    def greet():\n",
    "        print(\"Hello, Greetings of the day.\\n\")"
   ]
  },
  {
   "cell_type": "code",
   "execution_count": 13,
   "id": "3d361a5c-7486-408f-8cfa-60e892826c4d",
   "metadata": {},
   "outputs": [
    {
     "name": "stdout",
     "output_type": "stream",
     "text": [
      "Name: Debadarshi Omkar, Language: Python, Salary: 50000\n",
      "Name: Debadarshi Omkar, Language: Python, Salary: 50000\n",
      "\n",
      "Hello, Greetings of the day.\n",
      "\n",
      "Name: Pat Cummins, Language: Python, Salary: 50000\n",
      "Name: Pat Cummins, Language: Python, Salary: 50000\n",
      "\n",
      "Hello, Greetings of the day.\n",
      "\n"
     ]
    }
   ],
   "source": [
    "employee_1 = Employee()\n",
    "employee_1.name = \"Debadarshi Omkar\"     # name is an instance attribute\n",
    "print(f\"Name: {employee_1.name}, Language: {employee_1.language}, Salary: {employee_1.salary}\")\n",
    "employee_1.employee_info()\n",
    "Employee.greet()\n",
    "\n",
    "employee_2 = Employee()\n",
    "employee_2.name = \"Pat Cummins\"\n",
    "print(f\"Name: {employee_2.name}, Language: {employee_2.language}, Salary: {employee_2.salary}\")\n",
    "employee_2.employee_info()\n",
    "employee_2.greet()\n"
   ]
  },
  {
   "cell_type": "code",
   "execution_count": 14,
   "id": "b2456ea4-f288-4fc4-97b2-034cd8ffda92",
   "metadata": {},
   "outputs": [],
   "source": [
    "# Constructor\n",
    "class Employee:\n",
    "    language = \"Python\"    # language and python are class attributes\n",
    "    salary = 50000\n",
    "\n",
    "    def __init__(self, name, language, salary):\n",
    "        self.name = name\n",
    "        self.language = language\n",
    "        self.salary = salary\n",
    "    \n",
    "    def employee_info(self):\n",
    "        print(f\"Name: {self.name}, Language: {self.language}, Salary: {self.salary}\\n\")\n",
    "\n",
    "    @staticmethod\n",
    "    def greet():\n",
    "        print(\"Hello, Greetings of the day.\\n\")"
   ]
  },
  {
   "cell_type": "code",
   "execution_count": 15,
   "id": "84a2a3cb-b6af-46ea-a27b-3fdcd0a7fecb",
   "metadata": {},
   "outputs": [
    {
     "name": "stdout",
     "output_type": "stream",
     "text": [
      "Name: Mitchell Starc, Language: ARM, Salary: 1000000\n",
      "\n"
     ]
    }
   ],
   "source": [
    "employee_3 = Employee(\"Mitchell Starc\", \"ARM\", 1000000)\n",
    "employee_3.employee_info()"
   ]
  }
 ],
 "metadata": {
  "kernelspec": {
   "display_name": "Python 3 (ipykernel)",
   "language": "python",
   "name": "python3"
  },
  "language_info": {
   "codemirror_mode": {
    "name": "ipython",
    "version": 3
   },
   "file_extension": ".py",
   "mimetype": "text/x-python",
   "name": "python",
   "nbconvert_exporter": "python",
   "pygments_lexer": "ipython3",
   "version": "3.12.7"
  }
 },
 "nbformat": 4,
 "nbformat_minor": 5
}
