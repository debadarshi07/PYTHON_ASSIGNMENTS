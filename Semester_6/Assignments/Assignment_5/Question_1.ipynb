{
 "cells": [
  {
   "cell_type": "raw",
   "id": "6ae6f849-5eab-41b0-8dad-063663c0cdbb",
   "metadata": {},
   "source": [
    "Single Layer Perceptron (SLP)\n",
    "-------------------------------- \n",
    "Definition:\n",
    "A Single Layer Perceptron is the most basic form of a neural network. It consists of: - An input layer\n",
    "- An output layer with no hidden layers\n",
    "Architecture:\n",
    "Input Layer Output\n",
    "(x1) ─┐\n",
    "(x2) ─┼──► (weighted sum + activation) ► ŷ\n",
    "(x3) ─┘\n",
    "Each input is multiplied by a weight, summed with a bias, and passed through an activationfunction(usually step or sigmoid for binary classification). Loss Function:\n",
    "For binary classification:\n",
    "L_binary = -[y * log(ŷ) + (1 - y) * log(1 - ŷ)]\n",
    "Where: - y is the true label (0 or 1)\n",
    "- ŷ is the predicted probability\n",
    "-------------------------------------------------- \n",
    "\n",
    "Multilayer Perceptron (MLP)\n",
    "------------------------------ \n",
    "Definition:\n",
    "A Multilayer Perceptron is a feedforward neural network with one or more hidden layers betweeninputand output. It can model non-linear relationships. Architecture:\n",
    "Input Layer Hidden Layer(s) Output Layer\n",
    "(x1) ─┐ (h1) ─┐\n",
    "(x2) ─┼─► W1 ─► (h2) ─┼─► W2 ─► (ŷ)\n",
    "(x3) ─┘ (h3) ─┘\n",
    "- Activation functions in hidden layers: ReLU, tanh, etc. - Output layer activation: softmax (multi-class) or sigmoid (binary)\n",
    "Loss Function:\n",
    "For multi-class classification using softmax:\n",
    "L_categorical = -∑[i=1 to C] y_i * log(ŷ_i)\n",
    "\n",
    "Where: - C = number of classes\n",
    "- y_i = 1 if true class is i, else 0\n",
    "- ŷ_i = predicted probability for class i \n",
    "--------------------------------------------------\n",
    "\n",
    "Summary Table:\n",
    "________________________________________________________________________________\n",
    "| Aspect         | SLP                        | MLP                             |\n",
    "|----------------|----------------------------|---------------------------------|\n",
    "| Layers         | 1 (no hidden layers)       | ≥2 (at least one hidden layer)  |\n",
    "| Function       | Linear classifier          | Non-linear modeling             |\n",
    "| Suitable for   | Linearly separable data    | Complex problems (e.g., images) |\n",
    "| Activation     | Step / Sigmoid             | ReLU / Tanh / Sigmoid / Softmax |"
   ]
  }
 ],
 "metadata": {
  "kernelspec": {
   "display_name": "Python 3 (ipykernel)",
   "language": "python",
   "name": "python3"
  },
  "language_info": {
   "codemirror_mode": {
    "name": "ipython",
    "version": 3
   },
   "file_extension": ".py",
   "mimetype": "text/x-python",
   "name": "python",
   "nbconvert_exporter": "python",
   "pygments_lexer": "ipython3",
   "version": "3.12.7"
  }
 },
 "nbformat": 4,
 "nbformat_minor": 5
}
