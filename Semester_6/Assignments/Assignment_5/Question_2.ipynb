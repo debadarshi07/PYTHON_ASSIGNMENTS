{
 "cells": [
  {
   "cell_type": "raw",
   "id": "5ea4f24a-4316-4387-a596-1fb9c57dfa1c",
   "metadata": {},
   "source": [
    "Definition: Feedforward ANN for Iris Classification\n",
    "\n",
    "A simple feedforward Artificial Neural Network (ANN) for the Iris dataset has:\n",
    "    -> Input layer: 4 neurons (sepal length, sepal width, petal length, petal width)\n",
    "    -> Hidden layer(s): e.g., 1 layer with 8 neurons using ReLU activation\n",
    "    -> Output layer: 3 neurons (for 3 classes: Setosa, Versicolor, Virginica) with Softmax activation"
   ]
  }
 ],
 "metadata": {
  "kernelspec": {
   "display_name": "Python 3 (ipykernel)",
   "language": "python",
   "name": "python3"
  },
  "language_info": {
   "codemirror_mode": {
    "name": "ipython",
    "version": 3
   },
   "file_extension": ".py",
   "mimetype": "text/x-python",
   "name": "python",
   "nbconvert_exporter": "python",
   "pygments_lexer": "ipython3",
   "version": "3.12.7"
  }
 },
 "nbformat": 4,
 "nbformat_minor": 5
}
