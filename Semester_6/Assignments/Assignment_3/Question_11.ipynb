{
 "cells": [
  {
   "cell_type": "code",
   "execution_count": null,
   "id": "c74b9459-713b-4318-b833-f5747d097345",
   "metadata": {},
   "outputs": [],
   "source": [
    "from textblob import TextBlob"
   ]
  },
  {
   "cell_type": "code",
   "execution_count": null,
   "id": "f9034ff8-0fa3-40a7-960d-9f8ced2dfbd6",
   "metadata": {},
   "outputs": [],
   "source": [
    "text = input(\"Enter a sentence in English: \")\n",
    "blob = TextBlob(text)\n",
    "\n",
    "print(\"French:\", blob.translate(to='fr'))\n",
    "print(\"Spanish:\", blob.translate(to='es'))\n",
    "print(\"German:\", blob.translate(to='de'))"
   ]
  },
  {
   "cell_type": "code",
   "execution_count": null,
   "id": "8866bb00-6cc0-4cf5-8c81-9b48b479dd2d",
   "metadata": {},
   "outputs": [],
   "source": [
    "from textblob import TextBlob\n",
    "\n",
    "sentences = []\n",
    "print(\"Enter sentences (type 'over' to finish):\")\n",
    "\n",
    "while True:\n",
    "    line = input()\n",
    "    if line.lower() == 'over':\n",
    "        break\n",
    "    sentences.append(line)\n",
    "\n",
    "for i, sentence in enumerate(sentences, 1):\n",
    "    blob = TextBlob(sentence)\n",
    "    polarity = blob.sentiment.polarity\n",
    "    subjectivity = blob.sentiment.subjectivity\n",
    "\n",
    "    if polarity > 0:\n",
    "        sentiment = \"Positive\"\n",
    "    elif polarity < 0:\n",
    "        sentiment = \"Negative\"\n",
    "    else:\n",
    "        sentiment = \"Neutral\"\n",
    "\n",
    "    if subjectivity >= 0.5:\n",
    "        objectivity = \"Subjective\"\n",
    "    else:\n",
    "        objectivity = \"Objective\"\n",
    "\n",
    "    print(f\"\\nSentence {i}: {sentence}\")\n",
    "    print(f\"  → Polarity: {polarity:.2f} ({sentiment})\")\n",
    "    print(f\"  → Subjectivity: {subjectivity:.2f} ({objectivity})\")"
   ]
  }
 ],
 "metadata": {
  "kernelspec": {
   "display_name": "Python 3 (ipykernel)",
   "language": "python",
   "name": "python3"
  },
  "language_info": {
   "codemirror_mode": {
    "name": "ipython",
    "version": 3
   },
   "file_extension": ".py",
   "mimetype": "text/x-python",
   "name": "python",
   "nbconvert_exporter": "python",
   "pygments_lexer": "ipython3",
   "version": "3.12.7"
  }
 },
 "nbformat": 4,
 "nbformat_minor": 5
}
