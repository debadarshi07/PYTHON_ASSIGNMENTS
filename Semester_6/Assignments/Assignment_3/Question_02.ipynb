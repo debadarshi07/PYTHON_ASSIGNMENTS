{
 "cells": [
  {
   "cell_type": "code",
   "execution_count": 1,
   "id": "8a9a5436-7013-4f3e-adc1-6342ba6bcf1d",
   "metadata": {},
   "outputs": [
    {
     "data": {
      "text/plain": [
       "'\\n\\n1. Tokenization:\\n    (i). Definition: Tokenization is the process of breaking down a text into smaller units, called tokens. Tokens can be words, phrases, or even characters, depending on the type of tokenization used.\\n    (ii). Significance in NLP: Tokenization is the first step in text processing for NLP tasks, such as text classification, sentiment analysis, and machine translation. It helps in converting unstructured text into structured data that can be analyzed or processed further.\\n    Example: For the sentence \"I love programming,\" tokenization would break it down into the tokens: [\"I\", \"love\", \"programming\"].\\n\\n2. Stemming:\\n    (i).Definition: Stemming is the process of reducing words to their base or root form by removing prefixes or suffixes. The goal is to simplify the word to a form that still conveys the main meaning.\\n    (ii).Significance in NLP: Stemming helps normalize words by eliminating inflections, which allows algorithms to treat different word forms as the same. For example, \"running,\" \"runner,\" and \"ran\" would all be reduced to the root \"run.\" It improves the efficiency of text mining and information retrieval by reducing the vocabulary size.\\n    Example: The word \"running\" would be reduced to the stem \"run.\"\\n\\n3. Lemmatization:\\n    (i). Definition: Lemmatization is similar to stemming but more advanced. It reduces words to their base or dictionary form (lemma) using linguistic knowledge, considering the word\\'s meaning and part of speech.\\n    (ii). Significance in NLP: Lemmatization provides more accurate and meaningful word reduction compared to stemming since it takes into account the context and proper linguistic rules. It helps in understanding the word’s proper form (e.g., singular vs. plural, verb tenses) and is essential for tasks like machine translation and question answering.\\n    Example: The word \"better\" would be reduced to its lemma \"good,\" and \"running\" would become \"run.\"\\n\\n'"
      ]
     },
     "execution_count": 1,
     "metadata": {},
     "output_type": "execute_result"
    }
   ],
   "source": [
    "'''\n",
    "\n",
    "1. Tokenization:\n",
    "    (i). Definition: Tokenization is the process of breaking down a text into smaller units, called tokens. Tokens can be words, phrases, or even characters, depending on the type of tokenization used.\n",
    "    (ii). Significance in NLP: Tokenization is the first step in text processing for NLP tasks, such as text classification, sentiment analysis, and machine translation. It helps in converting unstructured text into structured data that can be analyzed or processed further.\n",
    "    Example: For the sentence \"I love programming,\" tokenization would break it down into the tokens: [\"I\", \"love\", \"programming\"].\n",
    "\n",
    "2. Stemming:\n",
    "    (i).Definition: Stemming is the process of reducing words to their base or root form by removing prefixes or suffixes. The goal is to simplify the word to a form that still conveys the main meaning.\n",
    "    (ii).Significance in NLP: Stemming helps normalize words by eliminating inflections, which allows algorithms to treat different word forms as the same. For example, \"running,\" \"runner,\" and \"ran\" would all be reduced to the root \"run.\" It improves the efficiency of text mining and information retrieval by reducing the vocabulary size.\n",
    "    Example: The word \"running\" would be reduced to the stem \"run.\"\n",
    "\n",
    "3. Lemmatization:\n",
    "    (i). Definition: Lemmatization is similar to stemming but more advanced. It reduces words to their base or dictionary form (lemma) using linguistic knowledge, considering the word's meaning and part of speech.\n",
    "    (ii). Significance in NLP: Lemmatization provides more accurate and meaningful word reduction compared to stemming since it takes into account the context and proper linguistic rules. It helps in understanding the word’s proper form (e.g., singular vs. plural, verb tenses) and is essential for tasks like machine translation and question answering.\n",
    "    Example: The word \"better\" would be reduced to its lemma \"good,\" and \"running\" would become \"run.\"\n",
    "\n",
    "'''"
   ]
  }
 ],
 "metadata": {
  "kernelspec": {
   "display_name": "Python 3 (ipykernel)",
   "language": "python",
   "name": "python3"
  },
  "language_info": {
   "codemirror_mode": {
    "name": "ipython",
    "version": 3
   },
   "file_extension": ".py",
   "mimetype": "text/x-python",
   "name": "python",
   "nbconvert_exporter": "python",
   "pygments_lexer": "ipython3",
   "version": "3.12.7"
  }
 },
 "nbformat": 4,
 "nbformat_minor": 5
}
