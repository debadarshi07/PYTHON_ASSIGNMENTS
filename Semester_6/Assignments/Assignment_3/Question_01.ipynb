{
 "cells": [
  {
   "cell_type": "code",
   "execution_count": 1,
   "id": "143cbad8-4310-4dbb-8514-52b70cc9e674",
   "metadata": {},
   "outputs": [
    {
     "data": {
      "text/plain": [
       "'\\n\\nNatural Language Processing (NLP) is a field of artificial intelligence that enables machines to understand, interpret, and generate human language. It involves tasks like speech recognition, language translation, and text analysis.\\n\\nReal-World Applications of NLP:\\n\\n(1). Voice Assistants (e.g., Siri, Google Assistant):\\n            NLP helps convert speech into text and generate responses, making technology more accessible and improving productivity.\\n\\n(2). Machine Translation (e.g., Google Translate):\\n            NLP enables language translation, breaking down communication barriers and promoting global access to information.\\n\\n(3). Sentiment Analysis (e.g., Social Media Monitoring):\\n            NLP analyzes text to detect public sentiment, helping businesses and organizations make informed decisions based on customer feedback or public opinion.\\n\\nThese applications significantly impact society by enhancing communication, accessibility, and business insights.\\n\\n'"
      ]
     },
     "execution_count": 1,
     "metadata": {},
     "output_type": "execute_result"
    }
   ],
   "source": [
    "'''\n",
    "\n",
    "Natural Language Processing (NLP) is a field of artificial intelligence that enables machines to understand, interpret, and generate human language. It involves tasks like speech recognition, language translation, and text analysis.\n",
    "\n",
    "Real-World Applications of NLP:\n",
    "\n",
    "(1). Voice Assistants (e.g., Siri, Google Assistant):\n",
    "            NLP helps convert speech into text and generate responses, making technology more accessible and improving productivity.\n",
    "\n",
    "(2). Machine Translation (e.g., Google Translate):\n",
    "            NLP enables language translation, breaking down communication barriers and promoting global access to information.\n",
    "\n",
    "(3). Sentiment Analysis (e.g., Social Media Monitoring):\n",
    "            NLP analyzes text to detect public sentiment, helping businesses and organizations make informed decisions based on customer feedback or public opinion.\n",
    "\n",
    "These applications significantly impact society by enhancing communication, accessibility, and business insights.\n",
    "\n",
    "'''"
   ]
  }
 ],
 "metadata": {
  "kernelspec": {
   "display_name": "Python 3 (ipykernel)",
   "language": "python",
   "name": "python3"
  },
  "language_info": {
   "codemirror_mode": {
    "name": "ipython",
    "version": 3
   },
   "file_extension": ".py",
   "mimetype": "text/x-python",
   "name": "python",
   "nbconvert_exporter": "python",
   "pygments_lexer": "ipython3",
   "version": "3.12.7"
  }
 },
 "nbformat": 4,
 "nbformat_minor": 5
}
