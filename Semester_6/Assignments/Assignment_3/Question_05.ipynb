{
 "cells": [
  {
   "cell_type": "code",
   "execution_count": 17,
   "id": "d4e71a48-b1ca-43ee-96fe-f3dd7d50f8a8",
   "metadata": {},
   "outputs": [],
   "source": [
    "import textblob\n",
    "import nltk\n",
    "from textblob import TextBlob\n",
    "from nltk.corpus import stopwords"
   ]
  },
  {
   "cell_type": "code",
   "execution_count": 29,
   "id": "3e632dc7-acd4-476c-92d0-642daf5f9255",
   "metadata": {},
   "outputs": [],
   "source": [
    "blob = TextBlob('Natural Language Processing enables machines to understand and process human languages. It is a fascinatiing field with numerous application, such as chatbots and language translation.')"
   ]
  },
  {
   "cell_type": "code",
   "execution_count": 31,
   "id": "62a3ec4d-a4ed-48a0-a441-db1faa849058",
   "metadata": {},
   "outputs": [
    {
     "name": "stdout",
     "output_type": "stream",
     "text": [
      "Word Tokens: \n",
      "['Natural', 'Language', 'Processing', 'enables', 'machines', 'to', 'understand', 'and', 'process', 'human', 'languages', 'It', 'is', 'a', 'fascinatiing', 'field', 'with', 'numerous', 'application', 'such', 'as', 'chatbots', 'and', 'language', 'translation']\n",
      "\n",
      "Sentence Tokens: \n",
      "[Sentence(\"Natural Language Processing enables machines to understand and process human languages.\"), Sentence(\"It is a fascinatiing field with numerous application, such as chatbots and language translation.\")]\n"
     ]
    }
   ],
   "source": [
    "word_tokens = blob.words\n",
    "sentence_tokens = blob.sentences\n",
    "\n",
    "print(f'Word Tokens: \\n{word_tokens}\\n\\nSentence Tokens: \\n{sentence_tokens}')"
   ]
  },
  {
   "cell_type": "code",
   "execution_count": 32,
   "id": "1e8498db-9b4d-46cb-8316-6403712d4d5f",
   "metadata": {},
   "outputs": [
    {
     "name": "stdout",
     "output_type": "stream",
     "text": [
      "Word Stemming: \n",
      "['natur', 'languag', 'process', 'enabl', 'machin', 'to', 'understand', 'and', 'process', 'human', 'languag', 'it', 'is', 'a', 'fascinati', 'field', 'with', 'numer', 'applic', 'such', 'as', 'chatbot', 'and', 'languag', 'translat']\n",
      "\n",
      "Word Lemmatize: \n",
      "['Natural', 'Language', 'Processing', 'enables', 'machine', 'to', 'understand', 'and', 'process', 'human', 'language', 'It', 'is', 'a', 'fascinatiing', 'field', 'with', 'numerous', 'application', 'such', 'a', 'chatbots', 'and', 'language', 'translation']\n"
     ]
    }
   ],
   "source": [
    "word_stem = word_tokens.stem()\n",
    "word_lem = word_tokens.lemmatize()\n",
    "\n",
    "print(f'Word Stemming: \\n{word_stem}\\n\\nWord Lemmatize: \\n{word_lem}')"
   ]
  },
  {
   "cell_type": "code",
   "execution_count": 33,
   "id": "e453a4f7-4ec6-4be7-952e-b023f58e085f",
   "metadata": {},
   "outputs": [
    {
     "name": "stdout",
     "output_type": "stream",
     "text": [
      "['Natural', 'Language', 'Processing', 'enables', 'machines', 'understand', 'process', 'human', 'languages', 'It', 'fascinatiing', 'field', 'numerous', 'application', 'chatbots', 'language', 'translation']\n"
     ]
    }
   ],
   "source": [
    "stops = stopwords.words('english')\n",
    "\n",
    "flow = [word for word in word_tokens if word not in stops]\n",
    "print(flow)"
   ]
  }
 ],
 "metadata": {
  "kernelspec": {
   "display_name": "Python 3 (ipykernel)",
   "language": "python",
   "name": "python3"
  },
  "language_info": {
   "codemirror_mode": {
    "name": "ipython",
    "version": 3
   },
   "file_extension": ".py",
   "mimetype": "text/x-python",
   "name": "python",
   "nbconvert_exporter": "python",
   "pygments_lexer": "ipython3",
   "version": "3.12.7"
  }
 },
 "nbformat": 4,
 "nbformat_minor": 5
}
