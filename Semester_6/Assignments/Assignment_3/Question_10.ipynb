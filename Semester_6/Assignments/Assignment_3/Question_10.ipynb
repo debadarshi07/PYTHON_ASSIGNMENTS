{
 "cells": [
  {
   "cell_type": "code",
   "execution_count": null,
   "id": "7f36d8b3-92ef-4002-b19d-da4bf2cc817e",
   "metadata": {},
   "outputs": [],
   "source": [
    "import textblob\n",
    "from textblob import TextBlob, Word\n",
    "from pathlib import Path"
   ]
  },
  {
   "cell_type": "code",
   "execution_count": 2,
   "id": "7cf22055-8e51-4c3b-a8b7-0353685cdd59",
   "metadata": {},
   "outputs": [],
   "source": [
    "text = Path('RomeoAndJuliet.txt').read_text(encoding='utf-8')"
   ]
  },
  {
   "cell_type": "code",
   "execution_count": 8,
   "id": "cf88f3dc-2df4-4472-addf-d807d37a404e",
   "metadata": {},
   "outputs": [],
   "source": [
    "blob = TextBlob(text)"
   ]
  },
  {
   "cell_type": "code",
   "execution_count": 7,
   "id": "ea2916d4-0f71-4eef-8645-50a1ef067595",
   "metadata": {},
   "outputs": [
    {
     "name": "stdout",
     "output_type": "stream",
     "text": [
      "THE TRAGEDY of ROMEO AND JULIET THE PROLOGUE ACT of III Room Papules House of All Papules House ACT of CHORUS In Papules of Papules III Friar Well of Papules of Friar Well ACT III Place of Room Papules House III Friar of Room Papules House In ACT of Friar Well of All Papules House III of All Papules House ACT of Friar Well III Papules Person ESCALUS MERCUTIO Some PARIS Age MONTAGUE Veronese fed Papules LADY MONTAGUE ROMEO BENVOLIO Some ABRAM BALTHASAR Some CAPULET Veronese fed LADY CAPULET Papules JULIET Papules TYBALT Lady Papules CAPULET COUSIN NURSE PETER Nurse SAMPSON Papules GREGORY Papules FRIAR LAWRENCE Franciscan FRIAR JOHN In Apothecary CHORUS In Men Women Masters Watchman SCENE During Lay Act THE PROLOGUE Enter CHORUS Two In There star-cross Those overthrow Both The death-mark And Is The That ACT SCENE Enter SAMPSON coats GREGORY To soldiers SAMPSON GREGORY By SAMPSON GREGORY But SAMPSON GREGORY To run SAMPSON GREGORY That nearest SAMPSON True GREGORY The SAMPSON His GREGORY The SAMPSON By maidenheads GREGORY They SAMPSON He GREGORY His Raw Enter Dram Balthasar SAMPSON By GREGORY Now Turn SAMPSON Dear GREGORY To SAMPSON Met GREGORY SAMPSON May ABRAM To SAMPSON ABRAM To SAMPSON Is GREGORY To SAMPSON To GREGORY To ABRAM To SAMPSON But ABRAM To SAMPSON Well Enter Benvolio GREGORY May SAMPSON Yes ABRAM You SAMPSON Raw They BENVOLIO Part Seats Enter Tybalt TYBALT That hands Turn Benvolio BENVOLIO Or TYBALT That Is Have They Enter FIRST CITIZEN Seat Down Papules Down Enter Papules Lady Papules CAPULET Is Some Door PRINCE looming The To Some For Than Some Exeunt "
     ]
    }
   ],
   "source": [
    "for word in blob.words:\n",
    "    spellcheck_result = Word(word).spellcheck()\n",
    "    if spellcheck_result[0][1] != 1.0:\n",
    "        print(Word(word).correct(), end=' ')"
   ]
  }
 ],
 "metadata": {
  "kernelspec": {
   "display_name": "Python 3 (ipykernel)",
   "language": "python",
   "name": "python3"
  },
  "language_info": {
   "codemirror_mode": {
    "name": "ipython",
    "version": 3
   },
   "file_extension": ".py",
   "mimetype": "text/x-python",
   "name": "python",
   "nbconvert_exporter": "python",
   "pygments_lexer": "ipython3",
   "version": "3.12.7"
  }
 },
 "nbformat": 4,
 "nbformat_minor": 5
}
