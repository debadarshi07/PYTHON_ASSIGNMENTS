{
 "cells": [
  {
   "cell_type": "code",
   "execution_count": 39,
   "id": "99678c8e-5a0e-49e8-b74e-05d76dad8093",
   "metadata": {},
   "outputs": [],
   "source": [
    "import requests\n",
    "from bs4 import BeautifulSoup\n",
    "import nltk\n",
    "from nltk.corpus import stopwords\n",
    "from wordcloud import WordCloud\n",
    "import matplotlib.pyplot as plt"
   ]
  },
  {
   "cell_type": "code",
   "execution_count": 32,
   "id": "c09f9dd2-4f0d-40cb-82ef-851cbd6e7827",
   "metadata": {},
   "outputs": [],
   "source": [
    "stop_words = stopwords.words('english')"
   ]
  },
  {
   "cell_type": "code",
   "execution_count": 36,
   "id": "056e372d-013b-4c9d-b087-b3310bfb4437",
   "metadata": {},
   "outputs": [],
   "source": [
    "url = \"https://www.python.org\"\n",
    "response = requests.get(url)\n",
    "html_content = response.text"
   ]
  },
  {
   "cell_type": "code",
   "execution_count": 38,
   "id": "b6c218bd-2718-4767-91e0-4ed3f6450ede",
   "metadata": {},
   "outputs": [
    {
     "name": "stdout",
     "output_type": "stream",
     "text": [
      "welcome javascript essential interaction content please turn javascript full skip content close python psf docs pypi jobs community python network donate menu search site go smaller larger reset socialize linkedin mastodon chat irc twitter applications quotes getting started help python brochure downloads releases source code windows macos platforms license alternative implementations documentation docs talks guide guide faq docs pep index python books python essays community diversity mailing lists irc forums psf annual impact report python conferences special interest groups python logo python wiki code conduct community awards get involved shared stories success stories arts business education engineering government scientific software development news python news psf newsletter psf news pycon us news news community events python events user group events python events archive user group events archive submit event launch interactive shell python fibonacci series n def b b functions defined core extensible programming defining python allows mandatory optional keyword even arbitrary argument defining functions python python list comprehensions fruits fruit list enumerate function compound data types lists arrays one compound data types python lists sliced manipulated lists python python simple arithmetic classic division returns float floor division intuitive interpretation calculations simple expression syntax operators work parentheses used simple math functions python loop list numbers product number product product number product product flow expect python knows usual control flow statements languages speak range control flow tools python simple output assignment name python quick easy learn experienced programmers language pick python beginners find clean syntax indentation structure easy whet appetite python python programming language lets work quickly integrate systems learn join us pa starting may grab ticket today sell register pycon get started whether new programming experienced easy learn use start guide download python source code installers available download python docs documentation standard along tutorials available jobs looking work python related position trying hire relaunched job board place latest news psf board election schedule change psf grants program transparency report python available psf pycon pypi bluesky python alpha upcoming events pycamp españa michigan python may meeting python communities bamenda pycon us pygrunn success stories python broad variety libraries well suited develop customized machine learning tools tackle complex challenges posed financial time python financial machine learning union investment christian mandery nikolas gerlich use python web development django pyramid bottle tornado flask gui development tkinter pygobject pyqt pyside kivy wxpython dearpygui scientific numeric scipy pandas ipython software development buildbot trac roundup system administration ansible salt openstack xonsh python software foundation mission python software foundation advance python programming support facilitate growth diverse international community python learn become member donate psf back top applications quotes getting started help python brochure downloads releases source code windows macos platforms license alternative implementations documentation docs talks guide guide faq docs pep index python books python essays community diversity mailing lists irc forums psf annual impact report python conferences special interest groups python logo python wiki code conduct community awards get involved shared stories success stories arts business education engineering government scientific software development news python news psf newsletter psf news pycon us news news community events python events user group events python events archive user group events archive submit event contributing guide issue tracker list core mentorship report security issue back top help general contact diversity initiatives submit website bug status copyright python software foundation legal statements privacy notice\n"
     ]
    }
   ],
   "source": [
    "soup = BeautifulSoup(html_content, 'html.parser')\n",
    "text = soup.get_text(separator=' ')\n",
    "words = text.lower().split()\n",
    "filtered_words = [word for word in words if word.isalpha() and word not in stop_words]\n",
    "cleaned_text = ' '.join(filtered_words)\n",
    "print(cleaned_text)"
   ]
  },
  {
   "cell_type": "code",
   "execution_count": null,
   "id": "d6000976-34ae-47c7-bc6e-01e6ca0e0ba4",
   "metadata": {},
   "outputs": [],
   "source": [
    "wordcloud = WordCloud(width=800, height=400, background_color='white').generate(cleaned_text)"
   ]
  },
  {
   "cell_type": "code",
   "execution_count": null,
   "id": "83335fbe-1886-42dd-88f8-592dd295883e",
   "metadata": {},
   "outputs": [],
   "source": [
    "plt.figure(figsize=(15, 7))\n",
    "plt.imshow(wordcloud, interpolation='bilinear')\n",
    "plt.axis('off')\n",
    "plt.title('Word Cloud from python.org homepage', fontsize=16)\n",
    "plt.show()"
   ]
  }
 ],
 "metadata": {
  "kernelspec": {
   "display_name": "Python 3 (ipykernel)",
   "language": "python",
   "name": "python3"
  },
  "language_info": {
   "codemirror_mode": {
    "name": "ipython",
    "version": 3
   },
   "file_extension": ".py",
   "mimetype": "text/x-python",
   "name": "python",
   "nbconvert_exporter": "python",
   "pygments_lexer": "ipython3",
   "version": "3.12.7"
  }
 },
 "nbformat": 4,
 "nbformat_minor": 5
}
