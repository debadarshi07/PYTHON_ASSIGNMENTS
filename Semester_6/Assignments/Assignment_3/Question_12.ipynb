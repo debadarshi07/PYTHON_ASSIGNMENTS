{
 "cells": [
  {
   "cell_type": "code",
   "execution_count": 4,
   "id": "3f97fc49-54f6-4678-9cd0-848b35084293",
   "metadata": {},
   "outputs": [],
   "source": [
    "import nltk"
   ]
  },
  {
   "cell_type": "code",
   "execution_count": 7,
   "id": "cd8c0698-700d-4769-9036-e80082c77677",
   "metadata": {},
   "outputs": [],
   "source": [
    "from textblob import Word"
   ]
  },
  {
   "cell_type": "code",
   "execution_count": 46,
   "id": "f19f256a-bb2e-4403-a03f-afef7b52e4ff",
   "metadata": {},
   "outputs": [],
   "source": [
    "def get_word_details(word):\n",
    "    word = Word(word)\n",
    "\n",
    "    print(f'Definitions of \"{word}\": ')\n",
    "    for i, definition in enumerate(word.definitions, 1):\n",
    "        print(f'    {i}. {definition}')\n",
    "\n",
    "    print(f'\\nSynonyms of \"{word}\": ')\n",
    "    synonyms = set()\n",
    "\n",
    "    for synset in word.synsets:\n",
    "        for lemma in synset.lemmas():\n",
    "            synonyms.add(lemma.name())\n",
    "\n",
    "    for i, synonym in enumerate(synonyms, 1):\n",
    "        print(f'    {i}. {synonym}')\n",
    "\n",
    "    print(f'\\n\\nAntonyms of \"{word}\": ')\n",
    "    antonyms = set()\n",
    "\n",
    "    antonyms = set()\n",
    "    for synset in word.synsets:\n",
    "        for lemma in synset.lemmas():\n",
    "            for antonym in lemma.antonyms():\n",
    "                antonyms.add(antonym.name())\n",
    "\n",
    "    for i, antonym in enumerate(antonyms, 1):\n",
    "        print(f'    {i}. {antonym}')"
   ]
  },
  {
   "cell_type": "code",
   "execution_count": 47,
   "id": "6e98be96-46b3-447e-85dc-8b32c43a808e",
   "metadata": {},
   "outputs": [
    {
     "name": "stdin",
     "output_type": "stream",
     "text": [
      "Enter a word ->  dance\n"
     ]
    },
    {
     "name": "stdout",
     "output_type": "stream",
     "text": [
      "Definitions of \"dance\": \n",
      "    1. an artistic form of nonverbal communication\n",
      "    2. a party of people assembled for dancing\n",
      "    3. taking a series of rhythmical steps (and movements) in time to music\n",
      "    4. a party for social dancing\n",
      "    5. move in a graceful and rhythmical way\n",
      "    6. move in a pattern; usually to musical accompaniment; do or perform a dance\n",
      "    7. skip, leap, or move up and down or sideways\n",
      "\n",
      "Synonyms of \"dance\": \n",
      "    1. dancing\n",
      "    2. trip_the_light_fantastic_toe\n",
      "    3. dance\n",
      "    4. terpsichore\n",
      "    5. trip_the_light_fantastic\n",
      "    6. saltation\n",
      "\n",
      "\n",
      "Antonyms of \"dance\": \n"
     ]
    }
   ],
   "source": [
    "word = input('Enter a word -> ')\n",
    "get_word_details(word)"
   ]
  }
 ],
 "metadata": {
  "kernelspec": {
   "display_name": "Python 3 (ipykernel)",
   "language": "python",
   "name": "python3"
  },
  "language_info": {
   "codemirror_mode": {
    "name": "ipython",
    "version": 3
   },
   "file_extension": ".py",
   "mimetype": "text/x-python",
   "name": "python",
   "nbconvert_exporter": "python",
   "pygments_lexer": "ipython3",
   "version": "3.12.7"
  }
 },
 "nbformat": 4,
 "nbformat_minor": 5
}
