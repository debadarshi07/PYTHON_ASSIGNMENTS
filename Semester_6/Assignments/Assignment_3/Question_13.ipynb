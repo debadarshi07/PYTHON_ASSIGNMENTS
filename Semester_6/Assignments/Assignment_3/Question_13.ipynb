{
 "cells": [
  {
   "cell_type": "code",
   "execution_count": 3,
   "id": "9cbf83c0-a5c2-4de9-90c2-9cdf7deb913c",
   "metadata": {},
   "outputs": [],
   "source": [
    "from pathlib import Path\n",
    "import imageio\n",
    "from wordcloud import WordCloud\n",
    "from textblob import TextBlob"
   ]
  },
  {
   "cell_type": "code",
   "execution_count": 4,
   "id": "07da2b70-e3c7-4496-8dd0-8f9babcd7bd2",
   "metadata": {},
   "outputs": [],
   "source": [
    "text = Path('./RomeoAndJuliet.txt').read_text(encoding='utf-8')\n",
    "blob = TextBlob(text)"
   ]
  },
  {
   "cell_type": "code",
   "execution_count": 5,
   "id": "84799274-85cd-412d-8eb8-f49ce3c788a0",
   "metadata": {},
   "outputs": [],
   "source": [
    "mask_image = imageio.v2.imread('mask.png')"
   ]
  },
  {
   "cell_type": "code",
   "execution_count": 6,
   "id": "ae06d00d-c7ae-4865-bd48-78980713d6ee",
   "metadata": {},
   "outputs": [],
   "source": [
    "wc = WordCloud(colormap = 'prism', mask = mask_image, background_color = 'white')\n",
    "wc = wc.generate(text)"
   ]
  },
  {
   "cell_type": "code",
   "execution_count": 8,
   "id": "e2546aaa-1ea3-40c1-89b1-28232f794ff6",
   "metadata": {},
   "outputs": [
    {
     "data": {
      "text/plain": [
       "<wordcloud.wordcloud.WordCloud at 0x1fd6d0b0470>"
      ]
     },
     "execution_count": 8,
     "metadata": {},
     "output_type": "execute_result"
    }
   ],
   "source": [
    "wc.to_file('word_frequency.jpg')"
   ]
  }
 ],
 "metadata": {
  "kernelspec": {
   "display_name": "Python 3 (ipykernel)",
   "language": "python",
   "name": "python3"
  },
  "language_info": {
   "codemirror_mode": {
    "name": "ipython",
    "version": 3
   },
   "file_extension": ".py",
   "mimetype": "text/x-python",
   "name": "python",
   "nbconvert_exporter": "python",
   "pygments_lexer": "ipython3",
   "version": "3.12.7"
  }
 },
 "nbformat": 4,
 "nbformat_minor": 5
}
