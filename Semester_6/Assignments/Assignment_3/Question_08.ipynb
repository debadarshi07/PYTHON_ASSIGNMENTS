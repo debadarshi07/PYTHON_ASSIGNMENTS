{
 "cells": [
  {
   "cell_type": "code",
   "execution_count": 2,
   "id": "474b2e3f-4f25-4b8a-9339-b87cc304c982",
   "metadata": {},
   "outputs": [],
   "source": [
    "import textblob\n",
    "from textblob import TextBlob"
   ]
  },
  {
   "cell_type": "code",
   "execution_count": 3,
   "id": "320fd372-2c26-454c-87a3-c18bcf2fc05a",
   "metadata": {},
   "outputs": [],
   "source": [
    "blob = TextBlob('Natural Language Processing enables machines to understand and process human laguages. It is a fascinatiing field with numerous application, such as chatbots and language translation.')"
   ]
  },
  {
   "cell_type": "code",
   "execution_count": 5,
   "id": "916d1fd6-3e8f-44d5-afe6-09ac93844336",
   "metadata": {},
   "outputs": [],
   "source": [
    "sentences = blob.sentences"
   ]
  },
  {
   "cell_type": "code",
   "execution_count": 7,
   "id": "78b3c245-0b7b-4f87-a650-57fd4cacd534",
   "metadata": {},
   "outputs": [
    {
     "name": "stdout",
     "output_type": "stream",
     "text": [
      "Sentiment(polarity=0.05, subjectivity=0.25)\n",
      "Sentiment(polarity=0.0, subjectivity=0.5)\n"
     ]
    }
   ],
   "source": [
    "for sentence in sentences:\n",
    "    print(sentence.sentiment)"
   ]
  },
  {
   "cell_type": "code",
   "execution_count": 8,
   "id": "c56285aa-0290-461e-a6ca-db87c7963a91",
   "metadata": {},
   "outputs": [
    {
     "data": {
      "text/plain": [
       "Sentiment(polarity=0.025, subjectivity=0.375)"
      ]
     },
     "execution_count": 8,
     "metadata": {},
     "output_type": "execute_result"
    }
   ],
   "source": [
    "blob.sentiment"
   ]
  }
 ],
 "metadata": {
  "kernelspec": {
   "display_name": "Python 3 (ipykernel)",
   "language": "python",
   "name": "python3"
  },
  "language_info": {
   "codemirror_mode": {
    "name": "ipython",
    "version": 3
   },
   "file_extension": ".py",
   "mimetype": "text/x-python",
   "name": "python",
   "nbconvert_exporter": "python",
   "pygments_lexer": "ipython3",
   "version": "3.11.7"
  }
 },
 "nbformat": 4,
 "nbformat_minor": 5
}
