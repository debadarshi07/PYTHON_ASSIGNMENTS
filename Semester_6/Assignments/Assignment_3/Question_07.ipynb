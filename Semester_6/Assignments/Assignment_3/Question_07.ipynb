{
 "cells": [
  {
   "cell_type": "code",
   "execution_count": 6,
   "id": "3e4ab85c-ad62-42cf-b1cc-53147a1df9ec",
   "metadata": {},
   "outputs": [],
   "source": [
    "import textblob\n",
    "from textblob import TextBlob"
   ]
  },
  {
   "cell_type": "code",
   "execution_count": 7,
   "id": "b356d985-0a16-46e4-ac5d-51c340af683e",
   "metadata": {},
   "outputs": [],
   "source": [
    "blob = TextBlob('Natural Language Processing enables machines to understand and process human laguages. It is a fascinatiing field with numerous application, such as chatbots and language translation.')"
   ]
  },
  {
   "cell_type": "code",
   "execution_count": 8,
   "id": "f26348f4-c16e-4043-aa5b-7eceb053554b",
   "metadata": {},
   "outputs": [
    {
     "name": "stdout",
     "output_type": "stream",
     "text": [
      "Word Tokens: \n",
      "['Natural', 'Language', 'Processing', 'enables', 'machines', 'to', 'understand', 'and', 'process', 'human', 'laguages', 'It', 'is', 'a', 'fascinatiing', 'field', 'with', 'numerous', 'application', 'such', 'as', 'chatbots', 'and', 'language', 'translation']\n",
      "\n",
      "Sentence Tokens: \n",
      "[Sentence(\"Natural Language Processing enables machines to understand and process human laguages.\"), Sentence(\"It is a fascinatiing field with numerous application, such as chatbots and language translation.\")]\n"
     ]
    }
   ],
   "source": [
    "word_tokens = blob.words\n",
    "sentence_tokens = blob.sentences\n",
    "\n",
    "print(f'Word Tokens: \\n{word_tokens}\\n\\nSentence Tokens: \\n{sentence_tokens}')"
   ]
  },
  {
   "cell_type": "code",
   "execution_count": 9,
   "id": "a48c19bc-3521-4961-ac7a-1b03c7de29de",
   "metadata": {},
   "outputs": [
    {
     "data": {
      "text/plain": [
       "WordList(['language processing', 'process human laguages', 'numerous application', 'language translation'])"
      ]
     },
     "execution_count": 9,
     "metadata": {},
     "output_type": "execute_result"
    }
   ],
   "source": [
    "blob.noun_phrases"
   ]
  }
 ],
 "metadata": {
  "kernelspec": {
   "display_name": "Python 3 (ipykernel)",
   "language": "python",
   "name": "python3"
  },
  "language_info": {
   "codemirror_mode": {
    "name": "ipython",
    "version": 3
   },
   "file_extension": ".py",
   "mimetype": "text/x-python",
   "name": "python",
   "nbconvert_exporter": "python",
   "pygments_lexer": "ipython3",
   "version": "3.11.7"
  }
 },
 "nbformat": 4,
 "nbformat_minor": 5
}
