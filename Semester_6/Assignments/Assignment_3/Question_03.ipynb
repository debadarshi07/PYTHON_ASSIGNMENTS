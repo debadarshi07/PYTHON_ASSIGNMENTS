{
 "cells": [
  {
   "cell_type": "code",
   "execution_count": null,
   "id": "58df8fd8-d5a0-44bb-a022-04afc47f1fc7",
   "metadata": {},
   "outputs": [],
   "source": [
    "'''\n",
    "\n",
    "Part-of-Speech (POS) Tagging is the process of assigning a part of speech (e.g., noun, verb, adjective) to each word in a sentence based on its definition and context. It helps in understanding the grammatical structure of a sentence.\n",
    "\n",
    "Importance of POS Tagging:\n",
    "    (1). Sentence Structure Understanding: Helps analyze the syntax and structure of sentences.\n",
    "    (2). Machine Translation: Assists in accurately translating sentences between languages by recognizing word roles.\n",
    "    (3). Disambiguation: Resolves word ambiguity by understanding context (e.g., \"bank\" as a financial institution or a riverbank).\n",
    "    (4). Named Entity Recognition (NER): Identifies proper nouns, such as names of people, organizations, or places.\n",
    "\n",
    "Example:\n",
    "    In the sentence \"She plays tennis\":\n",
    "\n",
    "    She: Pronoun (PRP)\n",
    "    plays: Verb (VBZ)\n",
    "    tennis: Noun (NN)\n",
    "\n",
    "POS tagging helps to identify the roles of each word, aiding in accurate language processing.\n",
    "\n",
    "'''"
   ]
  }
 ],
 "metadata": {
  "kernelspec": {
   "display_name": "Python 3 (ipykernel)",
   "language": "python",
   "name": "python3"
  },
  "language_info": {
   "codemirror_mode": {
    "name": "ipython",
    "version": 3
   },
   "file_extension": ".py",
   "mimetype": "text/x-python",
   "name": "python",
   "nbconvert_exporter": "python",
   "pygments_lexer": "ipython3",
   "version": "3.12.7"
  }
 },
 "nbformat": 4,
 "nbformat_minor": 5
}
