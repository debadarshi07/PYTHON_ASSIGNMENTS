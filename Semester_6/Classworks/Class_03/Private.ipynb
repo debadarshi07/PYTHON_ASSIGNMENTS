{
 "cells": [
  {
   "cell_type": "code",
   "execution_count": 1,
   "id": "eaed8b10-e8eb-4948-9f8b-21a7328fd606",
   "metadata": {},
   "outputs": [],
   "source": [
    "# Chapter 10"
   ]
  },
  {
   "cell_type": "code",
   "execution_count": 1,
   "id": "696bcbbe-05d0-4325-8b75-d0fd163f8f4b",
   "metadata": {},
   "outputs": [],
   "source": [
    "class Private:\n",
    "    def __init__(self):\n",
    "        self.public = 'public'\n",
    "        self.__private = 'private'"
   ]
  },
  {
   "cell_type": "code",
   "execution_count": 2,
   "id": "183caeaf-ea60-4faa-a67e-b5128077fabc",
   "metadata": {},
   "outputs": [
    {
     "data": {
      "text/plain": [
       "'public'"
      ]
     },
     "execution_count": 2,
     "metadata": {},
     "output_type": "execute_result"
    }
   ],
   "source": [
    "object = Private()\n",
    "object.public"
   ]
  },
  {
   "cell_type": "code",
   "execution_count": 3,
   "id": "df0ddb8f-1aa7-46aa-9112-4b2bd4e07876",
   "metadata": {},
   "outputs": [
    {
     "data": {
      "text/plain": [
       "'private'"
      ]
     },
     "execution_count": 3,
     "metadata": {},
     "output_type": "execute_result"
    }
   ],
   "source": [
    "object._Private__private"
   ]
  }
 ],
 "metadata": {
  "kernelspec": {
   "display_name": "Python 3 (ipykernel)",
   "language": "python",
   "name": "python3"
  },
  "language_info": {
   "codemirror_mode": {
    "name": "ipython",
    "version": 3
   },
   "file_extension": ".py",
   "mimetype": "text/x-python",
   "name": "python",
   "nbconvert_exporter": "python",
   "pygments_lexer": "ipython3",
   "version": "3.12.7"
  }
 },
 "nbformat": 4,
 "nbformat_minor": 5
}
