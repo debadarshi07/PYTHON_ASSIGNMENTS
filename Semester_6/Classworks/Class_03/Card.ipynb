{
 "cells": [
  {
   "cell_type": "code",
   "execution_count": 3,
   "id": "a4c5d1ce-9489-419b-9fd8-751487673374",
   "metadata": {},
   "outputs": [],
   "source": [
    "# Cards"
   ]
  },
  {
   "cell_type": "code",
   "execution_count": 1,
   "id": "78256d4e-daea-4322-a3d7-a7515b3f1347",
   "metadata": {},
   "outputs": [],
   "source": [
    "class Card:\n",
    "    FACES = ['Ace', '2', '3', '4', '5', '6', '7', '8', '9', '10', 'Jack', 'Queen', 'King']\n",
    "    SUITS = ['Hearts', 'Spades', 'Clubs', 'Diamonds']\n",
    "\n",
    "    def __init__(self, face, suit):\n",
    "        self.face = face\n",
    "        self.suit = suit\n",
    "\n",
    "    def image_name(self):\n",
    "        return str(self).replace(' ', '_') + '.png'\n",
    "\n",
    "    def __str__(self):\n",
    "        return f'{self.face} of {self.suit}'"
   ]
  },
  {
   "cell_type": "code",
   "execution_count": 2,
   "id": "bfa53a71-f887-4918-8ab8-1a18f468504b",
   "metadata": {},
   "outputs": [
    {
     "name": "stdout",
     "output_type": "stream",
     "text": [
      "Ace of Clubs\n",
      "Ace_of_Clubs.png\n"
     ]
    }
   ],
   "source": [
    "card = Card('Ace', 'Clubs')\n",
    "print(card)\n",
    "print(card.image_name())"
   ]
  },
  {
   "cell_type": "code",
   "execution_count": 3,
   "id": "adba20db-6494-4ea8-ace9-92dfb8c677e2",
   "metadata": {},
   "outputs": [
    {
     "name": "stdout",
     "output_type": "stream",
     "text": [
      "['Ace', '2', '3', '4', '5', '6', '7', '8', '9', '10', 'Jack', 'Queen', 'King']\n",
      "['Hearts', 'Spades', 'Clubs', 'Diamonds']\n"
     ]
    }
   ],
   "source": [
    "print(card.FACES)\n",
    "print(card.SUITS)"
   ]
  }
 ],
 "metadata": {
  "kernelspec": {
   "display_name": "Python 3 (ipykernel)",
   "language": "python",
   "name": "python3"
  },
  "language_info": {
   "codemirror_mode": {
    "name": "ipython",
    "version": 3
   },
   "file_extension": ".py",
   "mimetype": "text/x-python",
   "name": "python",
   "nbconvert_exporter": "python",
   "pygments_lexer": "ipython3",
   "version": "3.12.7"
  }
 },
 "nbformat": 4,
 "nbformat_minor": 5
}
