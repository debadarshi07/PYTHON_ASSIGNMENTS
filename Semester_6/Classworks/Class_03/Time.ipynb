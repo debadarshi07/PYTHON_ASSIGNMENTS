{
 "cells": [
  {
   "cell_type": "code",
   "execution_count": 2,
   "id": "8df52525-db0e-426a-948f-259ac8365f9a",
   "metadata": {},
   "outputs": [],
   "source": [
    "# Chapter 10"
   ]
  },
  {
   "cell_type": "code",
   "execution_count": 5,
   "id": "3067d643-9c09-44f5-9f49-34d79848b32d",
   "metadata": {},
   "outputs": [],
   "source": [
    "class Time:\n",
    "    def __init__(self, hour = 0, minute = 0, second = 0):\n",
    "        self.hour = hour\n",
    "        self.minute = minute\n",
    "        self.second = second\n",
    "\n",
    "    @property\n",
    "    def hour(self):\n",
    "        return self._hour\n",
    "    @hour.setter\n",
    "    def hour(self, hr):\n",
    "        if not (0 <= hr < 24):\n",
    "            raise ValueError('Hour must be between 0 - 23')\n",
    "        self._hour = hr\n",
    "\n",
    "\n",
    "    @property\n",
    "    def minute(self):\n",
    "        return self._minute\n",
    "    @minute.setter\n",
    "    def minute(self, min):\n",
    "        if not (0 <= min < 60):\n",
    "            raise ValueError('Minute must be between 0 - 59')\n",
    "        self._minute = min\n",
    "\n",
    "\n",
    "    @property\n",
    "    def second(self):\n",
    "        return self._second\n",
    "    @second.setter\n",
    "    def second(self, sec):\n",
    "        if not (0 <= sec < 60):\n",
    "            raise ValueError('Second must be between 0 - 59')\n",
    "        self._second = sec\n",
    "\n",
    "    def set_time(self, hour = 0, minute = 0, second = 0):\n",
    "        self.hour = hour\n",
    "        self.minute = minute\n",
    "        self.second = second\n",
    "\n",
    "    # def __repr__(self):\n",
    "    #     print(f)\n",
    "\n",
    "    def __str__(self):\n",
    "        return (f'{self.hour % 12 if self.hour > 12 else 12}:{self.minute}:{self.second} {\"AM\" if self.hour < 12 else \"PM\"}')"
   ]
  },
  {
   "cell_type": "code",
   "execution_count": 6,
   "id": "82adc980-4c9a-4f39-bce8-2235ef2ccfdc",
   "metadata": {},
   "outputs": [
    {
     "name": "stdout",
     "output_type": "stream",
     "text": [
      "15\n",
      "30\n",
      "12:15:30 PM\n"
     ]
    }
   ],
   "source": [
    "t = Time(12, 15, 30)\n",
    "print(t.minute)\n",
    "print(t.second)\n",
    "print(t)"
   ]
  },
  {
   "cell_type": "code",
   "execution_count": 21,
   "id": "e191635f-7932-4130-9648-f5b767d4fde0",
   "metadata": {},
   "outputs": [
    {
     "name": "stdout",
     "output_type": "stream",
     "text": [
      "8:20:15 PM\n",
      "10:20:15 AM\n"
     ]
    }
   ],
   "source": [
    "t.hour = 20\n",
    "print(t)\n",
    "t.set_time(10, 20, 15)\n",
    "print(t)"
   ]
  }
 ],
 "metadata": {
  "kernelspec": {
   "display_name": "Python 3 (ipykernel)",
   "language": "python",
   "name": "python3"
  },
  "language_info": {
   "codemirror_mode": {
    "name": "ipython",
    "version": 3
   },
   "file_extension": ".py",
   "mimetype": "text/x-python",
   "name": "python",
   "nbconvert_exporter": "python",
   "pygments_lexer": "ipython3",
   "version": "3.12.7"
  }
 },
 "nbformat": 4,
 "nbformat_minor": 5
}
