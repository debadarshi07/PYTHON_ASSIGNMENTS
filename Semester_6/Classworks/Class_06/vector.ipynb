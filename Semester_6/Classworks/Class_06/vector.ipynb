{
 "cells": [
  {
   "cell_type": "code",
   "execution_count": 1,
   "id": "a22940e7-528c-45ee-bccb-3f2cbd9567cc",
   "metadata": {},
   "outputs": [],
   "source": [
    "# Chapter 10"
   ]
  },
  {
   "cell_type": "code",
   "execution_count": 27,
   "id": "ac5f96f7-b33f-4c25-9ea5-d9ababe7caf6",
   "metadata": {},
   "outputs": [],
   "source": [
    "from functools import total_ordering"
   ]
  },
  {
   "cell_type": "code",
   "execution_count": 28,
   "id": "69ee71b1-55bb-4648-9276-eaff00156c99",
   "metadata": {},
   "outputs": [],
   "source": [
    "@total_ordering\n",
    "class Vector:\n",
    "    def __init__(self, *components):\n",
    "        self.components = components\n",
    "\n",
    "    def leng(self):\n",
    "        return len(self.components)\n",
    "\n",
    "    def dist(self):\n",
    "        return sum(x ** 2 for x in self.components) ** 0.5\n",
    "\n",
    "    def __lt__(self, other):\n",
    "        return self.dist() < other.dist()\n",
    "\n",
    "    def __eq__(self, other):\n",
    "        return all(x == y for x, y in zip(self.components, other.components))\n",
    "\n",
    "    def __add__(self, other):\n",
    "        return Vector(*[x + y for x, y in zip(self.components, other.components)])\n",
    "\n",
    "    def __sub__(self, other):\n",
    "        return Vector(*[x - y for x, y in zip(self.components, other.components)])\n",
    "\n",
    "    def __mul__(self, scalar):\n",
    "        return Vector(*[x * scalar for x in self.components])\n",
    "\n",
    "    def __repr__(self):\n",
    "        return f'Vector{self.components}'"
   ]
  },
  {
   "cell_type": "code",
   "execution_count": 34,
   "id": "157e1e27-3a53-4202-9cc0-923217d7eced",
   "metadata": {},
   "outputs": [],
   "source": [
    "v1 = Vector(1,2,3,4)\n",
    "v2 = Vector(5,6,67,7,3)"
   ]
  },
  {
   "cell_type": "code",
   "execution_count": 35,
   "id": "177c92d7-0076-4024-a789-e34513c31673",
   "metadata": {},
   "outputs": [
    {
     "name": "stdout",
     "output_type": "stream",
     "text": [
      "V1: VectorVector(1, 2, 3, 4)\n",
      "\n",
      "V2: VectorVector(5, 6, 67, 7, 3)\n",
      "\n",
      "V1 + V2: VectorVector(6, 8, 70, 11)\n",
      "\n",
      "V1 - V2: VectorVector(-4, -4, -64, -3)\n",
      "\n",
      "V1 * 5: VectorVector(5, 10, 15, 20)\n",
      "\n",
      "V2 * -3: VectorVector(-15, -18, -201, -21, -9)\n",
      "\n"
     ]
    }
   ],
   "source": [
    "print(f'V1: Vector{v1}\\n')\n",
    "print(f'V2: Vector{v2}\\n')\n",
    "\n",
    "print(f'V1 + V2: Vector{v1 + v2}\\n')\n",
    "print(f'V1 - V2: Vector{v1 - v2}\\n')\n",
    "print(f'V1 * 5: Vector{v1 * 5}\\n')\n",
    "print(f'V2 * -3: Vector{v2 * -3}\\n')"
   ]
  },
  {
   "cell_type": "code",
   "execution_count": 32,
   "id": "67cefc80-29a4-4c07-a0cb-786b87ffd251",
   "metadata": {},
   "outputs": [],
   "source": [
    "v3 = Vector(1,2,3,4)\n",
    "v4 = Vector(1,2,3,4)"
   ]
  },
  {
   "cell_type": "code",
   "execution_count": 33,
   "id": "611a9434-6842-427b-ae4a-422064852751",
   "metadata": {},
   "outputs": [
    {
     "name": "stdout",
     "output_type": "stream",
     "text": [
      "V3 == V4: True\n",
      "V3 < V2: True\n",
      "V1 <= V2: True\n"
     ]
    }
   ],
   "source": [
    "print(f'V3 == V4: {v3 == v4}')\n",
    "print(f'V3 < V2: {v3 < v2}')\n",
    "print(f'V1 <= V2: {v1 <= v2}')"
   ]
  },
  {
   "cell_type": "code",
   "execution_count": null,
   "id": "6f8fcca8-157e-4b8a-a775-1daf6dca807d",
   "metadata": {},
   "outputs": [],
   "source": []
  }
 ],
 "metadata": {
  "kernelspec": {
   "display_name": "Python 3 (ipykernel)",
   "language": "python",
   "name": "python3"
  },
  "language_info": {
   "codemirror_mode": {
    "name": "ipython",
    "version": 3
   },
   "file_extension": ".py",
   "mimetype": "text/x-python",
   "name": "python",
   "nbconvert_exporter": "python",
   "pygments_lexer": "ipython3",
   "version": "3.12.7"
  }
 },
 "nbformat": 4,
 "nbformat_minor": 5
}
