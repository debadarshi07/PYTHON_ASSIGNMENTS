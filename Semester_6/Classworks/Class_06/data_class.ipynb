{
 "cells": [
  {
   "cell_type": "code",
   "execution_count": 6,
   "id": "18c77def-0ea7-4005-b01f-7cd92b214ce8",
   "metadata": {},
   "outputs": [],
   "source": [
    "from dataclasses import dataclass\n",
    "from typing import ClassVar, List"
   ]
  },
  {
   "cell_type": "code",
   "execution_count": 7,
   "id": "7b4d5499-4b92-49b1-8356-d9c9d6630fab",
   "metadata": {},
   "outputs": [],
   "source": [
    "@dataclass\n",
    "class Card:\n",
    "    FACES: ClassVar[List[str]] = ['Ace', '2']\n",
    "    face: str\n",
    "    suit: str\n",
    "\n",
    "    def card_name(self):\n",
    "        return f'{self.face} of {self.suit}'"
   ]
  },
  {
   "cell_type": "code",
   "execution_count": 8,
   "id": "b1f1187a-72a1-4fd7-a0b4-451ebfe14d0d",
   "metadata": {},
   "outputs": [
    {
     "name": "stdout",
     "output_type": "stream",
     "text": [
      "Card(face='5', suit='Heart')\n"
     ]
    }
   ],
   "source": [
    "card = Card('5', 'Heart')\n",
    "print(card)"
   ]
  }
 ],
 "metadata": {
  "kernelspec": {
   "display_name": "Python 3 (ipykernel)",
   "language": "python",
   "name": "python3"
  },
  "language_info": {
   "codemirror_mode": {
    "name": "ipython",
    "version": 3
   },
   "file_extension": ".py",
   "mimetype": "text/x-python",
   "name": "python",
   "nbconvert_exporter": "python",
   "pygments_lexer": "ipython3",
   "version": "3.12.7"
  }
 },
 "nbformat": 4,
 "nbformat_minor": 5
}
