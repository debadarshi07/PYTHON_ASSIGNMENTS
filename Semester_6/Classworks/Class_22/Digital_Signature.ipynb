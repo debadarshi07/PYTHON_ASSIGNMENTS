{
 "cells": [
  {
   "cell_type": "code",
   "execution_count": 1,
   "id": "b5213b5d-7899-4d90-9524-4f45f025a63b",
   "metadata": {},
   "outputs": [],
   "source": [
    "import math\n",
    "import random"
   ]
  },
  {
   "cell_type": "code",
   "execution_count": 5,
   "id": "edd74ff6-c11c-44c2-b9fa-e5cd28177212",
   "metadata": {},
   "outputs": [
    {
     "name": "stdin",
     "output_type": "stream",
     "text": [
      "Enter the 1st large prime p:  823\n",
      "Enter 2nd large prime q:  953\n",
      "Randomly choose e between 1 and phi_n:  313\n"
     ]
    },
    {
     "name": "stdout",
     "output_type": "stream",
     "text": [
      "e = 313 n = 784319 d = 942553\n"
     ]
    }
   ],
   "source": [
    "def keyGeneration():\n",
    "    p = int(input('Enter the 1st large prime p: '))\n",
    "    q = int(input('Enter 2nd large prime q: '))\n",
    "    n = p * q\n",
    "    phi_n = (p - 1) * (q - 1)\n",
    "    e = int(input('Randomly choose e between 1 and phi_n: '))\n",
    "    while (math.gcd(e,phi_n) != 1 and (1 < e and e < phi_n)):\n",
    "        e = int(input('Randomly choose e between 1 and phi_n: '))\n",
    "\n",
    "    k = random.randint(1, 1000)\n",
    "    while (k * phi_n + 1) % e != 0:\n",
    "        k = random.randint(1, 1000)\n",
    "        d = int((k * phi_n + 1) // e)\n",
    "    return e, n, d\n",
    "\n",
    "def generate_signature(M,d,n):\n",
    "    S = pow(M,d) % n\n",
    "    return S\n",
    "\n",
    "def verify_signature(S, M, e, n):\n",
    "    M1 = pow(S, e) % n\n",
    "    print('The receiver is now verifying... It generate the message M1 =', M1)\n",
    "    if M == M1:\n",
    "        return True\n",
    "    return False\n",
    "\n",
    "e = n = d = 0\n",
    "e, n, d = keyGeneration()\n",
    "print('e =', e, 'n =', n, 'd =', d)"
   ]
  },
  {
   "cell_type": "code",
   "execution_count": 6,
   "id": "98859f33-1998-42aa-83cf-4603ec7ab3be",
   "metadata": {},
   "outputs": [
    {
     "name": "stdin",
     "output_type": "stream",
     "text": [
      "Enter the message M to sign:  19070\n"
     ]
    },
    {
     "name": "stdout",
     "output_type": "stream",
     "text": [
      "Signature generated\n",
      "Sending signature S = 561738  and message M = 19070\n",
      "The receiver is now verifying... It generate the message M1 = 19070\n",
      "Message Accepted...\n"
     ]
    }
   ],
   "source": [
    "M = int(input('Enter the message M to sign: '))\n",
    "S = generate_signature(M,e,n)\n",
    "print('Signature generated')\n",
    "print('Sending signature S =', S, ' and message M =', M)\n",
    "res = verify_signature(S,M,d,n)\n",
    "if res == True:\n",
    "    print('Message Accepted...')\n",
    "else:\n",
    "    print('Message Rejected...')"
   ]
  }
 ],
 "metadata": {
  "kernelspec": {
   "display_name": "Python 3 (ipykernel)",
   "language": "python",
   "name": "python3"
  },
  "language_info": {
   "codemirror_mode": {
    "name": "ipython",
    "version": 3
   },
   "file_extension": ".py",
   "mimetype": "text/x-python",
   "name": "python",
   "nbconvert_exporter": "python",
   "pygments_lexer": "ipython3",
   "version": "3.12.7"
  }
 },
 "nbformat": 4,
 "nbformat_minor": 5
}
