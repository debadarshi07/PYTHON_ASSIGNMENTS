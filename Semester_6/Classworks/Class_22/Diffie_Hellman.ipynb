{
 "cells": [
  {
   "cell_type": "code",
   "execution_count": 1,
   "id": "fe854a82-4951-4a7e-83a0-3aa262a68ded",
   "metadata": {},
   "outputs": [],
   "source": [
    "import random\n",
    "import math"
   ]
  },
  {
   "cell_type": "code",
   "execution_count": 2,
   "id": "dae9581f-2770-4df1-acfe-f1bae1cabd97",
   "metadata": {},
   "outputs": [],
   "source": [
    "def isPrime(n):\n",
    "    for i in range(2, int(math.sqrt(n)) + 1):\n",
    "        if n % i == 0:\n",
    "            return False\n",
    "    return True"
   ]
  },
  {
   "cell_type": "code",
   "execution_count": 3,
   "id": "341321ed-81ea-4f7e-943a-68a838e58778",
   "metadata": {},
   "outputs": [],
   "source": [
    "def getPrimeNumber(r1, r2):\n",
    "    while True:\n",
    "        n = random.randint(r1, r2)\n",
    "        if isPrime(n):\n",
    "            return n"
   ]
  },
  {
   "cell_type": "code",
   "execution_count": 4,
   "id": "b88e976e-0529-4a90-8805-1a278eb24477",
   "metadata": {},
   "outputs": [
    {
     "name": "stdout",
     "output_type": "stream",
     "text": [
      "Chosen prime number p = 67\n"
     ]
    },
    {
     "name": "stdin",
     "output_type": "stream",
     "text": [
      "Enter the generator of order p - 1:  23\n"
     ]
    }
   ],
   "source": [
    "p = getPrimeNumber(2, 100)\n",
    "print('Chosen prime number p =', p)\n",
    "g = int(input('Enter the generator of order p - 1: '))"
   ]
  },
  {
   "cell_type": "code",
   "execution_count": 5,
   "id": "98617ab7-f9d4-4951-bc8b-47f39b5b86a2",
   "metadata": {},
   "outputs": [
    {
     "name": "stdout",
     "output_type": "stream",
     "text": [
      "Alice choosen a large random number x = 44  and computed R1 = 29\n"
     ]
    }
   ],
   "source": [
    "x = random.randint(2, p - 2)\n",
    "R1 = pow(g,x) % p\n",
    "print('Alice choosen a large random number x =', x, ' and computed R1 =', R1)"
   ]
  },
  {
   "cell_type": "code",
   "execution_count": 6,
   "id": "60f18508-9bfa-488a-af0e-7e64e352cf8e",
   "metadata": {},
   "outputs": [
    {
     "name": "stdout",
     "output_type": "stream",
     "text": [
      "Bob choosen a large random number y = 49  and computed R2 = 54\n"
     ]
    }
   ],
   "source": [
    "y = random.randint(2, p - 2)\n",
    "R2 = pow(g, y) % p\n",
    "print('Bob choosen a large random number y =', y, ' and computed R2 =', R2)"
   ]
  },
  {
   "cell_type": "code",
   "execution_count": 7,
   "id": "cf216acc-7ff7-4aa0-8990-8d2309bf1dd8",
   "metadata": {},
   "outputs": [
    {
     "name": "stdout",
     "output_type": "stream",
     "text": [
      "Alice's Computed Shared Key is: 29\n",
      "Bob's Computed Shared Key is: 29\n"
     ]
    }
   ],
   "source": [
    "K_Alice = pow(R2, x) % p\n",
    "K_Bob = pow(R1, y) % p\n",
    "print('Alice\\'s Computed Shared Key is:', K_Alice)\n",
    "print('Bob\\'s Computed Shared Key is:', K_Bob)"
   ]
  },
  {
   "cell_type": "code",
   "execution_count": 8,
   "id": "3cd57065-4813-4287-a97c-5aee64996fc2",
   "metadata": {},
   "outputs": [
    {
     "name": "stdout",
     "output_type": "stream",
     "text": [
      "Key Exchange Successful...\n"
     ]
    }
   ],
   "source": [
    "if K_Alice == K_Bob:\n",
    "    print('Key Exchange Successful...')\n",
    "else:\n",
    "    print('Key Exchange nto Successful...')"
   ]
  }
 ],
 "metadata": {
  "kernelspec": {
   "display_name": "Python 3 (ipykernel)",
   "language": "python",
   "name": "python3"
  },
  "language_info": {
   "codemirror_mode": {
    "name": "ipython",
    "version": 3
   },
   "file_extension": ".py",
   "mimetype": "text/x-python",
   "name": "python",
   "nbconvert_exporter": "python",
   "pygments_lexer": "ipython3",
   "version": "3.11.7"
  }
 },
 "nbformat": 4,
 "nbformat_minor": 5
}
