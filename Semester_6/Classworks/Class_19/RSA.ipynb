{
 "cells": [
  {
   "cell_type": "code",
   "execution_count": 1,
   "id": "dc74dbc3-196e-475d-b038-9c064b63a465",
   "metadata": {},
   "outputs": [],
   "source": [
    "import math, random"
   ]
  },
  {
   "cell_type": "code",
   "execution_count": 2,
   "id": "7e906799-d4e5-4938-a30a-d4f494613d51",
   "metadata": {},
   "outputs": [],
   "source": [
    "def keyGeneration():\n",
    "    p = int(input('Enter 1st large prime p: '))\n",
    "    q = int(input('Enter 2nd large prime q: '))\n",
    "    n = p * q\n",
    "    phi_n = (p - 1) * (q - 1)\n",
    "    e = int(input('Randomly choose e between 1 and phi_n: '))\n",
    "    while (math.gcd(e, phi_n) != 1 and (1 < e and e < phi_n)):\n",
    "        e = int(input('Randomly choose e between 1 and phi_n: '))\n",
    "\n",
    "    k = random.randint(1, 1000)\n",
    "    while ((k * phi_n + 1) % e != 0):      # This loop randomly\n",
    "        k = random.randint(1, 1000)\n",
    "    d = int((k * phi_n + 1) / e)           # Compute d\n",
    "\n",
    "    return e, n, d"
   ]
  },
  {
   "cell_type": "code",
   "execution_count": 3,
   "id": "4e7d0915-02fb-4a03-a58e-3d419c86cfb9",
   "metadata": {},
   "outputs": [],
   "source": [
    "def encrypt(P, e, n):           # Encryption\n",
    "    C = pow(P, e) % n\n",
    "    return C"
   ]
  },
  {
   "cell_type": "code",
   "execution_count": 4,
   "id": "97acaf65-9097-478f-9684-58be15f55a02",
   "metadata": {},
   "outputs": [],
   "source": [
    "def decrypt(C, d, n):           # Decryption\n",
    "    P = pow(C, d) % n\n",
    "    return P"
   ]
  },
  {
   "cell_type": "code",
   "execution_count": 5,
   "id": "a117f902-cbf9-4700-90fb-e6ff2038a3da",
   "metadata": {},
   "outputs": [
    {
     "name": "stdin",
     "output_type": "stream",
     "text": [
      "Enter 1st large prime p:  13\n",
      "Enter 2nd large prime q:  23\n",
      "Randomly choose e between 1 and phi_n:  17\n"
     ]
    },
    {
     "name": "stdout",
     "output_type": "stream",
     "text": [
      "e =  17 n =  d =  4721\n"
     ]
    }
   ],
   "source": [
    "e = n = d = 0\n",
    "e, n, d = keyGeneration()       # Generates the key\n",
    "print('e =', e, ', n =', 'd =', d)"
   ]
  },
  {
   "cell_type": "code",
   "execution_count": 6,
   "id": "f9d6f309-b0ec-4811-9cf4-a143b591db7f",
   "metadata": {},
   "outputs": [
    {
     "name": "stdin",
     "output_type": "stream",
     "text": [
      "Enter plaintext (integer):  358\n"
     ]
    },
    {
     "name": "stdout",
     "output_type": "stream",
     "text": [
      "Ciphertext =  167\n",
      "Decrypt plaintext =  59\n"
     ]
    }
   ],
   "source": [
    "P = int(input('Enter plaintext (integer): '))           # Input plaintext\n",
    "C = encrypt(P, e, n)                                    # Calls encrypt() method\n",
    "print('Ciphertext = ', C)\n",
    "P1 = decrypt(C, d, n)\n",
    "print('Decrypt plaintext = ', P1)"
   ]
  },
  {
   "cell_type": "code",
   "execution_count": 7,
   "id": "eafd502a-1ef2-4bce-8449-5f6092ba5291",
   "metadata": {},
   "outputs": [
    {
     "name": "stdin",
     "output_type": "stream",
     "text": [
      "Enter plaintext:  358\n"
     ]
    },
    {
     "name": "stdout",
     "output_type": "stream",
     "text": [
      "Plaintext is:  358\n",
      "Ciphertext =  184294176\n",
      "Decrypted plaintext=  ŞŠţ\n"
     ]
    }
   ],
   "source": [
    "PP = input('Enter plaintext: ')\n",
    "PP = PP.lower().replace(' ', '')\n",
    "print('Plaintext is: ', PP)\n",
    "CC = ''\n",
    "CC_list = []\n",
    "for i in range(len(PP)):          # Iterate over the plaintext\n",
    "    ch = ord(PP[i]) - ord('a')    # Finds character position\n",
    "    tmp = encrypt(ch, e, n)       # Encrypt\n",
    "    CC_list.append(tmp)           # Append encrypted value to a list\n",
    "for i in CC_list:                 # This loop takes value from list\n",
    "    CC += str(i)\n",
    "print('Ciphertext = ', CC)\n",
    "\n",
    "PP1 = ''\n",
    "for i in CC_list:\n",
    "    ch = decrypt(i, d, n)         # Decrypt the encrypted value from\n",
    "    ch = chr(97 + ch)             # Convert to character\n",
    "    PP1 += str(ch)                # Concatenate to plaintext string\n",
    "\n",
    "print('Decrypted plaintext= ', PP1)"
   ]
  }
 ],
 "metadata": {
  "kernelspec": {
   "display_name": "Python 3 (ipykernel)",
   "language": "python",
   "name": "python3"
  },
  "language_info": {
   "codemirror_mode": {
    "name": "ipython",
    "version": 3
   },
   "file_extension": ".py",
   "mimetype": "text/x-python",
   "name": "python",
   "nbconvert_exporter": "python",
   "pygments_lexer": "ipython3",
   "version": "3.11.7"
  }
 },
 "nbformat": 4,
 "nbformat_minor": 5
}
