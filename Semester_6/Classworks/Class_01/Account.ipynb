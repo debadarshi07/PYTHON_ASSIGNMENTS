{
 "cells": [
  {
   "cell_type": "code",
   "execution_count": 9,
   "id": "8a79fbe6-1086-41f3-b7e2-212f4eddc7e0",
   "metadata": {},
   "outputs": [],
   "source": [
    "from decimal import Decimal as dec"
   ]
  },
  {
   "cell_type": "code",
   "execution_count": 12,
   "id": "e4e93440-58ef-47d5-8f3c-ed3b16b470f1",
   "metadata": {},
   "outputs": [],
   "source": [
    "class Account:\n",
    "    \"\"\" Manages account related data. \"\"\"\n",
    "    def __init__(self, name, balance):\n",
    "        self._name = name\n",
    "        self._balance = balance\n",
    "\n",
    "    @property\n",
    "    def name(self):\n",
    "        return self._name\n",
    "    @property \n",
    "    def balance(self):\n",
    "        return self._balance\n",
    "\n",
    "    def deposit(self, amount):\n",
    "        if amount <= dec('0.00'):\n",
    "            raise ValueError(\"Amount must be positive.\\n\")            \n",
    "        else:\n",
    "            self._balance += amount\n",
    "\n",
    "    def withdraw(self, amount):\n",
    "        if amount <= dec('0.00'):\n",
    "            raise ValueError(\"Amount must be positive.\\n\")\n",
    "        elif amount > self._balance:\n",
    "            raise ValueError(\"Insufficient Balance.\\n\")\n",
    "        else:\n",
    "            self._balance -= amount"
   ]
  },
  {
   "cell_type": "code",
   "execution_count": 14,
   "id": "851ffd10-72a1-44fd-a5cf-2d408bb05943",
   "metadata": {},
   "outputs": [
    {
     "name": "stdout",
     "output_type": "stream",
     "text": [
      "Name: Ankit --> Balance: 10010.00\n",
      "Name: Ankit --> Balance: 10510.50\n",
      "Name: Ankit --> Balance: 8510.50\n"
     ]
    },
    {
     "ename": "AttributeError",
     "evalue": "property 'balance' of 'Account' object has no setter",
     "output_type": "error",
     "traceback": [
      "\u001b[0;31m---------------------------------------------------------------------------\u001b[0m",
      "\u001b[0;31mAttributeError\u001b[0m                            Traceback (most recent call last)",
      "Cell \u001b[0;32mIn[14], line 14\u001b[0m\n\u001b[1;32m     11\u001b[0m account_1\u001b[38;5;241m.\u001b[39mwithdraw(dec(\u001b[38;5;124m'\u001b[39m\u001b[38;5;124m2000\u001b[39m\u001b[38;5;124m'\u001b[39m))\n\u001b[1;32m     12\u001b[0m \u001b[38;5;28mprint\u001b[39m(\u001b[38;5;124mf\u001b[39m\u001b[38;5;124m\"\u001b[39m\u001b[38;5;124mName: \u001b[39m\u001b[38;5;132;01m{\u001b[39;00maccount_1\u001b[38;5;241m.\u001b[39mname\u001b[38;5;132;01m}\u001b[39;00m\u001b[38;5;124m --> Balance: \u001b[39m\u001b[38;5;132;01m{\u001b[39;00maccount_1\u001b[38;5;241m.\u001b[39mbalance\u001b[38;5;132;01m}\u001b[39;00m\u001b[38;5;124m\"\u001b[39m)\n\u001b[0;32m---> 14\u001b[0m account_1\u001b[38;5;241m.\u001b[39mbalance \u001b[38;5;241m=\u001b[39m \u001b[38;5;241m200000\u001b[39m\n\u001b[1;32m     15\u001b[0m account_1\u001b[38;5;241m.\u001b[39mbalance\n",
      "\u001b[0;31mAttributeError\u001b[0m: property 'balance' of 'Account' object has no setter"
     ]
    }
   ],
   "source": [
    "#from Class_1 import Account    # Needed while using the class in other directory\n",
    "\n",
    "account_1 = Account('Ankit', dec('10010.00'))\n",
    "account_2 = Account('Sai Lochan', dec('6969.69'))\n",
    "\n",
    "print(f\"Name: {account_1.name} --> Balance: {account_1.balance}\")\n",
    "\n",
    "account_1.deposit((dec('500.50')))\n",
    "print(f\"Name: {account_1.name} --> Balance: {account_1.balance}\")\n",
    "\n",
    "account_1.withdraw(dec('2000'))\n",
    "print(f\"Name: {account_1.name} --> Balance: {account_1.balance}\")\n",
    "\n",
    "account_1.balance = 200000\n",
    "account_1.balance"
   ]
  }
 ],
 "metadata": {
  "kernelspec": {
   "display_name": "Python 3 (ipykernel)",
   "language": "python",
   "name": "python3"
  },
  "language_info": {
   "codemirror_mode": {
    "name": "ipython",
    "version": 3
   },
   "file_extension": ".py",
   "mimetype": "text/x-python",
   "name": "python",
   "nbconvert_exporter": "python",
   "pygments_lexer": "ipython3",
   "version": "3.12.7"
  }
 },
 "nbformat": 4,
 "nbformat_minor": 5
}
