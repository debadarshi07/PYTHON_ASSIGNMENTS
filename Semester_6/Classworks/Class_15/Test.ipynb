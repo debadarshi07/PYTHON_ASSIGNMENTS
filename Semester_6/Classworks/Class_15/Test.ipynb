{
 "cells": [
  {
   "cell_type": "code",
   "execution_count": 1,
   "id": "2b05a71c-64f6-410f-9910-0f3161ba32ad",
   "metadata": {},
   "outputs": [],
   "source": [
    "import requests"
   ]
  },
  {
   "cell_type": "code",
   "execution_count": 2,
   "id": "7e980140-1d70-4481-932b-bd2439d6b3dd",
   "metadata": {},
   "outputs": [],
   "source": [
    "BEARER_TOKEN = 'AAAAAAAAAAAAAAAAAAAAAJG90AEAAAAAzVjLwioR8XA695mJCuVmDrrYeBQ%3DNPAk7SqiAAP2SJANbRVe5ZBRndXQMNRvKAhYBSP476JQhlgP1E'"
   ]
  },
  {
   "cell_type": "code",
   "execution_count": 3,
   "id": "96172020-b0f2-456f-b6fc-8ef672028367",
   "metadata": {},
   "outputs": [],
   "source": [
    "def get_user_info(username):\n",
    "    url = f\"https://api.twitter.com/2/users/by/username/{username}?user.fields=id,name,username,public_metrics\"\n",
    "    headers = {\"Authorization\": f\"Bearer {BEARER_TOKEN}\"}\n",
    "    response = requests.get(url, headers=headers)\n",
    "\n",
    "    if response.status_code == 200:\n",
    "        user_data = response.json()['data']\n",
    "        print(f\"User ID: {user_data['id']}\\n\")\n",
    "        print(f\"User Name: {user_data['name']}\\n\")\n",
    "        print(f\"Screen Name: {user_data['username']}\\n\")\n",
    "        print(f\"Followers Count: {user_data['public_metrics']['followers_count']}\\n\")\n",
    "        print(f\"Following Count: {user_data['public_metrics']['following_count']}\\n\")\n",
    "        print(f\"Like Count: {user_data['public_metrics']['like_count']}\\n\")\n",
    "        print(f\"Tweet Count: {user_data['public_metrics']['tweet_count']}\\n\")\n",
    "        print(f\"Media Count: {user_data['public_metrics']['media_count']}\\n\")\n",
    "    else:\n",
    "        print(f\"Error: {response.status_code} {response.text}\")"
   ]
  },
  {
   "cell_type": "code",
   "execution_count": 4,
   "id": "fb3b5d5a-0258-49f0-8ca7-f3cbd93f429d",
   "metadata": {},
   "outputs": [
    {
     "name": "stdout",
     "output_type": "stream",
     "text": [
      "User ID: 18839785\n",
      "\n",
      "User Name: Narendra Modi\n",
      "\n",
      "Screen Name: narendramodi\n",
      "\n",
      "Followers Count: 106073708\n",
      "\n",
      "Following Count: 2681\n",
      "\n",
      "Like Count: 0\n",
      "\n",
      "Tweet Count: 45844\n",
      "\n",
      "Media Count: 18387\n",
      "\n"
     ]
    }
   ],
   "source": [
    "get_user_info('narendramodi')"
   ]
  },
  {
   "cell_type": "code",
   "execution_count": 5,
   "id": "f7deac69-f7a6-4bd0-915b-513fdec03e3c",
   "metadata": {},
   "outputs": [],
   "source": [
    "# Using Tweepy function"
   ]
  },
  {
   "cell_type": "code",
   "execution_count": 6,
   "id": "190592f1-a923-4771-a484-0ec34f9e7147",
   "metadata": {},
   "outputs": [],
   "source": [
    "import tweepy"
   ]
  },
  {
   "cell_type": "code",
   "execution_count": 7,
   "id": "53b96010-e66c-4f28-bcdd-d7a9cb1fa9a8",
   "metadata": {},
   "outputs": [],
   "source": [
    "BEARER_TOKEN = 'AAAAAAAAAAAAAAAAAAAAAJG90AEAAAAAzVjLwioR8XA695mJCuVmDrrYeBQ%3DNPAk7SqiAAP2SJANbRVe5ZBRndXQMNRvKAhYBSP476JQhlgP1E'"
   ]
  },
  {
   "cell_type": "code",
   "execution_count": 8,
   "id": "9643ae10-046f-4df2-b8d3-8b18604523e3",
   "metadata": {},
   "outputs": [
    {
     "name": "stdout",
     "output_type": "stream",
     "text": [
      "Name: DEBADARSHI OMKAR\n",
      "ID: 1244314968691884032\n",
      "Username: guddu_174\n",
      "Followers count: 14\n"
     ]
    }
   ],
   "source": [
    "client = tweepy.Client(bearer_token=BEARER_TOKEN)\n",
    "\n",
    "user = client.get_user(username='guddu_174', user_fields=['public_metrics'])\n",
    "\n",
    "if user.data:\n",
    "    print(f'Name: {user.data.name}')\n",
    "    print(f'ID: {user.data.id}')\n",
    "    print(f'Username: {user.data.username}')\n",
    "    print(f\"Followers count: {user.data.public_metrics['followers_count']}\")"
   ]
  },
  {
   "cell_type": "code",
   "execution_count": 10,
   "id": "df2d17aa-9aeb-4bb2-a19f-15091ce68486",
   "metadata": {},
   "outputs": [
    {
     "name": "stdout",
     "output_type": "stream",
     "text": [
      "Tweet: RT @SunRisers: Ready? 𝐑𝐞𝐚𝐝𝐲! 💪💪\n",
      "\n",
      "Travis Head | Heinrich Klaasen | #PlayWithFire | #TATAIPL2025 https://t.co/COamNrdqB0\n",
      "\n",
      "Tweet: RT @BoliMocr: 🚨 IPL 2025 1-on-1 🔥 Match 7 🚨  \n",
      "SRH 🆚 LSG\n",
      "\n",
      "🏆 Prize = Number of Reposts 🏆\n",
      "\n",
      "🎯 Questions:\n",
      "1️⃣ Who Scores More - Travis Head or N…\n",
      "\n",
      "Tweet: @Kumar8930Amit Digvesh Singh \n",
      "Ishan Kishan \n",
      "Travis Head . \n",
      "@Kumar8930Amit .\n",
      "\n",
      "Tweet: @ShivhatJaanSid Best Dream11 team for SRH vs LSG, Mar 27, 2025:  \n",
      "WK: Rishabh Pant (vc)  \n",
      "Bat: Travis Head (c), Abhishek Sharma, David Miller  \n",
      "AR: Mitchell Marsh, Aiden Markram, Nitish Reddy  \n",
      "Bowl: Pat Cummins, Harshal Patel, Mayank Yadav, Ravi Bishnoi  \n",
      "Head’s form (89 off 30 vs LSG) makes\n",
      "\n",
      "Tweet: @md__shahid Bhai, aaj 27 March 2025 ko IPL match mein Sunrisers Hyderabad (SRH) jeetne ke chances zyada hai. SRH apne home ground Hyderabad mein Lucknow Super Giants (LSG) se khel raha hai, aur unki batting (Travis Head, Ishan Kishan) zabardast form mein hai. LSG ki bowling weak hai, jo SRH https://t.co/VRD6vnCIky\n",
      "\n",
      "Tweet: RT @DDIndialive: #IPL2025 | Can SRH break the 300-run barrier? \n",
      "\n",
      "After missing it by just 1 run last time, expectations are high. With Trav…\n",
      "\n",
      "Tweet: RT @BoliMocr: 🚨 IPL 2025 1-on-1 🔥 Match 7 🚨  \n",
      "SRH 🆚 LSG\n",
      "\n",
      "🏆 Prize = Number of Reposts 🏆\n",
      "\n",
      "🎯 Questions:\n",
      "1️⃣ Who Scores More - Travis Head or N…\n",
      "\n",
      "Tweet: @BoliMocr Travis Head \n",
      "Ravi vishnoi \n",
      "10\n",
      "\n",
      "Tweet: RT @srhfansofficial: We Wanted To Witness That Long sleeve Celebration From Travis Head &amp; Abhishek Sharma Today Again!👆🧡🖤 https://t.co/8aW4…\n",
      "\n",
      "Tweet: RT @BoliMocr: 🚨 IPL 2025 1-on-1 🔥 Match 7 🚨  \n",
      "SRH 🆚 LSG\n",
      "\n",
      "🏆 Prize = Number of Reposts 🏆\n",
      "\n",
      "🎯 Questions:\n",
      "1️⃣ Who Scores More - Travis Head or N…\n",
      "\n",
      "Tweet: RT @srhfansofficial: We Wanted To Witness That Long sleeve Celebration From Travis Head &amp; Abhishek Sharma Today Again!👆🧡🖤 https://t.co/8aW4…\n",
      "\n",
      "Tweet: @Cricket_Core Ishan Kisan\n",
      "Ravi Bishnoi \n",
      "Travis Head \n",
      "Ishan Kisan \n",
      "@Cricket_Core \n",
      "\n",
      "Join 🧡 \n",
      "@PushpaG618921 \n",
      "@nancy073012261 \n",
      "@SubhraBera17 \n",
      "@Rekhajadhav11 \n",
      "@p_pinky777 .\n",
      "\n",
      "Tweet: @StarSportsIndia @IamAbhiSharma4 Moot is equal to Travis Head and abhishek sharma\n",
      "\n",
      "Tweet: RT @srhfansofficial: We Wanted To Witness That Long sleeve Celebration From Travis Head &amp; Abhishek Sharma Today Again!👆🧡🖤 https://t.co/8aW4…\n",
      "\n",
      "Tweet: @PuneetSinghl007 For today's SRH vs LSG IPL match, the best Dream11 team based on current form and Hyderabad's batting-friendly pitch: WK: Ishan Kishan (106* recently); Batsmen: Travis Head, Abhishek Sharma, David Miller; All-rounders: Mitchell Marsh (72 vs DC), Nitish Kumar Reddy, Shardul Thakur\n",
      "\n",
      "Tweet: #IPL2025 | Can SRH break the 300-run barrier? \n",
      "\n",
      "After missing it by just 1 run last time, expectations are high. With Travis Head, Abhishek Sharma, and Ishan Kishan in top form, will they rewrite history against LSG? \n",
      "\n",
      "Watch more on the latest edition 🔗 https://t.co/thm7hlVhIl https://t.co/VlZfI1fXFv\n",
      "\n",
      "Tweet: RT @BoliMocr: 🚨 IPL 2025 1-on-1 🔥 Match 7 🚨  \n",
      "SRH 🆚 LSG\n",
      "\n",
      "🏆 Prize = Number of Reposts 🏆\n",
      "\n",
      "🎯 Questions:\n",
      "1️⃣ Who Scores More - Travis Head or N…\n",
      "\n",
      "Tweet: @Rugby_rumbler01 Travis head\n",
      "\n",
      "Tweet: RT @BoliMocr: 🚨 IPL 2025 1-on-1 🔥 Match 7 🚨  \n",
      "SRH 🆚 LSG\n",
      "\n",
      "🏆 Prize = Number of Reposts 🏆\n",
      "\n",
      "🎯 Questions:\n",
      "1️⃣ Who Scores More - Travis Head or N…\n",
      "\n",
      "Tweet: #SRHvsLSG\n",
      "\n",
      "LSG should include Shamar Joseph in Today Playing XI\n",
      "\n",
      "Instead of considering his worst start of Previous IPL season\n",
      "It's better to look at his bowling now\n",
      "\n",
      "Otherwise it canot be controlled Travis Head\n",
      "\n",
      "#IPL2025 #IPL #TATAIPL2025 #SRH #LSG #SRHvLSG #LSGvSRH #LSGvsSRH\n",
      "\n",
      "Tweet: RT @BoliMocr: 🚨 IPL 2025 1-on-1 🔥 Match 7 🚨  \n",
      "SRH 🆚 LSG\n",
      "\n",
      "🏆 Prize = Number of Reposts 🏆\n",
      "\n",
      "🎯 Questions:\n",
      "1️⃣ Who Scores More - Travis Head or N…\n",
      "\n",
      "Tweet: RT @ImTanujSingh: Matthew Hayden picks his Top 5 players to watch out for this IPL 2025: (ESPNcricinfo).\n",
      "\n",
      "- Virat Kohli.\n",
      "- MS Dhoni.\n",
      "- Trav…\n",
      "\n",
      "Tweet: RT @BoliMocr: 🚨 IPL 2025 1-on-1 🔥 Match 7 🚨  \n",
      "SRH 🆚 LSG\n",
      "\n",
      "🏆 Prize = Number of Reposts 🏆\n",
      "\n",
      "🎯 Questions:\n",
      "1️⃣ Who Scores More - Travis Head or N…\n",
      "\n",
      "Tweet: RT @BoliMocr: 🚨 IPL 2025 1-on-1 🔥 Match 7 🚨  \n",
      "SRH 🆚 LSG\n",
      "\n",
      "🏆 Prize = Number of Reposts 🏆\n",
      "\n",
      "🎯 Questions:\n",
      "1️⃣ Who Scores More - Travis Head or N…\n",
      "\n",
      "Tweet: RT @BoliMocr: 🚨 IPL 2025 1-on-1 🔥 Match 7 🚨  \n",
      "SRH 🆚 LSG\n",
      "\n",
      "🏆 Prize = Number of Reposts 🏆\n",
      "\n",
      "🎯 Questions:\n",
      "1️⃣ Who Scores More - Travis Head or N…\n",
      "\n"
     ]
    }
   ],
   "source": [
    "query = \"Travis Head\"\n",
    "tweets = client.search_recent_tweets(query=query, max_results=25)\n",
    "\n",
    "for tweet in tweets.data:\n",
    "    print(f\"Tweet: {tweet.text}\\n\")"
   ]
  }
 ],
 "metadata": {
  "kernelspec": {
   "display_name": "Python 3 (ipykernel)",
   "language": "python",
   "name": "python3"
  },
  "language_info": {
   "codemirror_mode": {
    "name": "ipython",
    "version": 3
   },
   "file_extension": ".py",
   "mimetype": "text/x-python",
   "name": "python",
   "nbconvert_exporter": "python",
   "pygments_lexer": "ipython3",
   "version": "3.11.7"
  }
 },
 "nbformat": 4,
 "nbformat_minor": 5
}
