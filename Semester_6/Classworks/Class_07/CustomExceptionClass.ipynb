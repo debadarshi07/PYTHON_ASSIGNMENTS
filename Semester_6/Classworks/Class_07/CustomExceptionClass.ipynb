{
 "cells": [
  {
   "cell_type": "code",
   "execution_count": 1,
   "id": "da3cb000-4f17-4da9-8a7e-31fca9527fd5",
   "metadata": {},
   "outputs": [],
   "source": [
    "class InsufficientBalanceError(Exception):\n",
    "    def __init__(self, balance, withdrawl_amount):\n",
    "        self.balance = balance\n",
    "        self.withdrawl_amount = withdrawl_amount\n",
    "        super().__init__('Insufficient balance')"
   ]
  },
  {
   "cell_type": "code",
   "execution_count": 3,
   "id": "9467f10a-f9da-4896-bfd6-c8d8f7a321a4",
   "metadata": {},
   "outputs": [],
   "source": [
    "class BankAccount:\n",
    "    def __init__(self, balance=0):\n",
    "        self.balance = balance\n",
    "\n",
    "    def deposit(self, amount):\n",
    "        if amount > 0:\n",
    "            self.balance += amount\n",
    "            print(f'Deposited: {amount}. New Balance: {self.amount}')\n",
    "        else:\n",
    "            print('Amount must be positive.')\n",
    "\n",
    "    def withdraw(self, amount):\n",
    "        if amount > self.balance:\n",
    "            raise InsufficientBalanceError(self.balance, amount)\n",
    "        self.balance -= amount\n",
    "        print(f'Withdrawn: {amount}. Remaining Balance: {self.balance}')"
   ]
  }
 ],
 "metadata": {
  "kernelspec": {
   "display_name": "Python 3 (ipykernel)",
   "language": "python",
   "name": "python3"
  },
  "language_info": {
   "codemirror_mode": {
    "name": "ipython",
    "version": 3
   },
   "file_extension": ".py",
   "mimetype": "text/x-python",
   "name": "python",
   "nbconvert_exporter": "python",
   "pygments_lexer": "ipython3",
   "version": "3.11.7"
  }
 },
 "nbformat": 4,
 "nbformat_minor": 5
}
