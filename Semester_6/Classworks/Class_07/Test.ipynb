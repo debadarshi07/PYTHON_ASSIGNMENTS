{
 "cells": [
  {
   "cell_type": "code",
   "execution_count": null,
   "id": "1afd3432-dc82-45ec-8298-7cd2899f22af",
   "metadata": {},
   "outputs": [],
   "source": [
    "import sys"
   ]
  },
  {
   "cell_type": "code",
   "execution_count": null,
   "id": "7aea60df-90d5-4bdd-890a-e091d1948b30",
   "metadata": {},
   "outputs": [],
   "source": [
    "try:\n",
    "    print(\"The program is running.\")\n",
    "    sys.exit()\n",
    "except SystemExit:\n",
    "    print(\"SystemExit is caught.\")"
   ]
  },
  {
   "cell_type": "code",
   "execution_count": null,
   "id": "6d10fbf6-2f30-4917-868f-fa0fee8ea714",
   "metadata": {},
   "outputs": [],
   "source": [
    "try:\n",
    "    while True:\n",
    "        print('The program is running... Press ctrl + c to exit.')\n",
    "except KeyboardInterrupt:\n",
    "    print('KeyboardInterrupt is caught.')"
   ]
  },
  {
   "cell_type": "code",
   "execution_count": null,
   "id": "2eefb90e-9f3e-400f-ae1d-0c93fbcae40d",
   "metadata": {},
   "outputs": [],
   "source": [
    "def gen():\n",
    "    try:\n",
    "        for i in range(10):\n",
    "            yield i\n",
    "    except GeneratorExit:\n",
    "        print('GeneratorExit exception caught.')\n",
    "\n",
    "g = gen()\n",
    "\n",
    "print(next(g))\n",
    "print(next(g))\n",
    "print(next(g))\n",
    "\n",
    "g.close()"
   ]
  }
 ],
 "metadata": {
  "kernelspec": {
   "display_name": "Python 3 (ipykernel)",
   "language": "python",
   "name": "python3"
  },
  "language_info": {
   "codemirror_mode": {
    "name": "ipython",
    "version": 3
   },
   "file_extension": ".py",
   "mimetype": "text/x-python",
   "name": "python",
   "nbconvert_exporter": "python",
   "pygments_lexer": "ipython3",
   "version": "3.11.7"
  }
 },
 "nbformat": 4,
 "nbformat_minor": 5
}
