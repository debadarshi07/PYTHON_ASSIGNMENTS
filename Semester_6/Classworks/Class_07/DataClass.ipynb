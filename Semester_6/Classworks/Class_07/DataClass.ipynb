{
 "cells": [
  {
   "cell_type": "code",
   "execution_count": 1,
   "id": "d11fe560-d7f1-47d6-aa47-a8e1c2cf1be6",
   "metadata": {},
   "outputs": [],
   "source": [
    "from dataclasses import dataclass, field"
   ]
  },
  {
   "cell_type": "code",
   "execution_count": 2,
   "id": "84b3d318-f95d-45fb-a8b0-1ca262752776",
   "metadata": {},
   "outputs": [],
   "source": [
    "@dataclass\n",
    "class Point:\n",
    "    x: float = 0\n",
    "    y: float = 0"
   ]
  },
  {
   "cell_type": "code",
   "execution_count": 12,
   "id": "689a3596-bd6a-4ae2-9b64-a7baacd41e66",
   "metadata": {},
   "outputs": [
    {
     "name": "stdout",
     "output_type": "stream",
     "text": [
      "Point(x=1, y=2)\n",
      "Point(x=1, y=2)\n",
      "Point(x=0, y=0)\n",
      "\n",
      "p1 == p2 : True\n",
      "p1 == p3 : False\n"
     ]
    }
   ],
   "source": [
    "p1 = Point(1,2)\n",
    "print(p1)\n",
    "\n",
    "p2 = Point(1,2)\n",
    "print(p2)\n",
    "\n",
    "p3 = Point()\n",
    "print(p3)\n",
    "\n",
    "print(f'\\np1 == p2 : {p1 == p2}')\n",
    "print(f'p1 == p3 : {p1 == p3}')"
   ]
  },
  {
   "cell_type": "code",
   "execution_count": 14,
   "id": "3ab7294d-fe79-45be-bbdc-5601e706e892",
   "metadata": {},
   "outputs": [],
   "source": [
    "@dataclass\n",
    "class Person:\n",
    "    name: str\n",
    "    salary: float = field(default = 5000)\n",
    "    department: str = field(default = 'IT', repr = False)"
   ]
  },
  {
   "cell_type": "code",
   "execution_count": 21,
   "id": "7968d3c7-14b2-4da4-8dc5-67aa79748f82",
   "metadata": {},
   "outputs": [
    {
     "name": "stdout",
     "output_type": "stream",
     "text": [
      "Person(name='Debadarshi', salary=1000)\n",
      "Person(name='Omkar', salary=3000)\n",
      "\n",
      "e1 == e2 : False\n",
      "e1 == e3 : True\n"
     ]
    }
   ],
   "source": [
    "e1 = Person('Debadarshi', 1000, 'CSE')\n",
    "print(e1)\n",
    "\n",
    "e2 = Person('Omkar', 3000, 'DSAI')\n",
    "print(e2)\n",
    "\n",
    "e3 = Person('Debadarshi', 1000, 'CSE')\n",
    "\n",
    "print(f'\\ne1 == e2 : {e1 == e2}')     # Compares whether the values for all the attribute fields are equal or not\n",
    "print(f'e1 == e3 : {e1 == e3}')"
   ]
  },
  {
   "cell_type": "code",
   "execution_count": 22,
   "id": "1fc475b6-0feb-402e-9669-0024da621646",
   "metadata": {},
   "outputs": [],
   "source": [
    "@dataclass\n",
    "class Employee:\n",
    "    names: list = field(default_factory = list)\n",
    "    salary: float = field(default = 5000)\n",
    "    department: str = field(default = 'IT', repr = False)    # By setting repr = false, the field is not printed during object printing"
   ]
  },
  {
   "cell_type": "code",
   "execution_count": 24,
   "id": "7b574d85-a931-4c80-b19c-94e752b59321",
   "metadata": {},
   "outputs": [
    {
     "name": "stdout",
     "output_type": "stream",
     "text": [
      "Employee(names=['Virat', 'Rohit'], salary=5000)\n"
     ]
    }
   ],
   "source": [
    "employees1 = Employee()\n",
    "employees1.names.append('Virat')\n",
    "employees1.names.append('Rohit')\n",
    "print(employees1)"
   ]
  },
  {
   "cell_type": "code",
   "execution_count": 25,
   "id": "2cb897c4-cf51-4ab0-952c-f62a48511e01",
   "metadata": {},
   "outputs": [
    {
     "data": {
      "text/plain": [
       "Employee(names=[], salary=5000)"
      ]
     },
     "execution_count": 25,
     "metadata": {},
     "output_type": "execute_result"
    }
   ],
   "source": [
    "employees2 = Employee()\n",
    "employees2"
   ]
  }
 ],
 "metadata": {
  "kernelspec": {
   "display_name": "Python 3 (ipykernel)",
   "language": "python",
   "name": "python3"
  },
  "language_info": {
   "codemirror_mode": {
    "name": "ipython",
    "version": 3
   },
   "file_extension": ".py",
   "mimetype": "text/x-python",
   "name": "python",
   "nbconvert_exporter": "python",
   "pygments_lexer": "ipython3",
   "version": "3.12.7"
  }
 },
 "nbformat": 4,
 "nbformat_minor": 5
}
