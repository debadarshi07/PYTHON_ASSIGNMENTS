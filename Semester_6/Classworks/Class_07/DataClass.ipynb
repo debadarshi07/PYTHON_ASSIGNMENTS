{
 "cells": [
  {
   "cell_type": "code",
   "execution_count": 9,
   "id": "d11fe560-d7f1-47d6-aa47-a8e1c2cf1be6",
   "metadata": {},
   "outputs": [],
   "source": [
    "from dataclasses import dataclass, field"
   ]
  },
  {
   "cell_type": "code",
   "execution_count": 6,
   "id": "84b3d318-f95d-45fb-a8b0-1ca262752776",
   "metadata": {},
   "outputs": [],
   "source": [
    "@dataclass\n",
    "class Point:\n",
    "    x: float = 0\n",
    "    y: float = 0"
   ]
  },
  {
   "cell_type": "code",
   "execution_count": 3,
   "id": "689a3596-bd6a-4ae2-9b64-a7baacd41e66",
   "metadata": {},
   "outputs": [
    {
     "data": {
      "text/plain": [
       "Point(x=1, y=2)"
      ]
     },
     "execution_count": 3,
     "metadata": {},
     "output_type": "execute_result"
    }
   ],
   "source": [
    "p1 = Point(1,2)\n",
    "p1"
   ]
  },
  {
   "cell_type": "code",
   "execution_count": 4,
   "id": "d5a2a78b-8b85-4ad8-82d7-cc63a8f3624f",
   "metadata": {},
   "outputs": [
    {
     "data": {
      "text/plain": [
       "Point(x=1, y=2)"
      ]
     },
     "execution_count": 4,
     "metadata": {},
     "output_type": "execute_result"
    }
   ],
   "source": [
    "p2 = Point(1,2)\n",
    "p2"
   ]
  },
  {
   "cell_type": "code",
   "execution_count": 7,
   "id": "e3f794ec-1ef2-48e2-b681-f0d3add3ff10",
   "metadata": {},
   "outputs": [
    {
     "data": {
      "text/plain": [
       "True"
      ]
     },
     "execution_count": 7,
     "metadata": {},
     "output_type": "execute_result"
    }
   ],
   "source": [
    "p1 == p2"
   ]
  },
  {
   "cell_type": "code",
   "execution_count": 8,
   "id": "a359b8c5-d93c-45f7-b4a8-129c1ebeadcc",
   "metadata": {},
   "outputs": [
    {
     "data": {
      "text/plain": [
       "Point(x=0, y=0)"
      ]
     },
     "execution_count": 8,
     "metadata": {},
     "output_type": "execute_result"
    }
   ],
   "source": [
    "p3 = Point()\n",
    "p3"
   ]
  },
  {
   "cell_type": "code",
   "execution_count": 12,
   "id": "3ab7294d-fe79-45be-bbdc-5601e706e892",
   "metadata": {},
   "outputs": [],
   "source": [
    "@dataclass\n",
    "class Person:\n",
    "    name: str\n",
    "    salary: float = field(default = 5000)\n",
    "    department: str = field(default = 'IT', repr = False)"
   ]
  },
  {
   "cell_type": "code",
   "execution_count": 14,
   "id": "7968d3c7-14b2-4da4-8dc5-67aa79748f82",
   "metadata": {},
   "outputs": [
    {
     "data": {
      "text/plain": [
       "Person(name='abs', salary=1000)"
      ]
     },
     "execution_count": 14,
     "metadata": {},
     "output_type": "execute_result"
    }
   ],
   "source": [
    "e1 = Person('abs', 1000, 'CSE')\n",
    "e1"
   ]
  },
  {
   "cell_type": "code",
   "execution_count": 19,
   "id": "1fc475b6-0feb-402e-9669-0024da621646",
   "metadata": {},
   "outputs": [],
   "source": [
    "@dataclass\n",
    "class Employee:\n",
    "    names: list = field(default_factory = list)\n",
    "    salary: float = field(default = 5000)\n",
    "    department: str = field(default = 'IT', repr = False)"
   ]
  },
  {
   "cell_type": "code",
   "execution_count": 26,
   "id": "7b574d85-a931-4c80-b19c-94e752b59321",
   "metadata": {},
   "outputs": [
    {
     "data": {
      "text/plain": [
       "Employee(names=['Virat', 'Rohit'], salary=5000)"
      ]
     },
     "execution_count": 26,
     "metadata": {},
     "output_type": "execute_result"
    }
   ],
   "source": [
    "e1 = Employee()\n",
    "e1.names.append('Virat')\n",
    "e1.names.append('Rohit')\n",
    "e1"
   ]
  },
  {
   "cell_type": "code",
   "execution_count": 28,
   "id": "2cb897c4-cf51-4ab0-952c-f62a48511e01",
   "metadata": {},
   "outputs": [
    {
     "data": {
      "text/plain": [
       "Employee(names=[], salary=5000)"
      ]
     },
     "execution_count": 28,
     "metadata": {},
     "output_type": "execute_result"
    }
   ],
   "source": [
    "e2 = Employee()\n",
    "e2"
   ]
  }
 ],
 "metadata": {
  "kernelspec": {
   "display_name": "Python 3 (ipykernel)",
   "language": "python",
   "name": "python3"
  },
  "language_info": {
   "codemirror_mode": {
    "name": "ipython",
    "version": 3
   },
   "file_extension": ".py",
   "mimetype": "text/x-python",
   "name": "python",
   "nbconvert_exporter": "python",
   "pygments_lexer": "ipython3",
   "version": "3.11.7"
  }
 },
 "nbformat": 4,
 "nbformat_minor": 5
}
