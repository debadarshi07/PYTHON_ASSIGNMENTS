{
 "cells": [
  {
   "cell_type": "code",
   "execution_count": 6,
   "id": "49210551-dac9-4f6a-bcb0-f01982f70309",
   "metadata": {},
   "outputs": [
    {
     "name": "stdout",
     "output_type": "stream",
     "text": [
      "We're in test module.\n",
      "The name of the module is: __main__\n"
     ]
    }
   ],
   "source": [
    "print(\"We're in test module.\")\n",
    "print(f'The name of the module is: {__name__}')"
   ]
  },
  {
   "cell_type": "code",
   "execution_count": 7,
   "id": "b0104c89-e184-445c-94f6-b85302a102f7",
   "metadata": {},
   "outputs": [],
   "source": [
    "import doctest"
   ]
  },
  {
   "cell_type": "code",
   "execution_count": 15,
   "id": "ae963900-95d8-48e4-83fa-8186ba7dde84",
   "metadata": {},
   "outputs": [],
   "source": [
    "class Account:\n",
    "    def __init__(self, name, balance):\n",
    "\n",
    "        '''\n",
    "        >>> act = Account('Deb', 100)\n",
    "        >>> act.name\n",
    "        'Deb'\n",
    "        >>> act.balance\n",
    "        100\n",
    "        '''\n",
    "\n",
    "        self.name = name\n",
    "        self.balance = balance"
   ]
  },
  {
   "cell_type": "code",
   "execution_count": 16,
   "id": "317c8ff3-911e-4855-b9b5-97e7594f93d7",
   "metadata": {},
   "outputs": [
    {
     "name": "stdout",
     "output_type": "stream",
     "text": [
      "Trying:\n",
      "    act = Account('Deb', 100)\n",
      "Expecting nothing\n",
      "ok\n",
      "Trying:\n",
      "    act.name\n",
      "Expecting:\n",
      "    'Deb'\n",
      "ok\n",
      "Trying:\n",
      "    act.balance\n",
      "Expecting:\n",
      "    100\n",
      "ok\n",
      "14 items had no tests:\n",
      "    __main__\n",
      "    __main__.Account\n",
      "    __main__._attempt_import\n",
      "    __main__._check_imported\n",
      "    __main__._jupyterlab_variableinspector_default\n",
      "    __main__._jupyterlab_variableinspector_deletevariable\n",
      "    __main__._jupyterlab_variableinspector_dict_list\n",
      "    __main__._jupyterlab_variableinspector_displaywidget\n",
      "    __main__._jupyterlab_variableinspector_getcontentof\n",
      "    __main__._jupyterlab_variableinspector_getmatrixcontent\n",
      "    __main__._jupyterlab_variableinspector_getshapeof\n",
      "    __main__._jupyterlab_variableinspector_getsizeof\n",
      "    __main__._jupyterlab_variableinspector_is_matrix\n",
      "    __main__._jupyterlab_variableinspector_is_widget\n",
      "1 items passed all tests:\n",
      "   3 tests in __main__.Account.__init__\n",
      "3 tests in 15 items.\n",
      "3 passed and 0 failed.\n",
      "Test passed.\n"
     ]
    }
   ],
   "source": [
    "if __name__ == '__main__':\n",
    "    import doctest\n",
    "    doctest.testmod(verbose = True)"
   ]
  },
  {
   "cell_type": "code",
   "execution_count": 22,
   "id": "76857279-6641-4198-9e4d-418e33d11bf5",
   "metadata": {},
   "outputs": [],
   "source": [
    "def ad(x, y):\n",
    "    '''\n",
    "    >>> ad(2, 3)\n",
    "    2\n",
    "\n",
    "    >>> ad(1, 4)\n",
    "    5\n",
    "    '''\n",
    "    return x + y"
   ]
  },
  {
   "cell_type": "code",
   "execution_count": 23,
   "id": "01dfc727-ea9e-4780-8bf1-2f9ec867463f",
   "metadata": {},
   "outputs": [
    {
     "name": "stdout",
     "output_type": "stream",
     "text": [
      "**********************************************************************\n",
      "File \"__main__\", line 3, in __main__.ad\n",
      "Failed example:\n",
      "    ad(2, 3)\n",
      "Expected:\n",
      "    2\n",
      "Got:\n",
      "    5\n",
      "**********************************************************************\n",
      "1 items had failures:\n",
      "   1 of   2 in __main__.ad\n",
      "***Test Failed*** 1 failures.\n"
     ]
    }
   ],
   "source": [
    "if __name__ == '__main__':\n",
    "    import doctest\n",
    "    doctest.testmod()"
   ]
  }
 ],
 "metadata": {
  "kernelspec": {
   "display_name": "Python 3 (ipykernel)",
   "language": "python",
   "name": "python3"
  },
  "language_info": {
   "codemirror_mode": {
    "name": "ipython",
    "version": 3
   },
   "file_extension": ".py",
   "mimetype": "text/x-python",
   "name": "python",
   "nbconvert_exporter": "python",
   "pygments_lexer": "ipython3",
   "version": "3.12.7"
  }
 },
 "nbformat": 4,
 "nbformat_minor": 5
}
