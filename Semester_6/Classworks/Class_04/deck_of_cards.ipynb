{
 "cells": [
  {
   "cell_type": "code",
   "execution_count": 1,
   "id": "3a32ebce-dccf-45c6-9ac3-18dafbee6ac3",
   "metadata": {},
   "outputs": [
    {
     "name": "stdout",
     "output_type": "stream",
     "text": [
      "Ace of Clubs\n",
      "Ace_of_Clubs.png\n",
      "['Ace', '2', '3', '4', '5', '6', '7', '8', '9', '10', 'Jack', 'Queen', 'King']\n",
      "['Hearts', 'Spades', 'Clubs', 'Diamonds']\n"
     ]
    }
   ],
   "source": [
    "import import_ipynb\n",
    "from card import Card\n",
    "import random"
   ]
  },
  {
   "cell_type": "code",
   "execution_count": 2,
   "id": "24e2010e-be4f-4461-8f3e-c4bab7fe17af",
   "metadata": {},
   "outputs": [],
   "source": [
    "class DeckOfCards:\n",
    "    NUMBER_OF_CARDS = 52\n",
    "    def __init__(self):\n",
    "        self.current_card = 0\n",
    "        self.list_card = []\n",
    "        for index in range(DeckOfCards.NUMBER_OF_CARDS):\n",
    "            face = Card.FACES[index % 13]\n",
    "            suit = Card.SUITS[index // 13]\n",
    "            self.list_card.append(Card(face, suit))\n",
    "\n",
    "    def deal_card(self):\n",
    "        try:\n",
    "            card = self.list_card[self.current_card]\n",
    "            self.current_card += 1\n",
    "            return card\n",
    "        except IndexError:\n",
    "            return None\n",
    "\n",
    "    def shuffle_deck(self):\n",
    "        random.shuffle(self.list_card)\n",
    "\n",
    "    def __str__(self):\n",
    "        cards = ''\n",
    "        for i in range(52):\n",
    "            cards += f'{str(self.list_card[i]):<30}'\n",
    "            if (i + 1) % 4 == 0:\n",
    "                cards += '\\n'\n",
    "        return cards"
   ]
  },
  {
   "cell_type": "code",
   "execution_count": 3,
   "id": "8c2de752-c29c-4ca9-8a33-b433f09db207",
   "metadata": {},
   "outputs": [
    {
     "name": "stdout",
     "output_type": "stream",
     "text": [
      "Ace of Hearts                 2 of Hearts                   3 of Hearts                   4 of Hearts                   \n",
      "5 of Hearts                   6 of Hearts                   7 of Hearts                   8 of Hearts                   \n",
      "9 of Hearts                   10 of Hearts                  Jack of Hearts                Queen of Hearts               \n",
      "King of Hearts                Ace of Spades                 2 of Spades                   3 of Spades                   \n",
      "4 of Spades                   5 of Spades                   6 of Spades                   7 of Spades                   \n",
      "8 of Spades                   9 of Spades                   10 of Spades                  Jack of Spades                \n",
      "Queen of Spades               King of Spades                Ace of Clubs                  2 of Clubs                    \n",
      "3 of Clubs                    4 of Clubs                    5 of Clubs                    6 of Clubs                    \n",
      "7 of Clubs                    8 of Clubs                    9 of Clubs                    10 of Clubs                   \n",
      "Jack of Clubs                 Queen of Clubs                King of Clubs                 Ace of Diamonds               \n",
      "2 of Diamonds                 3 of Diamonds                 4 of Diamonds                 5 of Diamonds                 \n",
      "6 of Diamonds                 7 of Diamonds                 8 of Diamonds                 9 of Diamonds                 \n",
      "10 of Diamonds                Jack of Diamonds              Queen of Diamonds             King of Diamonds              \n",
      "\n"
     ]
    }
   ],
   "source": [
    "deck = DeckOfCards()\n",
    "print(deck)"
   ]
  },
  {
   "cell_type": "code",
   "execution_count": 4,
   "id": "b2ae39c9-8be1-48a2-8f21-45b83c889191",
   "metadata": {},
   "outputs": [
    {
     "name": "stdout",
     "output_type": "stream",
     "text": [
      "Queen of Hearts               Ace of Hearts                 Ace of Spades                 9 of Spades                   \n",
      "2 of Hearts                   King of Hearts                Jack of Spades                10 of Spades                  \n",
      "6 of Spades                   10 of Clubs                   4 of Hearts                   3 of Hearts                   \n",
      "8 of Diamonds                 Jack of Clubs                 5 of Spades                   Queen of Clubs                \n",
      "Queen of Spades               9 of Hearts                   8 of Hearts                   3 of Spades                   \n",
      "2 of Spades                   8 of Clubs                    Jack of Diamonds              King of Clubs                 \n",
      "2 of Clubs                    Jack of Hearts                5 of Hearts                   7 of Clubs                    \n",
      "10 of Hearts                  2 of Diamonds                 7 of Spades                   6 of Diamonds                 \n",
      "9 of Clubs                    3 of Clubs                    Ace of Diamonds               9 of Diamonds                 \n",
      "6 of Hearts                   6 of Clubs                    King of Diamonds              3 of Diamonds                 \n",
      "4 of Spades                   4 of Diamonds                 10 of Diamonds                King of Spades                \n",
      "Queen of Diamonds             5 of Clubs                    4 of Clubs                    7 of Hearts                   \n",
      "8 of Spades                   5 of Diamonds                 Ace of Clubs                  7 of Diamonds                 \n",
      "\n"
     ]
    }
   ],
   "source": [
    "deck.shuffle_deck()\n",
    "print(deck)"
   ]
  },
  {
   "cell_type": "code",
   "execution_count": 6,
   "id": "3288de76-2530-4253-8ca9-02a08fb0d0c4",
   "metadata": {},
   "outputs": [
    {
     "data": {
      "text/plain": [
       "<card.Card at 0x1e7f379b860>"
      ]
     },
     "execution_count": 6,
     "metadata": {},
     "output_type": "execute_result"
    }
   ],
   "source": [
    "deck.deal_card()"
   ]
  },
  {
   "cell_type": "code",
   "execution_count": 7,
   "id": "a75f2b32-37dc-4901-b409-90c1463c6cc2",
   "metadata": {},
   "outputs": [],
   "source": [
    "import matplotlib.pyplot as plt\n",
    "import matplotlib.image as mpimg\n",
    "from pathlib import Path"
   ]
  },
  {
   "cell_type": "code",
   "execution_count": 8,
   "id": "54c272cb-04ca-41c5-9cc9-20a753ca8bbe",
   "metadata": {},
   "outputs": [],
   "source": [
    "path = Path('.').joinpath('card_images')"
   ]
  },
  {
   "cell_type": "code",
   "execution_count": 9,
   "id": "f8f7e47f-3dae-49cf-9ff6-941f17ee6867",
   "metadata": {},
   "outputs": [
    {
     "data": {
      "image/png": "[encoded data removed]",
      "text/plain": [
       "<Figure size 640x480 with 52 Axes>"
      ]
     },
     "metadata": {},
     "output_type": "display_data"
    }
   ],
   "source": [
    "fig, axes_list = plt.subplots(nrows = 13, ncols = 4)"
   ]
  },
  {
   "cell_type": "code",
   "execution_count": 11,
   "id": "1c29355f-6309-4d67-b1c8-cd788b13df61",
   "metadata": {},
   "outputs": [],
   "source": [
    "for axes in axes_list.ravel():\n",
    "    axes.set_axis_off()\n",
    "    card_obj = deck.deal_card()\n",
    "    if card_obj is None:\n",
    "        continue\n",
    "    image_name = card_obj.image_name()\n",
    "    img = mpimg.imread(str(path.joinpath(image_name).resolve()))\n",
    "    axes.imshow(img)\n",
    "\n",
    "plt.show()"
   ]
  }
 ],
 "metadata": {
  "kernelspec": {
   "display_name": "Python 3 (ipykernel)",
   "language": "python",
   "name": "python3"
  },
  "language_info": {
   "codemirror_mode": {
    "name": "ipython",
    "version": 3
   },
   "file_extension": ".py",
   "mimetype": "text/x-python",
   "name": "python",
   "nbconvert_exporter": "python",
   "pygments_lexer": "ipython3",
   "version": "3.12.7"
  }
 },
 "nbformat": 4,
 "nbformat_minor": 5
}
