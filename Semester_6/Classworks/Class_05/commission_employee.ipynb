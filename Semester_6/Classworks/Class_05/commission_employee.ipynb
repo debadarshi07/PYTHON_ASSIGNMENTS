{
 "cells": [
  {
   "cell_type": "code",
   "execution_count": null,
   "id": "268a22b8-942c-4480-9917-b54765cc0c75",
   "metadata": {},
   "outputs": [],
   "source": [
    "# Chapter 10"
   ]
  },
  {
   "cell_type": "code",
   "execution_count": 17,
   "id": "235705c2-7259-419b-9828-4419796c1e54",
   "metadata": {},
   "outputs": [],
   "source": [
    "class CommissionEmployee(object):\n",
    "    def __init__(self, f_name, l_name, ssn, gross_sales, commission_rate):\n",
    "        self.f_name = f_name\n",
    "        self.l_name = l_name\n",
    "        self.ssn = ssn\n",
    "        self.gross_sales = gross_sales\n",
    "        self.commission_rate = commission_rate\n",
    "\n",
    "    @property\n",
    "    def gross_sales(self):\n",
    "        return self._gross_sales\n",
    "    @gross_sales.setter\n",
    "    def gross_sales(self, value):\n",
    "        if value < 0:\n",
    "            raise ValueError('Gross sales can not be negative.\\n')\n",
    "        self._gross_sales = value\n",
    "\n",
    "    @property\n",
    "    def commission_rate(self):\n",
    "        return self._commission_rate\n",
    "    @commission_rate.setter\n",
    "    def commission_rate(self, value):\n",
    "        if not (0 < value < 1):\n",
    "            raise ValueError('Comission rate must lie in between 0 and 1\\n')\n",
    "        self._commission_rate = value\n",
    "\n",
    "    def earning(self):\n",
    "        return self.commission_rate * self.gross_sales\n",
    "\n",
    "    def __str__(self):\n",
    "        return f'Commission Employee\\nName: {self.f_name} {self.l_name}\\nEarning: {self.earning()}\\n'"
   ]
  }
 ],
 "metadata": {
  "kernelspec": {
   "display_name": "Python 3 (ipykernel)",
   "language": "python",
   "name": "python3"
  },
  "language_info": {
   "codemirror_mode": {
    "name": "ipython",
    "version": 3
   },
   "file_extension": ".py",
   "mimetype": "text/x-python",
   "name": "python",
   "nbconvert_exporter": "python",
   "pygments_lexer": "ipython3",
   "version": "3.12.7"
  }
 },
 "nbformat": 4,
 "nbformat_minor": 5
}
