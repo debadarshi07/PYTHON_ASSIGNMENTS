{
 "cells": [
  {
   "cell_type": "code",
   "execution_count": 1,
   "id": "29d88641-50da-4873-875d-0cc2e3af8b46",
   "metadata": {},
   "outputs": [],
   "source": [
    "import import_ipynb\n",
    "from commission_employee import CommissionEmployee"
   ]
  },
  {
   "cell_type": "code",
   "execution_count": 2,
   "id": "7005e7a6-8e51-4ce6-9512-8a0f5c0b005d",
   "metadata": {},
   "outputs": [],
   "source": [
    "class SalariedCommissionEmployee(CommissionEmployee):\n",
    "    def __init__(self, f_name, l_name, ssn, gross_sales, commission_rate, base_salary):\n",
    "        super().__init__(f_name, l_name, ssn, gross_sales, commission_rate)\n",
    "        self.base_salary = base_salary\n",
    "\n",
    "    def earning(self):\n",
    "        return super().earning() + self.base_salary\n",
    "\n",
    "    def __str__(self):\n",
    "        return f'Salaried {super().__str__()}'"
   ]
  },
  {
   "cell_type": "code",
   "execution_count": 4,
   "id": "58da6b5e-5811-45b2-97f6-19680d604e1e",
   "metadata": {},
   "outputs": [
    {
     "name": "stdout",
     "output_type": "stream",
     "text": [
      "Salaried Commission Employee\n",
      "Name: Debadarshi Omkar\n",
      "Earning: 7000.0\n",
      "\n"
     ]
    }
   ],
   "source": [
    "emp = SalariedCommissionEmployee('Debadarshi', 'Omkar', '5006', 40000, 0.05, 5000)\n",
    "print(emp)"
   ]
  }
 ],
 "metadata": {
  "kernelspec": {
   "display_name": "Python 3 (ipykernel)",
   "language": "python",
   "name": "python3"
  },
  "language_info": {
   "codemirror_mode": {
    "name": "ipython",
    "version": 3
   },
   "file_extension": ".py",
   "mimetype": "text/x-python",
   "name": "python",
   "nbconvert_exporter": "python",
   "pygments_lexer": "ipython3",
   "version": "3.11.7"
  }
 },
 "nbformat": 4,
 "nbformat_minor": 5
}
