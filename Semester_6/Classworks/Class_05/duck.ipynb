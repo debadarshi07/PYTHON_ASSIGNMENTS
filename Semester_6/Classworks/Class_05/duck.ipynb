{
 "cells": [
  {
   "cell_type": "code",
   "execution_count": 4,
   "id": "55c6ae50-b59f-40fe-8faf-fb9989cfda20",
   "metadata": {},
   "outputs": [],
   "source": [
    "import import_ipynb\n",
    "from commission_employee import CommissionEmployee as CE\n",
    "from salaried_employee import SalariedCommissionEmployee as SCE"
   ]
  },
  {
   "cell_type": "code",
   "execution_count": 5,
   "id": "9417fb90-a804-4ae4-aa4c-a74e39c2e965",
   "metadata": {},
   "outputs": [],
   "source": [
    "class Duck:\n",
    "    def __init__(self):\n",
    "        self.name = 'Duck'\n",
    "\n",
    "    def earning(self):\n",
    "        return f'Earning is 100000.'\n",
    "\n",
    "    def __str__(self):\n",
    "        return f'I am a well paid {self.name}\\n'"
   ]
  },
  {
   "cell_type": "code",
   "execution_count": 6,
   "id": "fe2e1d6a-f322-4794-9dce-1dee608fca02",
   "metadata": {},
   "outputs": [],
   "source": [
    "cemp = CE('D', 'Omkar', '111-222', 50000, 0.06)\n",
    "scemp = SCE('Debadarshi', 'Omkar', '58474', 80000, 0.07, 50000)\n",
    "duck = Duck()"
   ]
  },
  {
   "cell_type": "code",
   "execution_count": 7,
   "id": "78747e7b-eb6e-42fc-abe0-ae427e054237",
   "metadata": {},
   "outputs": [
    {
     "name": "stdout",
     "output_type": "stream",
     "text": [
      "3000.0\n",
      "Commission Employee\n",
      "Name: D Omkar\n",
      "Earning: 3000.0\n",
      "\n",
      "55600.0\n",
      "Salaried Commission Employee\n",
      "Name: Debadarshi Omkar\n",
      "Earning: 55600.0\n",
      "\n",
      "Earning is 100000.\n",
      "I am a well paid Duck\n",
      "\n"
     ]
    }
   ],
   "source": [
    "L = [cemp, scemp, duck]\n",
    "for employee in L:\n",
    "    e = employee.earning()\n",
    "    print(e)\n",
    "    print(employee)"
   ]
  }
 ],
 "metadata": {
  "kernelspec": {
   "display_name": "Python 3 (ipykernel)",
   "language": "python",
   "name": "python3"
  },
  "language_info": {
   "codemirror_mode": {
    "name": "ipython",
    "version": 3
   },
   "file_extension": ".py",
   "mimetype": "text/x-python",
   "name": "python",
   "nbconvert_exporter": "python",
   "pygments_lexer": "ipython3",
   "version": "3.12.7"
  }
 },
 "nbformat": 4,
 "nbformat_minor": 5
}
