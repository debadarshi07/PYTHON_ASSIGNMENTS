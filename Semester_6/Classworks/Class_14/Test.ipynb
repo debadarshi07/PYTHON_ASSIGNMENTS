{
 "cells": [
  {
   "cell_type": "code",
   "execution_count": 25,
   "id": "196d79cc-bf8c-4f41-acbc-9fba27a706ba",
   "metadata": {},
   "outputs": [],
   "source": [
    "import requests\n",
    "import keys"
   ]
  },
  {
   "cell_type": "code",
   "execution_count": 38,
   "id": "474ae2dc-b990-4e23-8df8-34e90637dc29",
   "metadata": {},
   "outputs": [
    {
     "data": {
      "text/plain": [
       "'AAAAAAAAAAAAAAAAAAAAAJG90AEAAAAALpzNFqoRvvB97C5J80lx%2ByRtM34%3DKhLqWGquyZ0kUvkKNeXYbjeYklWcZ1QjyjV6f9NImn0CU4OknJ'"
      ]
     },
     "execution_count": 38,
     "metadata": {},
     "output_type": "execute_result"
    }
   ],
   "source": [
    "BEARER_TOKEN = 'AAAAAAAAAAAAAAAAAAAAAJG90AEAAAAALpzNFqoRvvB97C5J80lx%2ByRtM34%3DKhLqWGquyZ0kUvkKNeXYbjeYklWcZ1QjyjV6f9NImn0CU4OknJ'\n",
    "BEARER_TOKEN"
   ]
  },
  {
   "cell_type": "code",
   "execution_count": 36,
   "id": "2bafc385-e6d9-4301-b686-87dc0da723a9",
   "metadata": {},
   "outputs": [],
   "source": [
    "def get_user_info(username):\n",
    "    \n",
    "    url = f'https://api.twitter.com/2/users/by/username/{username}?user.fields=id,name,username,description,public_metrics'\n",
    "    header = {\"Authorization\": f'Bearer{BEARER_TOKEN}'}\n",
    "    response = requests.get(url, headers = header)\n",
    "    \n",
    "    if response.status_code == 200:\n",
    "        user_data = response.json()['data']\n",
    "        print(f\"User ID: {user_data['id']}\\n\")\n",
    "        print(f\"User Name: {user_data['name']}\\n\")\n",
    "        print(f\"Screen Name: {user_data['username']}\\n\")\n",
    "        print(f\"Description: {user_data['description']}\\n\")\n",
    "        print(f\"Followers Count: {user_data['public_metrics']['followers_count']}\\n\")\n",
    "    else:\n",
    "        print(f\"Error: {response.status_code} {response.text}\")"
   ]
  },
  {
   "cell_type": "code",
   "execution_count": 37,
   "id": "052d922f-fc88-47f7-8637-1d365069dec2",
   "metadata": {},
   "outputs": [
    {
     "name": "stdout",
     "output_type": "stream",
     "text": [
      "Error: 401 {\n",
      "  \"title\": \"Unauthorized\",\n",
      "  \"type\": \"about:blank\",\n",
      "  \"status\": 401,\n",
      "  \"detail\": \"Unauthorized\"\n",
      "}\n"
     ]
    }
   ],
   "source": [
    "get_user_info('guddu_174')"
   ]
  }
 ],
 "metadata": {
  "kernelspec": {
   "display_name": "Python 3 (ipykernel)",
   "language": "python",
   "name": "python3"
  },
  "language_info": {
   "codemirror_mode": {
    "name": "ipython",
    "version": 3
   },
   "file_extension": ".py",
   "mimetype": "text/x-python",
   "name": "python",
   "nbconvert_exporter": "python",
   "pygments_lexer": "ipython3",
   "version": "3.11.7"
  }
 },
 "nbformat": 4,
 "nbformat_minor": 5
}
