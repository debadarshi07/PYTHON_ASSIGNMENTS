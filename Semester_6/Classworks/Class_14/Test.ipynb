{
 "cells": [
  {
   "cell_type": "code",
   "execution_count": 31,
   "id": "196d79cc-bf8c-4f41-acbc-9fba27a706ba",
   "metadata": {},
   "outputs": [],
   "source": [
    "import requests\n",
    "import keys"
   ]
  },
  {
   "cell_type": "code",
   "execution_count": 32,
   "id": "474ae2dc-b990-4e23-8df8-34e90637dc29",
   "metadata": {},
   "outputs": [
    {
     "data": {
      "text/plain": [
       "'AAAAAAAAAAAAAAAAAAAAAJG90AEAAAAAID2zvnjrB50xAIMt3efXPy8uwGI%3DZsvSIwILLeZHLVUR3ChW9QysPf1NCEJvWlRur9ANmXrsFMNfHl'"
      ]
     },
     "execution_count": 32,
     "metadata": {},
     "output_type": "execute_result"
    }
   ],
   "source": [
    "BEARER_TOKEN = keys.BEARER_TOKEN\n",
    "BEARER_TOKEN"
   ]
  },
  {
   "cell_type": "code",
   "execution_count": 33,
   "id": "2bafc385-e6d9-4301-b686-87dc0da723a9",
   "metadata": {},
   "outputs": [],
   "source": [
    "def get_user_info(username):\n",
    "\n",
    "    url = f'https://api.twitter.com/2/users/by/username/{username}?user.fields=id,name,username,description,public_metrics'\n",
    "    header = {\"Authorization\": f'Bearer {BEARER_TOKEN}'}\n",
    "    response = requests.get(url, headers = header)\n",
    "    \n",
    "    if response.status_code == 200:\n",
    "        user_data = response.json()['data']\n",
    "        print(f\"User ID: {user_data['id']}\\n\")\n",
    "        print(f\"User Name: {user_data['name']}\\n\")\n",
    "        print(f\"Screen Name: {user_data['username']}\\n\")\n",
    "        print(f\"Description: {user_data['description']}\\n\")\n",
    "        print(f\"Followers Count: {user_data['public_metrics']['followers_count']}\\n\")\n",
    "    else:\n",
    "        print(f\"Error: {response.status_code} {response.text}\")"
   ]
  },
  {
   "cell_type": "code",
   "execution_count": 39,
   "id": "052d922f-fc88-47f7-8637-1d365069dec2",
   "metadata": {},
   "outputs": [
    {
     "name": "stdout",
     "output_type": "stream",
     "text": [
      "Error: 429 {\"title\":\"Too Many Requests\",\"detail\":\"Too Many Requests\",\"type\":\"about:blank\",\"status\":429}\n"
     ]
    }
   ],
   "source": [
    "get_user_info('guddu_174')"
   ]
  }
 ],
 "metadata": {
  "kernelspec": {
   "display_name": "Python 3 (ipykernel)",
   "language": "python",
   "name": "python3"
  },
  "language_info": {
   "codemirror_mode": {
    "name": "ipython",
    "version": 3
   },
   "file_extension": ".py",
   "mimetype": "text/x-python",
   "name": "python",
   "nbconvert_exporter": "python",
   "pygments_lexer": "ipython3",
   "version": "3.12.7"
  }
 },
 "nbformat": 4,
 "nbformat_minor": 5
}
