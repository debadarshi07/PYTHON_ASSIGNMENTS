{
 "cells": [
  {
   "cell_type": "code",
   "execution_count": 6,
   "id": "e82c1378-8ff1-42b2-9b63-a61c72e14d15",
   "metadata": {},
   "outputs": [],
   "source": [
    "from decimal import Decimal as d"
   ]
  },
  {
   "cell_type": "code",
   "execution_count": 9,
   "id": "46d8b9b2-0e21-49aa-bfb2-554a61de66dc",
   "metadata": {},
   "outputs": [],
   "source": [
    "class Account:\n",
    "    \"\"\"Manage account-related data\"\"\"\n",
    "    def __init__(self, n, b):\n",
    "        self._name = n  # Internal storage for name\n",
    "        self._balance = d(b)  # Internal storage for balance\n",
    "\n",
    "    # Always provide same name for both getter and setter methods as well as the <property>.setter decorator\n",
    "    \n",
    "    # Getter for name\n",
    "    @property\n",
    "    def name(self):\n",
    "        return self._name\n",
    "\n",
    "    # Setter for name\n",
    "    @name.setter\n",
    "    def name(self, value):\n",
    "        if not value:\n",
    "            raise ValueError(\"Name cannot be empty.\")\n",
    "        self._name = value\n",
    "\n",
    "    # Getter for balance\n",
    "    @property\n",
    "    def balance(self):\n",
    "        return self._balance\n",
    "\n",
    "    # Setter for balance\n",
    "    @balance.setter\n",
    "    def balance(self, amount):\n",
    "        if amount < d('0.00'):\n",
    "            raise ValueError(\"Balance cannot be negative.\")\n",
    "        self._balance = d(amount)\n",
    "\n",
    "    def deposit(self, amount):\n",
    "        amount = d(amount)\n",
    "        if amount <= d('0.00'):\n",
    "            raise ValueError(\"Invalid deposit amount.\")\n",
    "        else:\n",
    "            self.balance += amount  # Use the setter to update balance\n",
    "            print(f\"The amount in the account after deposit is: {self.balance}\")\n",
    "\n",
    "    def withdraw(self, amount):\n",
    "        amount = d(amount)\n",
    "        if amount <= d('0.00'):\n",
    "            raise ValueError(\"Invalid withdrawal amount.\")\n",
    "        else:\n",
    "            if amount > self.balance:\n",
    "                raise ValueError(\"Insufficient balance.\")\n",
    "            else:\n",
    "                self.balance -= amount  # Use the setter to update balance\n",
    "                print(f\"The amount in the account after withdrawal is: {self.balance}\")"
   ]
  },
  {
   "cell_type": "code",
   "execution_count": 10,
   "id": "8f2c4417-36ea-4c09-ab41-c83830cb9732",
   "metadata": {},
   "outputs": [
    {
     "name": "stdin",
     "output_type": "stream",
     "text": [
      "Enter the name:  Deb\n",
      "Enter the balance in the account:  2000\n"
     ]
    },
    {
     "name": "stdout",
     "output_type": "stream",
     "text": [
      "Account holder: Deb\n",
      "Initial balance: 2000\n"
     ]
    },
    {
     "name": "stdin",
     "output_type": "stream",
     "text": [
      "Enter the deposit amount:  30\n"
     ]
    },
    {
     "name": "stdout",
     "output_type": "stream",
     "text": [
      "The amount in the account after deposit is: 2030\n"
     ]
    },
    {
     "name": "stdin",
     "output_type": "stream",
     "text": [
      "Enter the withdrawal amount:  32\n"
     ]
    },
    {
     "name": "stdout",
     "output_type": "stream",
     "text": [
      "The amount in the account after withdrawal is: 1998\n",
      "Final balance is: 1998\n"
     ]
    }
   ],
   "source": [
    "# Accepting input for account creation using setter methods\n",
    "name = input(\"Enter the name: \")\n",
    "balance = input(\"Enter the balance in the account: \")\n",
    "\n",
    "# Create Account instance using setter methods for both name and balance\n",
    "account = Account(name, balance)\n",
    "\n",
    "# Display account information using getter methods\n",
    "print(f\"Account holder: {account.name}\")\n",
    "print(f\"Initial balance: {account.balance}\")\n",
    "\n",
    "# Deposit money\n",
    "deposit_amount = input(\"Enter the deposit amount: \")\n",
    "account.deposit(deposit_amount)\n",
    "\n",
    "# Withdraw money\n",
    "withdrawal_amount = input(\"Enter the withdrawal amount: \")\n",
    "account.withdraw(withdrawal_amount)\n",
    "\n",
    "# Final balance after transactions using getter method\n",
    "print(f\"Final balance is: {account.balance}\")"
   ]
  }
 ],
 "metadata": {
  "kernelspec": {
   "display_name": "Python 3 (ipykernel)",
   "language": "python",
   "name": "python3"
  },
  "language_info": {
   "codemirror_mode": {
    "name": "ipython",
    "version": 3
   },
   "file_extension": ".py",
   "mimetype": "text/x-python",
   "name": "python",
   "nbconvert_exporter": "python",
   "pygments_lexer": "ipython3",
   "version": "3.12.7"
  }
 },
 "nbformat": 4,
 "nbformat_minor": 5
}
