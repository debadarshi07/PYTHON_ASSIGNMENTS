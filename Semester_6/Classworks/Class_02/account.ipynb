{
 "cells": [
  {
   "cell_type": "code",
   "execution_count": 4,
   "id": "d5106620-3241-4786-a4d1-9aa13b080d8d",
   "metadata": {},
   "outputs": [],
   "source": [
    "from decimal import Decimal as d"
   ]
  },
  {
   "cell_type": "code",
   "execution_count": 5,
   "id": "42efab1e-fb4c-42b6-b1fe-3770974f7a12",
   "metadata": {},
   "outputs": [],
   "source": [
    "class Account:\n",
    "    \"\"\"Manage account-related data\"\"\"\n",
    "    def __init__(self, n, b):\n",
    "        self.name = n\n",
    "        self.balance = d(b)  \n",
    "\n",
    "    def get_name(self):\n",
    "        return self.name\n",
    "\n",
    "    def deposit(self, amount):\n",
    "        amount = d(amount)\n",
    "        if amount <= d('0.00'):\n",
    "            raise ValueError(\"Invalid deposit amount.\")\n",
    "        else:\n",
    "            self.balance += amount  \n",
    "            print(f\"The amount in the account after deposit is: {self.balance}\")\n",
    "\n",
    "    def withdraw(self, amount):\n",
    "        amount = d(amount)\n",
    "        if amount <= d('0.00'):\n",
    "            raise ValueError(\"Invalid withdrawal amount.\")\n",
    "        else:\n",
    "            if amount > self.balance:\n",
    "                raise ValueError(\"Insufficient balance.\")\n",
    "            else:\n",
    "                self.balance -= amount  \n",
    "                print(f\"The amount in the account after withdrawal is: {self.balance}\")"
   ]
  },
  {
   "cell_type": "code",
   "execution_count": 7,
   "id": "3d70b1a4-d2fe-4143-bdb8-99f317d4925b",
   "metadata": {},
   "outputs": [
    {
     "name": "stdin",
     "output_type": "stream",
     "text": [
      "Enter the name:  Debadarshi Omkar\n",
      "Enter the balance in the account:  500.30\n"
     ]
    },
    {
     "name": "stdout",
     "output_type": "stream",
     "text": [
      "Account holder: Debadarshi Omkar\n",
      "Initial balance: 500.30\n"
     ]
    }
   ],
   "source": [
    "# Input from user\n",
    "name = input(\"Enter the name: \")\n",
    "balance = input(\"Enter the balance in the account: \")\n",
    "\n",
    "# Create Account instance\n",
    "account = Account(name, balance)\n",
    "\n",
    "# Display account information\n",
    "print(f\"Account holder: {account.get_name()}\")\n",
    "print(f\"Initial balance: {account.balance}\")"
   ]
  },
  {
   "cell_type": "code",
   "execution_count": 9,
   "id": "68b18109-ce6f-47b6-88de-075e4d020938",
   "metadata": {},
   "outputs": [
    {
     "name": "stdin",
     "output_type": "stream",
     "text": [
      "Enter the deposit amount:  200\n"
     ]
    },
    {
     "name": "stdout",
     "output_type": "stream",
     "text": [
      "The amount in the account after deposit is: 800.30\n"
     ]
    },
    {
     "name": "stdin",
     "output_type": "stream",
     "text": [
      "Enter the withdrawal amount:  100\n"
     ]
    },
    {
     "name": "stdout",
     "output_type": "stream",
     "text": [
      "The amount in the account after withdrawal is: 700.30\n",
      "Final balance is: 700.30\n"
     ]
    }
   ],
   "source": [
    "# Deposit money\n",
    "deposit_amount = d(input(\"Enter the deposit amount: \"))\n",
    "account.deposit(deposit_amount)\n",
    "\n",
    "# Withdraw money\n",
    "withdrawl_amount = d(input(\"Enter the withdrawal amount: \"))\n",
    "account.withdraw(withdrawl_amount)\n",
    "\n",
    "# Final balance after transactions\n",
    "print(f\"Final balance is: {account.balance}\")"
   ]
  }
 ],
 "metadata": {
  "kernelspec": {
   "display_name": "Python 3 (ipykernel)",
   "language": "python",
   "name": "python3"
  },
  "language_info": {
   "codemirror_mode": {
    "name": "ipython",
    "version": 3
   },
   "file_extension": ".py",
   "mimetype": "text/x-python",
   "name": "python",
   "nbconvert_exporter": "python",
   "pygments_lexer": "ipython3",
   "version": "3.12.7"
  }
 },
 "nbformat": 4,
 "nbformat_minor": 5
}
