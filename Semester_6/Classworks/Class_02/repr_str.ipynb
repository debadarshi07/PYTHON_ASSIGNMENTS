{
 "cells": [
  {
   "cell_type": "code",
   "execution_count": 1,
   "id": "b8f96122-8b9d-41fe-98a7-a8d3201443ba",
   "metadata": {},
   "outputs": [],
   "source": [
    "from decimal import Decimal as d"
   ]
  },
  {
   "cell_type": "code",
   "execution_count": 3,
   "id": "6312bc2e-007d-4fcf-9535-77876edceab5",
   "metadata": {},
   "outputs": [],
   "source": [
    "class Account:\n",
    "    \"\"\"Manage account-related data\"\"\"\n",
    "    def __init__(self, n, b):\n",
    "        self._name = n  # Internal storage for name\n",
    "        self._balance = d(b)  # Internal storage for balance\n",
    "\n",
    "    # Getter for name\n",
    "    @property\n",
    "    def name(self):\n",
    "        return self._name\n",
    "\n",
    "    # Setter for name\n",
    "    @name.setter\n",
    "    def name(self, value):\n",
    "        if not value:\n",
    "            raise ValueError(\"Name cannot be empty.\")\n",
    "        self._name = value\n",
    "\n",
    "    # Getter for balance\n",
    "    @property\n",
    "    def balance(self):\n",
    "        return self._balance\n",
    "\n",
    "    # Setter for balance\n",
    "    @balance.setter\n",
    "    def balance(self, amount):\n",
    "        if amount < d('0.00'):\n",
    "            raise ValueError(\"Balance cannot be negative.\")\n",
    "        self._balance = d(amount)\n",
    "\n",
    "    def deposit(self, amount):\n",
    "        amount = d(amount)\n",
    "        if amount <= d('0.00'):\n",
    "            raise ValueError(\"Invalid deposit amount.\")\n",
    "        else:\n",
    "            self.balance += amount  # Use the setter to update balance\n",
    "            print(f\"The amount in the account after deposit is: {self.balance}\")\n",
    "\n",
    "    def withdraw(self, amount):\n",
    "        amount = d(amount)\n",
    "        if amount <= d('0.00'):\n",
    "            raise ValueError(\"Invalid withdrawal amount.\")\n",
    "        else:\n",
    "            if amount > self.balance:\n",
    "                raise ValueError(\"Insufficient balance.\")\n",
    "            else:\n",
    "                self.balance -= amount  # Use the setter to update balance\n",
    "                print(f\"The amount in the account after withdrawal is: {self.balance}\")\n",
    "\n",
    "    # __repr__ method to return a string representation of the object\n",
    "    def __repr__(self):\n",
    "        return f\"Account(name={self.name}, balance={self.balance})\"\n",
    "\n",
    "    # __str__ method to return a user-friendly string representation\n",
    "    def __str__(self):\n",
    "        return f\"Account holder: {self.name}\\nBalance: {self.balance}\""
   ]
  },
  {
   "cell_type": "code",
   "execution_count": 5,
   "id": "26448f56-0bde-488b-ab0f-8f5a9d1493ab",
   "metadata": {},
   "outputs": [
    {
     "name": "stdin",
     "output_type": "stream",
     "text": [
      "Enter the name:  Debadarshi\n",
      "Enter the balance in the account:  3000\n"
     ]
    },
    {
     "name": "stdout",
     "output_type": "stream",
     "text": [
      "Account holder: Debadarshi\n",
      "Initial balance: 3000\n",
      "\n",
      "Using __repr__ to display account details:\n",
      "Account(name=Debadarshi, balance=3000)\n"
     ]
    },
    {
     "name": "stdin",
     "output_type": "stream",
     "text": [
      "\n",
      "Enter the deposit amount:  550\n"
     ]
    },
    {
     "name": "stdout",
     "output_type": "stream",
     "text": [
      "The amount in the account after deposit is: 3550\n"
     ]
    },
    {
     "name": "stdin",
     "output_type": "stream",
     "text": [
      "\n",
      "Enter the withdrawal amount:  200\n"
     ]
    },
    {
     "name": "stdout",
     "output_type": "stream",
     "text": [
      "The amount in the account after withdrawal is: 3350\n",
      "\n",
      "Final balance is: 3350\n",
      "\n",
      "Using __str__ to display account details:\n",
      "Account holder: Debadarshi\n",
      "Balance: 3350\n"
     ]
    }
   ],
   "source": [
    "# Accepting input for account creation using setter methods\n",
    "name = input(\"Enter the name: \")\n",
    "balance = input(\"Enter the balance in the account: \")\n",
    "\n",
    "# Create Account instance using setter methods for both name and balance\n",
    "account = Account(name, balance)\n",
    "\n",
    "# Display account information using getter methods\n",
    "print(f\"Account holder: {account.name}\")\n",
    "print(f\"Initial balance: {account.balance}\")\n",
    "\n",
    "# Display Account details using __repr__\n",
    "print(\"\\nUsing __repr__ to display account details:\")\n",
    "print(repr(account))  # This will show the __repr__ method's string output\n",
    "\n",
    "# Deposit money\n",
    "deposit_amount = input(\"\\nEnter the deposit amount: \")\n",
    "account.deposit(deposit_amount)\n",
    "\n",
    "# Withdraw money\n",
    "withdrawal_amount = input(\"\\nEnter the withdrawal amount: \")\n",
    "account.withdraw(withdrawal_amount)\n",
    "\n",
    "# Final balance after transactions using getter method\n",
    "print(f\"\\nFinal balance is: {account.balance}\")\n",
    "\n",
    "# Display Account details using __str__ for user-friendly output\n",
    "print(\"\\nUsing __str__ to display account details:\")\n",
    "print(account)  # This will show the __str__ method's string output"
   ]
  }
 ],
 "metadata": {
  "kernelspec": {
   "display_name": "Python 3 (ipykernel)",
   "language": "python",
   "name": "python3"
  },
  "language_info": {
   "codemirror_mode": {
    "name": "ipython",
    "version": 3
   },
   "file_extension": ".py",
   "mimetype": "text/x-python",
   "name": "python",
   "nbconvert_exporter": "python",
   "pygments_lexer": "ipython3",
   "version": "3.12.7"
  }
 },
 "nbformat": 4,
 "nbformat_minor": 5
}
