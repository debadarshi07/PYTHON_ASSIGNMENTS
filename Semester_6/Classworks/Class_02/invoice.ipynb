{
 "cells": [
  {
   "cell_type": "code",
   "execution_count": 1,
   "id": "93c7f78c-f126-4bca-b432-ab4b37e77169",
   "metadata": {},
   "outputs": [],
   "source": [
    "from decimal import Decimal as d"
   ]
  },
  {
   "cell_type": "code",
   "execution_count": 2,
   "id": "05b07235-2cbe-4151-a0a3-ee289986b570",
   "metadata": {},
   "outputs": [],
   "source": [
    "class Invoice:\n",
    "    def __init__(self, part_number, part_description, quantity, price_per_item):\n",
    "        self._part_number = part_number\n",
    "        self._part_description = part_description\n",
    "        self._quantity = quantity\n",
    "        self._price_per_item = d(price_per_item)\n",
    "\n",
    "    @property\n",
    "    def part_number(self):\n",
    "        return self._part_number\n",
    "\n",
    "    @property\n",
    "    def part_description(self):\n",
    "        return self._part_description\n",
    "\n",
    "    @property\n",
    "    def quantity(self):\n",
    "        return self._quantity\n",
    "\n",
    "    @quantity.setter\n",
    "    def quantity(self, value):\n",
    "        if value < 0:\n",
    "            print(\"Quantity cannot be negative. Setting quantity to 0.\")\n",
    "            self._quantity = 0\n",
    "        else:\n",
    "            self._quantity = value\n",
    "\n",
    "    @property\n",
    "    def price_per_item(self):\n",
    "        return self._price_per_item\n",
    "\n",
    "    @price_per_item.setter\n",
    "    def price_per_item(self, value):\n",
    "        if value < d('0.00'):\n",
    "            print(\"Price per item cannot be negative. Setting price to 0.\")\n",
    "            self._price_per_item = d('0.00')\n",
    "        else:\n",
    "            self._price_per_item = d(value)\n",
    "\n",
    "    def calculate_invoice(self):\n",
    "        return self._quantity * self._price_per_item"
   ]
  },
  {
   "cell_type": "code",
   "execution_count": null,
   "id": "fbec990d-6223-46e7-bdae-105f1a618bdb",
   "metadata": {},
   "outputs": [],
   "source": [
    "# User input for creating an invoice\n",
    "part_number = input(\"Enter part number: \")\n",
    "part_description = input(\"Enter part description: \")\n",
    "\n",
    "quantity = int(input(\"Enter quantity: \"))\n",
    "if quantity < 0:\n",
    "    raise ValueError(\"Quantity cannot be negative.\")\n",
    "\n",
    "price_per_item = d(input(\"Enter price per item: \"))\n",
    "if price_per_item < d('0.00'):\n",
    "    raise ValueError(\"Price per item cannot be negative.\")\n",
    "\n",
    "# Create Invoice instance\n",
    "invoice = Invoice(part_number, part_description, quantity, price_per_item)\n",
    "\n",
    "# Display invoice details\n",
    "print(f\"\\nInvoice Details:\")\n",
    "print(f\"Part Number: {invoice.part_number}\")\n",
    "print(f\"Part Description: {invoice.part_description}\")\n",
    "print(f\"Quantity: {invoice.quantity}\")\n",
    "print(f\"Price per Item: {invoice.price_per_item}\")\n",
    "\n",
    "# Calculate and display the total invoice amount\n",
    "print(f\"Total Invoice Amount: {invoice.calculate_invoice()}\")"
   ]
  }
 ],
 "metadata": {
  "kernelspec": {
   "display_name": "Python 3 (ipykernel)",
   "language": "python",
   "name": "python3"
  },
  "language_info": {
   "codemirror_mode": {
    "name": "ipython",
    "version": 3
   },
   "file_extension": ".py",
   "mimetype": "text/x-python",
   "name": "python",
   "nbconvert_exporter": "python",
   "pygments_lexer": "ipython3",
   "version": "3.12.7"
  }
 },
 "nbformat": 4,
 "nbformat_minor": 5
}
