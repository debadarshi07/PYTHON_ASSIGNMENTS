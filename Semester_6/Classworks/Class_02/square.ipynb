{
 "cells": [
  {
   "cell_type": "code",
   "execution_count": 1,
   "id": "9b7d9e33-27f2-45f0-b854-c7fb151414ca",
   "metadata": {},
   "outputs": [],
   "source": [
    "import math"
   ]
  },
  {
   "cell_type": "code",
   "execution_count": 2,
   "id": "72ce6140-43ff-43cd-ba1c-de6d3191e39f",
   "metadata": {},
   "outputs": [],
   "source": [
    "class Square:\n",
    "    def __init__(self, side):\n",
    "        self._side = side\n",
    "\n",
    "    @property\n",
    "    def side(self):\n",
    "        return self._side\n",
    "\n",
    "    @property\n",
    "    def perimeter(self):\n",
    "        return 4 * self._side\n",
    "\n",
    "    @property\n",
    "    def area(self):\n",
    "        return self._side ** 2\n",
    "\n",
    "    @property\n",
    "    def diagonal(self):\n",
    "        return math.sqrt(2) * self._side"
   ]
  },
  {
   "cell_type": "code",
   "execution_count": 3,
   "id": "38ae5be2-4695-4b17-8900-20c93b8ebef2",
   "metadata": {},
   "outputs": [
    {
     "name": "stdin",
     "output_type": "stream",
     "text": [
      "Enter the side length of the square:  100\n"
     ]
    },
    {
     "name": "stdout",
     "output_type": "stream",
     "text": [
      "Side: 100.0\n",
      "Perimeter: 400.0\n",
      "Area: 10000.0\n",
      "Diagonal: 141.4213562373095\n"
     ]
    }
   ],
   "source": [
    "side = float(input(\"Enter the side length of the square: \"))\n",
    "square = Square(side)\n",
    "\n",
    "print(f\"Side: {square.side}\")\n",
    "print(f\"Perimeter: {square.perimeter}\")\n",
    "print(f\"Area: {square.area}\")\n",
    "print(f\"Diagonal: {square.diagonal}\")"
   ]
  }
 ],
 "metadata": {
  "kernelspec": {
   "display_name": "Python 3 (ipykernel)",
   "language": "python",
   "name": "python3"
  },
  "language_info": {
   "codemirror_mode": {
    "name": "ipython",
    "version": 3
   },
   "file_extension": ".py",
   "mimetype": "text/x-python",
   "name": "python",
   "nbconvert_exporter": "python",
   "pygments_lexer": "ipython3",
   "version": "3.12.7"
  }
 },
 "nbformat": 4,
 "nbformat_minor": 5
}
