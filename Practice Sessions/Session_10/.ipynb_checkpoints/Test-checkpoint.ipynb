{
 "cells": [
  {
   "cell_type": "code",
   "execution_count": 2,
   "id": "2c3572bf-d384-4910-9dd6-f967b945f498",
   "metadata": {},
   "outputs": [],
   "source": [
    "import numpy as np"
   ]
  },
  {
   "cell_type": "code",
   "execution_count": 3,
   "id": "1bc87f97-1297-4199-a31a-41de221e0b9f",
   "metadata": {},
   "outputs": [
    {
     "name": "stdout",
     "output_type": "stream",
     "text": [
      "a + b: [10, 5, 20, 15, 5, 25]\n",
      "a * 4: [10, 5, 20, 10, 5, 20, 10, 5, 20, 10, 5, 20]\n"
     ]
    }
   ],
   "source": [
    "# lists\n",
    "a = [10, 5, 20]\n",
    "b = [15, 5, 25]\n",
    "\n",
    "print(f\"a + b: {a + b}\\na * 4: {a * 4}\")"
   ]
  },
  {
   "cell_type": "code",
   "execution_count": 8,
   "id": "4e6a1597-d08e-4c01-90f9-66d3d155c7bb",
   "metadata": {},
   "outputs": [
    {
     "name": "stdout",
     "output_type": "stream",
     "text": [
      "a: [4.  3.  6.  1.  5.  5.5]\n",
      "b:\n",
      "[[20 50]\n",
      " [30 10]]\n",
      "\n",
      "c:\n",
      "['4' '5' 'M']\n",
      "\n",
      "type(a): <class 'numpy.ndarray'>\n",
      "a.dtype: float64\n",
      "b.dtype: int32\n",
      "c.dtype: <U11\n",
      "\n",
      "a.ndim: 1\n",
      "b.ndim: 2\n",
      "\n",
      "a.shape: (6,)\n",
      "b.shape: (2, 2)\n",
      "\n",
      "a.size: 6\n",
      "b.itemsize: 4\n",
      "\n",
      "Elements of b: \n",
      "[20 50] [30 10] "
     ]
    }
   ],
   "source": [
    "# arrays\n",
    "\n",
    "a = np.array([4, 3, 6, 1, 5, 5.5])\n",
    "print(f\"a: {a}\")\n",
    "\n",
    "b = np.array([ [20, 50], [30, 10] ])\n",
    "print(f\"b:\\n{b}\\n\")\n",
    "\n",
    "c = np.array([4,5,\"M\"])\n",
    "print(f\"c:\\n{c}\\n\")\n",
    "\n",
    "print(f\"type(a): {type(a)}\")\n",
    "\n",
    "print(f\"a.dtype: {a.dtype}\")\n",
    "print(f\"b.dtype: {b.dtype}\")\n",
    "print(f\"c.dtype: {c.dtype}\\n\")\n",
    "\n",
    "print(f\"a.ndim: {a.ndim}\")\n",
    "print(f\"b.ndim: {b.ndim}\\n\")\n",
    "\n",
    "print(f\"a.shape: {a.shape}\")\n",
    "print(f\"b.shape: {b.shape}\\n\")\n",
    "\n",
    "print(f\"a.size: {a.size}\")\n",
    "print(f\"b.itemsize: {b.itemsize}\\n\")\n",
    "\n",
    "print(f\"Elements of b: \")\n",
    "for i in b:\n",
    "    print(i, end = ' ')"
   ]
  },
  {
   "cell_type": "code",
   "execution_count": 18,
   "id": "b94820d9-e208-43b4-9951-e7ea005d0167",
   "metadata": {},
   "outputs": [
    {
     "name": "stdout",
     "output_type": "stream",
     "text": [
      "zeros: [0. 0. 0. 0. 0.]\n",
      "\n",
      "zeros2d: \n",
      "[[0. 0. 0. 0. 0. 0.]\n",
      " [0. 0. 0. 0. 0. 0.]\n",
      " [0. 0. 0. 0. 0. 0.]]\n",
      "\n",
      "full: [22 22 22 22 22]\n",
      "\n",
      "full2d: \n",
      "[[35 35 35 35]\n",
      " [35 35 35 35]]\n",
      "\n",
      "range_arr1: [0 1 2 3 4 5 6 7]\n",
      "range_arr2: [2 3 4 5 6]\n",
      "range_arr3: [ 3  5  7  9 11 13 15 17]\n",
      "\n",
      "linspace_arr1: [ 5.          5.10204082  5.20408163  5.30612245  5.40816327  5.51020408\n",
      "  5.6122449   5.71428571  5.81632653  5.91836735  6.02040816  6.12244898\n",
      "  6.2244898   6.32653061  6.42857143  6.53061224  6.63265306  6.73469388\n",
      "  6.83673469  6.93877551  7.04081633  7.14285714  7.24489796  7.34693878\n",
      "  7.44897959  7.55102041  7.65306122  7.75510204  7.85714286  7.95918367\n",
      "  8.06122449  8.16326531  8.26530612  8.36734694  8.46938776  8.57142857\n",
      "  8.67346939  8.7755102   8.87755102  8.97959184  9.08163265  9.18367347\n",
      "  9.28571429  9.3877551   9.48979592  9.59183673  9.69387755  9.79591837\n",
      "  9.89795918 10.        ]\n",
      "\n",
      "linspace_arr2: [ 5.          5.35714286  5.71428571  6.07142857  6.42857143  6.78571429\n",
      "  7.14285714  7.5         7.85714286  8.21428571  8.57142857  8.92857143\n",
      "  9.28571429  9.64285714 10.        ]\n",
      "\n"
     ]
    }
   ],
   "source": [
    "zeros = np.zeros(5)\n",
    "print(f\"zeros: {zeros}\\n\")\n",
    "\n",
    "zeros2d = np.zeros((3, 6))\n",
    "print(f\"zeros2d: \\n{zeros2d}\\n\")\n",
    "\n",
    "full = np.full(5, 22)\n",
    "print(f\"full: {full}\\n\")\n",
    "\n",
    "full2d = np.full((2, 4), 35)\n",
    "print(f\"full2d: \\n{full2d}\\n\")\n",
    "\n",
    "range_arr1 = np.arange(8)\n",
    "print(f\"range_arr1: {range_arr1}\")\n",
    "range_arr2 = np.arange(2, 7)\n",
    "print(f\"range_arr2: {range_arr2}\")\n",
    "range_arr3 = np.arange(3, 19, 2)\n",
    "print(f\"range_arr3: {range_arr3}\\n\")\n",
    "\n",
    "linspace_arr1 = np.linspace(5, 10)\n",
    "print(f\"linspace_arr1: {linspace_arr1}\\n\")\n",
    "linspace_arr2 = np.linspace(5, 10, 15)\n",
    "print(f\"linspace_arr2: {linspace_arr2}\\n\")"
   ]
  },
  {
   "cell_type": "code",
   "execution_count": 28,
   "id": "3a8c3e39-9f28-4c1b-a4cd-9e4cab12a3a4",
   "metadata": {},
   "outputs": [
    {
     "name": "stdout",
     "output_type": "stream",
     "text": [
      "reshape_arr: \n",
      "[[ 4  2  3]\n",
      " [ 8  9 11]]\n",
      "\n",
      "large_array: [    0     1     2 ... 99997 99998 99999]\n",
      "\n",
      "reshaped_array: \n",
      "[[    0     1     2 ...  9997  9998  9999]\n",
      " [10000 10001 10002 ... 19997 19998 19999]\n",
      " [20000 20001 20002 ... 29997 29998 29999]\n",
      " ...\n",
      " [70000 70001 70002 ... 79997 79998 79999]\n",
      " [80000 80001 80002 ... 89997 89998 89999]\n",
      " [90000 90001 90002 ... 99997 99998 99999]]\n"
     ]
    }
   ],
   "source": [
    "# Reshaping arrays\n",
    "arr = np.array([4, 2, 3, 8, 9, 11])\n",
    "reshape_arr = arr.reshape(2,3)\n",
    "print(f\"reshape_arr: \\n{reshape_arr}\\n\")\n",
    "\n",
    "# Displaying large arrays\n",
    "large_array = np.arange(100000)\n",
    "print(f\"large_array: {large_array}\\n\")\n",
    "reshaped_array = large_array.reshape(10, 10000)\n",
    "print(f\"reshaped_array: \\n{reshaped_array}\")"
   ]
  },
  {
   "cell_type": "code",
   "execution_count": 29,
   "id": "986686bb-5c3b-46ce-a25b-9c8610f4d5f4",
   "metadata": {},
   "outputs": [
    {
     "name": "stdout",
     "output_type": "stream",
     "text": [
      "178 ns ± 2.84 ns per loop (mean ± std. dev. of 7 runs, 10,000,000 loops each)\n",
      "422 ns ± 4.83 ns per loop (mean ± std. dev. of 7 runs, 1,000,000 loops each)\n"
     ]
    }
   ],
   "source": [
    "# %timeit\n",
    "%timeit list_ = [i for i in range(5, 10)]\n",
    "%timeit array_ = np.arange(5, 10)"
   ]
  },
  {
   "cell_type": "code",
   "execution_count": 46,
   "id": "0a77af70-ec3b-45b2-8224-9a45bf9a6a50",
   "metadata": {},
   "outputs": [
    {
     "name": "stdout",
     "output_type": "stream",
     "text": [
      "arr1 + arr2: [ 7  3  2 10  8]\n",
      "\n",
      "arr1 ** 2: [ 9  4  1 64 36]\n"
     ]
    },
    {
     "data": {
      "text/plain": [
       "array([ 27,   8,   1, 512, 216], dtype=int32)"
      ]
     },
     "execution_count": 46,
     "metadata": {},
     "output_type": "execute_result"
    }
   ],
   "source": [
    "# array operators\n",
    "\n",
    "# the shapes of both the arrays must be same to perform array operations\n",
    "arr1 = np.array([3, 2, 1, 8, 6])\n",
    "arr2 = np.array([4, 1, 1, 2, 2])\n",
    "\n",
    "print(f\"arr1 + arr2: {arr1 + arr2}\\n\")\n",
    "print(f\"arr1 ** 2: {arr1 ** 2}\")\n",
    "\n",
    "arr3 = arr1 ** 3   # augmented assignments\n",
    "arr3"
   ]
  },
  {
   "cell_type": "code",
   "execution_count": 50,
   "id": "0a2b3440-7b4e-42e9-ba48-9cc659c0a518",
   "metadata": {},
   "outputs": [
    {
     "name": "stdout",
     "output_type": "stream",
     "text": [
      "arr1 > arr2: [False False False  True  True]\n",
      "arr2 >= 3: [ True  True False False False]\n"
     ]
    }
   ],
   "source": [
    "# boolean operators\n",
    "\n",
    "arr1 = np.array([3, 2, 1, 8, 6])\n",
    "arr2 = np.array([8, 4, 1, 2, 2])\n",
    "\n",
    "print(f\"arr1 > arr2: {arr1 > arr2}\")\n",
    "print(f\"arr2 >= 3: {arr2 >= 3}\")"
   ]
  },
  {
   "cell_type": "code",
   "execution_count": 58,
   "id": "f067a923-68bf-43de-a7bd-3876b79e8f95",
   "metadata": {},
   "outputs": [
    {
     "name": "stdout",
     "output_type": "stream",
     "text": [
      "grades.sum(): 29\n",
      "np.sum(grades): 29\n",
      "\n",
      "grades.mean(): 5.8\n",
      "np.mean(grades): 5.8\n",
      "\n",
      "grades.std(): 3.3105890714493698\n",
      "np.std(grades): 3.3105890714493698\n",
      "\n",
      "grades.var(): 10.96\n",
      "np.var(grades): 10.96\n",
      "\n",
      "grades.min(): 2\n",
      "np.min(grades): 2\n",
      "\n",
      "grades.max(): 11\n",
      "np.max(grades): 11\n",
      "\n"
     ]
    }
   ],
   "source": [
    "# NumPy calculation methods\n",
    "\n",
    "grades = np.array([5, 3, 2, 11, 8])\n",
    "print(f\"grades.sum(): {grades.sum()}\")   # using instance method\n",
    "print(f\"np.sum(grades): {np.sum(grades)}\\n\")   # using standalone function\n",
    "\n",
    "print(f\"grades.mean(): {grades.mean()}\")   # using instance method\n",
    "print(f\"np.mean(grades): {np.mean(grades)}\\n\")   # using standalone function\n",
    "\n",
    "print(f\"grades.std(): {grades.std()}\")   # using instance method\n",
    "print(f\"np.std(grades): {np.std(grades)}\\n\")   # using standalone function\n",
    "\n",
    "print(f\"grades.var(): {grades.var()}\")   # using instance method\n",
    "print(f\"np.var(grades): {np.var(grades)}\\n\")   # using standalone function\n",
    "\n",
    "print(f\"grades.min(): {grades.min()}\")   # using instance method\n",
    "print(f\"np.min(grades): {np.min(grades)}\\n\")   # using standalone function\n",
    "\n",
    "print(f\"grades.max(): {grades.max()}\")   # using instance method\n",
    "print(f\"np.max(grades): {np.max(grades)}\\n\")   # using standalone function"
   ]
  },
  {
   "cell_type": "code",
   "execution_count": 68,
   "id": "1deb4dd6-75d3-4d08-a774-d3e6c7dcc25a",
   "metadata": {},
   "outputs": [
    {
     "name": "stdout",
     "output_type": "stream",
     "text": [
      "grades.sum(axis = 0): [ 7  6 36 33 19]\n",
      "grades.sum(axis = 1): [29 72]\n",
      "\n",
      "grades.mean(axis = 0): [ 3.5  3.  18.  16.5  9.5]\n",
      "grades.mean(axis = 1): [ 5.8 14.4]\n",
      "\n",
      "grades.min(axis = 0): [ 2  3  2 11  8]\n",
      "grades.max(axis = 1): [11 34]\n"
     ]
    }
   ],
   "source": [
    "# Calculations by rows or columns\n",
    "\n",
    "grades = np.array([[5, 3, 2, 11, 8], [2, 3, 34, 22, 11]])\n",
    "\n",
    "print(f\"grades.sum(axis = 0): {grades.sum(axis = 0)}\")   # sum of each columns\n",
    "print(f\"grades.sum(axis = 1): {grades.sum(axis = 1)}\\n\")   # sum of each rows\n",
    "\n",
    "print(f\"grades.mean(axis = 0): {grades.mean(axis = 0)}\")\n",
    "print(f\"grades.mean(axis = 1): {grades.mean(axis = 1)}\\n\")\n",
    "\n",
    "print(f\"grades.min(axis = 0): {grades.min(axis = 0)}\")\n",
    "print(f\"grades.max(axis = 1): {grades.max(axis = 1)}\")"
   ]
  },
  {
   "cell_type": "code",
   "execution_count": 147,
   "id": "9b487196-69ff-46ca-8542-9069eea8d438",
   "metadata": {},
   "outputs": [
    {
     "name": "stdout",
     "output_type": "stream",
     "text": [
      "All grades: \n",
      "[[66 88 78 79]\n",
      " [78 68 78 80]\n",
      " [97 85 83 73]]\n",
      "\n",
      "The average of all the grades in each column: [80.33333333 80.33333333 79.66666667 77.33333333]\n",
      "The average of all the grades in each row: [77.75 76.   84.5 ]\n"
     ]
    },
    {
     "data": {
      "text/plain": [
       "0.8939966636005579"
      ]
     },
     "execution_count": 147,
     "metadata": {},
     "output_type": "execute_result"
    }
   ],
   "source": [
    "# random number generation\n",
    "\n",
    "nums = np.random.randint(60, 100, size = 12)\n",
    "# nums2 = np.array(np.random.randint(60, 100, 12))\n",
    "# nums3 = np.array([np.random.randint(60, 100) for _ in range(12)])\n",
    "\n",
    "nums = nums.reshape((3, 4))\n",
    "\n",
    "print(f\"All grades: \\n{nums}\\n\")\n",
    "print(f\"The average of all the grades in each column: {nums.mean(axis = 0)}\")\n",
    "print(f\"The average of all the grades in each row: {nums.mean(axis = 1)}\")"
   ]
  },
  {
   "cell_type": "code",
   "execution_count": 172,
   "id": "6c2df2cf-4abd-4429-bc03-4c6c40264e5f",
   "metadata": {},
   "outputs": [
    {
     "name": "stdout",
     "output_type": "stream",
     "text": [
      "arr[4]: 35\n",
      "arr[2 : 5]: [25 50 35]\n",
      "arr[ : 4]: [45 90 25 50]\n",
      "\n",
      "arr2d[1, 2]: 75\n",
      "\n",
      "arr2d[0 : 2, 0 : 2]: \n",
      "[[20 30]\n",
      " [35 25]]\n",
      "\n",
      "arr2d[ : , : 2]: \n",
      "[[20 30]\n",
      " [35 25]]\n",
      "\n",
      "arr2d[0, 1 : 3]: [30 10]\n",
      "arr2d[ : , 2]: [10 75]\n",
      "\n",
      "arr2d[1, 1 : 4]: [25 75 15]\n",
      "\n",
      "arr2d[ : , [1, 3]: \n",
      "[[30 50]\n",
      " [25 15]]\n"
     ]
    }
   ],
   "source": [
    "# Slicing\n",
    "\n",
    "arr = np.array([45, 90, 25, 50, 35, 70, 15, 30, 65, 130])\n",
    "\n",
    "print(f\"arr[4]: {arr[4]}\")\n",
    "print(f\"arr[2 : 5]: {arr[2 : 5]}\")\n",
    "print(f\"arr[ : 4]: {arr[ : 4]}\\n\")\n",
    "\n",
    "\n",
    "arr2d = np.array([[20, 30, 10, 50], [35, 25, 75, 15]])\n",
    "\n",
    "print(f\"arr2d[1, 2]: {arr2d[1, 2]}\\n\")\n",
    "\n",
    "print(f\"arr2d[0 : 2, 0 : 2]: \\n{arr2d[0 : 2, 0 : 2]}\\n\")\n",
    "\n",
    "print(f\"arr2d[ : , : 2]: \\n{arr2d[ : , : 2]}\\n\")\n",
    "\n",
    "print(f\"arr2d[0, 1 : 3]: {arr2d[0, 1 : 3]}\")\n",
    "\n",
    "print(f\"arr2d[ : , 2]: {arr2d[ : , 2]}\\n\")\n",
    "\n",
    "print(f\"arr2d[1, 1 : 4]: {arr2d[1, 1 : 4]}\\n\")\n",
    "\n",
    "print(f\"arr2d[ : , [1, 3]: \\n{arr2d[ : , [1, 3]]}\")"
   ]
  },
  {
   "cell_type": "code",
   "execution_count": 200,
   "id": "6c482073-9556-4419-9b23-3556eedb01cb",
   "metadata": {},
   "outputs": [
    {
     "name": "stdout",
     "output_type": "stream",
     "text": [
      "arr_:\n",
      "[[ 10  20  30  40  50]\n",
      " [ 60  70  80  90 100]\n",
      " [110 120 130 140 150]]\n",
      "\n",
      "Second row: [ 60  70  80  90 100]\n",
      "\n",
      "First and third rows: \n",
      "[[ 10  20  30  40  50]\n",
      " [110 120 130 140 150]]\n",
      "\n",
      "Middle three columns: \n",
      "[[ 20  30  40]\n",
      " [ 70  80  90]\n",
      " [120 130 140]]\n"
     ]
    }
   ],
   "source": [
    "arr_ = np.arange(10, 151, 10).reshape(3, 5)\n",
    "\n",
    "print(f\"arr_:\\n{arr_}\\n\")\n",
    "print(f\"Second row: {arr_[1]}\\n\")\n",
    "print(f\"First and third rows: \\n{arr_[[0, 2], : ]}\\n\")\n",
    "print(f\"Middle three columns: \\n{arr_[ : , 1 : 4]}\")"
   ]
  },
  {
   "cell_type": "code",
   "execution_count": 213,
   "id": "4fc3c0a9-ac68-4297-963c-346d62ac15d7",
   "metadata": {},
   "outputs": [
    {
     "name": "stdout",
     "output_type": "stream",
     "text": [
      "a: [5 4 3 2 8 9]\n",
      "b: [5 4 3 2 8 9]\n",
      "\n",
      "a: [ 5 44  3  2  8  9]\n",
      "b: [ 5 44  3  2  8  9]\n",
      "\n",
      "\n",
      "a: [ 5 44  3  2  8  9]\n",
      "c: [3 2 8 9]\n",
      "\n",
      "a: [ 5 44  3  2  8 99]\n",
      "c: [ 3  2  8 99]\n"
     ]
    }
   ],
   "source": [
    "# views: shallow copies\n",
    "\n",
    "a = np.array([5, 4, 3, 2, 8, 9])\n",
    "b = a.view()\n",
    "\n",
    "print(f\"a: {a}\")\n",
    "print(f\"b: {b}\\n\")\n",
    "\n",
    "a[1] = 44\n",
    "print(f\"a: {a}\")\n",
    "print(f\"b: {b}\\n\\n\")\n",
    "\n",
    "c = a[2 : ]\n",
    "print(f\"a: {a}\")\n",
    "print(f\"c: {c}\\n\")\n",
    "\n",
    "c[3] = 99\n",
    "print(f\"a: {a}\")\n",
    "print(f\"c: {c}\")"
   ]
  },
  {
   "cell_type": "code",
   "execution_count": 214,
   "id": "dff0a69b-8122-43bd-baac-9463c35f1d2c",
   "metadata": {},
   "outputs": [
    {
     "name": "stdout",
     "output_type": "stream",
     "text": [
      "a: [5 4 3 2 8 9]\n",
      "b: [5 4 3 2 8 9]\n",
      "\n",
      "a: [ 5 44  3  2  8  9]\n",
      "b: [5 4 3 2 8 9]\n",
      "\n",
      "\n"
     ]
    }
   ],
   "source": [
    "# copy: Deep copies\n",
    "\n",
    "a = np.array([5, 4, 3, 2, 8, 9])\n",
    "b = a.copy()\n",
    "\n",
    "print(f\"a: {a}\")\n",
    "print(f\"b: {b}\\n\")\n",
    "\n",
    "a[1] = 44\n",
    "print(f\"a: {a}\")\n",
    "print(f\"b: {b}\\n\\n\")"
   ]
  },
  {
   "cell_type": "code",
   "execution_count": 240,
   "id": "f3c8edcd-380a-4829-937c-9ea2d24367d4",
   "metadata": {},
   "outputs": [
    {
     "name": "stdout",
     "output_type": "stream",
     "text": [
      "a.reshape((2,3)):\n",
      "[[2 3 4]\n",
      " [5 6 8]]\n",
      "\n",
      "a: \n",
      "[2 3 4 5 6 8]\n",
      "\n",
      "a: \n",
      "[[2 3 4]\n",
      " [5 6 8]]\n",
      "\n",
      "b: \n",
      "[[ 5  3  1  9]\n",
      " [88 25 15 20]]\n",
      "\n",
      "c: [ 5  3  1  9 88 25 15 20]\n",
      "\n",
      "b: [[ 5  3  1  9]\n",
      " [88 25 15 20]]\n"
     ]
    }
   ],
   "source": [
    "# Reshaping arrays\n",
    "\n",
    "# reshape()\n",
    "a = np.array([2,3,4,5,6,8])\n",
    "print(f\"a.reshape((2,3)):\\n{a.reshape((2,3))}\\n\")  # shallow copy of the original array\n",
    "\n",
    "print(f\"a: \\n{a}\\n\")\n",
    "\n",
    "# resize()\n",
    "a.resize((2,3))   # modifies the original array's shape\n",
    "print(f\"a: \\n{a}\\n\")\n",
    "\n",
    "\n",
    "b = np.array([[5,3,1,9], [88,25,15,20]])\n",
    "# flatten()   # shallow copy of the original array\n",
    "c = b.flatten()\n",
    "\n",
    "print(f\"b: \\n{b}\\n\")\n",
    "print(f\"c: {c}\\n\")\n",
    "\n",
    "# ravel()   # modifies the original array's shape\n",
    "b.ravel()\n",
    "print(f\"b: {b}\")"
   ]
  },
  {
   "cell_type": "code",
   "execution_count": 245,
   "id": "ef55b89b-cc1b-4b60-aceb-f5e0d5a35e9d",
   "metadata": {},
   "outputs": [
    {
     "data": {
      "text/plain": [
       "array([[ 1,  7],\n",
       "       [ 2,  8],\n",
       "       [ 3,  9],\n",
       "       [ 4, 10],\n",
       "       [ 5, 11]])"
      ]
     },
     "execution_count": 245,
     "metadata": {},
     "output_type": "execute_result"
    }
   ],
   "source": [
    "# Transposing\n",
    "\n",
    "a = np.array([[1,2,3,4,5], [7,8,9,10,11]])\n",
    "a.T   # transpose\n",
    "# a.T.T   # transpose of transpose(original array)"
   ]
  },
  {
   "cell_type": "code",
   "execution_count": 261,
   "id": "9ac47d8f-3af8-4c1a-a8a4-6ec8fa9e57d2",
   "metadata": {},
   "outputs": [
    {
     "name": "stdout",
     "output_type": "stream",
     "text": [
      "horizontal stack: \n",
      "[[100  96  70  94  77  90  14  33  44  55]\n",
      " [100  87  90 100  81  82  18  88  99  77]]\n",
      "\n",
      "vertical stack: \n",
      "[[100  96  70]\n",
      " [100  87  90]\n",
      " [ 33  44  55]\n",
      " [ 88  99  77]\n",
      " [  1   2   3]\n",
      " [  4   5   6]]\n"
     ]
    }
   ],
   "source": [
    "# horizontal and vertical stacking\n",
    "\n",
    "grades = np.array ([[100 , 96 , 70] , [100 , 87 , 90]])\n",
    "grades2 = np.array ([[94 , 77 , 90, 14] , [100 , 81 , 82, 18]])\n",
    "grades3 = np.array([[33, 44, 55], [88, 99, 77]])\n",
    "grades4 = np.array([[1,2,3], [4,5,6]])\n",
    "\n",
    "hor = np.hstack((grades, grades2, grades3))    # horizontal stacking needs both the arrays to have the same no. of rows\n",
    "print(f\"horizontal stack: \\n{hor}\\n\")\n",
    "\n",
    "ver = np.vstack((grades, grades3, grades4))   # vertical stacking needs both the arrays to have the same no. of columns\n",
    "print(f\"vertical stack: \\n{ver}\")"
   ]
  }
 ],
 "metadata": {
  "kernelspec": {
   "display_name": "Python 3 (ipykernel)",
   "language": "python",
   "name": "python3"
  },
  "language_info": {
   "codemirror_mode": {
    "name": "ipython",
    "version": 3
   },
   "file_extension": ".py",
   "mimetype": "text/x-python",
   "name": "python",
   "nbconvert_exporter": "python",
   "pygments_lexer": "ipython3",
   "version": "3.12.7"
  }
 },
 "nbformat": 4,
 "nbformat_minor": 5
}
