{
 "cells": [
  {
   "cell_type": "code",
   "execution_count": 2,
   "id": "2c3572bf-d384-4910-9dd6-f967b945f498",
   "metadata": {},
   "outputs": [],
   "source": [
    "import numpy as np"
   ]
  },
  {
   "cell_type": "code",
   "execution_count": 3,
   "id": "1bc87f97-1297-4199-a31a-41de221e0b9f",
   "metadata": {},
   "outputs": [
    {
     "name": "stdout",
     "output_type": "stream",
     "text": [
      "a + b: [10, 5, 20, 15, 5, 25]\n",
      "a * 4: [10, 5, 20, 10, 5, 20, 10, 5, 20, 10, 5, 20]\n"
     ]
    }
   ],
   "source": [
    "# lists\n",
    "a = [10, 5, 20]\n",
    "b = [15, 5, 25]\n",
    "\n",
    "print(f\"a + b: {a + b}\\na * 4: {a * 4}\")"
   ]
  },
  {
   "cell_type": "code",
   "execution_count": 25,
   "id": "4e6a1597-d08e-4c01-90f9-66d3d155c7bb",
   "metadata": {},
   "outputs": [
    {
     "name": "stdout",
     "output_type": "stream",
     "text": [
      "a: [4 3 6 1 5]\n",
      "b:\n",
      "[[20 50]\n",
      " [30 10]]\n",
      "\n",
      "type(a): <class 'numpy.ndarray'>\n",
      "a.dtype: int32\n",
      "b.dtype: int32\n",
      "\n",
      "a.ndim: 1\n",
      "b.ndim: 2\n",
      "\n",
      "a.shape: (5,)\n",
      "b.shape: (2, 2)\n",
      "\n",
      "a.size: 5\n",
      "b.itemsize: 4\n",
      "\n",
      "Elements of b: \n",
      "[20 50] [30 10] "
     ]
    }
   ],
   "source": [
    "# arrays\n",
    "\n",
    "a = np.array([4, 3, 6, 1, 5])\n",
    "print(f\"a: {a}\")\n",
    "\n",
    "b = np.array([ [20, 50], [30, 10] ])\n",
    "print(f\"b:\\n{b}\\n\")\n",
    "\n",
    "print(f\"type(a): {type(a)}\")\n",
    "\n",
    "print(f\"a.dtype: {a.dtype}\")\n",
    "print(f\"b.dtype: {b.dtype}\\n\")\n",
    "\n",
    "print(f\"a.ndim: {a.ndim}\")\n",
    "print(f\"b.ndim: {b.ndim}\\n\")\n",
    "\n",
    "print(f\"a.shape: {a.shape}\")\n",
    "print(f\"b.shape: {b.shape}\\n\")\n",
    "\n",
    "print(f\"a.size: {a.size}\")\n",
    "print(f\"b.itemsize: {b.itemsize}\\n\")\n",
    "\n",
    "print(f\"Elements of b: \")\n",
    "for i in b:\n",
    "    print(i, end = ' ')"
   ]
  },
  {
   "cell_type": "code",
   "execution_count": 39,
   "id": "b94820d9-e208-43b4-9951-e7ea005d0167",
   "metadata": {},
   "outputs": [
    {
     "name": "stdout",
     "output_type": "stream",
     "text": [
      "zeros: [0. 0. 0. 0. 0.]\n",
      "\n",
      "zeros2d: \n",
      "[[0. 0. 0. 0. 0. 0.]\n",
      " [0. 0. 0. 0. 0. 0.]\n",
      " [0. 0. 0. 0. 0. 0.]]\n",
      "\n",
      "full: [22 22 22 22 22]\n",
      "\n",
      "full2d: \n",
      "[[35 35 35 35]\n",
      " [35 35 35 35]]\n"
     ]
    }
   ],
   "source": [
    "zeros = np.zeros(5)\n",
    "print(f\"zeros: {zeros}\\n\")\n",
    "\n",
    "zeros2d = np.zeros((3, 6))\n",
    "print(f\"zeros2d: \\n{zeros2d}\\n\")\n",
    "\n",
    "full = np.full(5, 22)\n",
    "print(f\"full: {full}\\n\")\n",
    "\n",
    "full2d = np.full((2, 4), 35)\n",
    "print(f\"full2d: \\n{full2d}\")"
   ]
  },
  {
   "cell_type": "code",
   "execution_count": 54,
   "id": "6c2df2cf-4abd-4429-bc03-4c6c40264e5f",
   "metadata": {},
   "outputs": [
    {
     "name": "stdout",
     "output_type": "stream",
     "text": [
      "arr[2 : 5]: [25 50 35]\n",
      "arr[ : 4]: [45 90 25 50]\n",
      "arr2d[0 : 2, 0 : 2]: \n",
      "[[20 30]\n",
      " [35 25]]\n",
      "\n",
      "arr2d[0, 1 : 3]: \n",
      "[30 10]\n",
      "arr[ : , 2]: [10 75]\n",
      "\n"
     ]
    }
   ],
   "source": [
    "# Slicing\n",
    "\n",
    "arr = np.array([45, 90, 25, 50, 35, 70, 15, 30, 65, 130])\n",
    "\n",
    "print(f\"arr[2 : 5]: {arr[2 : 5]}\")\n",
    "print(f\"arr[ : 4]: {arr[ : 4]}\")\n",
    "\n",
    "\n",
    "arr2d = np.array([[20, 30, 10, 50], [35, 25, 75, 15]])\n",
    "\n",
    "print(f\"arr2d[0 : 2, 0 : 2]: \\n{arr2d[0 : 2, 0 : 2]}\\n\")\n",
    "print(f\"arr2d[0, 1 : 3]: \\n{arr2d[0, 1 : 3]}\")\n",
    "print(f\"arr[ : , 2]: {arr2d[ : , 2]}\\n\")"
   ]
  },
  {
   "cell_type": "code",
   "execution_count": null,
   "id": "986686bb-5c3b-46ce-a25b-9c8610f4d5f4",
   "metadata": {},
   "outputs": [],
   "source": []
  }
 ],
 "metadata": {
  "kernelspec": {
   "display_name": "Python 3 (ipykernel)",
   "language": "python",
   "name": "python3"
  },
  "language_info": {
   "codemirror_mode": {
    "name": "ipython",
    "version": 3
   },
   "file_extension": ".py",
   "mimetype": "text/x-python",
   "name": "python",
   "nbconvert_exporter": "python",
   "pygments_lexer": "ipython3",
   "version": "3.12.7"
  }
 },
 "nbformat": 4,
 "nbformat_minor": 5
}
