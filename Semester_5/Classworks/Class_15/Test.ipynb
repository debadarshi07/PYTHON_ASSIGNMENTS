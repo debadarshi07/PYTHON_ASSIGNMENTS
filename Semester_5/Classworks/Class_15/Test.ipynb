{
 "cells": [
  {
   "cell_type": "code",
   "execution_count": 8,
   "id": "4f512910-4743-4aa0-8635-62bd0db8bcaa",
   "metadata": {},
   "outputs": [
    {
     "name": "stdout",
     "output_type": "stream",
     "text": [
      "[2, 30, 3, 1, 54, 3, 2, 36]\n",
      "[2, 30, 3, 1, 54, 3, 2, 36, 69]\n",
      "[2, 30, 3, 1, 54, 3, 2, 36, 69, 45, 18]\n",
      "[2, 30, 3, 1, 3, 2, 36, 69, 45, 18]\n",
      "frequency of 3 in list 2\n",
      "[18, 45, 69, 36, 2, 3, 1, 3, 30, 2]\n",
      "[18, 45, 69, 36, 2, 3, 1, 3, 30, 2]\n"
     ]
    }
   ],
   "source": [
    "# Other List Methods\n",
    "\n",
    "list1 = [2,3,1,54,3,2,36]\n",
    "\n",
    "list1.insert(1,30)\n",
    "print(list1)\n",
    "\n",
    "list1.append(69)\n",
    "print(list1)\n",
    "\n",
    "list1.extend([45, 18])\n",
    "print(list1)\n",
    "\n",
    "list1.remove(54)\n",
    "print(list1)\n",
    "\n",
    "# list1.clear()\n",
    "# print(list)\n",
    "\n",
    "print(f\"frequency of 3 in list1 {list1.count(3)}\")\n",
    "\n",
    "list1.reverse()\n",
    "print(list1)\n",
    "\n",
    "list2 = list1.copy()\n",
    "print(list2)"
   ]
  },
  {
   "cell_type": "code",
   "execution_count": 11,
   "id": "898f2693-afb4-4930-a3c1-765612ea08f5",
   "metadata": {},
   "outputs": [
    {
     "name": "stdout",
     "output_type": "stream",
     "text": [
      "[1, 2, 3]\n",
      "Popped element is: 3\n",
      "[1, 2]\n"
     ]
    }
   ],
   "source": [
    "# Stack implementation using python list\n",
    "\n",
    "stack = []\n",
    "\n",
    "stack.append(1)\n",
    "stack.append(2)\n",
    "stack.append(3)\n",
    "print(stack)\n",
    "\n",
    "print(f\"Popped element is: {stack.pop()}\")\n",
    "print(stack)"
   ]
  },
  {
   "cell_type": "code",
   "execution_count": 16,
   "id": "ed0e4565-a887-4764-bdd0-45553f9c43f1",
   "metadata": {},
   "outputs": [
    {
     "name": "stdout",
     "output_type": "stream",
     "text": [
      "[18, 45, 69, 36, 2, 3, 1, 3, 30, 2]\n",
      "[2, 4, 6, 8, 10, 12, 14, 16, 18, 20, 22, 24, 26, 28, 30, 32, 34, 36, 38, 40, 42, 44, 46, 48, 50, 52, 54, 56, 58, 60, 62, 64, 66, 68, 70, 72, 74, 76, 78, 80, 82, 84, 86, 88, 90, 92, 94, 96, 98, 100]\n",
      "[1, 4, 9, 16, 25, 36, 49, 64, 81, 100]\n"
     ]
    }
   ],
   "source": [
    "# List comprehensions\n",
    "list3 = [i for i in list2]\n",
    "print(list3)\n",
    "\n",
    "list4 = [i for i in range(1, 101) if i % 2 == 0]\n",
    "print(list4)\n",
    "\n",
    "list5 = [i ** 2 for i in range(1, 11)]\n",
    "print(list5)"
   ]
  },
  {
   "cell_type": "code",
   "execution_count": 24,
   "id": "5cfe1c90-5537-48b3-b642-107e501830a7",
   "metadata": {},
   "outputs": [
    {
     "name": "stdout",
     "output_type": "stream",
     "text": [
      "<generator object <genexpr> at 0x7f4489f70860>\n",
      "1 2 3 4 5 6 7 8 9 10 "
     ]
    }
   ],
   "source": [
    "# Generator Expressions\n",
    "\n",
    "gen = (a for a in range(1, 11))\n",
    "print(gen)\n",
    "\n",
    "for el in gen:\n",
    "    print(el, end = \" \")\n"
   ]
  },
  {
   "cell_type": "code",
   "execution_count": 25,
   "id": "4992bbae-a6c4-496e-b1bf-b0b59b1a415f",
   "metadata": {},
   "outputs": [
    {
     "name": "stdout",
     "output_type": "stream",
     "text": [
      "<generator object <genexpr> at 0x7f4489e96400>\n",
      "1\n",
      "2\n",
      "3\n"
     ]
    }
   ],
   "source": [
    "# Generator Expressions\n",
    "\n",
    "gen = (a for a in range(1, 11))\n",
    "print(gen)\n",
    "\n",
    "print(next(gen))\n",
    "print(next(gen))\n",
    "print(next(gen))"
   ]
  },
  {
   "cell_type": "code",
   "execution_count": 17,
   "id": "463abd94-2bf4-4860-a949-e942af55ee72",
   "metadata": {},
   "outputs": [
    {
     "name": "stdout",
     "output_type": "stream",
     "text": [
      "[1, 3, 5, 7, 9, 11, 13, 15, 17, 19, 21, 23, 25, 27, 29, 31, 33, 35, 37, 39, 41, 43, 45, 47, 49, 51, 53, 55, 57, 59, 61, 63, 65, 67, 69, 71, 73, 75, 77, 79, 81, 83, 85, 87, 89, 91, 93, 95, 97, 99]\n",
      "\n",
      "[1, 3, 5, 7, 9, 11, 13, 15, 17, 19, 21, 23, 25, 27, 29, 31, 33, 35, 37, 39, 41, 43, 45, 47, 49, 51, 53, 55, 57, 59, 61, 63, 65, 67, 69, 71, 73, 75, 77, 79, 81, 83, 85, 87, 89, 91, 93, 95, 97, 99]\n",
      "\n",
      "[1, 2, 3, 4, 5, 6, 7, 8, 9, 10]\n",
      "\n",
      "[1, 4, 9, 16, 25, 36, 49, 64, 81, 100]\n"
     ]
    }
   ],
   "source": [
    "# Filter, Map and Reduce\n",
    "\n",
    "def is_odd(x):\n",
    "    return x % 2 != 0\n",
    "\n",
    "odd_nums = list(filter(is_odd, range(1, 100)))\n",
    "print(odd_nums)\n",
    "\n",
    "print()\n",
    "\n",
    "# Lambda\n",
    "even_nums = list(filter(lambda x: x % 2 != 0, range(1, 100)))\n",
    "print(even_nums)\n",
    "\n",
    "print()\n",
    "\n",
    "# Map\n",
    "nums = [1,2,3,4,5,6,7,8,9,10]\n",
    "squared_nums = list(map(lambda x: x ** 2, nums))\n",
    "print(nums)\n",
    "print()\n",
    "print(squared_nums)"
   ]
  },
  {
   "cell_type": "code",
   "execution_count": 22,
   "id": "688d1468-a412-4646-8f98-d6af930010a2",
   "metadata": {},
   "outputs": [
    {
     "name": "stdout",
     "output_type": "stream",
     "text": [
      "[1, 9, 25, 49, 81, 121, 169, 225, 289, 361, 441, 529, 625, 729, 841, 961, 1089, 1225, 1369, 1521, 1681, 1849, 2025, 2209, 2401, 2601, 2809, 3025, 3249, 3481, 3721, 3969, 4225, 4489, 4761, 5041, 5329, 5625, 5929, 6241, 6561, 6889, 7225, 7569, 7921, 8281, 8649, 9025, 9409, 9801]\n"
     ]
    }
   ],
   "source": [
    "nums = list(map(lambda x: x ** 2, range(1, 100)))\n",
    "odd_nums = list(filter(lambda x: x % 2 != 0, nums))\n",
    "print(odd_nums)"
   ]
  },
  {
   "cell_type": "code",
   "execution_count": 24,
   "id": "680525b7-61cb-481c-a08d-d974d1b96930",
   "metadata": {},
   "outputs": [
    {
     "name": "stdout",
     "output_type": "stream",
     "text": [
      "[1, 9, 25, 49, 81, 121, 169, 225, 289, 361, 441, 529, 625, 729, 841, 961, 1089, 1225, 1369, 1521, 1681, 1849, 2025, 2209, 2401, 2601, 2809, 3025, 3249, 3481, 3721, 3969, 4225, 4489, 4761, 5041, 5329, 5625, 5929, 6241, 6561, 6889, 7225, 7569, 7921, 8281, 8649, 9025, 9409, 9801]\n"
     ]
    }
   ],
   "source": [
    "nums = list(filter(lambda x: x % 2 != 0, map(lambda y: y ** 2, range(1, 101))))\n",
    "print(nums)"
   ]
  },
  {
   "cell_type": "code",
   "execution_count": 33,
   "id": "cfd5135b-d1b9-429c-8d15-05e49e7d2e86",
   "metadata": {},
   "outputs": [
    {
     "name": "stdout",
     "output_type": "stream",
     "text": [
      "[[10, 2], 3, 4]\n",
      "[[10, 2], 3, 4]\n",
      "['blazer', 3, 4]\n",
      "[[10, 2], 3, 4]\n",
      "\n",
      "['blazer', 3, 4]\n",
      "['blazer', 3, 4]\n",
      "['Shirt', 3, 4]\n",
      "['blazer', 3, 4]\n"
     ]
    }
   ],
   "source": [
    "# Shallow and Deep copy\n",
    "\n",
    "# Shallow\n",
    "import copy\n",
    "\n",
    "original_list = [[1, 2], 3, 4]\n",
    "copied_list = copy.copy(original_list)\n",
    "\n",
    "original_list[0][0] = 10\n",
    "print(original_list)\n",
    "print(copied_list)\n",
    "\n",
    "original_list[0] = 'blazer'\n",
    "print(original_list)\n",
    "print(copied_list)\n",
    "print()\n",
    "\n",
    "# Deep\n",
    "copied_list = copy.deepcopy(original_list)\n",
    "print(original_list)\n",
    "print(copied_list)\n",
    "\n",
    "original_list[0] = 'Shirt'\n",
    "print(original_list)\n",
    "print(copied_list)\n"
   ]
  },
  {
   "cell_type": "code",
   "execution_count": 42,
   "id": "e98423b2-cbcc-46ee-bd02-d7a64f209083",
   "metadata": {},
   "outputs": [
    {
     "name": "stdout",
     "output_type": "stream",
     "text": [
      "[1, 2, 3, 4]\n",
      "['a', 'b', 'c']\n",
      "<zip object at 0x7f1e6d128800>\n",
      "[(1, 'a'), (2, 'b'), (3, 'c')]\n"
     ]
    }
   ],
   "source": [
    "# Zip method\n",
    "\n",
    "list1 = [1, 2, 3, 4]\n",
    "list2 = ['a', 'b', 'c']\n",
    "\n",
    "print(list1)\n",
    "print(list2)\n",
    "\n",
    "zipped_list = zip(list1, list2)\n",
    "print(zipped_list)\n",
    "print(list(zipped_list))"
   ]
  },
  {
   "cell_type": "code",
   "execution_count": 51,
   "id": "bf0c010b-eb81-4d1e-a5b4-e3ed5f505c5c",
   "metadata": {},
   "outputs": [
    {
     "name": "stdout",
     "output_type": "stream",
     "text": [
      "1\t2\t3\t\n",
      "\n",
      "4\t5\t6\t\n",
      "\n",
      "7\t8\t9\t\n",
      "\n"
     ]
    }
   ],
   "source": [
    "matrix = [[1, 2, 3], [4, 5, 6], [7, 8, 9]]\n",
    "\n",
    "for row in matrix:\n",
    "    for column in row:\n",
    "        print(column, end = '\\t')\n",
    "    print('\\n')"
   ]
  },
  {
   "cell_type": "code",
   "execution_count": 58,
   "id": "c909b00b-0ea9-427b-8b30-76d672d99881",
   "metadata": {},
   "outputs": [
    {
     "ename": "NameError",
     "evalue": "name 'text_x' is not defined",
     "output_type": "error",
     "traceback": [
      "\u001b[0;31m---------------------------------------------------------------------------\u001b[0m",
      "\u001b[0;31mNameError\u001b[0m                                 Traceback (most recent call last)",
      "Cell \u001b[0;32mIn[58], line 24\u001b[0m\n\u001b[1;32m     22\u001b[0m     text_y \u001b[38;5;241m=\u001b[39m bar\u001b[38;5;241m.\u001b[39mget_height()\n\u001b[1;32m     23\u001b[0m     text \u001b[38;5;241m=\u001b[39m \u001b[38;5;124mf\u001b[39m\u001b[38;5;124m'\u001b[39m\u001b[38;5;132;01m{\u001b[39;00mfrequency\u001b[38;5;132;01m}\u001b[39;00m\u001b[38;5;130;01m\\n\u001b[39;00m\u001b[38;5;132;01m{\u001b[39;00mfrequency\u001b[38;5;250m \u001b[39m\u001b[38;5;241m/\u001b[39m\u001b[38;5;250m \u001b[39mnum_rolls\u001b[38;5;132;01m:\u001b[39;00m\u001b[38;5;124m 0.3%\u001b[39m\u001b[38;5;132;01m}\u001b[39;00m\u001b[38;5;124m'\u001b[39m\n\u001b[0;32m---> 24\u001b[0m     axes\u001b[38;5;241m.\u001b[39mtext(text_x, text_y, text, fontsize \u001b[38;5;241m=\u001b[39m \u001b[38;5;241m11\u001b[39m, ha \u001b[38;5;241m=\u001b[39m \u001b[38;5;124m'\u001b[39m\u001b[38;5;124mcenter\u001b[39m\u001b[38;5;124m'\u001b[39m, va \u001b[38;5;241m=\u001b[39m \u001b[38;5;124m'\u001b[39m\u001b[38;5;124mbottom\u001b[39m\u001b[38;5;124m'\u001b[39m)\n\u001b[1;32m     26\u001b[0m plt\u001b[38;5;241m.\u001b[39mshow()\n",
      "\u001b[0;31mNameError\u001b[0m: name 'text_x' is not defined"
     ]
    },
    {
     "data": {
      "image/png": "[encoded data removed]",
      "text/plain": [
       "<Figure size 640x480 with 1 Axes>"
      ]
     },
     "metadata": {},
     "output_type": "display_data"
    }
   ],
   "source": [
    "import matplotlib.pyplot as plt\n",
    "import numpy as np\n",
    "import random \n",
    "import seaborn as sns\n",
    "import sys\n",
    "\n",
    "num_rolls = 6000\n",
    "rolls = [random.randrange(1, 7) for _ in range(num_rolls)]\n",
    "\n",
    "values, frequencies = np.unique(rolls, return_counts = True)\n",
    "\n",
    "title = f'Rolling a Six-Sided Die {num_rolls:,} Times'\n",
    "sns.set_style(\"darkgrid\")\n",
    "axes = sns.barplot(x = values, y = frequencies, palette = 'bright')\n",
    "\n",
    "axes.set_title(title)\n",
    "axes.set(xlabel = 'Die Value', ylabel = 'Frequency')\n",
    "\n",
    "axes.set_ylim(top = max(frequencies) * 1.10)\n",
    "for bar, frequency in zip(axes.patches, frequencies):\n",
    "    test_x = bar.get_x() + bar.get_width() / 2.0\n",
    "    text_y = bar.get_height()\n",
    "    text = f'{frequency}\\n{frequency / num_rolls: 0.3%}'\n",
    "    axes.text(text_x, text_y, text, fontsize = 11, ha = 'center', va = 'bottom')\n",
    "\n",
    "plt.show()\n",
    "    "
   ]
  }
 ],
 "metadata": {
  "kernelspec": {
   "display_name": "Python 3 (ipykernel)",
   "language": "python",
   "name": "python3"
  },
  "language_info": {
   "codemirror_mode": {
    "name": "ipython",
    "version": 3
   },
   "file_extension": ".py",
   "mimetype": "text/x-python",
   "name": "python",
   "nbconvert_exporter": "python",
   "pygments_lexer": "ipython3",
   "version": "3.11.7"
  }
 },
 "nbformat": 4,
 "nbformat_minor": 5
}
