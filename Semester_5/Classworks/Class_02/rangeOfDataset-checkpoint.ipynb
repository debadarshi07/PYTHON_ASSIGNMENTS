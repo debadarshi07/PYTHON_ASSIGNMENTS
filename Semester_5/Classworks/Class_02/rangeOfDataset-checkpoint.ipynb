{
 "cells": [
  {
   "cell_type": "code",
   "execution_count": 1,
   "id": "dec14947-d72e-4e1b-9bac-198bcbf30a93",
   "metadata": {},
   "outputs": [
    {
     "name": "stdout",
     "output_type": "stream",
     "text": [
      "The range of the dataset is: [ 2 , 5 ]\n"
     ]
    }
   ],
   "source": [
    "x = [4, 2, 2.1, 3, 5, 4.5]\n",
    "min = min(x)\n",
    "max = max(x)\n",
    "\n",
    "print(\"The range of the dataset is: [\", min , \",\" , max, \"]\")\n"
   ]
  }
 ],
 "metadata": {
  "kernelspec": {
   "display_name": "Python 3 (ipykernel)",
   "language": "python",
   "name": "python3"
  },
  "language_info": {
   "codemirror_mode": {
    "name": "ipython",
    "version": 3
   },
   "file_extension": ".py",
   "mimetype": "text/x-python",
   "name": "python",
   "nbconvert_exporter": "python",
   "pygments_lexer": "ipython3",
   "version": "3.11.7"
  }
 },
 "nbformat": 4,
 "nbformat_minor": 5
}
