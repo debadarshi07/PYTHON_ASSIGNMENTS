{
 "cells": [
  {
   "cell_type": "code",
   "execution_count": 19,
   "id": "02d7cedf-1903-446a-8807-24ba6a282ef1",
   "metadata": {},
   "outputs": [
    {
     "name": "stdout",
     "output_type": "stream",
     "text": [
      "[1, 2, 8, 4, 6]\n",
      "ID of list is: 140325411740672\n",
      "[1, 100, 8, 4, 6]\n",
      "ID of list is: 140325411740672\n",
      "\n",
      "[1, 100, 8, 4, 6, 'd', 'e', 'b', 'a']\n",
      "[1, 100, 8, 4, 6, 'd', 'e', 'b', 'a', 'abcd']\n"
     ]
    }
   ],
   "source": [
    "# List in python\n",
    "\n",
    "list = [1,2,8,4,6]\n",
    "\n",
    "print(list)\n",
    "print(f\"ID of list is: {id(list)}\")\n",
    "\n",
    "list[1] = 100\n",
    "print(list)\n",
    "\n",
    "print(f\"ID of list is: {id(list)}\\n\")\n",
    "\n",
    "# append to list\n",
    "# list += [5]\n",
    "# print(list)\n",
    "\n",
    "# list += [x for x in 'abcd']\n",
    "# print(list)\n",
    "\n",
    "list += 'deba'\n",
    "print(list)\n",
    "list += ['abcd']\n",
    "print(list)"
   ]
  },
  {
   "cell_type": "code",
   "execution_count": 27,
   "id": "5172a7e9-489e-4916-8a07-45eff956d961",
   "metadata": {},
   "outputs": [
    {
     "name": "stdout",
     "output_type": "stream",
     "text": [
      "list1 < list2 : True\n",
      "list1 == list2 : False\n",
      "list1 > list2 : False\n"
     ]
    }
   ],
   "source": [
    "list1 = [10,20,30,40]\n",
    "list2 = [400, 50, 60, 70]\n",
    "print(f\"list1 < list2 : {list1 < list2}\")\n",
    "print(f\"list1 == list2 : {list1 == list2}\")\n",
    "print(f\"list1 > list2 : {list1 > list2}\")"
   ]
  },
  {
   "cell_type": "code",
   "execution_count": 37,
   "id": "b2876765-7c87-439b-9fa7-b2b63f892541",
   "metadata": {},
   "outputs": [
    {
     "name": "stdout",
     "output_type": "stream",
     "text": [
      "tup1[1]: 2\n",
      "list: [8, 7, 5, 4, 1]\n",
      "140325412940560\n",
      "140325410114336\n"
     ]
    }
   ],
   "source": [
    "# Tuple in python\n",
    "\n",
    "tup1 = (1,2,3,4)\n",
    "tup2 = 1,\n",
    "\n",
    "print(f\"tup1[1]: {tup1[1]}\")\n",
    "\n",
    "list = [8,7,5,4]\n",
    "list += tup2\n",
    "print(f\"list: {list}\")\n",
    "\n",
    "print(f\"{id(tup1)}\")\n",
    "tup1 += (20, 20)\n",
    "print(f\"{id(tup1)}\")"
   ]
  },
  {
   "cell_type": "code",
   "execution_count": 38,
   "id": "10f6a808-b087-4c79-8219-31be147e084d",
   "metadata": {},
   "outputs": [
    {
     "name": "stdout",
     "output_type": "stream",
     "text": [
      "tup: ('Debadarshi', 'Black', [1, 2, 3])\n",
      "id(tup): 140325408272896\n",
      "tup: ('Debadarshi', 'Black', [10, 2, 3])\n",
      "id(tup): 140325408272896\n"
     ]
    }
   ],
   "source": [
    "tup = ('Debadarshi', 'Black', [1,2,3])\n",
    "print(f\"tup: {tup}\")\n",
    "print(f\"id(tup): {id(tup)}\")\n",
    "\n",
    "tup[2][0] = 10\n",
    "print(f\"tup: {tup}\")\n",
    "print(f\"id(tup): {id(tup)}\")"
   ]
  },
  {
   "cell_type": "code",
   "execution_count": 46,
   "id": "44d649aa-8162-4d89-aeaf-266296f577b2",
   "metadata": {},
   "outputs": [
    {
     "name": "stdout",
     "output_type": "stream",
     "text": [
      "x: 1, y: 2 and z: 3\n",
      "x: 1, y: 2 and z: 3\n",
      "x: D, y: e and z: b\n"
     ]
    }
   ],
   "source": [
    "# Unpacking\n",
    "\n",
    "list = [1,2,3]\n",
    "x, y, z = list\n",
    "print(f\"x: {x}, y: {y} and z: {z}\")\n",
    "\n",
    "tup = (1,2,3)\n",
    "x, y, z = tup\n",
    "print(f\"x: {x}, y: {y} and z: {z}\")\n",
    "\n",
    "string = 'Deb'\n",
    "x, y, z = string\n",
    "print(f\"x: {x}, y: {y} and z: {z}\")"
   ]
  },
  {
   "cell_type": "code",
   "execution_count": 47,
   "id": "e38eb8fc-efd0-47f3-b550-41a77699e5bb",
   "metadata": {},
   "outputs": [
    {
     "name": "stdout",
     "output_type": "stream",
     "text": [
      "x: 20, y: 10\n"
     ]
    }
   ],
   "source": [
    "# Swapping\n",
    "\n",
    "x, y = 10, 20\n",
    "x, y = y, x\n",
    "print(f\"x: {x}, y: {y}\")"
   ]
  },
  {
   "cell_type": "code",
   "execution_count": 53,
   "id": "c58e4a68-08be-4257-9985-4ca600aff7ec",
   "metadata": {},
   "outputs": [
    {
     "name": "stdout",
     "output_type": "stream",
     "text": [
      "index: 0 => color: red\n",
      "index: 1 => color: blue\n",
      "index: 2 => color: black\n",
      "index: 3 => color: pink\n",
      "\n",
      "(0, 'red')\n",
      "(1, 'blue')\n",
      "(2, 'black')\n",
      "(3, 'pink')\n",
      "\n"
     ]
    }
   ],
   "source": [
    "# enumerate \n",
    "\n",
    "colors = ['red', 'blue', 'black', 'pink']\n",
    "\n",
    "for index, color in enumerate(colors):\n",
    "    print(f\"index: {index} => color: {color}\")\n",
    "\n",
    "print()\n",
    "\n",
    "for color in enumerate(colors):\n",
    "    print(color)"
   ]
  },
  {
   "cell_type": "code",
   "execution_count": 58,
   "id": "9823abed-e1d6-421d-aa30-153ab98e4750",
   "metadata": {},
   "outputs": [
    {
     "name": "stdout",
     "output_type": "stream",
     "text": [
      "index\tvalue\tbar\n",
      "0\t5\t*****\n",
      "1\t8\t********\n",
      "2\t6\t******\n",
      "3\t4\t****\n",
      "4\t2\t**\n"
     ]
    }
   ],
   "source": [
    "list = [5, 8, 6, 4, 2]\n",
    "print(f\"index\\tvalue\\tbar\")\n",
    "for index, value in enumerate(list):\n",
    "    print(f\"{index}\\t{value}\\t{'*' * value}\")"
   ]
  },
  {
   "cell_type": "code",
   "execution_count": 66,
   "id": "74b520da-95bc-41c4-902f-0f4e5b90bd42",
   "metadata": {},
   "outputs": [
    {
     "name": "stdout",
     "output_type": "stream",
     "text": [
      "[5, 8]\n",
      "[8, 4, 7]\n",
      "[4, 2, 7, 3, 5]\n"
     ]
    }
   ],
   "source": [
    "# Slicing\n",
    "list = [5, 8, 6, 4, 2, 7, 3, 5]\n",
    "print(list[ : 2 : ])\n",
    "print(list[1 : 6 : 2])\n",
    "print(list[3 : ])"
   ]
  },
  {
   "cell_type": "code",
   "execution_count": 72,
   "id": "d4634607-3de1-4945-8566-a1bd44bf5806",
   "metadata": {},
   "outputs": [
    {
     "name": "stdout",
     "output_type": "stream",
     "text": [
      "[5, 6, 2]\n",
      "[2, 4, 6, 8, 5]\n",
      "[5, 8, 6, 4, 2]\n",
      "[2, 4, 6, 8, 5]\n",
      "[8, 6, 4]\n"
     ]
    }
   ],
   "source": [
    "list = [5, 8, 6, 4, 2]\n",
    "\n",
    "print(list[ : : 2])\n",
    "print(list[::-1])\n",
    "print(list)\n",
    "\n",
    "list = list[::-1]\n",
    "print(list)\n",
    "\n",
    "print(list[-2 : -5 : -1])"
   ]
  },
  {
   "cell_type": "code",
   "execution_count": 75,
   "id": "1f8f6426-be80-410e-90b0-4da3b13a70c6",
   "metadata": {},
   "outputs": [
    {
     "name": "stdout",
     "output_type": "stream",
     "text": [
      "[1, 2, 30, 40, 50, 60, 7]\n",
      "[]\n"
     ]
    }
   ],
   "source": [
    "# Update a portion of list\n",
    "\n",
    "list = [1,2,3,4,5,6,7]\n",
    "list[2:6] = [30, 40, 50, 60]\n",
    "print(list)\n",
    "\n",
    "# Empty the list\n",
    "list[:] = []\n",
    "print(list)"
   ]
  },
  {
   "cell_type": "code",
   "execution_count": 78,
   "id": "073af4a7-4a43-4d41-9e8f-0fbdfb747c25",
   "metadata": {},
   "outputs": [
    {
     "name": "stdout",
     "output_type": "stream",
     "text": [
      "4\n",
      "[6, 2, 3, 4, 5]\n"
     ]
    }
   ],
   "source": [
    "def f(list):\n",
    "    list[0] = 6\n",
    "    return list\n",
    "def f2(n):\n",
    "    n = 5\n",
    "n = 4\n",
    "f2(n)d\n",
    "print(n)\n",
    "\n",
    "list = [1,2,3,4,5]\n",
    "print(f(list))"
   ]
  },
  {
   "cell_type": "code",
   "execution_count": 85,
   "id": "1bd4a464-7043-4c2b-b1ca-494e403260e9",
   "metadata": {},
   "outputs": [
    {
     "name": "stdout",
     "output_type": "stream",
     "text": [
      "[5, 3, 6, 2, 3, 1]\n",
      "[1, 2, 3, 3, 5, 6]\n",
      "[6, 5, 3, 3, 2, 1]\n"
     ]
    }
   ],
   "source": [
    "# sort list\n",
    "\n",
    "list = [5,3,6,2,3,1]\n",
    "# list.sort()\n",
    "print(list)\n",
    "\n",
    "list_sorted = sorted(list)\n",
    "print(list_sorted)\n",
    "list_sorted = sorted(list, reverse = True)\n",
    "print(list_sorted)s"
   ]
  },
  {
   "cell_type": "code",
   "execution_count": null,
   "id": "d6e42416-ca50-4aac-b223-f54d834903ce",
   "metadata": {},
   "outputs": [],
   "source": []
  }
 ],
 "metadata": {
  "kernelspec": {
   "display_name": "Python 3 (ipykernel)",
   "language": "python",
   "name": "python3"
  },
  "language_info": {
   "codemirror_mode": {
    "name": "ipython",
    "version": 3
   },
   "file_extension": ".py",
   "mimetype": "text/x-python",
   "name": "python",
   "nbconvert_exporter": "python",
   "pygments_lexer": "ipython3",
   "version": "3.11.7"
  }
 },
 "nbformat": 4,
 "nbformat_minor": 5
}
