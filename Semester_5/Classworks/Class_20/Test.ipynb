{
 "cells": [
  {
   "cell_type": "code",
   "execution_count": 17,
   "id": "4952bafc-578a-4c6e-958f-6e8f6167dafb",
   "metadata": {},
   "outputs": [
    {
     "name": "stdout",
     "output_type": "stream",
     "text": [
      "2\n",
      "[[1 2]\n",
      " [2 3]\n",
      " [4 5]]\n"
     ]
    }
   ],
   "source": [
    "import numpy as np\n",
    "\n",
    "a = np.array([[1, 2], [2, 3], [4,5]])\n",
    "print(a.ndim)\n",
    "print(a)"
   ]
  },
  {
   "cell_type": "code",
   "execution_count": 18,
   "id": "7dc1f1e9-ef69-4582-8753-aa0c6f75fe2c",
   "metadata": {},
   "outputs": [
    {
     "name": "stdout",
     "output_type": "stream",
     "text": [
      "b:\n",
      "[[ 10  20  30  40  50]\n",
      " [ 60  70  80  90 100]\n",
      " [110 120 130 140 150]]\n",
      "\n",
      "b[1]: [ 60  70  80  90 100]\n",
      "\n",
      "b[[0, 2]]:\n",
      "[[ 10  20  30  40  50]\n",
      " [110 120 130 140 150]]\n",
      "\n"
     ]
    }
   ],
   "source": [
    "b = np.array([1, 2, 3, 4, 5, 6, 7, 8, 9, 10, 11, 12, 13, 14, 15])\n",
    "b *= 10\n",
    "b = b.reshape(3, 5)\n",
    "print(f\"b:\\n{b}\\n\")\n",
    "\n",
    "a = b[1]\n",
    "print(f\"b[1]: {a}\\n\")\n",
    "\n",
    "c = b[[0, 2]]\n",
    "print(f\"b[[0, 2]]:\\n{c}\\n\")"
   ]
  },
  {
   "cell_type": "code",
   "execution_count": 19,
   "id": "c9820a95-c799-45cb-a405-4170831513ed",
   "metadata": {},
   "outputs": [
    {
     "name": "stdout",
     "output_type": "stream",
     "text": [
      "a: [ 1  2  3  4  5  6  7  8  9 10]\n",
      "b: [ 1  2  3  4  5  6  7  8  9 10]\n",
      "\n",
      "After modification in array b:\n",
      "a: [100   2   3   4   5   6   7   8   9  10]\n",
      "b: [100   2   3   4   5   6   7   8   9  10]\n",
      "\n",
      "After modification in array a:\n",
      "a: [100 200   3   4   5   6   7   8   9  10]\n",
      "b: [100 200   3   4   5   6   7   8   9  10]\n"
     ]
    }
   ],
   "source": [
    "# Shallow copy\n",
    "a = np.arange(1, 11)\n",
    "print(f\"a: {a}\")\n",
    "\n",
    "b = a.view()\n",
    "print(f\"b: {b}\")\n",
    "\n",
    "b[0] = 100\n",
    "print('\\nAfter modification in array b:')\n",
    "\n",
    "print(f\"a: {a}\")\n",
    "print(f\"b: {b}\")\n",
    "\n",
    "a[1] = 200\n",
    "print('\\nAfter modification in array a:')\n",
    "print(f\"a: {a}\")\n",
    "print(f\"b: {b}\")"
   ]
  },
  {
   "cell_type": "code",
   "execution_count": 20,
   "id": "f83226f0-a0b9-48ed-9ec6-7493cab51a17",
   "metadata": {},
   "outputs": [
    {
     "name": "stdout",
     "output_type": "stream",
     "text": [
      "c: [100 200   3   4   5   6   7   8   9  10]\n",
      "\n",
      "After modification in array c:\n",
      "a: [100 200 300   4   5   6   7   8   9  10]\n",
      "b: [100 200 300   4   5   6   7   8   9  10]\n",
      "c: [100 200 300   4   5   6   7   8   9  10]\n"
     ]
    }
   ],
   "source": [
    "c = a[:]\n",
    "print(f\"c: {c}\")\n",
    "\n",
    "c[2] = 300\n",
    "print('\\nAfter modification in array c:')\n",
    "print(f\"a: {a}\")\n",
    "print(f\"b: {b}\")\n",
    "print(f\"c: {c}\")"
   ]
  },
  {
   "cell_type": "code",
   "execution_count": 21,
   "id": "8ac23442-be81-44b3-8421-81470dda8297",
   "metadata": {},
   "outputs": [
    {
     "name": "stdout",
     "output_type": "stream",
     "text": [
      "d: [100 200 300   4   5   6   7   8   9  10]\n",
      "\n",
      "After modification in array d:\n",
      "a: [100 200 300   4   5   6   7   8   9  10]\n",
      "b: [100 200 300   4   5   6   7   8   9  10]\n",
      "c: [100 200 300   4   5   6   7   8   9  10]\n",
      "d: [100 200 300 400   5   6   7   8   9  10]\n"
     ]
    }
   ],
   "source": [
    "# Deep copy\n",
    "d = a.copy()\n",
    "print(f\"d: {d}\")\n",
    "\n",
    "d[3] = 400\n",
    "print('\\nAfter modification in array d:')\n",
    "print(f\"a: {a}\")\n",
    "print(f\"b: {b}\")\n",
    "print(f\"c: {c}\")\n",
    "print(f\"d: {d}\")"
   ]
  },
  {
   "cell_type": "code",
   "execution_count": 22,
   "id": "b0e37b9c-1374-4931-a32e-c2c36cf9b8c9",
   "metadata": {},
   "outputs": [
    {
     "name": "stdout",
     "output_type": "stream",
     "text": [
      "a: [ 1  2  3  4  5  6  7  8  9 10]\n",
      "b: \n",
      "[[ 1  2  3  4  5]\n",
      " [ 6  7  8  9 10]]\n",
      "\n",
      "After modification in array b:\n",
      "a: [10  2  3  4  5  6  7  8  9 10]\n",
      "b: \n",
      "[[10  2  3  4  5]\n",
      " [ 6  7  8  9 10]]\n",
      "\n",
      "a: [[10  2]\n",
      " [ 3  4]\n",
      " [ 5  6]\n",
      " [ 7  8]\n",
      " [ 9 10]]\n"
     ]
    }
   ],
   "source": [
    "# reshape() and resize()\n",
    "\n",
    "a = np.arange(1, 11)\n",
    "print(f\"a: {a}\")\n",
    "b = a.reshape(2, 5)\n",
    "print(f\"b: \\n{b}\")\n",
    "\n",
    "b[0][0] = 10\n",
    "print('\\nAfter modification in array b:')\n",
    "print(f\"a: {a}\")\n",
    "print(f\"b: \\n{b}\\n\")\n",
    "\n",
    "a.resize(5, 2)\n",
    "print(f\"a: {a}\")"
   ]
  },
  {
   "cell_type": "code",
   "execution_count": 23,
   "id": "d9a34825-b3fe-4c30-a6d4-814999427400",
   "metadata": {},
   "outputs": [
    {
     "name": "stdout",
     "output_type": "stream",
     "text": [
      "flatten f: [10  2  3  4  5  6  7  8  9 10]\n",
      "ravel f: [10  2  3  4  5  6  7  8  9 10]\n"
     ]
    }
   ],
   "source": [
    "# flatten() and ravel()\n",
    "# These methods turn the array to one dimensional array\n",
    "\n",
    "f = a.flatten()\n",
    "print(f\"flatten f: {f}\") # deep copy\n",
    "\n",
    "f = a.ravel()\n",
    "print(f\"ravel f: {f}\") # shallow copy"
   ]
  },
  {
   "cell_type": "code",
   "execution_count": 24,
   "id": "bca6d559-a73a-4130-ba59-a86bbc5b07ba",
   "metadata": {},
   "outputs": [
    {
     "name": "stdout",
     "output_type": "stream",
     "text": [
      "[[1 4]\n",
      " [2 5]\n",
      " [3 6]]\n"
     ]
    }
   ],
   "source": [
    "# T\n",
    "a = np.array([[1,2,3], [4,5,6]])\n",
    "a = a.T\n",
    "print(a)"
   ]
  },
  {
   "cell_type": "code",
   "execution_count": 25,
   "id": "f4ed5a97-3dbe-43aa-864e-8fb213742d04",
   "metadata": {},
   "outputs": [
    {
     "name": "stdout",
     "output_type": "stream",
     "text": [
      "a: \n",
      "[[1 2 3]\n",
      " [4 5 6]\n",
      " [7 8 9]]\n",
      "b: \n",
      "[[10 11 12]\n",
      " [13 14 15]\n",
      " [16 17 18]]\n",
      "\n",
      "res: \n",
      "[[ 1  2  3 10 11 12]\n",
      " [ 4  5  6 13 14 15]\n",
      " [ 7  8  9 16 17 18]]\n",
      "\n",
      "res2: \n",
      "[[ 1  2  3]\n",
      " [ 4  5  6]\n",
      " [ 7  8  9]\n",
      " [10 11 12]\n",
      " [13 14 15]\n",
      " [16 17 18]]\n"
     ]
    }
   ],
   "source": [
    "# hstack() and vstack()\n",
    "\n",
    "a = np.arange(1, 10)\n",
    "b = np.arange(10, 19)\n",
    "\n",
    "a = a.reshape(3, 3)\n",
    "b = b.reshape(3, 3)\n",
    "\n",
    "print(f\"a: \\n{a}\")\n",
    "print(f\"b: \\n{b}\\n\")\n",
    "\n",
    "res = np.hstack((a, b))\n",
    "print(f\"res: \\n{res}\\n\")\n",
    "\n",
    "res2 = np.vstack((a, b))\n",
    "print(f\"res2: \\n{res2}\")"
   ]
  },
  {
   "cell_type": "code",
   "execution_count": 26,
   "id": "40809edc-5dac-49ec-8631-1d453fb8802f",
   "metadata": {},
   "outputs": [
    {
     "name": "stdout",
     "output_type": "stream",
     "text": [
      "grades: \n",
      "0     56.0\n",
      "1     80.0\n",
      "2     70.0\n",
      "3     90.0\n",
      "4    100.5\n",
      "dtype: float64\n",
      "\n",
      "s1: \n",
      "0    1\n",
      "1    2\n",
      "2    4\n",
      "3    5\n",
      "4    3\n",
      "dtype: int64\n",
      "\n"
     ]
    }
   ],
   "source": [
    "# Introduction to pandas\n",
    "import pandas as pd\n",
    "\n",
    "# Series\n",
    "grades = pd.Series([56, 80, 70, 90, 100.5])\n",
    "print(f\"grades: \\n{grades}\\n\")\n",
    "\n",
    "s1 = pd.Series((1, 2, 4, 5, 3))\n",
    "print(f\"s1: \\n{s1}\\n\")"
   ]
  },
  {
   "cell_type": "code",
   "execution_count": 27,
   "id": "39812fc6-8e80-4efa-ac67-63e0dcb3f255",
   "metadata": {},
   "outputs": [
    {
     "name": "stdout",
     "output_type": "stream",
     "text": [
      "s1: \n",
      "a    10\n",
      "b    20\n",
      "c    30\n",
      "dtype: int64\n"
     ]
    }
   ],
   "source": [
    "d = {'a': 10, 'b': 20, 'c': 30}\n",
    "s1 = pd.Series(d)\n",
    "print(f\"s1: \\n{s1}\")"
   ]
  },
  {
   "cell_type": "code",
   "execution_count": 28,
   "id": "ad523151-7347-4c14-89eb-5d6d90813f50",
   "metadata": {},
   "outputs": [
    {
     "data": {
      "text/plain": [
       "1    10\n",
       "2    10\n",
       "3    10\n",
       "dtype: int64"
      ]
     },
     "execution_count": 28,
     "metadata": {},
     "output_type": "execute_result"
    }
   ],
   "source": [
    "pd.Series(10, [1,2,3])"
   ]
  },
  {
   "cell_type": "code",
   "execution_count": 29,
   "id": "69924b9f-46e7-43e4-bf68-004b2726d550",
   "metadata": {},
   "outputs": [],
   "source": [
    "a = pd.Series(15, ('a', 'b', 'c'))"
   ]
  },
  {
   "cell_type": "code",
   "execution_count": 30,
   "id": "239b379b-7c8f-4d18-9fcc-64abaf590214",
   "metadata": {},
   "outputs": [
    {
     "data": {
      "text/plain": [
       "3"
      ]
     },
     "execution_count": 30,
     "metadata": {},
     "output_type": "execute_result"
    }
   ],
   "source": [
    "a.count()"
   ]
  },
  {
   "cell_type": "code",
   "execution_count": 31,
   "id": "090c4de5-5f0e-4b58-9039-cd83b2ff989f",
   "metadata": {},
   "outputs": [
    {
     "data": {
      "text/plain": [
       "15"
      ]
     },
     "execution_count": 31,
     "metadata": {},
     "output_type": "execute_result"
    }
   ],
   "source": [
    "a.min()"
   ]
  },
  {
   "cell_type": "code",
   "execution_count": 32,
   "id": "217f0d4f-ea44-4cf9-b717-34375dd06370",
   "metadata": {},
   "outputs": [
    {
     "data": {
      "text/plain": [
       "15"
      ]
     },
     "execution_count": 32,
     "metadata": {},
     "output_type": "execute_result"
    }
   ],
   "source": [
    "a.max()"
   ]
  },
  {
   "cell_type": "code",
   "execution_count": 33,
   "id": "ca5dc115-21bf-459d-8629-4123a55e1d84",
   "metadata": {},
   "outputs": [
    {
     "data": {
      "text/plain": [
       "0.0"
      ]
     },
     "execution_count": 33,
     "metadata": {},
     "output_type": "execute_result"
    }
   ],
   "source": [
    "a.var()"
   ]
  },
  {
   "cell_type": "code",
   "execution_count": 34,
   "id": "e555f854-af9b-430e-90e7-8b6aa32e439d",
   "metadata": {},
   "outputs": [
    {
     "data": {
      "text/plain": [
       "0.0"
      ]
     },
     "execution_count": 34,
     "metadata": {},
     "output_type": "execute_result"
    }
   ],
   "source": [
    "a.std()"
   ]
  },
  {
   "cell_type": "code",
   "execution_count": 35,
   "id": "a7d14d4b-6ffd-4f06-949c-d4b6d89ec54b",
   "metadata": {},
   "outputs": [
    {
     "data": {
      "text/plain": [
       "a    50\n",
       "b    60\n",
       "c    70\n",
       "dtype: int64"
      ]
     },
     "execution_count": 35,
     "metadata": {},
     "output_type": "execute_result"
    }
   ],
   "source": [
    "pd.Series([50, 60, 70], index = ['a', 'b', 'c'])"
   ]
  },
  {
   "cell_type": "code",
   "execution_count": 36,
   "id": "d9c9bf73-c912-4d1d-80f9-d29dc7007fbb",
   "metadata": {},
   "outputs": [
    {
     "data": {
      "text/plain": [
       "20"
      ]
     },
     "execution_count": 36,
     "metadata": {},
     "output_type": "execute_result"
    }
   ],
   "source": [
    "a = pd.Series([10, 20, 30], ['a', 'b', 'c'])\n",
    "a['b']\n",
    "a.b"
   ]
  },
  {
   "cell_type": "code",
   "execution_count": 37,
   "id": "ea670cd8-48eb-4f96-acbd-89f844055565",
   "metadata": {},
   "outputs": [],
   "source": [
    "s = pd.Series(['ajay', 'vijay', 'sanjay'])\n"
   ]
  },
  {
   "cell_type": "code",
   "execution_count": 54,
   "id": "8b1d0990-25bd-4e7d-b37a-6338829a794b",
   "metadata": {},
   "outputs": [
    {
     "data": {
      "text/plain": [
       "0     74\n",
       "1     77\n",
       "2     74\n",
       "3    100\n",
       "4     94\n",
       "dtype: int64"
      ]
     },
     "execution_count": 54,
     "metadata": {},
     "output_type": "execute_result"
    }
   ],
   "source": [
    "temps = np.array([np.random.randint(60, 101) for _ in range(5)])\n",
    "temps_series = pd.Series(temps)\n",
    "temps_series"
   ]
  },
  {
   "cell_type": "code",
   "execution_count": 55,
   "id": "9b5e71d8-dd5d-4612-956e-94d17c9afa73",
   "metadata": {},
   "outputs": [
    {
     "data": {
      "text/plain": [
       "74"
      ]
     },
     "execution_count": 55,
     "metadata": {},
     "output_type": "execute_result"
    }
   ],
   "source": [
    "temps_series.min()"
   ]
  },
  {
   "cell_type": "code",
   "execution_count": 56,
   "id": "1427d2f3-d1e0-42f0-bbe2-b34aba8a4dfd",
   "metadata": {},
   "outputs": [
    {
     "data": {
      "text/plain": [
       "100"
      ]
     },
     "execution_count": 56,
     "metadata": {},
     "output_type": "execute_result"
    }
   ],
   "source": [
    "temps_series.max()"
   ]
  },
  {
   "cell_type": "code",
   "execution_count": 57,
   "id": "d9b169a9-94de-4d81-8e11-e74792badf79",
   "metadata": {},
   "outputs": [
    {
     "data": {
      "text/plain": [
       "83.8"
      ]
     },
     "execution_count": 57,
     "metadata": {},
     "output_type": "execute_result"
    }
   ],
   "source": [
    "temps_series.mean()"
   ]
  },
  {
   "cell_type": "code",
   "execution_count": 58,
   "id": "ecb8b912-03ee-4483-b172-1cd091058a3d",
   "metadata": {},
   "outputs": [
    {
     "data": {
      "text/plain": [
       "count      5.000000\n",
       "mean      83.800000\n",
       "std       12.296341\n",
       "min       74.000000\n",
       "25%       74.000000\n",
       "50%       77.000000\n",
       "75%       94.000000\n",
       "max      100.000000\n",
       "dtype: float64"
      ]
     },
     "execution_count": 58,
     "metadata": {},
     "output_type": "execute_result"
    }
   ],
   "source": [
    "temps_series.describe()"
   ]
  },
  {
   "cell_type": "code",
   "execution_count": 67,
   "id": "bc0238b9-eb9a-4720-856a-baa76630e30d",
   "metadata": {},
   "outputs": [
    {
     "data": {
      "text/plain": [
       "{'a': [1, 23, 50, 45],\n",
       " 'b': [12, 25, 14, 8],\n",
       " 'c': [1, 2, 3, 33],\n",
       " 'd': [4, 5, 8, 11]}"
      ]
     },
     "execution_count": 67,
     "metadata": {},
     "output_type": "execute_result"
    }
   ],
   "source": [
    "# DataFrame\n",
    "d = {'a': [1, 23, 50, 45], 'b': [12, 25, 14, 8], 'c': [1, 2, 3, 33], 'd': [4, 5, 8, 11]}\n",
    "d"
   ]
  },
  {
   "cell_type": "markdown",
   "id": "0c7a3c59-cf4f-42ac-8523-2fa54e4dafb9",
   "metadata": {},
   "source": [
    "# a = pd.DataFrame(d)\n",
    "a"
   ]
  }
 ],
 "metadata": {
  "kernelspec": {
   "display_name": "Python 3 (ipykernel)",
   "language": "python",
   "name": "python3"
  },
  "language_info": {
   "codemirror_mode": {
    "name": "ipython",
    "version": 3
   },
   "file_extension": ".py",
   "mimetype": "text/x-python",
   "name": "python",
   "nbconvert_exporter": "python",
   "pygments_lexer": "ipython3",
   "version": "3.11.7"
  }
 },
 "nbformat": 4,
 "nbformat_minor": 5
}
