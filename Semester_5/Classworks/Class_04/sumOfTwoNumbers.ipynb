{
 "cells": [
  {
   "cell_type": "code",
   "execution_count": 4,
   "id": "93a48939-47c4-4ba5-b4a1-d1a8fd3fc669",
   "metadata": {},
   "outputs": [
    {
     "name": "stdin",
     "output_type": "stream",
     "text": [
      "Enter the first number:  5.1\n",
      "Enter the second number:  3.1\n"
     ]
    },
    {
     "name": "stdout",
     "output_type": "stream",
     "text": [
      "The sum of the two given numbers is: 8.2\n"
     ]
    }
   ],
   "source": [
    "num1 = float(input(\"Enter the first number: \"));\n",
    "num2 = float(input(\"Enter the second number: \"));\n",
    "\n",
    "sum = num1 + num2;\n",
    "print(\"The sum of the two given numbers is:\", sum);"
   ]
  },
  {
   "cell_type": "code",
   "execution_count": null,
   "id": "450b2d70-2d2d-4090-8b42-d9562234929d",
   "metadata": {},
   "outputs": [],
   "source": []
  }
 ],
 "metadata": {
  "kernelspec": {
   "display_name": "Python 3 (ipykernel)",
   "language": "python",
   "name": "python3"
  },
  "language_info": {
   "codemirror_mode": {
    "name": "ipython",
    "version": 3
   },
   "file_extension": ".py",
   "mimetype": "text/x-python",
   "name": "python",
   "nbconvert_exporter": "python",
   "pygments_lexer": "ipython3",
   "version": "3.11.7"
  }
 },
 "nbformat": 4,
 "nbformat_minor": 5
}
