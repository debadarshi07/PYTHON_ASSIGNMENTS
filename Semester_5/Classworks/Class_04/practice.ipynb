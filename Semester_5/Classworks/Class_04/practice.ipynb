{
 "cells": [
  {
   "cell_type": "code",
   "execution_count": 9,
   "id": "95cf570a-b29c-41cb-9b3a-70e88c0e06ff",
   "metadata": {},
   "outputs": [
    {
     "name": "stdin",
     "output_type": "stream",
     "text": [
      "Enter the grade 76\n"
     ]
    },
    {
     "name": "stdout",
     "output_type": "stream",
     "text": [
      "C\n"
     ]
    }
   ],
   "source": [
    "grade = int(input(\"Enter the grade\"));\n",
    "    \n",
    "if (grade > 90):\n",
    "    print(\"A\");\n",
    "\n",
    "elif (grade > 80): \n",
    "    print(\"B\");\n",
    "\n",
    "elif(grade > 70):\n",
    "    print(\"C\");\n",
    "\n",
    "elif(grade > 60):\n",
    "    print(\"D\");\n",
    "    \n",
    "else :\n",
    "    print(\"Failed\");\n",
    "    "
   ]
  },
  {
   "cell_type": "code",
   "execution_count": 10,
   "id": "21932658-19b5-4193-b4cd-985337b29d16",
   "metadata": {},
   "outputs": [
    {
     "name": "stdout",
     "output_type": "stream",
     "text": [
      "81\n"
     ]
    }
   ],
   "source": [
    "product = 1;\n",
    "\n",
    "while product <= 50:\n",
    "    product *= 3;\n",
    "\n",
    "print(product);"
   ]
  },
  {
   "cell_type": "code",
   "execution_count": 17,
   "id": "674e81b6-4b40-4327-8cb5-05dc79922e7c",
   "metadata": {},
   "outputs": [
    {
     "name": "stdin",
     "output_type": "stream",
     "text": [
      "Enter first number:  87\n",
      "Enter second number:  34\n",
      "Enter third number:  21\n"
     ]
    },
    {
     "name": "stdout",
     "output_type": "stream",
     "text": [
      "Sorted order of numbers:  87.0 > 34.0 > 21.0\n"
     ]
    }
   ],
   "source": [
    "x = float(input(\"Enter first number: \"));\n",
    "y = float(input(\"Enter second number: \"));\n",
    "z = float(input(\"Enter third number: \"));\n",
    "\n",
    "largest = 0;\n",
    "second_largest = 0;\n",
    "smallest = 0;\n",
    "\n",
    "if x > y and x > z:\n",
    "    largest = x;\n",
    "    if y > z:\n",
    "        second_largest = y;\n",
    "        smallest = z;\n",
    "    else:\n",
    "        second_largest = z;\n",
    "        smallest = y;\n",
    "\n",
    "if y > x and y > z:\n",
    "    largest = y;\n",
    "    if x > z:\n",
    "        second_largest = x;\n",
    "        smallest = z;\n",
    "    else:\n",
    "        second_largest = z;\n",
    "        smallest = x;\n",
    "\n",
    "if z > x and z > y:\n",
    "    largest = z;\n",
    "    if x > y:\n",
    "        second_largest = x;\n",
    "        smallest = y;\n",
    "    else:\n",
    "        second_largest = y;\n",
    "        smallest = x;\n",
    "\n",
    "print (\"Sorted order of numbers: \", largest , \">\", second_largest, \">\", smallest);"
   ]
  },
  {
   "cell_type": "code",
   "execution_count": 16,
   "id": "a9de8447-0e46-48cb-b1dd-325f53b70120",
   "metadata": {},
   "outputs": [
    {
     "name": "stdout",
     "output_type": "stream",
     "text": [
      "Sum of first 100 numbers:  10\n"
     ]
    }
   ],
   "source": [
    "sum = 0;\n",
    "\n",
    "for i in range (101):\n",
    "    sum += i;\n",
    "\n",
    "print(\"Sum of first 100 numbers: \", sum)"
   ]
  },
  {
   "cell_type": "code",
   "execution_count": 21,
   "id": "6c656518-aa16-42b0-b151-24a72ecc1a7b",
   "metadata": {},
   "outputs": [
    {
     "name": "stdout",
     "output_type": "stream",
     "text": [
      "2500\n"
     ]
    }
   ],
   "source": [
    "sum = 0;\n",
    "\n",
    "for i in range (100):\n",
    "    if i % 2 != 0:\n",
    "        sum += i;\n",
    "\n",
    "print(sum)"
   ]
  },
  {
   "cell_type": "code",
   "execution_count": 22,
   "id": "737da081-25da-4fc8-9fd8-7b9d8bc365c9",
   "metadata": {},
   "outputs": [
    {
     "name": "stdout",
     "output_type": "stream",
     "text": [
      "2500\n"
     ]
    }
   ],
   "source": [
    "sum = 0;\n",
    "\n",
    "for i in range (1, 100, 2):\n",
    "    sum += i;\n",
    "\n",
    "print(sum);"
   ]
  },
  {
   "cell_type": "code",
   "execution_count": 28,
   "id": "33e1c3a2-88c8-469c-82d2-839f1ad74674",
   "metadata": {},
   "outputs": [
    {
     "name": "stdout",
     "output_type": "stream",
     "text": [
      "*\n",
      "\n",
      "**\n",
      "\n",
      "***\n",
      "\n",
      "****\n",
      "\n",
      "*****\n",
      "\n",
      "******\n",
      "\n",
      "*******\n",
      "\n",
      "********\n",
      "\n",
      "*********\n",
      "\n",
      "**********\n",
      "\n"
     ]
    }
   ],
   "source": [
    "for i in range (10):\n",
    "    for j in range (i+1):\n",
    "        print(\"*\", end=\"\")\n",
    "    print(\"\\n\")"
   ]
  },
  {
   "cell_type": "code",
   "execution_count": 29,
   "id": "b4fba786-b91e-46c0-8007-406969bdc890",
   "metadata": {},
   "outputs": [
    {
     "name": "stdout",
     "output_type": "stream",
     "text": [
      "***********\n",
      "\n",
      "**********\n",
      "\n",
      "*********\n",
      "\n",
      "********\n",
      "\n",
      "*******\n",
      "\n",
      "******\n",
      "\n",
      "*****\n",
      "\n",
      "****\n",
      "\n",
      "***\n",
      "\n",
      "**\n",
      "\n",
      "*\n",
      "\n"
     ]
    }
   ],
   "source": [
    "for i in range (10, -1, -1):\n",
    "    for j in range (i, -1, -1):\n",
    "        print(\"*\", end=\"\")\n",
    "    print(\"\\n\")"
   ]
  },
  {
   "cell_type": "code",
   "execution_count": null,
   "id": "3d01a646-0142-458c-929d-8d3c59d2081d",
   "metadata": {},
   "outputs": [],
   "source": []
  }
 ],
 "metadata": {
  "kernelspec": {
   "display_name": "Python 3 (ipykernel)",
   "language": "python",
   "name": "python3"
  },
  "language_info": {
   "codemirror_mode": {
    "name": "ipython",
    "version": 3
   },
   "file_extension": ".py",
   "mimetype": "text/x-python",
   "name": "python",
   "nbconvert_exporter": "python",
   "pygments_lexer": "ipython3",
   "version": "3.11.7"
  }
 },
 "nbformat": 4,
 "nbformat_minor": 5
}
