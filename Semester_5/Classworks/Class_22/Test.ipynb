{
 "cells": [
  {
   "cell_type": "code",
   "execution_count": 1,
   "id": "4dda3303-aa32-4978-a04c-ca326c42fc1f",
   "metadata": {},
   "outputs": [],
   "source": [
    "from decimal import Decimal"
   ]
  },
  {
   "cell_type": "code",
   "execution_count": 2,
   "id": "8f009a68-52eb-4d47-b72f-d17a1af7c84b",
   "metadata": {},
   "outputs": [
    {
     "data": {
      "text/plain": [
       "0.30000000000000004"
      ]
     },
     "execution_count": 2,
     "metadata": {},
     "output_type": "execute_result"
    }
   ],
   "source": [
    "0.1 + 0.2"
   ]
  },
  {
   "cell_type": "code",
   "execution_count": 3,
   "id": "e57bac8b-f18f-4de7-b50c-aafdf1315761",
   "metadata": {},
   "outputs": [
    {
     "data": {
      "text/plain": [
       "Decimal('0.3000000000000000444089209850062616169452667236328125')"
      ]
     },
     "execution_count": 3,
     "metadata": {},
     "output_type": "execute_result"
    }
   ],
   "source": [
    "Decimal(0.1 + 0.2)"
   ]
  },
  {
   "cell_type": "code",
   "execution_count": 4,
   "id": "90ca5c2a-47b0-42b4-ae94-1e71bd760983",
   "metadata": {},
   "outputs": [
    {
     "data": {
      "text/plain": [
       "True"
      ]
     },
     "execution_count": 4,
     "metadata": {},
     "output_type": "execute_result"
    }
   ],
   "source": [
    "'Ab' > 'Aazzzzz'"
   ]
  },
  {
   "cell_type": "code",
   "execution_count": 5,
   "id": "049b5a69-68e7-483b-9eb2-a8b78aac7a23",
   "metadata": {},
   "outputs": [
    {
     "data": {
      "text/plain": [
       "'Represents A Numeric Value Without Signs Or Desimal Points'"
      ]
     },
     "execution_count": 5,
     "metadata": {},
     "output_type": "execute_result"
    }
   ],
   "source": [
    "'represents a numeric value without signs or desimal points'.title()"
   ]
  },
  {
   "cell_type": "code",
   "execution_count": 6,
   "id": "50068507-0564-4d77-9b5b-43e3d98408a9",
   "metadata": {},
   "outputs": [
    {
     "data": {
      "text/plain": [
       "False"
      ]
     },
     "execution_count": 6,
     "metadata": {},
     "output_type": "execute_result"
    }
   ],
   "source": [
    "'1_ab'.isidentifier()"
   ]
  },
  {
   "cell_type": "code",
   "execution_count": 7,
   "id": "6d718667-67fb-4d7a-a1ba-033b7662186d",
   "metadata": {},
   "outputs": [
    {
     "name": "stdout",
     "output_type": "stream",
     "text": [
      "C:\\\\MyFolder\\\\MySubFolder\\\\MyFile.txt\n",
      "C:\\MyFolder\\MySubFolder\\MyFile.txt\n"
     ]
    }
   ],
   "source": [
    "path = r'C:\\\\MyFolder\\\\MySubFolder\\\\MyFile.txt'\n",
    "print(path)\n",
    "\n",
    "path1 = r'C:\\MyFolder\\MySubFolder\\MyFile.txt'\n",
    "print(path1)"
   ]
  },
  {
   "cell_type": "code",
   "execution_count": 8,
   "id": "7a074422-538e-4483-80e6-b8157e5aab21",
   "metadata": {},
   "outputs": [],
   "source": [
    "import re"
   ]
  },
  {
   "cell_type": "code",
   "execution_count": 9,
   "id": "74ea890b-3e1c-49ea-9867-56388cf0f0a1",
   "metadata": {},
   "outputs": [
    {
     "data": {
      "text/plain": [
       "<re.Match object; span=(0, 3), match='abb'>"
      ]
     },
     "execution_count": 9,
     "metadata": {},
     "output_type": "execute_result"
    }
   ],
   "source": [
    "re.fullmatch('abb', 'abb')"
   ]
  },
  {
   "cell_type": "code",
   "execution_count": 10,
   "id": "5bde555e-6e67-4ac7-8ea7-3862afe68686",
   "metadata": {},
   "outputs": [
    {
     "data": {
      "text/plain": [
       "<re.Match object; span=(0, 3), match='abb'>"
      ]
     },
     "execution_count": 10,
     "metadata": {},
     "output_type": "execute_result"
    }
   ],
   "source": [
    "re.match('abb', 'abbc')"
   ]
  },
  {
   "cell_type": "code",
   "execution_count": 11,
   "id": "205a4877-5e92-4375-8da7-8077f241c7b7",
   "metadata": {},
   "outputs": [
    {
     "data": {
      "text/plain": [
       "'abb'"
      ]
     },
     "execution_count": 11,
     "metadata": {},
     "output_type": "execute_result"
    }
   ],
   "source": [
    "re.match('abb', 'abbc').group()"
   ]
  },
  {
   "cell_type": "code",
   "execution_count": 12,
   "id": "98d197e0-b3d6-4db2-8975-f3ed410e3e73",
   "metadata": {},
   "outputs": [
    {
     "data": {
      "text/plain": [
       "<re.Match object; span=(4, 7), match='abb'>"
      ]
     },
     "execution_count": 12,
     "metadata": {},
     "output_type": "execute_result"
    }
   ],
   "source": [
    "re.search('abb', 'T a abb abbc')"
   ]
  },
  {
   "cell_type": "code",
   "execution_count": 13,
   "id": "a5cb7508-5f9d-45a0-8808-4442e4f2c0f8",
   "metadata": {},
   "outputs": [],
   "source": [
    "import re"
   ]
  },
  {
   "cell_type": "code",
   "execution_count": 14,
   "id": "04408212-d161-41c4-a3c1-0cc96b440b27",
   "metadata": {},
   "outputs": [],
   "source": [
    "pattern = '[abc]'"
   ]
  },
  {
   "cell_type": "code",
   "execution_count": 15,
   "id": "937498e8-6284-46b5-bf9b-c78a4ddff6be",
   "metadata": {},
   "outputs": [
    {
     "name": "stdout",
     "output_type": "stream",
     "text": [
      "match\n",
      "no match\n"
     ]
    }
   ],
   "source": [
    "print('match' if re.fullmatch(pattern, 'b') else 'no match')\n",
    "print('match' if re.fullmatch(pattern, 'ab') else 'no match')"
   ]
  },
  {
   "cell_type": "code",
   "execution_count": 16,
   "id": "22adf4f4-785d-4022-949f-6488b5bec1d4",
   "metadata": {},
   "outputs": [],
   "source": [
    "pattern = '[abc]+'"
   ]
  },
  {
   "cell_type": "code",
   "execution_count": 17,
   "id": "a40993f7-093f-4dba-998e-64ada00d456e",
   "metadata": {},
   "outputs": [
    {
     "name": "stdout",
     "output_type": "stream",
     "text": [
      "match\n"
     ]
    }
   ],
   "source": [
    "print('match' if re.fullmatch(pattern, 'ab') else 'no match')"
   ]
  },
  {
   "cell_type": "code",
   "execution_count": 18,
   "id": "9aaad387-6937-4e94-98ef-a409376ecfc5",
   "metadata": {},
   "outputs": [],
   "source": [
    "pattern = 'a+'"
   ]
  },
  {
   "cell_type": "code",
   "execution_count": 19,
   "id": "c4745b25-ce34-4285-88ab-ecf3bd9fbae5",
   "metadata": {},
   "outputs": [
    {
     "data": {
      "text/plain": [
       "'match'"
      ]
     },
     "execution_count": 19,
     "metadata": {},
     "output_type": "execute_result"
    }
   ],
   "source": [
    "'match' if re.fullmatch(pattern, 'aaaaaa') else 'no match'"
   ]
  },
  {
   "cell_type": "code",
   "execution_count": 20,
   "id": "3ddb27a2-5600-4d27-b619-c9370c0bc1ef",
   "metadata": {},
   "outputs": [],
   "source": [
    "pattern = 'a*'"
   ]
  },
  {
   "cell_type": "code",
   "execution_count": 21,
   "id": "d0b57f89-f620-400a-9ca9-420ceb4af7e6",
   "metadata": {},
   "outputs": [
    {
     "name": "stdout",
     "output_type": "stream",
     "text": [
      "match\n",
      "match\n",
      "no match\n"
     ]
    }
   ],
   "source": [
    "print('match' if re.fullmatch(pattern, '') else 'no match')\n",
    "print('match' if re.fullmatch(pattern, 'aaaaaa') else 'no match')\n",
    "print('match' if re.fullmatch(pattern, 'aaaaaab') else 'no match')"
   ]
  },
  {
   "cell_type": "code",
   "execution_count": 22,
   "id": "8d1d0349-1645-46e5-8101-88fd9ef58f21",
   "metadata": {},
   "outputs": [],
   "source": [
    "pattern = 'a?'"
   ]
  },
  {
   "cell_type": "code",
   "execution_count": 23,
   "id": "b660e540-066d-4a72-9eff-1b4a6ca31411",
   "metadata": {},
   "outputs": [
    {
     "name": "stdout",
     "output_type": "stream",
     "text": [
      "match\n",
      "match\n",
      "no match\n"
     ]
    }
   ],
   "source": [
    "print('match' if re.fullmatch(pattern, 'a') else 'no match')\n",
    "print('match' if re.fullmatch(pattern, '') else 'no match')\n",
    "print('match' if re.fullmatch(pattern, 'aa') else 'no match')"
   ]
  },
  {
   "cell_type": "code",
   "execution_count": 24,
   "id": "436b897d-dc59-4bf4-9ff1-016931f1bc0b",
   "metadata": {},
   "outputs": [],
   "source": [
    "pattern = 'a{5}'"
   ]
  },
  {
   "cell_type": "code",
   "execution_count": 25,
   "id": "b83066ae-47f3-4a4a-9aad-e8f5906c4842",
   "metadata": {},
   "outputs": [
    {
     "name": "stdout",
     "output_type": "stream",
     "text": [
      "match\n",
      "no match\n"
     ]
    }
   ],
   "source": [
    "print('match' if re.fullmatch(pattern, 'aaaaa') else 'no match')\n",
    "print('match' if re.fullmatch(pattern, 'aaa') else 'no match')"
   ]
  },
  {
   "cell_type": "code",
   "execution_count": 26,
   "id": "54b1b9d7-942a-4e3b-8f8c-4f62b0628087",
   "metadata": {},
   "outputs": [],
   "source": [
    "pattern = 'a...cb'"
   ]
  },
  {
   "cell_type": "code",
   "execution_count": 27,
   "id": "ca007b5b-b6f7-43ef-b33d-2ade0cfc05a5",
   "metadata": {},
   "outputs": [
    {
     "name": "stdout",
     "output_type": "stream",
     "text": [
      "match\n",
      "no match\n"
     ]
    }
   ],
   "source": [
    "print('match' if re.fullmatch(pattern, 'a2  cb') else 'no match')\n",
    "print('match' if re.fullmatch(pattern, 'aajcb') else 'no match')"
   ]
  },
  {
   "cell_type": "code",
   "execution_count": 28,
   "id": "5527a4b2-3401-4f0c-8c20-a85e84343ae1",
   "metadata": {},
   "outputs": [
    {
     "name": "stdout",
     "output_type": "stream",
     "text": [
      "match\n"
     ]
    }
   ],
   "source": [
    "pattern = 'abc|xyz'\n",
    "print('match' if re.fullmatch(pattern, 'xyz') else 'no match')"
   ]
  },
  {
   "cell_type": "code",
   "execution_count": 29,
   "id": "b9f54279-d6b4-4222-befb-cdd6dcecb39e",
   "metadata": {},
   "outputs": [
    {
     "name": "stdout",
     "output_type": "stream",
     "text": [
      "match\n"
     ]
    }
   ],
   "source": [
    "pattern = r'\\d+'\n",
    "print('match' if re.fullmatch(pattern, '4') else 'no match')"
   ]
  },
  {
   "cell_type": "code",
   "execution_count": 30,
   "id": "0dfcabeb-3b3e-4b24-96e5-484c3541d274",
   "metadata": {},
   "outputs": [
    {
     "name": "stdout",
     "output_type": "stream",
     "text": [
      "match\n",
      "no match\n"
     ]
    }
   ],
   "source": [
    "pattern = r'\\d{5,9}'\n",
    "\n",
    "print('match' if re.fullmatch(pattern, '382737111') else 'no match')\n",
    "print('match' if re.fullmatch(pattern, '3111') else 'no match')"
   ]
  },
  {
   "cell_type": "code",
   "execution_count": 31,
   "id": "a48593a7-853a-440c-8b9e-9d342aa75547",
   "metadata": {},
   "outputs": [
    {
     "name": "stdout",
     "output_type": "stream",
     "text": [
      "match\n"
     ]
    }
   ],
   "source": [
    "pattern = r'\\d{3,}'\n",
    "print('match' if re.fullmatch(pattern, '382737111') else 'no match')"
   ]
  },
  {
   "cell_type": "code",
   "execution_count": 32,
   "id": "b0930722-e878-460e-8b35-6474cbef90ef",
   "metadata": {},
   "outputs": [
    {
     "name": "stdout",
     "output_type": "stream",
     "text": [
      "match\n"
     ]
    }
   ],
   "source": [
    "pattern = '[a-z][A-Z]*'\n",
    "print('match' if re.fullmatch(pattern, 'hIIII') else 'no match')"
   ]
  },
  {
   "cell_type": "code",
   "execution_count": 33,
   "id": "a9b11b91-0996-4135-a40c-95d50d963d2f",
   "metadata": {},
   "outputs": [
    {
     "name": "stdout",
     "output_type": "stream",
     "text": [
      "match\n"
     ]
    }
   ],
   "source": [
    "pattern = '[a-z]*[A-Z]*'\n",
    "print('match' if re.fullmatch(pattern, 'hhhiiiUR') else 'no match')"
   ]
  },
  {
   "cell_type": "code",
   "execution_count": 34,
   "id": "0df4a1ca-bf59-4489-9212-b06dd1d99242",
   "metadata": {},
   "outputs": [
    {
     "name": "stdout",
     "output_type": "stream",
     "text": [
      "match\n"
     ]
    }
   ],
   "source": [
    "pattern = '[^a-z]'\n",
    "print('match' if re.fullmatch(pattern, '=') else 'no match')"
   ]
  },
  {
   "cell_type": "code",
   "execution_count": 35,
   "id": "207a99a4-472e-4cc2-882e-805ea47251c4",
   "metadata": {},
   "outputs": [
    {
     "name": "stdout",
     "output_type": "stream",
     "text": [
      "match\n"
     ]
    }
   ],
   "source": [
    "pattern = r'[^\\d]'\n",
    "print('match' if re.fullmatch(pattern, 't') else 'no match')"
   ]
  },
  {
   "cell_type": "code",
   "execution_count": 36,
   "id": "4456c34b-10fc-450d-8750-c9f291ef60c8",
   "metadata": {},
   "outputs": [
    {
     "data": {
      "text/plain": [
       "'I am Debadarshi Omkar'"
      ]
     },
     "execution_count": 36,
     "metadata": {},
     "output_type": "execute_result"
    }
   ],
   "source": [
    "# sub()\n",
    "\n",
    "sentence = 'I\\nam\\nDebadarshi\\nOmkar'\n",
    "re.sub('\\n', ' ', sentence)"
   ]
  },
  {
   "cell_type": "code",
   "execution_count": 37,
   "id": "a397cf14-487f-49f0-87d5-73d5748faa18",
   "metadata": {},
   "outputs": [
    {
     "data": {
      "text/plain": [
       "['I am Debadarshi Omkar']"
      ]
     },
     "execution_count": 37,
     "metadata": {},
     "output_type": "execute_result"
    }
   ],
   "source": [
    "# split()\n",
    "\n",
    "re.split(r',\\d*', 'I am Debadarshi Omkar')"
   ]
  },
  {
   "cell_type": "code",
   "execution_count": 38,
   "id": "d7f27c3b-4f50-41e2-912e-c46bcd4903eb",
   "metadata": {},
   "outputs": [
    {
     "data": {
      "text/plain": [
       "<re.Match object; span=(18, 22), match='this'>"
      ]
     },
     "execution_count": 38,
     "metadata": {},
     "output_type": "execute_result"
    }
   ],
   "source": [
    "# search()\n",
    "\n",
    "pattern = 'this'\n",
    "text = 'This is first and this is second and this is third'\n",
    "re.search(pattern, text)"
   ]
  },
  {
   "cell_type": "code",
   "execution_count": 39,
   "id": "c51dda25-d5a3-4d33-9627-cedee408b72b",
   "metadata": {},
   "outputs": [],
   "source": [
    "# match()\n",
    "\n",
    "pattern = 'This'\n",
    "text = 'This is first and this is second and this is third'\n",
    "re.match(pattern, text)\n",
    "re.match('this', text)"
   ]
  },
  {
   "cell_type": "code",
   "execution_count": 40,
   "id": "4a30ea08-5c5a-4c11-8665-7d154b73c1e5",
   "metadata": {},
   "outputs": [
    {
     "data": {
      "text/plain": [
       "<re.Match object; span=(48, 57), match='occurence'>"
      ]
     },
     "execution_count": 40,
     "metadata": {},
     "output_type": "execute_result"
    }
   ],
   "source": [
    "text = 'This is the first occurence. This is the second occurence'\n",
    "pattern = 'occurence$'\n",
    "re.search(pattern, text)"
   ]
  },
  {
   "cell_type": "code",
   "execution_count": 41,
   "id": "6cba06cc-5676-40bc-9039-ab3f6e2c1aed",
   "metadata": {},
   "outputs": [],
   "source": [
    "le = ['jps123@gmail.com', 'prk22345@gmail.com']"
   ]
  }
 ],
 "metadata": {
  "kernelspec": {
   "display_name": "Python 3 (ipykernel)",
   "language": "python",
   "name": "python3"
  },
  "language_info": {
   "codemirror_mode": {
    "name": "ipython",
    "version": 3
   },
   "file_extension": ".py",
   "mimetype": "text/x-python",
   "name": "python",
   "nbconvert_exporter": "python",
   "pygments_lexer": "ipython3",
   "version": "3.12.7"
  }
 },
 "nbformat": 4,
 "nbformat_minor": 5
}
