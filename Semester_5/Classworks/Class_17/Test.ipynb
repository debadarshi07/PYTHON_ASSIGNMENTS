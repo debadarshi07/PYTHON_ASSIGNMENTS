{
 "cells": [
  {
   "cell_type": "code",
   "execution_count": null,
   "id": "04327d9e-d255-4d18-afb1-ff1f0acd6a0a",
   "metadata": {},
   "outputs": [],
   "source": [
    "dict = {'a': 1, 'b': 2, 'c': 3}\n",
    "print(dict)\n",
    "print(dict['a'])"
   ]
  },
  {
   "cell_type": "code",
   "execution_count": null,
   "id": "4efe3095-8489-4e23-b209-2e1589904b5f",
   "metadata": {},
   "outputs": [],
   "source": [
    "student = {\"name\": 'John Doe', \"village\": \"Villa\", \"Roll\": 28}\n",
    "print(f\"{student}\\n\")\n",
    "\n",
    "print(f\"No of key value pairs in dictionary is {len(student)}\")\n",
    "print(f\"Name: {student['name']}, Village: {student['village']}, Roll no: {student['Roll']}\")\n",
    "print(f\"Name of the student is: {student.get('name')}\")\n",
    "\n",
    "print(f\"\\nAll the keys in dictionary: {student.keys()}\")\n",
    "print(f\"All the keys in dictionary: {list(student.keys())}\\n\")\n",
    "\n",
    "print(f\"All the values in dictionary: {student.values()}\")\n",
    "print(f\"All the values in dictionary: {list(student.values())}\\n\")\n",
    "\n",
    "print(f\"All the items in dictionary: {student.items()}\")\n",
    "print(f\"All the items in dictionary: {list(student.items())}\\n\")\n",
    "if (student):\n",
    "    print(\"This dictionary is non empty.\")\n",
    "else:\n",
    "    print(\"This dictionary is empty.\")"
   ]
  },
  {
   "cell_type": "code",
   "execution_count": 10,
   "id": "57a0f253-edaf-4f00-a200-f39184fa1a76",
   "metadata": {},
   "outputs": [
    {
     "name": "stdout",
     "output_type": "stream",
     "text": [
      "Values in dictionary: dict_values([31, 28, 31])\n"
     ]
    }
   ],
   "source": [
    "days_per_month = {\n",
    "    'Jan': 31,\n",
    "    'Feb': 28,\n",
    "    'Mar': 31\n",
    "}\n",
    "\n",
    "values_in_dict = days_per_month.values()\n",
    "print(f\"Values in dictionary: {values_in_dict}\")\n",
    "\n",
    "# days_per_month['Feb'] = 29\n",
    "# days_per_month['Apr'] = 30\n",
    "# print(f\"Values in dictionary: {values_in_dict}\")\n",
    "\n",
    "# print(f\"{days_per_month.get('Fb', 'Key is not found.')}\")\n",
    "\n",
    "# for key, value in list(days_per_month.items()):\n",
    "#     print(f\"{key} : {value}\")"
   ]
  },
  {
   "cell_type": "code",
   "execution_count": 8,
   "id": "ac497208-5dee-4be9-9dac-3e738a09df20",
   "metadata": {},
   "outputs": [
    {
     "name": "stdout",
     "output_type": "stream",
     "text": [
      "dict_values([31, 29, 31, 30])\n"
     ]
    }
   ],
   "source": [
    "days_per_month['Feb'] = 29\n",
    "days_per_month['Apr'] = 30\n",
    "\n",
    "print(values_in_dict)"
   ]
  },
  {
   "cell_type": "code",
   "execution_count": 31,
   "id": "d064a4a1-20b2-4a8d-af0c-94d7da1581f7",
   "metadata": {},
   "outputs": [
    {
     "name": "stdout",
     "output_type": "stream",
     "text": [
      "Deb has secured an average of 1.00\n",
      "Sai has secured an average of 30.00\n",
      "Animesh has secured an average of 28.00\n",
      "Class average is: 19.67\n"
     ]
    }
   ],
   "source": [
    "student_results = {'Deb': [1,1,1,1,1], 'Sai': [30,30,30,30,30], 'Animesh': [29,28,27,26,30]}\n",
    "total_marks, total_students = 0, 0\n",
    "\n",
    "for name, result in student_results.items():\n",
    "    print(f\"{name} has secured an average of {(sum(result) / len(result)):.2f}\")\n",
    "    total_marks += sum(list(result)) / 5\n",
    "    total_students += 1\n",
    "\n",
    "print(f\"Class average is: {(total_marks / total_students):.2f}\")"
   ]
  },
  {
   "cell_type": "code",
   "execution_count": 51,
   "id": "cacbd08b-49d3-4f30-a5e0-8d5ad0b01439",
   "metadata": {},
   "outputs": [
    {
     "name": "stdout",
     "output_type": "stream",
     "text": [
      "i --> 1\n",
      "love --> 2\n",
      "pizza --> 3\n",
      "is --> 1\n",
      "the --> 1\n",
      "best --> 1\n",
      "better --> 2\n",
      "food --> 1\n",
      "and --> 1\n",
      "makes --> 1\n",
      "everything --> 1\n"
     ]
    }
   ],
   "source": [
    "import re\n",
    "\n",
    "string = 'I love pizza, pizza is the best better food, and pizza makes love everything better'\n",
    "string = string.lower()\n",
    "words = re.split(r'[^a-zA-Z0-9]+', string)\n",
    "\n",
    "word_occ = {}\n",
    "\n",
    "for word in words:\n",
    "    word_occ[word] = word_occ.get(word, 0) + 1\n",
    "\n",
    "for key, value in word_occ.items():\n",
    "    print(f\"{key} --> {value}\")"
   ]
  },
  {
   "cell_type": "code",
   "execution_count": 54,
   "id": "0da29d0c-1b0f-4f46-94fd-d42a671a8932",
   "metadata": {},
   "outputs": [
    {
     "name": "stdout",
     "output_type": "stream",
     "text": [
      "this --> 2\n",
      "is --> 4\n",
      "i --> 1\n",
      "am --> 1\n",
      "game --> 2\n",
      "my --> 1\n",
      "good --> 1\n"
     ]
    }
   ],
   "source": [
    "import string\n",
    "text = 'This is I am is This game is my game is good'\n",
    "text = ''.join(filter(lambda ch: ch.isalnum() or ch.isspace(),text)).lower()\n",
    "words = text.split()\n",
    "\n",
    "occ = {}\n",
    "for word in words:\n",
    "    if word in occ:\n",
    "        occ[word] += 1\n",
    "    else:\n",
    "        occ[word] = 1\n",
    "\n",
    "for key, value in occ.items():\n",
    "    print(f\"{key} --> {value}\")"
   ]
  }
 ],
 "metadata": {
  "kernelspec": {
   "display_name": "Python 3 (ipykernel)",
   "language": "python",
   "name": "python3"
  },
  "language_info": {
   "codemirror_mode": {
    "name": "ipython",
    "version": 3
   },
   "file_extension": ".py",
   "mimetype": "text/x-python",
   "name": "python",
   "nbconvert_exporter": "python",
   "pygments_lexer": "ipython3",
   "version": "3.11.7"
  }
 },
 "nbformat": 4,
 "nbformat_minor": 5
}
