{
 "cells": [
  {
   "cell_type": "code",
   "execution_count": 3,
   "id": "2411be4c-78dd-4182-8e12-d0f5df584cfe",
   "metadata": {},
   "outputs": [
    {
     "name": "stdin",
     "output_type": "stream",
     "text": [
      "Enter first number:  5\n",
      "Enter second number:  7\n",
      "Enter third number:  2\n"
     ]
    },
    {
     "name": "stdout",
     "output_type": "stream",
     "text": [
      "Sum of these numbers is:  14\n",
      "Average of these numbers is:  4.666666666666667\n",
      "Product of these numbers is:  70\n",
      "Maximum among these numbers:  7\n",
      "Minimum among these numbers:  2\n"
     ]
    }
   ],
   "source": [
    "num1 = int(input(\"Enter first number: \"))\n",
    "num2 = int(input(\"Enter second number: \"))\n",
    "num3 = int(input(\"Enter third number: \"))\n",
    "\n",
    "sum_of_nums= num1 + num2 + num3\n",
    "print(\"Sum of these numbers is: \", sum_of_nums)\n",
    "\n",
    "\n",
    "print(\"Average of these numbers is: \" , (sum_of_nums / 3))\n",
    "\n",
    "print(\"Product of these numbers is: \" , (num1 * num2 * num3))\n",
    "\n",
    "print(\"Maximum among these numbers: \" , max(num1, num2, num3))\n",
    "\n",
    "print(\"Minimum among these numbers: \" , min(num1, num2, num3))"
   ]
  },
  {
   "cell_type": "code",
   "execution_count": null,
   "id": "42642817-6ab4-46cc-a61e-e6a48f01654f",
   "metadata": {},
   "outputs": [],
   "source": []
  }
 ],
 "metadata": {
  "kernelspec": {
   "display_name": "Python 3 (ipykernel)",
   "language": "python",
   "name": "python3"
  },
  "language_info": {
   "codemirror_mode": {
    "name": "ipython",
    "version": 3
   },
   "file_extension": ".py",
   "mimetype": "text/x-python",
   "name": "python",
   "nbconvert_exporter": "python",
   "pygments_lexer": "ipython3",
   "version": "3.11.7"
  }
 },
 "nbformat": 4,
 "nbformat_minor": 5
}
