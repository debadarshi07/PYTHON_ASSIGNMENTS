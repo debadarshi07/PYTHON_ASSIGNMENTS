{
 "cells": [
  {
   "cell_type": "code",
   "execution_count": 12,
   "id": "07fe9976-4b78-4cb3-a1a1-b5f873ae19c9",
   "metadata": {},
   "outputs": [
    {
     "name": "stdin",
     "output_type": "stream",
     "text": [
      "Enter a number with 5 digits:  12345\n"
     ]
    },
    {
     "name": "stdout",
     "output_type": "stream",
     "text": [
      "1   2   3   4   5   \n",
      "The sum of the digits is:  15\n"
     ]
    }
   ],
   "source": [
    "number = input(\"Enter a number with 5 digits: \")\n",
    "sum_of_digits = 0\n",
    "for digit in number :\n",
    "    print(int(digit) , end = \"   \")\n",
    "    sum_of_digits += int(digit)\n",
    "\n",
    "print(\"\\nThe sum of the digits is: \", sum_of_digits)"
   ]
  },
  {
   "cell_type": "code",
   "execution_count": null,
   "id": "102c10d8-517f-4050-98ba-19ab291525a7",
   "metadata": {},
   "outputs": [],
   "source": []
  }
 ],
 "metadata": {
  "kernelspec": {
   "display_name": "Python 3 (ipykernel)",
   "language": "python",
   "name": "python3"
  },
  "language_info": {
   "codemirror_mode": {
    "name": "ipython",
    "version": 3
   },
   "file_extension": ".py",
   "mimetype": "text/x-python",
   "name": "python",
   "nbconvert_exporter": "python",
   "pygments_lexer": "ipython3",
   "version": "3.11.7"
  }
 },
 "nbformat": 4,
 "nbformat_minor": 5
}
