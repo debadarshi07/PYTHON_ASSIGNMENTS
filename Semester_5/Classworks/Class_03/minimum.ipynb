num1 = int(input("Enter the first number: "))
num2 = int(input("Enter the second number: "))
num3 = int(input("Enter the third number: "))

minimum = num1;

if(minimum > num2) :
    minimum = num2 

elif(minimum > num3) :
    minimum = num3

print("The minimum among three numbers is: ", minimum)