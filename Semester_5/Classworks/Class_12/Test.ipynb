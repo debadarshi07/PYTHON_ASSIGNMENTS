{
 "cells": [
  {
   "cell_type": "code",
   "execution_count": 2,
   "id": "1547e061-d314-4cb3-b8b3-4562098ea88b",
   "metadata": {},
   "outputs": [],
   "source": [
    "# math module\n",
    "import math\n",
    "math.sqrt(5)\n",
    "math.floor(3.4)\n",
    "math.floor(3.4)"
   ]
  },
  {
   "cell_type": "code",
   "execution_count": 11,
   "id": "820cbbac-3d88-4bec-b9fa-c7e82854bedc",
   "metadata": {},
   "outputs": [
    {
     "name": "stdout",
     "output_type": "stream",
     "text": [
      "Area calculation\n",
      "10\n",
      "25\n",
      "50\n",
      "\n",
      "Volume calculation\n",
      "200\n",
      "24\n",
      "550\n"
     ]
    }
   ],
   "source": [
    "# Default value of parameters\n",
    "print(\"Area calculation\")\n",
    "def area_rec(l = 10, w = 5):\n",
    "    area = l * w\n",
    "    return area\n",
    "print(area_rec(5, 2))\n",
    "print(area_rec(5, 5))\n",
    "print(area_rec())\n",
    "\n",
    "print(\"\\nVolume calculation\")\n",
    "def volume_rec(h, l = 10, w = 5):\n",
    "    volume = h * l * w\n",
    "    return volume\n",
    "\n",
    "print(volume_rec(4))\n",
    "print(volume_rec(w = 4, l = 2, h = 3))\n",
    "print(volume_rec(5, w = 10, l = 11))"
   ]
  },
  {
   "cell_type": "code",
   "execution_count": 34,
   "id": "07ef3f7f-9e7a-47b1-927b-a7ad24a52980",
   "metadata": {},
   "outputs": [
    {
     "name": "stdout",
     "output_type": "stream",
     "text": [
      "1 5 4\n",
      "Sum: 30.5\n",
      "Sum: 11\n",
      "Sum: 20\n",
      "Sum: 14\n",
      "Product: 129.60\n"
     ]
    }
   ],
   "source": [
    "# Unpacking arguments\n",
    "list = [1,5,4]\n",
    "print(*list)\n",
    "\n",
    "def sum_of_nums(*list):\n",
    "    sum = 0\n",
    "    for i in list:\n",
    "        sum += i\n",
    "    return sum\n",
    "\n",
    "list = [1,1.5,8,14,6]\n",
    "print(f\"Sum: {sum_of_nums(*list)}\")\n",
    "print(f\"Sum: {sum_of_nums(*[2,4,5])}\") #Unpacking a list\n",
    "print(f\"Sum: {sum_of_nums(*(2,3,4,5,6))}\") #Unpacking a tuple\n",
    "print(f\"Sum: {sum_of_nums(4,3,2,5)}\") #Just providing simple numbers\n",
    "\n",
    "# Product of given numbers\n",
    "def product_of_nums(*list):\n",
    "    pro = 1\n",
    "    for i in list:\n",
    "        pro *= i\n",
    "    return pro\n",
    "print(f\"Product: {product_of_nums(2,3,4,5.4):.2f}\")"
   ]
  },
  {
   "cell_type": "code",
   "execution_count": 35,
   "id": "ad9caeee-733f-4da5-bd43-4b74539da15a",
   "metadata": {},
   "outputs": [
    {
     "name": "stdout",
     "output_type": "stream",
     "text": [
      "average 4.84\n",
      "<class 'function'>\n"
     ]
    }
   ],
   "source": [
    "# Calculate Average\n",
    "def calc_average(*numbers):\n",
    "    length = len(numbers)\n",
    "    sum_of_numbers = sum(numbers)\n",
    "    return sum_of_numbers / length\n",
    "\n",
    "print(f\"average {calc_average(*[3,4,5,6,6.2])}\")\n",
    "print(type(calc_average))"
   ]
  },
  {
   "cell_type": "code",
   "execution_count": 40,
   "id": "d7a4778a-4087-4e44-8f6f-f436612522f9",
   "metadata": {},
   "outputs": [
    {
     "name": "stdout",
     "output_type": "stream",
     "text": [
      "[1, 2, 3, 4, 5]\n",
      "140548885935040\n"
     ]
    }
   ],
   "source": [
    "# Python lists are mutable\n",
    "list = [1,2,3,4]\n",
    "list.append(5)\n",
    "print(list)\n",
    "print(id(list))"
   ]
  },
  {
   "cell_type": "code",
   "execution_count": 41,
   "id": "42e5ac99-9c62-4ca7-b4c2-0f7b72a1c9fd",
   "metadata": {},
   "outputs": [
    {
     "name": "stdout",
     "output_type": "stream",
     "text": [
      "Guddu\n",
      "guddu\n"
     ]
    }
   ],
   "source": [
    "# Python strings are immutable\n",
    "str = 'Guddu'\n",
    "str.lower()\n",
    "print(str)\n",
    "str = str.lower()\n",
    "print(str)"
   ]
  },
  {
   "cell_type": "code",
   "execution_count": 12,
   "id": "99d69318-da29-4807-94f7-6c69588900e4",
   "metadata": {},
   "outputs": [
    {
     "name": "stdout",
     "output_type": "stream",
     "text": [
      "256\n"
     ]
    },
    {
     "name": "stdin",
     "output_type": "stream",
     "text": [
      "Enter a number in between 1 to 1000: 256\n"
     ]
    },
    {
     "name": "stdout",
     "output_type": "stream",
     "text": [
      "Congrats! You guessed right number\n",
      "Total numbers of attempts: 1\n"
     ]
    }
   ],
   "source": [
    "from random import randint as ri\n",
    "random_num = ri(1, 1000)\n",
    "print(random_num)\n",
    "user_num = int(input('Enter a number in between 1 to 1000:'))\n",
    "attempts = 1\n",
    "while random_num != user_num:\n",
    "    if random_num < user_num:\n",
    "        print(f\"{user_num} is too high. Try again.\")\n",
    "    else:\n",
    "        print(f\"{user_num} is too low. Try again.\")\n",
    "    user_num = int(input('Enter a number in between 1 to 1000:'))\n",
    "    attempts += 1\n",
    "\n",
    "print(f\"Congrats! You guessed right number\")\n",
    "print(f\"Total numbers of attempts: {attempts}\")"
   ]
  },
  {
   "cell_type": "code",
   "execution_count": null,
   "id": "0e98b957-e309-4587-adb4-efd57029be0a",
   "metadata": {},
   "outputs": [],
   "source": []
  }
 ],
 "metadata": {
  "kernelspec": {
   "display_name": "Python 3 (ipykernel)",
   "language": "python",
   "name": "python3"
  },
  "language_info": {
   "codemirror_mode": {
    "name": "ipython",
    "version": 3
   },
   "file_extension": ".py",
   "mimetype": "text/x-python",
   "name": "python",
   "nbconvert_exporter": "python",
   "pygments_lexer": "ipython3",
   "version": "3.11.7"
  }
 },
 "nbformat": 4,
 "nbformat_minor": 5
}
