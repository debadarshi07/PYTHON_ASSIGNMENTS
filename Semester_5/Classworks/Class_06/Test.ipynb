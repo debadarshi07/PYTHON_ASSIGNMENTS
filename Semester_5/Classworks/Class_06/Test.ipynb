{
 "cells": [
  {
   "cell_type": "code",
   "execution_count": 10,
   "id": "fac387da-3d97-445c-bf54-aae8ce6bf949",
   "metadata": {},
   "outputs": [
    {
     "name": "stdin",
     "output_type": "stream",
     "text": [
      "Enter 0 for fail and 1 for pass for student A:  8\n"
     ]
    },
    {
     "name": "stdout",
     "output_type": "stream",
     "text": [
      "Enter valid input\n"
     ]
    },
    {
     "name": "stdin",
     "output_type": "stream",
     "text": [
      "Enter 0 for fail and 1 for pass for student A:  1\n",
      "Enter 0 for fail and 1 for pass for student B:  1\n",
      "Enter 0 for fail and 1 for pass for student C:  3\n"
     ]
    },
    {
     "name": "stdout",
     "output_type": "stream",
     "text": [
      "Enter valid input\n"
     ]
    },
    {
     "name": "stdin",
     "output_type": "stream",
     "text": [
      "Enter 0 for fail and 1 for pass for student C:  3\n"
     ]
    },
    {
     "name": "stdout",
     "output_type": "stream",
     "text": [
      "Enter valid input\n"
     ]
    },
    {
     "name": "stdin",
     "output_type": "stream",
     "text": [
      "Enter 0 for fail and 1 for pass for student C:  3\n"
     ]
    },
    {
     "name": "stdout",
     "output_type": "stream",
     "text": [
      "Enter valid input\n"
     ]
    },
    {
     "name": "stdin",
     "output_type": "stream",
     "text": [
      "Enter 0 for fail and 1 for pass for student C:  3\n"
     ]
    },
    {
     "name": "stdout",
     "output_type": "stream",
     "text": [
      "Enter valid input\n"
     ]
    },
    {
     "name": "stdin",
     "output_type": "stream",
     "text": [
      "Enter 0 for fail and 1 for pass for student C:  1\n",
      "Enter 0 for fail and 1 for pass for student D:  1\n",
      "Enter 0 for fail and 1 for pass for student E:  1\n",
      "Enter 0 for fail and 1 for pass for student F:  1\n",
      "Enter 0 for fail and 1 for pass for student G:  1\n",
      "Enter 0 for fail and 1 for pass for student H:  1\n",
      "Enter 0 for fail and 1 for pass for student I:  1\n",
      "Enter 0 for fail and 1 for pass for student J:  1\n"
     ]
    },
    {
     "name": "stdout",
     "output_type": "stream",
     "text": [
      "Bonus to instructor\n"
     ]
    }
   ],
   "source": [
    "passed_students , failed_students = 0, 0\n",
    "\n",
    "students = ['A', 'B', 'C', 'D', 'E', 'F', 'G', 'H', 'I', 'J']\n",
    "\n",
    "for x in students: \n",
    "    result = int(input(f\"Enter 0 for fail and 1 for pass for student {x}: \"))\n",
    "    \n",
    "    if result == 0 or result == 1:\n",
    "        if result == 0:\n",
    "            failed_students += 1\n",
    "        else: \n",
    "            passed_students += 1\n",
    "\n",
    "    else:\n",
    "        while (result != 0 and result != 1):\n",
    "            print(\"Enter valid input\")\n",
    "            result = int(input(f\"Enter 0 for fail and 1 for pass for student {x}: \"))\n",
    "\n",
    "        if result == 0:\n",
    "            failed_students += 1\n",
    "        else: \n",
    "            passed_students += 1\n",
    "        \n",
    "    \n",
    "if passed_students >= 8:\n",
    "    print(\"Bonus to instructor\")\n",
    "else: \n",
    "    print(\"No bonus to instructor\")"
   ]
  },
  {
   "cell_type": "code",
   "execution_count": null,
   "id": "3161eac8-8e05-40b5-8911-e19117ef7c98",
   "metadata": {},
   "outputs": [],
   "source": [
    "passed_students , failed_students = 0, 0\n",
    "students = ['A', 'B', 'C', 'D', 'E', 'F', 'G', 'H', 'I', 'J']\n",
    "\n",
    "for x in students:\n",
    "    result = int(input(f\"Enter result of student {x}: \"))\n",
    "    \n",
    "    while result != 0 and result != 1:\n",
    "        result = int(input(f\"Enter valid result for student {x}: \"))\n",
    "\n",
    "    if result == 0:\n",
    "        failed_students += 1\n",
    "    else: \n",
    "        passed_students += 1\n",
    "\n",
    "print(f\"{passed_students} students have passed the exam. Hence, Bonus to instructor\") if passed_students >= 8 else print(f\"{passed_students} students have passed the exam. Hence, No bonus to instructor\")"
   ]
  },
  {
   "cell_type": "code",
   "execution_count": 24,
   "id": "b9aeff09-0d53-489f-94a6-092f508552ce",
   "metadata": {},
   "outputs": [
    {
     "name": "stdin",
     "output_type": "stream",
     "text": [
      "Enter number:  3\n"
     ]
    },
    {
     "name": "stdout",
     "output_type": "stream",
     "text": [
      "Odd\n"
     ]
    },
    {
     "name": "stdin",
     "output_type": "stream",
     "text": [
      "Enter number:  3\n"
     ]
    },
    {
     "name": "stdout",
     "output_type": "stream",
     "text": [
      "Odd\n"
     ]
    }
   ],
   "source": [
    "for i in range (2):\n",
    "    num = int(input(\"Enter number: \"))\n",
    "    print(\"Even\") if num % 2 == 0 else print(\"Odd\")"
   ]
  },
  {
   "cell_type": "code",
   "execution_count": 29,
   "id": "4d521256-f9ca-41ab-9eba-e6f9fd37901f",
   "metadata": {},
   "outputs": [
    {
     "name": "stdout",
     "output_type": "stream",
     "text": [
      "99 88 77 66 55 44 33 22 11 0 "
     ]
    }
   ],
   "source": [
    "for i in range (99, -1, -11):\n",
    "    print(i, end = \" \")"
   ]
  },
  {
   "cell_type": "code",
   "execution_count": 33,
   "id": "82957c9c-da31-40ea-bff2-3ecd9d30d99f",
   "metadata": {},
   "outputs": [
    {
     "name": "stdout",
     "output_type": "stream",
     "text": [
      "0.30000000000000004\n"
     ]
    }
   ],
   "source": [
    "print((0.1 + 0.2))"
   ]
  },
  {
   "cell_type": "code",
   "execution_count": 38,
   "id": "388b8e95-27af-46ab-9994-ea706a5b98c3",
   "metadata": {},
   "outputs": [
    {
     "name": "stdout",
     "output_type": "stream",
     "text": [
      "0.4\n"
     ]
    }
   ],
   "source": [
    "from decimal import Decimal as d\n",
    "\n",
    "print(0.1 + 0.3)"
   ]
  },
  {
   "cell_type": "code",
   "execution_count": null,
   "id": "9cfb5c6f-7fda-4894-89fc-e21a8386f618",
   "metadata": {},
   "outputs": [],
   "source": []
  }
 ],
 "metadata": {
  "kernelspec": {
   "display_name": "Python 3 (ipykernel)",
   "language": "python",
   "name": "python3"
  },
  "language_info": {
   "codemirror_mode": {
    "name": "ipython",
    "version": 3
   },
   "file_extension": ".py",
   "mimetype": "text/x-python",
   "name": "python",
   "nbconvert_exporter": "python",
   "pygments_lexer": "ipython3",
   "version": "3.11.7"
  }
 },
 "nbformat": 4,
 "nbformat_minor": 5
}
