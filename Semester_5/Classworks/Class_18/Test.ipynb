{
 "cells": [
  {
   "cell_type": "code",
   "execution_count": 7,
   "id": "377b6134-8852-4f4b-82bb-e70b009ae3fd",
   "metadata": {},
   "outputs": [
    {
     "name": "stdout",
     "output_type": "stream",
     "text": [
      "{'Australia': 'Ar', 'India': 'In'}\n",
      "{'Australia': 'Au', 'India': 'In'}\n",
      "{'Australia': 'Au', 'India': 'In', 'Canada': 'Ca', 'USA': 'Us'}\n"
     ]
    }
   ],
   "source": [
    "country_codes = {}\n",
    "\n",
    "country_codes.update({'Australia': 'Ar', 'India': 'In'})\n",
    "print(country_codes)\n",
    "\n",
    "country_codes.update(Australia = 'Au')\n",
    "print(country_codes)\n",
    "\n",
    "country_codes.update([('Canada', 'Ca'), ('USA', 'Us')])\n",
    "print(country_codes)"
   ]
  },
  {
   "cell_type": "code",
   "execution_count": 10,
   "id": "5d481594-6a3a-4471-b469-26ad42a61f6a",
   "metadata": {},
   "outputs": [
    {
     "name": "stdout",
     "output_type": "stream",
     "text": [
      "{1: 'Jan', 2: 'Feb', 3: 'Mar'}\n"
     ]
    }
   ],
   "source": [
    "months = {'Jan': 1, 'Feb': 2, 'Mar': 3}\n",
    "months1 = {num:name for name, num in months.items()}\n",
    "print(months1)"
   ]
  },
  {
   "cell_type": "code",
   "execution_count": 20,
   "id": "0a06d1e5-ecca-4df3-962a-ffac9327715e",
   "metadata": {},
   "outputs": [
    {
     "name": "stdout",
     "output_type": "stream",
     "text": [
      "{'a': 3, 'b': 4}\n",
      "True\n"
     ]
    }
   ],
   "source": [
    "d = {'a': [1,2,3], 'b': [4,5,6,7]}\n",
    "d1 = {key : len(value) for key, value in d.items()}\n",
    "print(d1)\n",
    "print('a' in d)"
   ]
  },
  {
   "cell_type": "code",
   "execution_count": 19,
   "id": "5d9a6235-03a9-4893-9b61-59c8ab4371a7",
   "metadata": {},
   "outputs": [
    {
     "name": "stdout",
     "output_type": "stream",
     "text": [
      "{1, 2, 3, 4, 5}\n",
      "{1, 2, 3, 4, 5}\n",
      "5\n",
      "True\n"
     ]
    }
   ],
   "source": [
    "# SET\n",
    "n_set = {1,2,3,4,5}\n",
    "print(n_set)\n",
    "n_set = {1,2,2,2,1,3,4,5,5,5}\n",
    "print(n_set)\n",
    "print(len(n_set))\n",
    "print(3 in n_set)"
   ]
  },
  {
   "cell_type": "code",
   "execution_count": 24,
   "id": "8d8f77bf-43b9-4ea4-a4f1-6bec00ed4e92",
   "metadata": {},
   "outputs": [
    {
     "name": "stdout",
     "output_type": "stream",
     "text": [
      "[0, 1, 2, 3, 4, 5, 6, 7, 8, 9, 5, 6, 7, 8, 9, 10, 11]\n"
     ]
    }
   ],
   "source": [
    "l = list(range(10)) + list(range(5, 12))\n",
    "print(l)"
   ]
  },
  {
   "cell_type": "code",
   "execution_count": 32,
   "id": "d7911d15-7d31-4193-b6f9-92bd1245a862",
   "metadata": {},
   "outputs": [
    {
     "name": "stdout",
     "output_type": "stream",
     "text": [
      "({1, 2}, {2, 3, 4})\n",
      "{frozenset({2, 3, 4}), frozenset({1, 2})}\n"
     ]
    }
   ],
   "source": [
    "s1 = {1,2}\n",
    "s2 = {2,3,4}\n",
    "#s = {s1, s2}   # Error\n",
    "print(s)\n",
    "\n",
    "s1 = frozenset(s1)\n",
    "s2 = frozenset(s2)\n",
    "s = {s1, s2}\n",
    "print(s)"
   ]
  },
  {
   "cell_type": "code",
   "execution_count": 40,
   "id": "809209cf-be2a-4aec-a9b6-a8b1677ef9da",
   "metadata": {},
   "outputs": [
    {
     "name": "stdout",
     "output_type": "stream",
     "text": [
      "s1 == s2: True , s1 != s2: False , s1 < s2: False , s1 <= s2: True\n"
     ]
    }
   ],
   "source": [
    "s1 = {1,2,3}\n",
    "s2 = {1,1,2,3,3}\n",
    "print(f\"s1 == s2: {s1 == s2} , s1 != s2: {s1 != s2} , s1 < s2: {s1 < s2} , s1 <= s2: {s1 <= s2}\")"
   ]
  },
  {
   "cell_type": "code",
   "execution_count": 55,
   "id": "0d9a13ae-e5e8-46d5-aa0c-dd1d294bb40f",
   "metadata": {},
   "outputs": [
    {
     "name": "stdout",
     "output_type": "stream",
     "text": [
      "Set1: {2, 3, 4, 7, 8}\n",
      "Set2: {1, 3, 5, 7}\n",
      "\n",
      "Union\n",
      "{1, 2, 3, 4, 5, 7, 8}\n",
      "{1, 2, 3, 4, 5, 7, 8}\n",
      "\n",
      "Intersection\n",
      "{3, 7}\n",
      "{3, 7}\n",
      "\n",
      "Difference\n",
      "{8, 2, 4}\n",
      "{8, 2, 4}\n",
      "\n",
      "Symmetric Difference\n",
      "{1, 2, 4, 5, 8}\n",
      "{1, 2, 4, 5, 8}\n"
     ]
    }
   ],
   "source": [
    "s1 = {2,3,4,7,8}\n",
    "s2 = {1,5,7,3}\n",
    "print(f\"Set1: {s1}\")\n",
    "print(f\"Set2: {s2}\\n\")\n",
    "\n",
    "print(\"Union\")\n",
    "print(f\"{s1.union(s2)}\")\n",
    "print(f\"{s1 | s2}\\n\")\n",
    "\n",
    "print(\"Intersection\")\n",
    "print(f\"{s1.intersection(s2)}\")\n",
    "print(f\"{s1 & s2}\\n\")\n",
    "\n",
    "print(\"Difference\")\n",
    "print(f\"{s1.difference(s2)}\")\n",
    "print(f\"{s1 - s2}\\n\")\n",
    "\n",
    "print(\"Symmetric Difference\")\n",
    "print(f\"{s1.symmetric_difference(s2)}\")\n",
    "print(f\"{s1 ^ s2}\")"
   ]
  },
  {
   "cell_type": "code",
   "execution_count": 75,
   "id": "475c42c3-112c-49db-9b43-479352149c5d",
   "metadata": {},
   "outputs": [
    {
     "name": "stdout",
     "output_type": "stream",
     "text": [
      "Range                Student\n",
      "15 - 19              21\n",
      "20 - 24              13\n",
      "10 - 14              14\n",
      "5 - 9                5\n",
      "0 - 4                4\n",
      "25 - 30              2\n",
      "\n",
      "Strength of class is 59\n",
      "[21, 13, 14, 5, 4, 2]\n"
     ]
    }
   ],
   "source": [
    "marks = [16,18,23,12,17,14,7,0,23,11,21,19,22,15,7,14,9,12,11,10,26,19,11,14,4,12,22,18,17,7,20,23,23,18,24,23,19,19\n",
    "         ,11,15,22,17,17,17,18,16,3,13,2,11,22,21,10,27,8,17,15,15,15]\n",
    "\n",
    "ranges = {}\n",
    "\n",
    "for mark in marks:\n",
    "    if 0 <= mark <= 4:\n",
    "        ranges['0 - 4'] = ranges.get('0 - 4', 0) + 1\n",
    "    elif 5 <= mark <= 9:\n",
    "        ranges['5 - 9'] = ranges.get('5 - 9', 0) + 1\n",
    "    elif 10 <= mark <= 14:\n",
    "        ranges['10 - 14'] = ranges.get('10 - 14', 0) + 1\n",
    "    elif 15 <= mark <= 19:\n",
    "        ranges['15 - 19'] = ranges.get('15 - 19', 0) + 1\n",
    "    elif 20 <= mark <= 24:\n",
    "        ranges['20 - 24'] = ranges.get('20 - 24', 0) + 1\n",
    "    elif 25 <= mark <= 30:\n",
    "        ranges['25 - 30'] = ranges.get('25 - 30', 0) + 1\n",
    "\n",
    "print(f\"Range                Student\")\n",
    "for key, value in ranges.items():\n",
    "    print(f\"{key:<20} {value}\")\n",
    "\n",
    "print(f\"\\nStrength of class is {sum(ranges.values())}\")"
   ]
  },
  {
   "cell_type": "code",
   "execution_count": 79,
   "id": "737c5252-af97-4154-9c1f-977a607453c0",
   "metadata": {},
   "outputs": [
    {
     "name": "stdout",
     "output_type": "stream",
     "text": [
      "Range                Student\n",
      "0-4                  4\n",
      "5-9                  5\n",
      "10-14                14\n",
      "15-19                21\n",
      "20-24                13\n",
      "25-30                2\n"
     ]
    }
   ],
   "source": [
    "marks = [16,18,23,12,17,14,7,0,23,11,21,19,22,15,7,14,9,12,11,10,26,19,11,14,4,12,22,18,17,7,20,23,23,18,24,23,19,19\n",
    "         ,11,15,22,17,17,17,18,16,3,13,2,11,22,21,10,27,8,17,15,15,15]\n",
    "keys = ['0-4', '5-9', '10-14', '15-19', '20-24', '25-30']\n",
    "mark_ranges = {key:0 for key in keys}\n",
    "\n",
    "for mark in marks:\n",
    "    if 0 <= mark <= 4:\n",
    "        mark_ranges['0-4'] += 1\n",
    "    elif 5 <= mark <= 9:\n",
    "        mark_ranges['5-9'] += 1\n",
    "    elif 10 <= mark <= 14:\n",
    "        mark_ranges['10-14'] += 1\n",
    "    elif 15 <= mark <= 19:\n",
    "        mark_ranges['15-19'] += 1\n",
    "    elif 20 <= mark <= 24:\n",
    "        mark_ranges['20-24'] += 1\n",
    "    elif 25 <= mark <= 30:\n",
    "        mark_ranges['25-30'] += 1\n",
    "\n",
    "print(f\"Range                Student\")\n",
    "for key, value in mark_ranges.items():\n",
    "    print(f\"{key:<20} {value}\")"
   ]
  },
  {
   "cell_type": "code",
   "execution_count": 131,
   "id": "34f32cc5-a542-4c72-8672-89872a6daa89",
   "metadata": {},
   "outputs": [
    {
     "data": {
      "image/png": "[encoded data removed]",
      "text/plain": [
       "<Figure size 640x480 with 1 Axes>"
      ]
     },
     "metadata": {},
     "output_type": "display_data"
    }
   ],
   "source": [
    "import matplotlib.pyplot as plt\n",
    "from random import random as r\n",
    "\n",
    "colors = [tuple(r() for _ in range(3)) for i in range(len(keys))]\n",
    "\n",
    "plt.title(\"Section 28 Marks\")\n",
    "plt.xlabel('Ranges')\n",
    "plt.ylabel('Students')\n",
    "plt.ylim(top = max(mark_ranges.values()) * 1.2)\n",
    "plt.bar(keys, mark_ranges.values(), color = colors, edgecolor = 'black')\n",
    "\n",
    "for i, v in enumerate(mark_ranges.values()):\n",
    "    plt.text(i, v + 0.5, f\"{v}\")"
   ]
  }
 ],
 "metadata": {
  "kernelspec": {
   "display_name": "Python 3 (ipykernel)",
   "language": "python",
   "name": "python3"
  },
  "language_info": {
   "codemirror_mode": {
    "name": "ipython",
    "version": 3
   },
   "file_extension": ".py",
   "mimetype": "text/x-python",
   "name": "python",
   "nbconvert_exporter": "python",
   "pygments_lexer": "ipython3",
   "version": "3.12.7"
  }
 },
 "nbformat": 4,
 "nbformat_minor": 5
}
