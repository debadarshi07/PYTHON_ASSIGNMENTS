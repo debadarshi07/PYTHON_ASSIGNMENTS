{
 "cells": [
  {
   "cell_type": "code",
   "execution_count": 1,
   "id": "619c7e71-0e65-4987-ad2b-5e3873f71506",
   "metadata": {},
   "outputs": [],
   "source": [
    "import re"
   ]
  },
  {
   "cell_type": "code",
   "execution_count": 2,
   "id": "a0a35ba3-64f9-447b-b835-1bcccee99657",
   "metadata": {},
   "outputs": [],
   "source": [
    "def is_valid_url(url):\n",
    "    url_pattern = re.compile(\n",
    "        r'^(https?:\\/\\/)?'\n",
    "        r'([a-zA-Z0-9-]+\\.)+[a-zA-Z]{2,}'\n",
    "        r'(:\\d+)?'\n",
    "        r'(\\/[^\\s]*)?$',\n",
    "        re.IGNORECASE\n",
    "    )\n",
    "    return bool(url_pattern.match(url))"
   ]
  },
  {
   "cell_type": "code",
   "execution_count": 3,
   "id": "2dbaf798-6b2e-44ce-a914-35f6a059da70",
   "metadata": {},
   "outputs": [
    {
     "name": "stdout",
     "output_type": "stream",
     "text": [
      "'https://www.example.com' is a valid URL: True\n",
      "'http://example' is a valid URL: False\n",
      "'www.example.com' is a valid URL: True\n",
      "'example.com' is a valid URL: True\n",
      "'https://example.com/path/to/resource' is a valid URL: True\n",
      "'not-a-url' is a valid URL: False\n"
     ]
    }
   ],
   "source": [
    "test_urls = [\n",
    "    \"https://www.example.com\",\n",
    "    \"http://example\",\n",
    "    \"www.example.com\",\n",
    "    \"example.com\",\n",
    "    \"https://example.com/path/to/resource\",\n",
    "    \"not-a-url\"\n",
    "]\n",
    "for url in test_urls:\n",
    "    print(f\"'{url}' is a valid URL: {is_valid_url(url)}\")"
   ]
  }
 ],
 "metadata": {
  "kernelspec": {
   "display_name": "Python 3 (ipykernel)",
   "language": "python",
   "name": "python3"
  },
  "language_info": {
   "codemirror_mode": {
    "name": "ipython",
    "version": 3
   },
   "file_extension": ".py",
   "mimetype": "text/x-python",
   "name": "python",
   "nbconvert_exporter": "python",
   "pygments_lexer": "ipython3",
   "version": "3.12.7"
  }
 },
 "nbformat": 4,
 "nbformat_minor": 5
}
