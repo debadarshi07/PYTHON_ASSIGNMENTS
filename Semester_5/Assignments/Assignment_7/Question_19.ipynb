{
 "cells": [
  {
   "cell_type": "code",
   "execution_count": 2,
   "id": "321189bc-39ee-417f-a696-6bbfe191dcac",
   "metadata": {},
   "outputs": [
    {
     "name": "stdout",
     "output_type": "stream",
     "text": [
      "Output (a): 13\n",
      "Output (b): 44\n",
      "Output (c): Knowledge Is Power. Power Is Gained Through Knowledge.\n",
      "Output (d): knowledge is power. power is gained through knowledge.\n",
      "Output (e): KNOWLEDGE IS POWER. POWER IS GAINED THROUGH KNOWLEDGE.\n",
      "Output (f): True\n",
      "Output (g): ['Knowledge', 'is', 'power.', 'Power', 'is', 'gained', 'through', 'knowledge.']\n",
      "Output (h): ('Knowledge ', 'is', ' power. Power is gained through knowledge.')\n",
      "Output (i): False\n"
     ]
    }
   ],
   "source": [
    "quote = \"Knowledge is power. Power is gained through knowledge.\"\n",
    "\n",
    "# (a) Find the first occurrence of 'power'\n",
    "print(\"Output (a):\", quote.find('power'))\n",
    "\n",
    "# (b) Find the last occurrence of 'knowledge'\n",
    "print(\"Output (b):\", quote.rfind('knowledge'))\n",
    "\n",
    "# (c) Title case the string\n",
    "print(\"Output (c):\", quote.title())\n",
    "\n",
    "# (d) Convert the string to lowercase\n",
    "print(\"Output (d):\", quote.lower())\n",
    "\n",
    "# (e) Convert the string to uppercase\n",
    "print(\"Output (e):\", quote.upper())\n",
    "\n",
    "# (f) Check if the string ends with 'knowledge.'\n",
    "print(\"Output (f):\", quote.endswith('knowledge.'))\n",
    "\n",
    "# (g) Split the string by spaces\n",
    "print(\"Output (g):\", quote.split(' '))\n",
    "\n",
    "# (h) Partition the string at the first occurrence of 'is'\n",
    "print(\"Output (h):\", quote.partition('is'))\n",
    "\n",
    "# (i) Check if the string contains only alphabetic characters\n",
    "print(\"Output (i):\", quote.isalpha())"
   ]
  }
 ],
 "metadata": {
  "kernelspec": {
   "display_name": "Python 3 (ipykernel)",
   "language": "python",
   "name": "python3"
  },
  "language_info": {
   "codemirror_mode": {
    "name": "ipython",
    "version": 3
   },
   "file_extension": ".py",
   "mimetype": "text/x-python",
   "name": "python",
   "nbconvert_exporter": "python",
   "pygments_lexer": "ipython3",
   "version": "3.12.7"
  }
 },
 "nbformat": 4,
 "nbformat_minor": 5
}
