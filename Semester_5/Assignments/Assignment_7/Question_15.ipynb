{
 "cells": [
  {
   "cell_type": "code",
   "execution_count": 1,
   "id": "82dec2fd-09bf-445c-959d-a78d1bf209fe",
   "metadata": {},
   "outputs": [],
   "source": [
    "from collections import Counter"
   ]
  },
  {
   "cell_type": "code",
   "execution_count": 7,
   "id": "22e2448b-99f6-4beb-95e6-4a7123826941",
   "metadata": {},
   "outputs": [],
   "source": [
    "def substrings_with_frequency(s, freq):\n",
    "    count = Counter(s)\n",
    "    result = [char * freq for char in count if count[char] == freq]\n",
    "    print(f\"Substrings with frequency {freq}: {result}\")"
   ]
  },
  {
   "cell_type": "code",
   "execution_count": 8,
   "id": "8ebd9afd-bdde-440e-8223-47dc9002d0b4",
   "metadata": {},
   "outputs": [
    {
     "name": "stdout",
     "output_type": "stream",
     "text": [
      "Substrings with frequency 4: ['cccc']\n"
     ]
    }
   ],
   "source": [
    "substrings_with_frequency('aabbbccccddddd', 4)"
   ]
  }
 ],
 "metadata": {
  "kernelspec": {
   "display_name": "Python 3 (ipykernel)",
   "language": "python",
   "name": "python3"
  },
  "language_info": {
   "codemirror_mode": {
    "name": "ipython",
    "version": 3
   },
   "file_extension": ".py",
   "mimetype": "text/x-python",
   "name": "python",
   "nbconvert_exporter": "python",
   "pygments_lexer": "ipython3",
   "version": "3.12.7"
  }
 },
 "nbformat": 4,
 "nbformat_minor": 5
}
