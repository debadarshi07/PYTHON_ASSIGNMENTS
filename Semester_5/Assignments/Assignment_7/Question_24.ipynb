{
 "cells": [
  {
   "cell_type": "code",
   "execution_count": 8,
   "id": "73adf9f9-28d0-4e44-abed-35e68baf52e3",
   "metadata": {},
   "outputs": [],
   "source": [
    "from collections import Counter\n",
    "def max_frequency_char(s):\n",
    "    freq = Counter(s)\n",
    "    max_char = max(freq, key=freq.get)\n",
    "    return max_char, freq[max_char]"
   ]
  },
  {
   "cell_type": "code",
   "execution_count": 9,
   "id": "38503b21-8201-4418-a214-c4097b438038",
   "metadata": {},
   "outputs": [
    {
     "name": "stdin",
     "output_type": "stream",
     "text": [
      "Enter a string:  Debadarshi Omkar\n"
     ]
    },
    {
     "name": "stdout",
     "output_type": "stream",
     "text": [
      "The character with the maximum frequency is 'a' with a frequency of 3.\n"
     ]
    }
   ],
   "source": [
    "s = input(\"Enter a string: \")\n",
    "char, frequency = max_frequency_char(s)\n",
    "print(f\"The character with the maximum frequency is '{char}' with a frequency of {frequency}.\")"
   ]
  }
 ],
 "metadata": {
  "kernelspec": {
   "display_name": "Python 3 (ipykernel)",
   "language": "python",
   "name": "python3"
  },
  "language_info": {
   "codemirror_mode": {
    "name": "ipython",
    "version": 3
   },
   "file_extension": ".py",
   "mimetype": "text/x-python",
   "name": "python",
   "nbconvert_exporter": "python",
   "pygments_lexer": "ipython3",
   "version": "3.12.7"
  }
 },
 "nbformat": 4,
 "nbformat_minor": 5
}
