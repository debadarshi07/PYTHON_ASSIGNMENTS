{
 "cells": [
  {
   "cell_type": "code",
   "execution_count": 1,
   "id": "9eb9c102-4e96-4b63-b51e-a796971da7f3",
   "metadata": {},
   "outputs": [],
   "source": [
    "def remove_extra_spaces(sentence):\n",
    "    cleaned_sentence = \" \".join(sentence.split())\n",
    "    return cleaned_sentence"
   ]
  },
  {
   "cell_type": "code",
   "execution_count": 5,
   "id": "242188ab-c8a4-44df-a7b5-0484418114ca",
   "metadata": {},
   "outputs": [
    {
     "name": "stdout",
     "output_type": "stream",
     "text": [
      "Original: 'Hello    World   this  is   Python   Assignment 7'\n",
      "Cleaned: 'Hello World this is Python Assignment 7'\n"
     ]
    }
   ],
   "source": [
    "sentence = \"Hello    World   this  is   Python   Assignment 7\"\n",
    "result = remove_extra_spaces(sentence)\n",
    "print(f\"Original: '{sentence}'\")\n",
    "print(f\"Cleaned: '{result}'\")"
   ]
  }
 ],
 "metadata": {
  "kernelspec": {
   "display_name": "Python 3 (ipykernel)",
   "language": "python",
   "name": "python3"
  },
  "language_info": {
   "codemirror_mode": {
    "name": "ipython",
    "version": 3
   },
   "file_extension": ".py",
   "mimetype": "text/x-python",
   "name": "python",
   "nbconvert_exporter": "python",
   "pygments_lexer": "ipython3",
   "version": "3.12.7"
  }
 },
 "nbformat": 4,
 "nbformat_minor": 5
}
