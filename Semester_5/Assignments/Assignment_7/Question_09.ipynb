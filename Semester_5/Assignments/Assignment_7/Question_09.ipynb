{
 "cells": [
  {
   "cell_type": "code",
   "execution_count": 1,
   "id": "0730de58-8e17-4761-8cbd-e52da9fd9109",
   "metadata": {},
   "outputs": [],
   "source": [
    "def count_vowels_and_consonants(string):\n",
    "    vowels = 'aeiouAEIOU'\n",
    "    vowel_count = 0\n",
    "    consonant_count = 0\n",
    "\n",
    "    for char in string:\n",
    "        if char in vowels:\n",
    "            vowel_count += 1\n",
    "        elif char not in vowels and char.isalpha():\n",
    "            consonant_count += 1\n",
    "    return vowel_count, consonant_count"
   ]
  },
  {
   "cell_type": "code",
   "execution_count": 2,
   "id": "72ee5291-ede4-48a2-abdd-de9eac04da55",
   "metadata": {},
   "outputs": [
    {
     "name": "stdout",
     "output_type": "stream",
     "text": [
      "Number of vowels: 3\n",
      "Number of consonants: 7\n"
     ]
    }
   ],
   "source": [
    "text = \"Hello, World!\"\n",
    "vowels, consonants = count_vowels_and_consonants(text)\n",
    "print(f\"Number of vowels: {vowels}\")\n",
    "print(f\"Number of consonants: {consonants}\")"
   ]
  }
 ],
 "metadata": {
  "kernelspec": {
   "display_name": "Python 3 (ipykernel)",
   "language": "python",
   "name": "python3"
  },
  "language_info": {
   "codemirror_mode": {
    "name": "ipython",
    "version": 3
   },
   "file_extension": ".py",
   "mimetype": "text/x-python",
   "name": "python",
   "nbconvert_exporter": "python",
   "pygments_lexer": "ipython3",
   "version": "3.12.7"
  }
 },
 "nbformat": 4,
 "nbformat_minor": 5
}
