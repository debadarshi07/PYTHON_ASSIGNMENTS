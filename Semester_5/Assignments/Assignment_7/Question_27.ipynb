{
 "cells": [
  {
   "cell_type": "code",
   "execution_count": 2,
   "id": "d029a526-1775-4c23-94f6-7e37b35c82fe",
   "metadata": {},
   "outputs": [],
   "source": [
    "import re"
   ]
  },
  {
   "cell_type": "code",
   "execution_count": 3,
   "id": "dbe96f63-83c0-4198-8300-444a2b6c7945",
   "metadata": {},
   "outputs": [],
   "source": [
    "def count_string_components(string):\n",
    "    digits = len(re.findall(r'\\d', string))\n",
    "    non_digits = len(re.findall(r'\\D', string))\n",
    "    whitespace = len(re.findall(r'\\s', string))\n",
    "    words = len(re.findall(r'\\w+', string))\n",
    "    return digits, non_digits, whitespace, words"
   ]
  },
  {
   "cell_type": "code",
   "execution_count": 4,
   "id": "6aa37c19-4058-47be-aafc-098346172d67",
   "metadata": {},
   "outputs": [
    {
     "name": "stdin",
     "output_type": "stream",
     "text": [
      "Enter a string:  jsiodfjs84e  \n"
     ]
    },
    {
     "name": "stdout",
     "output_type": "stream",
     "text": [
      "Number of digits: 2\n",
      "Number of non-digits: 11\n",
      "Number of whitespace characters: 2\n",
      "Number of words: 1\n"
     ]
    }
   ],
   "source": [
    "s = input(\"Enter a string: \")\n",
    "digits, non_digits, whitespace, words = count_string_components(s)\n",
    "print(f\"Number of digits: {digits}\")\n",
    "print(f\"Number of non-digits: {non_digits}\")\n",
    "print(f\"Number of whitespace characters: {whitespace}\")\n",
    "print(f\"Number of words: {words}\")"
   ]
  }
 ],
 "metadata": {
  "kernelspec": {
   "display_name": "Python 3 (ipykernel)",
   "language": "python",
   "name": "python3"
  },
  "language_info": {
   "codemirror_mode": {
    "name": "ipython",
    "version": 3
   },
   "file_extension": ".py",
   "mimetype": "text/x-python",
   "name": "python",
   "nbconvert_exporter": "python",
   "pygments_lexer": "ipython3",
   "version": "3.12.7"
  }
 },
 "nbformat": 4,
 "nbformat_minor": 5
}
