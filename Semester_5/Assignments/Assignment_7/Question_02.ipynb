{
 "cells": [
  {
   "cell_type": "code",
   "execution_count": 4,
   "id": "93a11645-3827-4169-8151-5c07438f1bfb",
   "metadata": {},
   "outputs": [
    {
     "name": "stdout",
     "output_type": "stream",
     "text": [
      "True\n",
      "False\n"
     ]
    }
   ],
   "source": [
    "def are_anagrams(str1, str2):\n",
    "    str1, str2 = str1.replace(\" \", \"\").lower(), str2.replace(\" \", \"\").lower()\n",
    "    return sorted(str1) == sorted(str2)\n",
    "\n",
    "print(are_anagrams(\"integral\", \"traingle\"))\n",
    "print(are_anagrams(\"india\", \"world\"))"
   ]
  },
  {
   "cell_type": "code",
   "execution_count": 5,
   "id": "31501da0-473b-4465-9f43-6b4fb3708c50",
   "metadata": {},
   "outputs": [
    {
     "name": "stdout",
     "output_type": "stream",
     "text": [
      "True\n",
      "True\n",
      "False\n",
      "True\n"
     ]
    }
   ],
   "source": [
    "def are_anagrams(str1, str2):\n",
    "    if len(str1) != len(str2):\n",
    "        return False\n",
    "\n",
    "    count1 = {}\n",
    "    count2 = {}\n",
    "\n",
    "    for char in str1:\n",
    "        if char in count1:\n",
    "            count1[char] += 1\n",
    "        else:\n",
    "            count1[char] = 1\n",
    "\n",
    "    for char in str2:\n",
    "        if char in count2:\n",
    "            count2[char] += 1\n",
    "        else:\n",
    "            count2[char] = 1\n",
    "\n",
    "    return count1 == count2\n",
    "\n",
    "\n",
    "str1 = \"triangle\"\n",
    "str2 = \"integral\"\n",
    "print(are_anagrams(str1, str2))\n",
    "\n",
    "str1 = \"123@abc\"\n",
    "str2 = \"a1@2bc3\"\n",
    "print(are_anagrams(str1, str2))\n",
    "\n",
    "str1 = \"a b c\"\n",
    "str2 = \"abc \"\n",
    "print(are_anagrams(str1, str2))\n",
    "\n",
    "str1 = \"apple\"\n",
    "str2 = \"ppale\"\n",
    "print(are_anagrams(str1, str2))"
   ]
  }
 ],
 "metadata": {
  "kernelspec": {
   "display_name": "Python 3 (ipykernel)",
   "language": "python",
   "name": "python3"
  },
  "language_info": {
   "codemirror_mode": {
    "name": "ipython",
    "version": 3
   },
   "file_extension": ".py",
   "mimetype": "text/x-python",
   "name": "python",
   "nbconvert_exporter": "python",
   "pygments_lexer": "ipython3",
   "version": "3.12.7"
  }
 },
 "nbformat": 4,
 "nbformat_minor": 5
}
