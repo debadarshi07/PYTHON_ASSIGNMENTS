{
 "cells": [
  {
   "cell_type": "code",
   "execution_count": 3,
   "id": "827637ce-e7cf-4daa-a985-edba599cca88",
   "metadata": {},
   "outputs": [
    {
     "name": "stdout",
     "output_type": "stream",
     "text": [
      "Dibedersho Umker os en Ondoen whu os carrintly gredaetong frum OTIR.\n"
     ]
    }
   ],
   "source": [
    "def replace_vowels(string):\n",
    "    vowel_map = {'a': 'e', 'e': 'i', 'i': 'o', 'o': 'u', 'u': 'a', 'A': 'E', 'E': 'I', 'I': 'O', 'O': 'U', 'U': 'A'}\n",
    "    return ''.join([vowel_map[char] if char in vowel_map else char for char in string])\n",
    "\n",
    "text = \"Debadarshi Omkar is an Indian who is currently graduating from ITER.\"\n",
    "result = replace_vowels(text)\n",
    "print(result)"
   ]
  }
 ],
 "metadata": {
  "kernelspec": {
   "display_name": "Python 3 (ipykernel)",
   "language": "python",
   "name": "python3"
  },
  "language_info": {
   "codemirror_mode": {
    "name": "ipython",
    "version": 3
   },
   "file_extension": ".py",
   "mimetype": "text/x-python",
   "name": "python",
   "nbconvert_exporter": "python",
   "pygments_lexer": "ipython3",
   "version": "3.12.7"
  }
 },
 "nbformat": 4,
 "nbformat_minor": 5
}
