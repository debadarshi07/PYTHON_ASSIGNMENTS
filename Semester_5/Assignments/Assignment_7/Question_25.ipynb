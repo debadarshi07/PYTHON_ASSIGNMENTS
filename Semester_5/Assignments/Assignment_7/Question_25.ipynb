{
 "cells": [
  {
   "cell_type": "code",
   "execution_count": 1,
   "id": "515ddb23-bd45-40a2-b6ed-764f5e4895dc",
   "metadata": {},
   "outputs": [],
   "source": [
    "import re"
   ]
  },
  {
   "cell_type": "code",
   "execution_count": 9,
   "id": "99460a29-6c14-4aae-b0d5-39b41ef9cd7f",
   "metadata": {},
   "outputs": [],
   "source": [
    "def validate_password(password):\n",
    "    pattern = r'^(?=.*[A-Z])(?=.*[a-z])(?=.*\\d)(?=.*[!@#$%&*?]).{8,}$'\n",
    "    if re.match(pattern, password):\n",
    "        return \"Password is secure.\"\n",
    "    else:\n",
    "        return \"Password is not secure.\""
   ]
  },
  {
   "cell_type": "code",
   "execution_count": 8,
   "id": "986693d0-0a58-409f-a023-d712b240d922",
   "metadata": {},
   "outputs": [
    {
     "name": "stdin",
     "output_type": "stream",
     "text": [
      "Enter a password:  Gudiludi@174\n"
     ]
    },
    {
     "name": "stdout",
     "output_type": "stream",
     "text": [
      "Password is secure\n"
     ]
    }
   ],
   "source": [
    "password = input(\"Enter a password: \")\n",
    "result = validate_password(password)\n",
    "print(result)"
   ]
  }
 ],
 "metadata": {
  "kernelspec": {
   "display_name": "Python 3 (ipykernel)",
   "language": "python",
   "name": "python3"
  },
  "language_info": {
   "codemirror_mode": {
    "name": "ipython",
    "version": 3
   },
   "file_extension": ".py",
   "mimetype": "text/x-python",
   "name": "python",
   "nbconvert_exporter": "python",
   "pygments_lexer": "ipython3",
   "version": "3.12.7"
  }
 },
 "nbformat": 4,
 "nbformat_minor": 5
}
