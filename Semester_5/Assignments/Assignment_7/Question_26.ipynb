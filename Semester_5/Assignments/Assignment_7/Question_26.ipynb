{
 "cells": [
  {
   "cell_type": "code",
   "execution_count": 1,
   "id": "3f194d61-5e1d-45ac-9904-65ffc24dff5f",
   "metadata": {},
   "outputs": [],
   "source": [
    "import re"
   ]
  },
  {
   "cell_type": "code",
   "execution_count": 3,
   "id": "5d3c4a54-e1b6-4f42-891f-3b8b71523c51",
   "metadata": {},
   "outputs": [],
   "source": [
    "def count_string_components(string):\n",
    "    digits = len(re.findall(r'\\d', string))\n",
    "    non_digits = len(re.findall(r'\\D', string))\n",
    "    whitespace = len(re.findall(r'\\s', string))\n",
    "    words = len(re.findall(r'\\w+', string))\n",
    "    return digits, non_digits, whitespace, words"
   ]
  },
  {
   "cell_type": "code",
   "execution_count": 4,
   "id": "6f94bf44-dde8-4b7c-a6e7-672756d2b6ff",
   "metadata": {},
   "outputs": [
    {
     "name": "stdin",
     "output_type": "stream",
     "text": [
      "Enter a string:  Debadarshi 786  \n"
     ]
    },
    {
     "name": "stdout",
     "output_type": "stream",
     "text": [
      "Number of digits: 3\n",
      "Number of non-digits: 13\n",
      "Number of whitespace characters: 3\n",
      "Number of words: 2\n"
     ]
    }
   ],
   "source": [
    "s = input(\"Enter a string: \")\n",
    "digits, non_digits, whitespace, words = count_string_components(s)\n",
    "print(f\"Number of digits: {digits}\")\n",
    "print(f\"Number of non-digits: {non_digits}\")\n",
    "print(f\"Number of whitespace characters: {whitespace}\")\n",
    "print(f\"Number of words: {words}\")"
   ]
  }
 ],
 "metadata": {
  "kernelspec": {
   "display_name": "Python 3 (ipykernel)",
   "language": "python",
   "name": "python3"
  },
  "language_info": {
   "codemirror_mode": {
    "name": "ipython",
    "version": 3
   },
   "file_extension": ".py",
   "mimetype": "text/x-python",
   "name": "python",
   "nbconvert_exporter": "python",
   "pygments_lexer": "ipython3",
   "version": "3.12.7"
  }
 },
 "nbformat": 4,
 "nbformat_minor": 5
}
