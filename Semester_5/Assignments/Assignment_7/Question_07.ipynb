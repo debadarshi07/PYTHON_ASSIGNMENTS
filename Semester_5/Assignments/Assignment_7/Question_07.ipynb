{
 "cells": [
  {
   "cell_type": "code",
   "execution_count": 1,
   "id": "709e1d0d-db6c-4a86-972c-c387140fef86",
   "metadata": {},
   "outputs": [],
   "source": [
    "def palindrome(s):\n",
    "    def palindrome(check_s):\n",
    "        return check_s == check_s[::-1]\n",
    "    doubled = s + s\n",
    "    for i in range(len(s)):\n",
    "        if palindrome(doubled[i:i + len(s)]):\n",
    "            return True \n",
    "    return False"
   ]
  },
  {
   "cell_type": "code",
   "execution_count": 3,
   "id": "d851f644-6b61-499b-a3c1-a4d246eb1ccd",
   "metadata": {},
   "outputs": [
    {
     "name": "stdout",
     "output_type": "stream",
     "text": [
      "'aab' a rotational palindrome : True\n"
     ]
    }
   ],
   "source": [
    "text = \"aab\"\n",
    "result = palindrome(text)\n",
    "print(f\"'{text}' a rotational palindrome : {result}\")"
   ]
  }
 ],
 "metadata": {
  "kernelspec": {
   "display_name": "Python 3 (ipykernel)",
   "language": "python",
   "name": "python3"
  },
  "language_info": {
   "codemirror_mode": {
    "name": "ipython",
    "version": 3
   },
   "file_extension": ".py",
   "mimetype": "text/x-python",
   "name": "python",
   "nbconvert_exporter": "python",
   "pygments_lexer": "ipython3",
   "version": "3.12.7"
  }
 },
 "nbformat": 4,
 "nbformat_minor": 5
}
