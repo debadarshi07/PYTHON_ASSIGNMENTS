{
 "cells": [
  {
   "cell_type": "code",
   "execution_count": 2,
   "id": "fd6e7e9c-0a23-4585-8595-36f6fb1f484f",
   "metadata": {},
   "outputs": [],
   "source": [
    "def filter_words_starting_b_ending_d(line):\n",
    "    tokens = line.split()\n",
    "    filtered_words = [word for word in tokens if word.lower().startswith('b') and word.lower().endswith('d')]\n",
    "    return filtered_words"
   ]
  },
  {
   "cell_type": "code",
   "execution_count": 3,
   "id": "cb2f6393-1793-49cc-89af-a28897f392f2",
   "metadata": {},
   "outputs": [
    {
     "name": "stdout",
     "output_type": "stream",
     "text": [
      "Filtered words: ['bold', 'bird', 'baked', 'bread', 'beyond']\n"
     ]
    }
   ],
   "source": [
    "line = \"The bold bird baked bread beyond the border.\"\n",
    "result = filter_words_starting_b_ending_d(line)\n",
    "print(f\"Filtered words: {result}\")"
   ]
  }
 ],
 "metadata": {
  "kernelspec": {
   "display_name": "Python 3 (ipykernel)",
   "language": "python",
   "name": "python3"
  },
  "language_info": {
   "codemirror_mode": {
    "name": "ipython",
    "version": 3
   },
   "file_extension": ".py",
   "mimetype": "text/x-python",
   "name": "python",
   "nbconvert_exporter": "python",
   "pygments_lexer": "ipython3",
   "version": "3.12.7"
  }
 },
 "nbformat": 4,
 "nbformat_minor": 5
}
