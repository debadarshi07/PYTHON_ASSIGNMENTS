{
 "cells": [
  {
   "cell_type": "code",
   "execution_count": 10,
   "id": "7c468c17-6742-4fc3-9e53-7da31a28c4b4",
   "metadata": {},
   "outputs": [
    {
     "name": "stdout",
     "output_type": "stream",
     "text": [
      "Length of the longest word in sentence \"Debadarshi Omkar is and Indian. He is currently persuing B.Tech in ITER\" is 10.\n"
     ]
    }
   ],
   "source": [
    "string = 'Debadarshi Omkar is and Indian. He is currently persuing B.Tech in ITER'\n",
    "words = string.split()\n",
    "long_length = 0\n",
    "\n",
    "for word in words:\n",
    "    if len(word) > long_length:\n",
    "        long_length = len(word)\n",
    "\n",
    "print(f\"Length of the longest word in sentence \\\"{string}\\\" is {long_length}.\")"
   ]
  }
 ],
 "metadata": {
  "kernelspec": {
   "display_name": "Python 3 (ipykernel)",
   "language": "python",
   "name": "python3"
  },
  "language_info": {
   "codemirror_mode": {
    "name": "ipython",
    "version": 3
   },
   "file_extension": ".py",
   "mimetype": "text/x-python",
   "name": "python",
   "nbconvert_exporter": "python",
   "pygments_lexer": "ipython3",
   "version": "3.12.7"
  }
 },
 "nbformat": 4,
 "nbformat_minor": 5
}
