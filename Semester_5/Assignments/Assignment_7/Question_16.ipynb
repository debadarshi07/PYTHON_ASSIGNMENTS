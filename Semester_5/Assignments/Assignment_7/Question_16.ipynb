{
 "cells": [
  {
   "cell_type": "code",
   "execution_count": 3,
   "id": "516124f1-5934-4953-906a-2476cf04b155",
   "metadata": {},
   "outputs": [],
   "source": [
    "def extract_unique_sorted(s):\n",
    "    unique_chars = set(s)\n",
    "    sorted_chars = sorted(unique_chars)\n",
    "    return ', '.join(sorted_chars)"
   ]
  },
  {
   "cell_type": "code",
   "execution_count": 7,
   "id": "6cf14e08-510f-4fd9-8083-08d5a4ddcc78",
   "metadata": {},
   "outputs": [
    {
     "name": "stdout",
     "output_type": "stream",
     "text": [
      "Unique characters in sorted order:  , a, f, g, h, i, m, n, o, p, r, s, t, u, y\n"
     ]
    }
   ],
   "source": [
    "string = \"python programming is fun\"\n",
    "result = extract_unique_sorted(string)\n",
    "print(f\"Unique characters in sorted order: {result}\")"
   ]
  }
 ],
 "metadata": {
  "kernelspec": {
   "display_name": "Python 3 (ipykernel)",
   "language": "python",
   "name": "python3"
  },
  "language_info": {
   "codemirror_mode": {
    "name": "ipython",
    "version": 3
   },
   "file_extension": ".py",
   "mimetype": "text/x-python",
   "name": "python",
   "nbconvert_exporter": "python",
   "pygments_lexer": "ipython3",
   "version": "3.12.7"
  }
 },
 "nbformat": 4,
 "nbformat_minor": 5
}
