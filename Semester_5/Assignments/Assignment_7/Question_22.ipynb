{
 "cells": [
  {
   "cell_type": "code",
   "execution_count": 1,
   "id": "736fd265-c3ad-4be0-9b6d-e9dadce783d0",
   "metadata": {},
   "outputs": [],
   "source": [
    "def check_symmetric(string):\n",
    "    string = string.strip().lower()\n",
    "    return string == string[::-1]"
   ]
  },
  {
   "cell_type": "code",
   "execution_count": 4,
   "id": "1803576e-03fa-415b-b086-e6b89c344b52",
   "metadata": {},
   "outputs": [
    {
     "name": "stdin",
     "output_type": "stream",
     "text": [
      "Enter a string:  racecar\n"
     ]
    },
    {
     "name": "stdout",
     "output_type": "stream",
     "text": [
      "Symmetric\n"
     ]
    }
   ],
   "source": [
    "string = input(\"Enter a string: \")\n",
    "result = check_symmetric(string)\n",
    "print(\"Symmetric\") if result else print(\"Asymmetric\")"
   ]
  }
 ],
 "metadata": {
  "kernelspec": {
   "display_name": "Python 3 (ipykernel)",
   "language": "python",
   "name": "python3"
  },
  "language_info": {
   "codemirror_mode": {
    "name": "ipython",
    "version": 3
   },
   "file_extension": ".py",
   "mimetype": "text/x-python",
   "name": "python",
   "nbconvert_exporter": "python",
   "pygments_lexer": "ipython3",
   "version": "3.12.7"
  }
 },
 "nbformat": 4,
 "nbformat_minor": 5
}
