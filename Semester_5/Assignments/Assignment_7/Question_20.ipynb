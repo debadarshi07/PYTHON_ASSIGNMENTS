{
 "cells": [
  {
   "cell_type": "code",
   "execution_count": 8,
   "id": "05da2dcf-c86d-4006-bb1d-588bd54ca321",
   "metadata": {},
   "outputs": [
    {
     "name": "stdout",
     "output_type": "stream",
     "text": [
      "Output (a): n \n",
      "Output (b): Python Programming Language\n",
      "Output (c): No match\n",
      "Output (d): Python Programming Language\n"
     ]
    }
   ],
   "source": [
    "import re\n",
    "string1 = \"Python Programming Language\"\n",
    "\n",
    "# (a) Match any character followed by a space and an optional 'm'\n",
    "match1 = re.search('. m?', string1)\n",
    "print(\"Output (a):\", match1.group() if match1 else \"No match\")\n",
    "\n",
    "# (b) Match any character followed by 'Language' at the end\n",
    "match3 = re.search('.*Language$', string1)\n",
    "print(\"Output (b):\", match3.group() if match3 else \"No match\")\n",
    "\n",
    "# (c) Match 'w* s w*' pattern (this will not match)\n",
    "match4 = re.search(' w* s w*', string1)\n",
    "print(\"Output (c):\", match4.group() if match4 else \"No match\")\n",
    "\n",
    "# (d) Match the entire string\n",
    "match5 = re.search('.*', string1)\n",
    "print(\"Output (d):\", match5.group() if match5 else \"No match\")"
   ]
  }
 ],
 "metadata": {
  "kernelspec": {
   "display_name": "Python 3 (ipykernel)",
   "language": "python",
   "name": "python3"
  },
  "language_info": {
   "codemirror_mode": {
    "name": "ipython",
    "version": 3
   },
   "file_extension": ".py",
   "mimetype": "text/x-python",
   "name": "python",
   "nbconvert_exporter": "python",
   "pygments_lexer": "ipython3",
   "version": "3.12.7"
  }
 },
 "nbformat": 4,
 "nbformat_minor": 5
}
