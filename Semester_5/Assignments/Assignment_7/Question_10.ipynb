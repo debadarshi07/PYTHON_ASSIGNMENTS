{
 "cells": [
  {
   "cell_type": "code",
   "execution_count": 16,
   "id": "0730de58-8e17-4761-8cbd-e52da9fd9109",
   "metadata": {},
   "outputs": [],
   "source": [
    "def reverse_tokens(text):\n",
    "    tokens = text.split()\n",
    "    reversed_tokens = tokens[::-1]\n",
    "    return \" \".join(reversed_tokens)"
   ]
  },
  {
   "cell_type": "code",
   "execution_count": 17,
   "id": "2a950f56-8803-4981-b3d4-5a58f1f0f058",
   "metadata": {},
   "outputs": [
    {
     "name": "stdout",
     "output_type": "stream",
     "text": [
      "Reversed tokens: text of line example an is This\n"
     ]
    }
   ],
   "source": [
    "line = \"This is an\\texample line of\\ntext\"\n",
    "result = reverse_tokens(line)\n",
    "print(f\"Reversed tokens: {result}\")"
   ]
  }
 ],
 "metadata": {
  "kernelspec": {
   "display_name": "Python 3 (ipykernel)",
   "language": "python",
   "name": "python3"
  },
  "language_info": {
   "codemirror_mode": {
    "name": "ipython",
    "version": 3
   },
   "file_extension": ".py",
   "mimetype": "text/x-python",
   "name": "python",
   "nbconvert_exporter": "python",
   "pygments_lexer": "ipython3",
   "version": "3.12.7"
  }
 },
 "nbformat": 4,
 "nbformat_minor": 5
}
