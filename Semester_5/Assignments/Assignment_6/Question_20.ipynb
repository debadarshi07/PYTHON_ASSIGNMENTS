{
 "cells": [
  {
   "cell_type": "code",
   "execution_count": 1,
   "id": "a2c5e6fa-abba-4062-aba1-6fcbe597bb17",
   "metadata": {},
   "outputs": [],
   "source": [
    "import pandas as pd"
   ]
  },
  {
   "cell_type": "code",
   "execution_count": 3,
   "id": "a0b4fd64-a149-4ec9-8a2e-ccdb9cfa0c8e",
   "metadata": {},
   "outputs": [
    {
     "name": "stdout",
     "output_type": "stream",
     "text": [
      "Index of the smallest value: 10\n",
      "Index of the largest value: 4\n"
     ]
    }
   ],
   "source": [
    "series = pd.Series([1, 1, 3, 7, 88, 12, 88, 23, 3, 9, 0])\n",
    "min_idx = series.idxmin()\n",
    "max_idx = series.idxmax()\n",
    "\n",
    "print(\"Index of the smallest value:\", min_idx)\n",
    "print(\"Index of the largest value:\", max_idx)"
   ]
  }
 ],
 "metadata": {
  "kernelspec": {
   "display_name": "Python 3 (ipykernel)",
   "language": "python",
   "name": "python3"
  },
  "language_info": {
   "codemirror_mode": {
    "name": "ipython",
    "version": 3
   },
   "file_extension": ".py",
   "mimetype": "text/x-python",
   "name": "python",
   "nbconvert_exporter": "python",
   "pygments_lexer": "ipython3",
   "version": "3.12.7"
  }
 },
 "nbformat": 4,
 "nbformat_minor": 5
}
