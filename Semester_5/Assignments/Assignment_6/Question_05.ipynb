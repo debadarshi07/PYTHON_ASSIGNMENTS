{
 "cells": [
  {
   "cell_type": "code",
   "execution_count": 4,
   "id": "4c14631d-2c21-43e6-906c-97f7f0042e37",
   "metadata": {},
   "outputs": [
    {
     "name": "stdout",
     "output_type": "stream",
     "text": [
      "array: \n",
      "[[ 2  3  5  7 11]\n",
      " [13 17 19 23 29]]\n"
     ]
    }
   ],
   "source": [
    "import numpy as np\n",
    "\n",
    "arr = np.array([[2, 3, 5, 7, 11], [13, 17, 19, 23, 29]])\n",
    "print(f'array: \\n{arr}')"
   ]
  }
 ],
 "metadata": {
  "kernelspec": {
   "display_name": "Python 3 (ipykernel)",
   "language": "python",
   "name": "python3"
  },
  "language_info": {
   "codemirror_mode": {
    "name": "ipython",
    "version": 3
   },
   "file_extension": ".py",
   "mimetype": "text/x-python",
   "name": "python",
   "nbconvert_exporter": "python",
   "pygments_lexer": "ipython3",
   "version": "3.12.7"
  }
 },
 "nbformat": 4,
 "nbformat_minor": 5
}
