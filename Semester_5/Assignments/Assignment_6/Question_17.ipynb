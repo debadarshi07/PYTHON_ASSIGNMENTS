{
 "cells": [
  {
   "cell_type": "code",
   "execution_count": 1,
   "id": "458f841a-9bc4-4048-b742-8849861db2e4",
   "metadata": {},
   "outputs": [],
   "source": [
    "import numpy as np"
   ]
  },
  {
   "cell_type": "code",
   "execution_count": 8,
   "id": "e19baf27-8feb-452c-9e18-d093aa80071e",
   "metadata": {},
   "outputs": [
    {
     "name": "stdout",
     "output_type": "stream",
     "text": [
      "Original 4x4 array:\n",
      "[[ 4 14 13  7]\n",
      " [17 12 17 12]\n",
      " [ 2  4  4 10]\n",
      " [ 8  4 11 13]]\n",
      "\n",
      "Column-wise sorted array:\n",
      "[[ 2  4  4  7]\n",
      " [ 4  4 11 10]\n",
      " [ 8 12 13 12]\n",
      " [17 14 17 13]]\n"
     ]
    }
   ],
   "source": [
    "arr = np.random.randint(1, 20, (4, 4))\n",
    "sorted_array = np.sort(arr, axis=0)\n",
    "\n",
    "print(f\"Original 4x4 array:\\n{arr}\")\n",
    "print(f\"\\nColumn-wise sorted array:\\n{sorted_array}\")"
   ]
  }
 ],
 "metadata": {
  "kernelspec": {
   "display_name": "Python 3 (ipykernel)",
   "language": "python",
   "name": "python3"
  },
  "language_info": {
   "codemirror_mode": {
    "name": "ipython",
    "version": 3
   },
   "file_extension": ".py",
   "mimetype": "text/x-python",
   "name": "python",
   "nbconvert_exporter": "python",
   "pygments_lexer": "ipython3",
   "version": "3.12.7"
  }
 },
 "nbformat": 4,
 "nbformat_minor": 5
}
