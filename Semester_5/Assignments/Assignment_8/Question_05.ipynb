{
 "cells": [
  {
   "cell_type": "code",
   "execution_count": null,
   "id": "437b5fdd-b17f-4bc2-ac84-2dba49442992",
   "metadata": {},
   "outputs": [],
   "source": [
    "total = 0\n",
    "count = 0\n",
    "grades = []\n",
    "with open('grades.txt', 'r') as file:\n",
    "    for line in file:\n",
    "        grade = float(line.strip())\n",
    "        grades.append(grade)\n",
    "        total += grade\n",
    "        count += 1\n",
    "print(\"Grades:\")\n",
    "for grade in grades:\n",
    "    print(grade)\n",
    "if count > 0:\n",
    "    average = total / count\n",
    "    print(\"\\nTotal:\", total)\n",
    "    print(\"Count:\", count)\n",
    "    print(\"Average:\", average)\n",
    "else:\n",
    "    print(\"No grades found in the file.\")"
   ]
  }
 ],
 "metadata": {
  "kernelspec": {
   "display_name": "Python 3 (ipykernel)",
   "language": "python",
   "name": "python3"
  },
  "language_info": {
   "codemirror_mode": {
    "name": "ipython",
    "version": 3
   },
   "file_extension": ".py",
   "mimetype": "text/x-python",
   "name": "python",
   "nbconvert_exporter": "python",
   "pygments_lexer": "ipython3",
   "version": "3.12.7"
  }
 },
 "nbformat": 4,
 "nbformat_minor": 5
}
