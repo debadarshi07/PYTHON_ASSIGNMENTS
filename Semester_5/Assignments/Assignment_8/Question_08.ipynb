{
 "cells": [
  {
   "cell_type": "code",
   "execution_count": null,
   "id": "9a18f20f-df72-40e4-ab9f-c9837c2ce349",
   "metadata": {},
   "outputs": [],
   "source": [
    "import json\n",
    "def load_json_data(filename):\n",
    "    try:\n",
    "        with open(filename, 'r') as file:\n",
    "            data = json.load(file)\n",
    "            print(\"JSON data successfully loaded.\")\n",
    "            print(\"Deserialized Data:\", data)\n",
    "    except FileNotFoundError:\n",
    "        print(f\"Error: The file '{filename}' does not exist.\")\n",
    "        print(\"No valid data could be loaded.\")\n",
    "    except json.JSONDecodeError:\n",
    "        print(f\"Error: The file '{filename}' contains invalid JSON data.\")\n",
    "        print(\"No valid data could be loaded.\")\n",
    "    except Exception as e:\n",
    "        print(f\"An unexpected error occurred: {e}\")\n",
    "        print(\"No valid data could be loaded.\")\n",
    "load_json_data('data.json')"
   ]
  }
 ],
 "metadata": {
  "kernelspec": {
   "display_name": "Python 3 (ipykernel)",
   "language": "python",
   "name": "python3"
  },
  "language_info": {
   "codemirror_mode": {
    "name": "ipython",
    "version": 3
   },
   "file_extension": ".py",
   "mimetype": "text/x-python",
   "name": "python",
   "nbconvert_exporter": "python",
   "pygments_lexer": "ipython3",
   "version": "3.12.7"
  }
 },
 "nbformat": 4,
 "nbformat_minor": 5
}
