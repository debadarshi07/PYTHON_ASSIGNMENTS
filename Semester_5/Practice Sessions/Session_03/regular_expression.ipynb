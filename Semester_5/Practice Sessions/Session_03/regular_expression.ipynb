{
 "cells": [
  {
   "cell_type": "code",
   "execution_count": 207,
   "id": "6bc315a1-f795-455c-ab66-f0f041230fcd",
   "metadata": {},
   "outputs": [],
   "source": [
    "import re\n",
    "import sys"
   ]
  },
  {
   "cell_type": "code",
   "execution_count": 197,
   "id": "cc2bba47-d050-4a66-bb03-5d1d1dcbd8cb",
   "metadata": {},
   "outputs": [
    {
     "name": "stdout",
     "output_type": "stream",
     "text": [
      "Pattern matched\n"
     ]
    },
    {
     "data": {
      "text/plain": [
       "'ind33'"
      ]
     },
     "execution_count": 197,
     "metadata": {},
     "output_type": "execute_result"
    }
   ],
   "source": [
    "pattern = 'ind33'\n",
    "print('Pattern matched' if re.fullmatch(pattern, 'ind33') else 'Pattern not matched')\n",
    "re.fullmatch(pattern, 'ind33').group()  # If pattern matches completely, then it returns the matched object"
   ]
  },
  {
   "cell_type": "code",
   "execution_count": 198,
   "id": "08295a75-c2ef-443a-a1ce-51913c43f85e",
   "metadata": {},
   "outputs": [
    {
     "data": {
      "text/plain": [
       "'ind33'"
      ]
     },
     "execution_count": 198,
     "metadata": {},
     "output_type": "execute_result"
    }
   ],
   "source": [
    "re.match(pattern, 'ind3333').group()"
   ]
  },
  {
   "cell_type": "code",
   "execution_count": 199,
   "id": "e8bc9242-783f-48a7-a6ec-26aaa8552f4f",
   "metadata": {},
   "outputs": [
    {
     "data": {
      "text/plain": [
       "'ind33'"
      ]
     },
     "execution_count": 199,
     "metadata": {},
     "output_type": "execute_result"
    }
   ],
   "source": [
    "re.match(pattern, 'ind33465').group()"
   ]
  },
  {
   "cell_type": "code",
   "execution_count": 200,
   "id": "49d77f3a-2c13-4f12-b6f9-994743552e60",
   "metadata": {},
   "outputs": [
    {
     "data": {
      "text/plain": [
       "'o'"
      ]
     },
     "execution_count": 200,
     "metadata": {},
     "output_type": "execute_result"
    }
   ],
   "source": [
    "# pattern with square bracket\n",
    "pattern = '[aeiou]'\n",
    "re.match(pattern, 'oid').group()"
   ]
  },
  {
   "cell_type": "code",
   "execution_count": 201,
   "id": "9bd5279d-3751-4fa4-aa98-96557903a821",
   "metadata": {},
   "outputs": [
    {
     "data": {
      "text/plain": [
       "'dddd'"
      ]
     },
     "execution_count": 201,
     "metadata": {},
     "output_type": "execute_result"
    }
   ],
   "source": [
    "# pattern with curly bracket\n",
    "pattern = 'd{4}'\n",
    "re.match(pattern, 'dddd').group()"
   ]
  },
  {
   "cell_type": "code",
   "execution_count": 202,
   "id": "fb8950dc-bc22-4686-a862-8a69386d4b75",
   "metadata": {},
   "outputs": [
    {
     "data": {
      "text/plain": [
       "'dddd'"
      ]
     },
     "execution_count": 202,
     "metadata": {},
     "output_type": "execute_result"
    }
   ],
   "source": [
    "re.match(pattern, 'ddddu').group()"
   ]
  },
  {
   "cell_type": "code",
   "execution_count": 208,
   "id": "f54f5cae-bd42-4e46-acb1-e8e08ca0a261",
   "metadata": {},
   "outputs": [
    {
     "name": "stdout",
     "output_type": "stream",
     "text": [
      "Error: 'NoneType' object has no attribute 'group'\n"
     ]
    }
   ],
   "source": [
    "try:\n",
    "    re.fullmatch(pattern, 'ddddj').group()\n",
    "except:\n",
    "    print(f\"Error: {sys.exc_info()[1]}\")"
   ]
  },
  {
   "cell_type": "code",
   "execution_count": 205,
   "id": "fcf4cec8-358a-49bb-bee1-78e2145ef6e4",
   "metadata": {},
   "outputs": [
    {
     "data": {
      "text/plain": [
       "'ab'"
      ]
     },
     "execution_count": 205,
     "metadata": {},
     "output_type": "execute_result"
    }
   ],
   "source": [
    "# pattern with parentheses\n",
    "pattern = '(ab)'\n",
    "re.match(pattern, 'abab').group()"
   ]
  },
  {
   "cell_type": "code",
   "execution_count": 209,
   "id": "8ae13d51-5e72-418a-a115-dc25d7ffa454",
   "metadata": {},
   "outputs": [
    {
     "data": {
      "text/plain": [
       "'abbbb'"
      ]
     },
     "execution_count": 209,
     "metadata": {},
     "output_type": "execute_result"
    }
   ],
   "source": [
    "# with +\n",
    "pattern = 'ab+'\n",
    "re.match(pattern,  'abbbb').group()"
   ]
  },
  {
   "cell_type": "code",
   "execution_count": 216,
   "id": "4327f824-2c86-461c-b781-91cd4099fc61",
   "metadata": {},
   "outputs": [
    {
     "name": "stdout",
     "output_type": "stream",
     "text": [
      "Error: 'NoneType' object has no attribute 'group'\n"
     ]
    }
   ],
   "source": [
    "try:\n",
    "    re.match(pattern, 'aab').group()\n",
    "except AttributeError:\n",
    "    print(f\"Error: {sys.exc_info()[1]}\")"
   ]
  },
  {
   "cell_type": "code",
   "execution_count": 219,
   "id": "65852959-1985-4ee1-8b07-73f17640a400",
   "metadata": {},
   "outputs": [
    {
     "data": {
      "text/plain": [
       "'abababc'"
      ]
     },
     "execution_count": 219,
     "metadata": {},
     "output_type": "execute_result"
    }
   ],
   "source": [
    "# with *\n",
    "pattern = '(ab)*c'\n",
    "re.match(pattern, 'abababc').group()"
   ]
  },
  {
   "cell_type": "code",
   "execution_count": 221,
   "id": "68bfd4a7-a32a-483f-bd25-08f5e4d9d947",
   "metadata": {},
   "outputs": [
    {
     "data": {
      "text/plain": [
       "'c'"
      ]
     },
     "execution_count": 221,
     "metadata": {},
     "output_type": "execute_result"
    }
   ],
   "source": [
    "re.match(pattern, 'c').group()"
   ]
  },
  {
   "cell_type": "code",
   "execution_count": 223,
   "id": "a893b54b-668d-4035-8b01-fbcc71da2099",
   "metadata": {},
   "outputs": [
    {
     "name": "stdout",
     "output_type": "stream",
     "text": [
      "Error: 'NoneType' object has no attribute 'group'\n"
     ]
    }
   ],
   "source": [
    "try:\n",
    "    re.match(pattern, 'akak').group()\n",
    "except:\n",
    "    print(f\"Error: {sys.exc_info()[1]}\")"
   ]
  },
  {
   "cell_type": "code",
   "execution_count": 225,
   "id": "0a1b5912-7581-4129-9b6d-cee6862f4688",
   "metadata": {},
   "outputs": [
    {
     "data": {
      "text/plain": [
       "'333 Ga'"
      ]
     },
     "execution_count": 225,
     "metadata": {},
     "output_type": "execute_result"
    }
   ],
   "source": [
    "# digit pattern\n",
    "pattern = r'\\d{3}\\s\\w{2}'  # \\d for digit, \\s for space character, \\w for any alpha numeric\n",
    "re.match(pattern, '333 Gayle').group()"
   ]
  },
  {
   "cell_type": "code",
   "execution_count": 227,
   "id": "f87742aa-1e30-4893-8acd-da1e34684f0f",
   "metadata": {},
   "outputs": [
    {
     "name": "stdout",
     "output_type": "stream",
     "text": [
      "Error: 'NoneType' object has no attribute 'group'\n"
     ]
    }
   ],
   "source": [
    "try:\n",
    "    re.fullmatch(pattern, '333 Gayle').group()\n",
    "except:\n",
    "    print(f\"Error: {sys.exc_info()[1]}\")"
   ]
  },
  {
   "cell_type": "code",
   "execution_count": 235,
   "id": "cdd4c1d5-4acb-41d6-a309-cdf66b482148",
   "metadata": {},
   "outputs": [
    {
     "data": {
      "text/plain": [
       "'b'"
      ]
     },
     "execution_count": 235,
     "metadata": {},
     "output_type": "execute_result"
    }
   ],
   "source": [
    "# pattern with ?\n",
    "pattern = 'a?b'\n",
    "re.match(pattern, 'bcb').group()"
   ]
  },
  {
   "cell_type": "code",
   "execution_count": 229,
   "id": "7e7dda91-e8ad-4362-8b38-dbb73d4353cd",
   "metadata": {},
   "outputs": [],
   "source": [
    "re.match(pattern, 'a')"
   ]
  },
  {
   "cell_type": "code",
   "execution_count": 237,
   "id": "c5b2a891-28d9-4881-8008-114d6220a67a",
   "metadata": {},
   "outputs": [
    {
     "data": {
      "text/plain": [
       "'ab'"
      ]
     },
     "execution_count": 237,
     "metadata": {},
     "output_type": "execute_result"
    }
   ],
   "source": [
    "re.match(pattern, 'ab').group()"
   ]
  },
  {
   "cell_type": "code",
   "execution_count": 238,
   "id": "568c3ba5-e996-4bf9-ae14-4f722f42cec3",
   "metadata": {},
   "outputs": [
    {
     "data": {
      "text/plain": [
       "'b'"
      ]
     },
     "execution_count": 238,
     "metadata": {},
     "output_type": "execute_result"
    }
   ],
   "source": [
    "re.match(pattern, 'ba').group()"
   ]
  },
  {
   "cell_type": "code",
   "execution_count": 239,
   "id": "e0381cbc-4eb3-42dd-972d-7a1a5a73aafe",
   "metadata": {},
   "outputs": [
    {
     "data": {
      "text/plain": [
       "'i8a'"
      ]
     },
     "execution_count": 239,
     "metadata": {},
     "output_type": "execute_result"
    }
   ],
   "source": [
    "# pattern with .\n",
    "pattern = 'i.a'  # . suggests any character, one . means one character\n",
    "re.match(pattern, 'i8a').group()"
   ]
  },
  {
   "cell_type": "code",
   "execution_count": 240,
   "id": "29ebcb12-d6ed-4ec7-a8b4-232b0c3e43b5",
   "metadata": {},
   "outputs": [
    {
     "data": {
      "text/plain": [
       "'Debadarshi'"
      ]
     },
     "execution_count": 240,
     "metadata": {},
     "output_type": "execute_result"
    }
   ],
   "source": [
    "pattern = 'D.+i'\n",
    "re.match(pattern, 'Debadarshi').group()"
   ]
  },
  {
   "cell_type": "code",
   "execution_count": 324,
   "id": "fb0c2797-9b33-4699-9ce6-6accd342f7bc",
   "metadata": {},
   "outputs": [
    {
     "data": {
      "text/plain": [
       "'PM_Arvind'"
      ]
     },
     "execution_count": 324,
     "metadata": {},
     "output_type": "execute_result"
    }
   ],
   "source": [
    "# pattern with |\n",
    "pattern = 'PM_(M.+i|R.+l|A.+d)'  # either of the patterns\n",
    "re.match(pattern, 'PM_Arvind.').group()"
   ]
  },
  {
   "cell_type": "code",
   "execution_count": 242,
   "id": "dffc7548-2f89-424b-87a9-aaf861d82161",
   "metadata": {},
   "outputs": [
    {
     "data": {
      "text/plain": [
       "'a'"
      ]
     },
     "execution_count": 242,
     "metadata": {},
     "output_type": "execute_result"
    }
   ],
   "source": [
    "pattern = '[a-z]'\n",
    "re.match(pattern, 'az').group()"
   ]
  },
  {
   "cell_type": "code",
   "execution_count": 266,
   "id": "e4d3728e-edc3-46a1-a3c1-6847886c8aec",
   "metadata": {},
   "outputs": [
    {
     "data": {
      "text/plain": [
       "'A'"
      ]
     },
     "execution_count": 266,
     "metadata": {},
     "output_type": "execute_result"
    }
   ],
   "source": [
    "pattern = '[^a-z]'  # ^ at beginning negates the expression\n",
    "re.match(pattern, 'ABC').group()"
   ]
  },
  {
   "cell_type": "code",
   "execution_count": 267,
   "id": "e8a9c5d2-e0dc-47c0-9864-cd37d84f7577",
   "metadata": {},
   "outputs": [
    {
     "data": {
      "text/plain": [
       "'Deb@d@rshi Omk@r'"
      ]
     },
     "execution_count": 267,
     "metadata": {},
     "output_type": "execute_result"
    }
   ],
   "source": [
    "# re.sub()\n",
    "string = 'Debadarshi Omkar'\n",
    "re.sub('a', '@', string)"
   ]
  },
  {
   "cell_type": "code",
   "execution_count": 126,
   "id": "c97a5827-81b0-4f7a-b3b4-b778b80b3749",
   "metadata": {},
   "outputs": [
    {
     "data": {
      "text/plain": [
       "'Deb@darshi Omkar'"
      ]
     },
     "execution_count": 126,
     "metadata": {},
     "output_type": "execute_result"
    }
   ],
   "source": [
    "string = 'Debadarshi Omkar'\n",
    "re.sub('a', '@', string, count=1)"
   ]
  },
  {
   "cell_type": "code",
   "execution_count": 141,
   "id": "953b2918-19f2-4bcc-9c2a-388ef33de12c",
   "metadata": {},
   "outputs": [
    {
     "data": {
      "text/plain": [
       "['This', 'is', 'a', 'good', 'proposal']"
      ]
     },
     "execution_count": 141,
     "metadata": {},
     "output_type": "execute_result"
    }
   ],
   "source": [
    "# re.split()\n",
    "string = 'This, is a, good proposal'\n",
    "re.split(r',*\\s', string)"
   ]
  },
  {
   "cell_type": "code",
   "execution_count": 162,
   "id": "2fbd0010-319d-4c0e-a56d-a868bcfadb7c",
   "metadata": {},
   "outputs": [
    {
     "data": {
      "text/plain": [
       "'Python'"
      ]
     },
     "execution_count": 162,
     "metadata": {},
     "output_type": "execute_result"
    }
   ],
   "source": [
    "# search()\n",
    "result = re.search('Python', 'Python1 is fun')   # Searches the entire string for the first occurence of pattern\n",
    "result.group() if result else 'not found'"
   ]
  },
  {
   "cell_type": "code",
   "execution_count": 163,
   "id": "3df62d5a-5750-40d7-86f2-5f7a17887f80",
   "metadata": {},
   "outputs": [
    {
     "data": {
      "text/plain": [
       "'Python'"
      ]
     },
     "execution_count": 163,
     "metadata": {},
     "output_type": "execute_result"
    }
   ],
   "source": [
    "result = re.search('Python', 'iPython1 is fun')\n",
    "result.group() if result else 'not found'"
   ]
  },
  {
   "cell_type": "code",
   "execution_count": 165,
   "id": "14a737d5-8f25-4fac-a7b1-fec9e50b51b5",
   "metadata": {},
   "outputs": [
    {
     "data": {
      "text/plain": [
       "'Python'"
      ]
     },
     "execution_count": 165,
     "metadata": {},
     "output_type": "execute_result"
    }
   ],
   "source": [
    "# match()\n",
    "result = re.match('Python', 'Python1 is fun')   # matches the beginning of string only for the pattern matching\n",
    "result.group() if result else 'not found'"
   ]
  },
  {
   "cell_type": "code",
   "execution_count": 268,
   "id": "e4db5680-a4d3-41f5-a42f-3915c94c905e",
   "metadata": {},
   "outputs": [
    {
     "data": {
      "text/plain": [
       "'not found'"
      ]
     },
     "execution_count": 268,
     "metadata": {},
     "output_type": "execute_result"
    }
   ],
   "source": [
    "result = re.match('Python', 'iPython1 is fun')\n",
    "result.group() if result else 'not found'"
   ]
  },
  {
   "cell_type": "code",
   "execution_count": 269,
   "id": "21a9dac8-6dd3-4878-9c55-6ca9df2a68c4",
   "metadata": {},
   "outputs": [
    {
     "data": {
      "text/plain": [
       "'SAM'"
      ]
     },
     "execution_count": 269,
     "metadata": {},
     "output_type": "execute_result"
    }
   ],
   "source": [
    "result = re.search('Sam', 'SAM WHITE', flags = re.IGNORECASE )\n",
    "result.group() if result else 'not found'"
   ]
  },
  {
   "cell_type": "code",
   "execution_count": 195,
   "id": "a979d152-3dda-447e-b8e3-38bbe0a29b06",
   "metadata": {},
   "outputs": [
    {
     "data": {
      "text/plain": [
       "'Python'"
      ]
     },
     "execution_count": 195,
     "metadata": {},
     "output_type": "execute_result"
    }
   ],
   "source": [
    "# ^ and $ Anchors\n",
    "result = re.search('^Python', 'Python is fun')  # only checks if the string starts with the given pattern\n",
    "result.group() if result else 'not found'"
   ]
  },
  {
   "cell_type": "code",
   "execution_count": 270,
   "id": "9e71be67-5fd1-4f32-b590-0a979bf09367",
   "metadata": {},
   "outputs": [
    {
     "data": {
      "text/plain": [
       "'fun'"
      ]
     },
     "execution_count": 270,
     "metadata": {},
     "output_type": "execute_result"
    }
   ],
   "source": [
    "result = re.search('fun$', 'Python is fun')\n",
    "result.group() if result else 'not found'"
   ]
  },
  {
   "cell_type": "code",
   "execution_count": 273,
   "id": "76ab2761-f0e4-4a3a-82db-4e04e76fc381",
   "metadata": {},
   "outputs": [
    {
     "data": {
      "text/plain": [
       "['555-555-1234', '555-555-4321']"
      ]
     },
     "execution_count": 273,
     "metadata": {},
     "output_type": "execute_result"
    }
   ],
   "source": [
    "# findall()\n",
    "contact = 'Wally White, Home: 555-555-1234, Work: 555-555-4321'\n",
    "re.findall(r'\\d{3}-\\d{3}-\\d{4}', contact)"
   ]
  },
  {
   "cell_type": "code",
   "execution_count": 325,
   "id": "e7287599-9a53-4475-a693-c11c35538165",
   "metadata": {},
   "outputs": [
    {
     "data": {
      "text/plain": [
       "['debadarshi.omkar08@gmail.com']"
      ]
     },
     "execution_count": 325,
     "metadata": {},
     "output_type": "execute_result"
    }
   ],
   "source": [
    "contact = 'Debadarshi Omkar, Email: debadarshi.omkar08@gmail.com'\n",
    "re.findall(r'\\w+\\.{1}\\w+@\\w+\\.\\w{3}', contact)"
   ]
  }
 ],
 "metadata": {
  "kernelspec": {
   "display_name": "Python 3 (ipykernel)",
   "language": "python",
   "name": "python3"
  },
  "language_info": {
   "codemirror_mode": {
    "name": "ipython",
    "version": 3
   },
   "file_extension": ".py",
   "mimetype": "text/x-python",
   "name": "python",
   "nbconvert_exporter": "python",
   "pygments_lexer": "ipython3",
   "version": "3.12.7"
  }
 },
 "nbformat": 4,
 "nbformat_minor": 5
}
