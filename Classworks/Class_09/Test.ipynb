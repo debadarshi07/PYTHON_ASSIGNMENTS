{
 "cells": [
  {
   "cell_type": "code",
   "execution_count": 4,
   "id": "efaa0bd7-4730-46bf-a4e6-f3b24630978a",
   "metadata": {},
   "outputs": [
    {
     "name": "stdout",
     "output_type": "stream",
     "text": [
      "Triangle with sides (3, 4, 5)\n",
      "Triangle with sides (5, 12, 13)\n",
      "Triangle with sides (6, 8, 10)\n",
      "Triangle with sides (8, 15, 17)\n",
      "Triangle with sides (9, 12, 15)\n",
      "Triangle with sides (12, 16, 20)\n"
     ]
    }
   ],
   "source": [
    "for i in range(1, 21):\n",
    "    for j in range(i,21):\n",
    "        for k in range(j,21):\n",
    "            if i**2 + j**2 == k**2:\n",
    "                print(f\"Triangle with sides ({i}, {j}, {k})\")"
   ]
  },
  {
   "cell_type": "code",
   "execution_count": 4,
   "id": "d90929c8-beff-4372-950b-4f51e6e53c49",
   "metadata": {},
   "outputs": [
    {
     "name": "stdin",
     "output_type": "stream",
     "text": [
      "Enter a binary number:  1111\n"
     ]
    },
    {
     "name": "stdout",
     "output_type": "stream",
     "text": [
      "Equivalent decimal number is: 15\n"
     ]
    }
   ],
   "source": [
    "binary = int(input(\"Enter a binary number: \"))\n",
    "power,decimal = 0, 0\n",
    "while binary > 0:\n",
    "    digit = binary % 10\n",
    "    if digit == 1:\n",
    "        decimal += digit * 2**power\n",
    "    binary //= 10\n",
    "    power +=1\n",
    "\n",
    "print(f\"Equivalent decimal number is: {decimal}\")"
   ]
  },
  {
   "cell_type": "code",
   "execution_count": 10,
   "id": "6061ada0-30d9-4fba-8c10-7984188aa3c5",
   "metadata": {},
   "outputs": [
    {
     "name": "stdin",
     "output_type": "stream",
     "text": [
      "Enter total cost:  .27\n"
     ]
    },
    {
     "name": "stdout",
     "output_type": "stream",
     "text": [
      "2 quarters\n",
      "2 dimes\n",
      "3 pennies\n"
     ]
    }
   ],
   "source": [
    "cost = float(input(\"Enter total cost: \"))\n",
    "remaining = int((1-cost)*100)\n",
    "quarters = remaining // 25\n",
    "\n",
    "if quarters > 0:\n",
    "    print(f\"{quarters} quarters\")\n",
    "    remaining %= 25\n",
    "    \n",
    "dimes = remaining // 10\n",
    "if dimes > 0:\n",
    "    print(f\"{dimes} dimes\")\n",
    "    remaining %= 10\n",
    "    \n",
    "nickels = remaining // 5\n",
    "if nickels > 0:\n",
    "    print(f\"{nickels} nickels\")\n",
    "    remaining %= 5\n",
    "    \n",
    "pennies = remaining // 1\n",
    "if pennies > 0:\n",
    "    print(f\"{pennies} pennies\")"
   ]
  },
  {
   "cell_type": "code",
   "execution_count": 13,
   "id": "53588310-37c0-4ad3-8768-03794196f64e",
   "metadata": {},
   "outputs": [
    {
     "name": "stdout",
     "output_type": "stream",
     "text": [
      "Hello World! \n",
      "Hello Again \n",
      "I like typing this. \n",
      "This is fun. \n",
      "Yay! Printing \n",
      "I'd much rather you 'not'.\n",
      "I \"said\" do not touch this.\n"
     ]
    }
   ],
   "source": [
    "print(f\"Hello World! \\nHello Again \\nI like typing this. \\nThis is fun. \\nYay! Printing \\nI'd much rather you 'not'.\\nI \\\"said\\\" do not touch this.\")"
   ]
  },
  {
   "cell_type": "code",
   "execution_count": 19,
   "id": "2d511398-cfaa-4aea-b745-c86f081d57c3",
   "metadata": {},
   "outputs": [
    {
     "name": "stdout",
     "output_type": "stream",
     "text": [
      "Debadarshi Omkar\n",
      "True\n"
     ]
    }
   ],
   "source": [
    "def my_function():\n",
    "    print(\"Debadarshi Omkar\")\n",
    "def is_even(num):\n",
    "    #Check whether num is even or not\n",
    "    return num % 2 == 0\n",
    "\n",
    "my_function()\n",
    "print(is_even(6))"
   ]
  },
  {
   "cell_type": "code",
   "execution_count": null,
   "id": "7136d964-e451-4a88-b065-646a15b3bfd2",
   "metadata": {},
   "outputs": [],
   "source": []
  }
 ],
 "metadata": {
  "kernelspec": {
   "display_name": "Python 3 (ipykernel)",
   "language": "python",
   "name": "python3"
  },
  "language_info": {
   "codemirror_mode": {
    "name": "ipython",
    "version": 3
   },
   "file_extension": ".py",
   "mimetype": "text/x-python",
   "name": "python",
   "nbconvert_exporter": "python",
   "pygments_lexer": "ipython3",
   "version": "3.11.7"
  }
 },
 "nbformat": 4,
 "nbformat_minor": 5
}
