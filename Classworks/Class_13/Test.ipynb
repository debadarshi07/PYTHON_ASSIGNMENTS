{
 "cells": [
  {
   "cell_type": "code",
   "execution_count": 6,
   "id": "2fda9363-6c36-404b-9e07-621565b48a4b",
   "metadata": {},
   "outputs": [
    {
     "name": "stdout",
     "output_type": "stream",
     "text": [
      "The value of x inside the fun() is: 10\n",
      "The value of x outside the fun() is: 5\n"
     ]
    }
   ],
   "source": [
    "x = 5\n",
    "def fun():\n",
    "    x = 10\n",
    "    print(f\"The value of x inside the fun() is: {x}\")\n",
    "fun()\n",
    "print(f\"The value of x outside the fun() is: {x}\")"
   ]
  },
  {
   "cell_type": "code",
   "execution_count": 21,
   "id": "2bedc5e1-be4b-4598-b881-3c3669f0c2db",
   "metadata": {},
   "outputs": [
    {
     "name": "stdout",
     "output_type": "stream",
     "text": [
      "The value of x inside the fun() is: 10\n",
      "The value of x outside the fun() is: 10\n"
     ]
    }
   ],
   "source": [
    "x = 5\n",
    "def fun():\n",
    "    global x \n",
    "    x = 10\n",
    "    print(f\"The value of x inside the fun() is: {x}\")\n",
    "fun()\n",
    "print(f\"The value of x outside the fun() is: {x}\")"
   ]
  },
  {
   "cell_type": "code",
   "execution_count": 26,
   "id": "a547e010-cb4e-49c4-85f6-2fbb75504b01",
   "metadata": {},
   "outputs": [
    {
     "name": "stdout",
     "output_type": "stream",
     "text": [
      "     4\n"
     ]
    }
   ],
   "source": [
    "for x in range(5):\n",
    "    print(end = \" \")\n",
    "print(x)"
   ]
  },
  {
   "cell_type": "code",
   "execution_count": 27,
   "id": "871fb10c-f368-4d69-9b20-da96bf3c5632",
   "metadata": {},
   "outputs": [
    {
     "name": "stdout",
     "output_type": "stream",
     "text": [
      "      4\n"
     ]
    }
   ],
   "source": [
    "def fun():\n",
    "    for x in range(6):\n",
    "        print(end = \" \")\n",
    "fun()\n",
    "print(x)"
   ]
  },
  {
   "cell_type": "code",
   "execution_count": 36,
   "id": "66218f89-fb84-4f6b-b581-d817a080f500",
   "metadata": {},
   "outputs": [
    {
     "name": "stdout",
     "output_type": "stream",
     "text": [
      "7\n",
      "8\n"
     ]
    }
   ],
   "source": [
    "from math import floor as f, ceil as c\n",
    "print(f(7.5))\n",
    "print(c(7.5))"
   ]
  },
  {
   "cell_type": "code",
   "execution_count": 41,
   "id": "07535fdf-510e-47db-a8c3-c08f661adb95",
   "metadata": {},
   "outputs": [
    {
     "name": "stdout",
     "output_type": "stream",
     "text": [
      "8908008\n",
      "8908008\n",
      "True \n",
      "\n",
      "8908104\n",
      "8908008\n",
      "False \n",
      "\n",
      "8908104\n",
      "8908104\n",
      "True \n",
      "\n"
     ]
    }
   ],
   "source": [
    "x = 5\n",
    "y = 5\n",
    "print(id(x))\n",
    "print(id(y))\n",
    "print(x is y, '\\n')\n",
    "\n",
    "x = 8\n",
    "print(id(x))\n",
    "print(id(y))\n",
    "print(x is y, '\\n')\n",
    "\n",
    "y = 8\n",
    "print(id(x))\n",
    "print(id(y))\n",
    "print(x is y, '\\n')"
   ]
  },
  {
   "cell_type": "code",
   "execution_count": 43,
   "id": "4afc82d7-26b0-4f36-9a44-64b3bc458f79",
   "metadata": {},
   "outputs": [
    {
     "name": "stdout",
     "output_type": "stream",
     "text": [
      "Id of x is: 8908008\n",
      "The value of y is 8 and id is 8908104\n"
     ]
    }
   ],
   "source": [
    "def change_num(x):\n",
    "    x = 5\n",
    "    print(f\"Id of x is: {id(x)}\")\n",
    "y = 8\n",
    "change_num(y)\n",
    "print(f\"The value of y is {y} and id is {id(y)}\")"
   ]
  },
  {
   "cell_type": "code",
   "execution_count": 51,
   "id": "d7224b18-5e44-4a05-b666-3c557c1b55a1",
   "metadata": {},
   "outputs": [
    {
     "name": "stdout",
     "output_type": "stream",
     "text": [
      "before function call: [1, 2, 3, 4, 5]\n",
      "before function call id: 140484815315136\n",
      "after function call: [5, 2, 3, 4, 5]\n",
      "after function call id: 140484815315136\n"
     ]
    }
   ],
   "source": [
    "def change_list(list):\n",
    "    list[0] = 5\n",
    "\n",
    "list = [1,2,3,4,5]\n",
    "print(f\"before function call: {list}\")\n",
    "print(f\"before function call id: {id(list)}\")\n",
    "\n",
    "change_list(list)\n",
    "print(f\"after function call: {list}\")\n",
    "print(f\"after function call id: {id(list)}\")"
   ]
  },
  {
   "cell_type": "code",
   "execution_count": 52,
   "id": "8adfd7e8-f568-4698-adee-b309b6f7a3f1",
   "metadata": {},
   "outputs": [
    {
     "name": "stdout",
     "output_type": "stream",
     "text": [
      "10\n"
     ]
    }
   ],
   "source": [
    "def sum_(x, y):\n",
    "    return x + y\n",
    "def mul_(a, b):\n",
    "    c = sum_(a, b)\n",
    "    return 2 * c\n",
    "\n",
    "print(mul_(2,3))"
   ]
  },
  {
   "cell_type": "code",
   "execution_count": null,
   "id": "f49170eb-5ea4-45f7-b872-a47056a86508",
   "metadata": {},
   "outputs": [],
   "source": [
    "def f():\n",
    "    return f()\n",
    "f()"
   ]
  },
  {
   "cell_type": "code",
   "execution_count": 62,
   "id": "ad0d41d8-cc9c-4f49-b70a-cc5759efcade",
   "metadata": {},
   "outputs": [
    {
     "name": "stdout",
     "output_type": "stream",
     "text": [
      "           T            H                                                     \n"
     ]
    }
   ],
   "source": [
    "from random import randrange as rr\n",
    "\n",
    "# tortoise move\n",
    "def t_move():\n",
    "    move = rr(1, 11)\n",
    "    if move in [1,2,3,4,5]:\n",
    "        return 3\n",
    "    elif move in [6,7]:\n",
    "        return -6\n",
    "    else:\n",
    "        return 1\n",
    "\n",
    "# hare move\n",
    "def h_move():\n",
    "    move = rr(1, 11)\n",
    "    if move in [1, 2]:\n",
    "        return 0\n",
    "    elif move in [3, 4]:\n",
    "        return 9\n",
    "    elif move == 5:\n",
    "        return -12\n",
    "    elif move in [6, 7, 8]:\n",
    "        return 1\n",
    "    else:\n",
    "        return -2\n",
    "\n",
    "list = [' ' for i in range(1, 79)]\n",
    "list[11] = 'T'\n",
    "list[24] = 'H'\n",
    "print(''.join(list))"
   ]
  },
  {
   "cell_type": "code",
   "execution_count": null,
   "id": "24155a68-b9ce-4112-8e6b-5f19707d595f",
   "metadata": {},
   "outputs": [],
   "source": []
  }
 ],
 "metadata": {
  "kernelspec": {
   "display_name": "Python 3 (ipykernel)",
   "language": "python",
   "name": "python3"
  },
  "language_info": {
   "codemirror_mode": {
    "name": "ipython",
    "version": 3
   },
   "file_extension": ".py",
   "mimetype": "text/x-python",
   "name": "python",
   "nbconvert_exporter": "python",
   "pygments_lexer": "ipython3",
   "version": "3.11.7"
  }
 },
 "nbformat": 4,
 "nbformat_minor": 5
}
