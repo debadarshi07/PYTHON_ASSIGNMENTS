{
 "cells": [
  {
   "cell_type": "code",
   "execution_count": 1,
   "id": "0cc290a4-a894-458f-890c-e38f64a6d9e1",
   "metadata": {},
   "outputs": [
    {
     "name": "stdout",
     "output_type": "stream",
     "text": [
      "Sum is 7\n"
     ]
    }
   ],
   "source": [
    "def sum(a, b):\n",
    "    return a + b\n",
    "\n",
    "print(f\"Sum is {sum(3,4)}\")"
   ]
  },
  {
   "cell_type": "code",
   "execution_count": 2,
   "id": "ccfeea11-e867-4e90-aeb3-83ac51b943f0",
   "metadata": {},
   "outputs": [
    {
     "name": "stdout",
     "output_type": "stream",
     "text": [
      "Debadarshi Omkar\n",
      "None\n"
     ]
    }
   ],
   "source": [
    "def sum():\n",
    "    print(\"Debadarshi Omkar\")\n",
    "\n",
    "print(sum())"
   ]
  },
  {
   "cell_type": "code",
   "execution_count": 8,
   "id": "fd258025-9bc8-4001-9aa6-29b3d15d06e8",
   "metadata": {},
   "outputs": [
    {
     "name": "stdout",
     "output_type": "stream",
     "text": [
      "Maximum among three numbers is = 8\n"
     ]
    }
   ],
   "source": [
    "def max_among_three(num1, num2, num3):\n",
    "    return max(num1, num2, num3)\n",
    "\n",
    "print(f\"Maximum among three numbers is = {max_among_three(5,8,2)}\")"
   ]
  },
  {
   "cell_type": "code",
   "execution_count": null,
   "id": "dc8598a0-71d7-4a48-9c7c-67e782356aa2",
   "metadata": {},
   "outputs": [],
   "source": [
    "def reverse_string():\n",
    "    string = input(\"Enter a string: \")\n",
    "    reverse = ''\n",
    "    for ch in string:\n",
    "        reverse = ch + reverse\n",
    "    return reverse\n",
    "\n",
    "print(reverse_string())"
   ]
  },
  {
   "cell_type": "code",
   "execution_count": 36,
   "id": "3dbb35bc-7207-41ba-b04d-59a132fceb75",
   "metadata": {
    "jupyter": {
     "source_hidden": true
    }
   },
   "outputs": [
    {
     "name": "stdout",
     "output_type": "stream",
     "text": [
      "9\n"
     ]
    }
   ],
   "source": [
    "import random\n",
    "rand_num = random.randrange(1,10,2)\n",
    "print(rand_num)"
   ]
  },
  {
   "cell_type": "code",
   "execution_count": 40,
   "id": "11919dbf-9948-4656-bdf4-24f576771731",
   "metadata": {},
   "outputs": [
    {
     "name": "stdout",
     "output_type": "stream",
     "text": [
      "The outcomes: ['T', 'H', 'T', 'H', 'H', 'H', 'H', 'H', 'H', 'T']\n"
     ]
    }
   ],
   "source": [
    "import random\n",
    "list = []\n",
    "for n in range(10):\n",
    "    rn = random.randrange(1,3)\n",
    "    if rn == 1:\n",
    "        list.append(\"H\")\n",
    "    else:\n",
    "        list.append(\"T\")\n",
    "print(f\"The outcomes: {list}\")"
   ]
  },
  {
   "cell_type": "code",
   "execution_count": null,
   "id": "fdd68920-37ec-4500-823b-0f3cd05d1987",
   "metadata": {},
   "outputs": [],
   "source": []
  }
 ],
 "metadata": {
  "kernelspec": {
   "display_name": "Python 3 (ipykernel)",
   "language": "python",
   "name": "python3"
  },
  "language_info": {
   "codemirror_mode": {
    "name": "ipython",
    "version": 3
   },
   "file_extension": ".py",
   "mimetype": "text/x-python",
   "name": "python",
   "nbconvert_exporter": "python",
   "pygments_lexer": "ipython3",
   "version": "3.11.7"
  }
 },
 "nbformat": 4,
 "nbformat_minor": 5
}
