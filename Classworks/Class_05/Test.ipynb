{
 "cells": [
  {
   "cell_type": "code",
   "execution_count": 16,
   "id": "67907d1b-8de6-454a-a7d0-678c8d35faa2",
   "metadata": {},
   "outputs": [
    {
     "name": "stdout",
     "output_type": "stream",
     "text": [
      "The average is: 81.7\n"
     ]
    }
   ],
   "source": [
    "mark_list = [98, 76, 71, 87, 83, 90, 57, 79, 82, 94];\n",
    "sum = 0;\n",
    "for i in mark_list:\n",
    "    sum += i;\n",
    "\n",
    "average = sum / 10;\n",
    "\n",
    "print(\"The average is:\", average);"
   ]
  },
  {
   "cell_type": "code",
   "execution_count": 19,
   "id": "6d0d052b-841d-40b0-abf6-34669c1468a3",
   "metadata": {},
   "outputs": [
    {
     "name": "stdout",
     "output_type": "stream",
     "text": [
      "Value of a is: 8\n"
     ]
    }
   ],
   "source": [
    "a = 8;\n",
    "print(f\"Value of a is: {a}\")"
   ]
  },
  {
   "cell_type": "code",
   "execution_count": 41,
   "id": "ef4844cf-4ee9-4855-9f1f-fa243327352b",
   "metadata": {},
   "outputs": [
    {
     "name": "stdout",
     "output_type": "stream",
     "text": [
      "Debadarshi Omkar         \n"
     ]
    }
   ],
   "source": [
    "name = \"Debadarshi Omkar\"\n",
    "f = f\"{name:<25}\"\n",
    "print(f)"
   ]
  },
  {
   "cell_type": "code",
   "execution_count": 43,
   "id": "886c7693-854c-4826-ad07-fd75881c8b20",
   "metadata": {},
   "outputs": [
    {
     "name": "stdout",
     "output_type": "stream",
     "text": [
      "Debadarshi Omkar*********\n",
      "____Debadarshi Omkar_____\n"
     ]
    }
   ],
   "source": [
    "name = \"Debadarshi Omkar\"\n",
    "f = f\"{name:*<25}\"\n",
    "print(f)\n",
    "f = f\"{name:_^25}\"\n",
    "print(f)"
   ]
  },
  {
   "cell_type": "code",
   "execution_count": 49,
   "id": "209b53f5-4179-4849-8a8e-4088e14b752d",
   "metadata": {},
   "outputs": [
    {
     "name": "stdout",
     "output_type": "stream",
     "text": [
      "The value of x is: 1.33\n"
     ]
    }
   ],
   "source": [
    "x = 4 / 3\n",
    "formatted = f\"{x:.2f}\"\n",
    "print(f\"The value of x is: {formatted}\")"
   ]
  },
  {
   "cell_type": "code",
   "execution_count": 51,
   "id": "3a7b9681-d864-464f-9287-079f4ff57cc5",
   "metadata": {},
   "outputs": [
    {
     "name": "stdout",
     "output_type": "stream",
     "text": [
      "The value of x is:  1.33\n"
     ]
    }
   ],
   "source": [
    "x = 4 / 3\n",
    "formatted = f\"{x:5.2f}\"\n",
    "print(\"The value of x is:\",formatted)"
   ]
  },
  {
   "cell_type": "code",
   "execution_count": 70,
   "id": "94f9f8bc-1ea0-48a3-96ad-2c0e971f592f",
   "metadata": {},
   "outputs": [
    {
     "name": "stdout",
     "output_type": "stream",
     "text": [
      "Number    Square    Cube\n",
      "     0         0       0\n",
      "     1         1       1\n",
      "     2         4       8\n",
      "     3         9      27\n",
      "     4        16      64\n",
      "     5        25     125\n"
     ]
    }
   ],
   "source": [
    "print(\"Number   \", \"Square   \", \"Cube\")\n",
    "for i in range(6):\n",
    "    square = i ** 2\n",
    "    cube = i ** 3\n",
    "    \n",
    "    formatted_num = f\"{i:6.0f}\"\n",
    "    formatted_square = f\"{square:7.0f}\"\n",
    "    formatted_cube = f\"{cube:5.0f}\"\n",
    "    \n",
    "    print(formatted_num,\" \", formatted_square, \" \", formatted_cube)"
   ]
  },
  {
   "cell_type": "code",
   "execution_count": 82,
   "id": "892522a0-3ef4-4031-bcac-c596ebc38b3c",
   "metadata": {},
   "outputs": [
    {
     "name": "stdout",
     "output_type": "stream",
     "text": [
      "    number     Square       Cube\n",
      "         0          0          0\n",
      "         1          1          1\n",
      "         2          4          8\n",
      "         3          9         27\n",
      "         4         16         64\n",
      "         5         25        125\n"
     ]
    }
   ],
   "source": [
    "print(f\"{'number':>10} {'Square':>10} {'Cube':>10}\")\n",
    "for x in range(6):\n",
    "    print(f\"{x :> 10} {x ** 2 :> 10} {x ** 3 :> 10}\")"
   ]
  },
  {
   "cell_type": "code",
   "execution_count": 83,
   "id": "63b90237-2888-4173-9ed5-b8803a290350",
   "metadata": {},
   "outputs": [
    {
     "name": "stdout",
     "output_type": "stream",
     "text": [
      "7 times 5 is 35.\n"
     ]
    }
   ],
   "source": [
    "number1 = 7\n",
    "number2 = 5\n",
    "print(f\"7 times 5 is {7 * 5}.\")"
   ]
  },
  {
   "cell_type": "code",
   "execution_count": 96,
   "id": "c990f29d-c641-48d0-82d9-e54ccf335c01",
   "metadata": {},
   "outputs": [
    {
     "name": "stdin",
     "output_type": "stream",
     "text": [
      "Enter grade or to finish the process enter -1:  89\n",
      "Enter grade or to finish the process enter -1:  89\n",
      "Enter grade or to finish the process enter -1:  89\n",
      "Enter grade or to finish the process enter -1:  -1\n"
     ]
    },
    {
     "name": "stdout",
     "output_type": "stream",
     "text": [
      "The average is: 89.0\n"
     ]
    }
   ],
   "source": [
    "total = 0;\n",
    "grade_counter = 0;\n",
    "\n",
    "while grade_counter >= 0:\n",
    "    grade = int(input(\"Enter grade or to finish the process enter -1: \"));\n",
    "    if(grade != -1):\n",
    "        total += grade\n",
    "        grade_counter += 1\n",
    "    else :\n",
    "        break\n",
    "\n",
    "if grade_counter == 0:\n",
    "    print(\"No grades has been entered\")\n",
    "else :\n",
    "    print(f\"The average is: {total / grade_counter}\")"
   ]
  },
  {
   "cell_type": "code",
   "execution_count": null,
   "id": "a6edaf97-021d-4d46-82ee-cf0e30f576dc",
   "metadata": {},
   "outputs": [],
   "source": []
  }
 ],
 "metadata": {
  "kernelspec": {
   "display_name": "Python 3 (ipykernel)",
   "language": "python",
   "name": "python3"
  },
  "language_info": {
   "codemirror_mode": {
    "name": "ipython",
    "version": 3
   },
   "file_extension": ".py",
   "mimetype": "text/x-python",
   "name": "python",
   "nbconvert_exporter": "python",
   "pygments_lexer": "ipython3",
   "version": "3.11.7"
  }
 },
 "nbformat": 4,
 "nbformat_minor": 5
}
