{
 "cells": [
  {
   "cell_type": "code",
   "execution_count": 16,
   "id": "3c976dee-02f5-4cea-a511-e055cea0dfe9",
   "metadata": {},
   "outputs": [
    {
     "name": "stdout",
     "output_type": "stream",
     "text": [
      "1D array: \n",
      "[10 20 50 40 30]\n",
      "Type of 1D array: <class 'numpy.ndarray'>\n",
      "\n",
      "2D array: \n",
      "[[1 2 3]\n",
      " [4 6 5]]\n",
      "Type of 2D array: <class 'numpy.ndarray'>\n"
     ]
    }
   ],
   "source": [
    "import numpy as np\n",
    "\n",
    "# One dimensional array\n",
    "numbers = np.array([10, 20, 50, 40, 30])\n",
    "print(f\"1D array: \\n{numbers}\")\n",
    "print(f\"Type of 1D array: {type(numbers)}\")\n",
    "\n",
    "print()\n",
    "\n",
    "# Two dimensional array\n",
    "numbers_2d = np.array([[1, 2, 3], [4, 6, 5]])\n",
    "print(f\"2D array: \\n{numbers_2d}\")\n",
    "print(f\"Type of 2D array: {type(numbers_2d)}\")"
   ]
  },
  {
   "cell_type": "code",
   "execution_count": 21,
   "id": "aae6b7ef-0c79-4065-a9f9-c30cbfb6ec68",
   "metadata": {},
   "outputs": [
    {
     "name": "stdout",
     "output_type": "stream",
     "text": [
      "dtype: int64\n",
      "ndim: 2\n",
      "shape: (2, 3)\n",
      "size: 6\n"
     ]
    }
   ],
   "source": [
    "print(f\"dtype: {numbers_2d.dtype}\")\n",
    "print(f\"ndim: {numbers_2d.ndim}\")\n",
    "print(f\"shape: {numbers_2d.shape}\")\n",
    "print(f\"size: {numbers_2d.size}\")"
   ]
  },
  {
   "cell_type": "code",
   "execution_count": 27,
   "id": "380623fa-a53b-4530-88ed-d04e972289ae",
   "metadata": {},
   "outputs": [
    {
     "name": "stdout",
     "output_type": "stream",
     "text": [
      "1D array: \n",
      "10 20 50 40 30 \n",
      "\n",
      "2D array: \n",
      "1 2 3 \n",
      "4 6 5 \n"
     ]
    }
   ],
   "source": [
    "print(\"1D array: \")\n",
    "for i in numbers:\n",
    "    print(i, end = ' ')\n",
    "print()\n",
    "print(\"\\n2D array: \")\n",
    "for i in numbers_2d:\n",
    "    for j in i:\n",
    "        print(j, end = ' ')\n",
    "    print()"
   ]
  },
  {
   "cell_type": "code",
   "execution_count": 32,
   "id": "0d67658e-0362-43f8-84b4-f4b451dbd554",
   "metadata": {},
   "outputs": [
    {
     "name": "stdout",
     "output_type": "stream",
     "text": [
      "Array with all zeros: \n",
      "[[0. 0. 0. 0.]\n",
      " [0. 0. 0. 0.]\n",
      " [0. 0. 0. 0.]]\n",
      "Type: float64\n"
     ]
    }
   ],
   "source": [
    "arr_zeros = np.zeros([3, 4])\n",
    "print(f\"Array with all zeros: \\n{arr_zeros}\")\n",
    "print(f\"Type: {arr_zeros.dtype}\")"
   ]
  },
  {
   "cell_type": "code",
   "execution_count": 33,
   "id": "b9348b83-5862-487e-9b26-93f4b731e1ef",
   "metadata": {},
   "outputs": [
    {
     "name": "stdout",
     "output_type": "stream",
     "text": [
      "Array with all ones: \n",
      "[[1. 1. 1. 1.]\n",
      " [1. 1. 1. 1.]\n",
      " [1. 1. 1. 1.]]\n",
      "Type: float64\n"
     ]
    }
   ],
   "source": [
    "arr_ones = np.ones([3, 4])\n",
    "print(f\"Array with all ones: \\n{arr_ones}\")\n",
    "print(f\"Type: {arr_ones.dtype}\")"
   ]
  },
  {
   "cell_type": "code",
   "execution_count": 35,
   "id": "f9fc3a89-07ed-49c1-9c9d-5076b24877a3",
   "metadata": {},
   "outputs": [
    {
     "name": "stdout",
     "output_type": "stream",
     "text": [
      "Array with all 5's: \n",
      "[[5 5 5 5]\n",
      " [5 5 5 5]\n",
      " [5 5 5 5]]\n",
      "Type: int64\n"
     ]
    }
   ],
   "source": [
    "arr_els = np.full([3, 4], 5)\n",
    "print(f\"Array with all 5's: \\n{arr_els}\")\n",
    "print(f\"Type: {arr_els.dtype}\")"
   ]
  },
  {
   "cell_type": "code",
   "execution_count": 40,
   "id": "818f7668-938d-4fc3-b416-c4a9f7d4f074",
   "metadata": {},
   "outputs": [
    {
     "name": "stdout",
     "output_type": "stream",
     "text": [
      "arr_r: [ 0  1  2  3  4  5  6  7  8  9 10]\n",
      "arr_r1: [1 3 5 7 9]\n"
     ]
    }
   ],
   "source": [
    "# arange function\n",
    "arr_r = np.arange(11)\n",
    "print(f\"arr_r: {arr_r}\")\n",
    "\n",
    "arr_r1 = np.arange(1, 11, 2)\n",
    "print(f\"arr_r1: {arr_r1}\")"
   ]
  },
  {
   "cell_type": "code",
   "execution_count": 42,
   "id": "61f3ed3b-af18-4241-81fc-51d5244764f1",
   "metadata": {},
   "outputs": [
    {
     "name": "stdout",
     "output_type": "stream",
     "text": [
      "arr_l: [0.   0.25 0.5  0.75 1.  ]\n"
     ]
    }
   ],
   "source": [
    "# linspace\n",
    "arr_l = np.linspace(0, 1, 5)\n",
    "print(f\"arr_l: {arr_l}\")"
   ]
  },
  {
   "cell_type": "code",
   "execution_count": 52,
   "id": "db5e5eae-8ae8-4386-8251-2990cd2d64cc",
   "metadata": {},
   "outputs": [
    {
     "name": "stdout",
     "output_type": "stream",
     "text": [
      "arr_r2: \n",
      "[[1 2]\n",
      " [3 4]\n",
      " [5 6]]\n"
     ]
    }
   ],
   "source": [
    "# reshape\n",
    "arr_r2 = np.array([[1,2,3], [4,5,6]])\n",
    "arr_r2 = arr_r2.reshape(3, 2)\n",
    "print(f\"arr_r2: \\n{arr_r2}\")"
   ]
  },
  {
   "cell_type": "code",
   "execution_count": 56,
   "id": "7380956b-8e64-4dac-b711-fbccff015b6c",
   "metadata": {},
   "outputs": [
    {
     "name": "stdout",
     "output_type": "stream",
     "text": [
      "arr_ones: \n",
      "[[1. 1. 1. ... 1. 1. 1.]\n",
      " [1. 1. 1. ... 1. 1. 1.]\n",
      " [1. 1. 1. ... 1. 1. 1.]\n",
      " ...\n",
      " [1. 1. 1. ... 1. 1. 1.]\n",
      " [1. 1. 1. ... 1. 1. 1.]\n",
      " [1. 1. 1. ... 1. 1. 1.]]\n"
     ]
    }
   ],
   "source": [
    "arr_ones = np.ones([1000, 500])\n",
    "print(f\"arr_ones: \\n{arr_ones}\")"
   ]
  },
  {
   "cell_type": "code",
   "execution_count": 78,
   "id": "b1341aa8-967d-42a1-be83-6435db01e5d8",
   "metadata": {},
   "outputs": [
    {
     "data": {
      "text/plain": [
       "50"
      ]
     },
     "execution_count": 78,
     "metadata": {},
     "output_type": "execute_result"
    }
   ],
   "source": [
    "# random function in numpy lib\n",
    "np.random.randint(2, 110)"
   ]
  },
  {
   "cell_type": "code",
   "execution_count": 87,
   "id": "37a44cd2-944a-4c50-b590-05021df1b673",
   "metadata": {},
   "outputs": [
    {
     "name": "stdout",
     "output_type": "stream",
     "text": [
      "2.77 ms ± 77.3 µs per loop (mean ± std. dev. of 7 runs, 100 loops each)\n",
      "7.11 µs ± 69.7 ns per loop (mean ± std. dev. of 7 runs, 100,000 loops each)\n"
     ]
    }
   ],
   "source": [
    "# Time comparision\n",
    "from random import randrange as r\n",
    "%timeit li = [r(1, 11) for _ in range(10000)]\n",
    "%timeit li = np.full([10000], np.random.randint(1, 11))"
   ]
  },
  {
   "cell_type": "code",
   "execution_count": 93,
   "id": "95c6f88a-8d12-467c-a056-fc2b6547ada5",
   "metadata": {},
   "outputs": [
    {
     "name": "stdout",
     "output_type": "stream",
     "text": [
      "arr1 * 5: [ 5 10 15 20 25 30]\n",
      "arr1 ** 2: [ 1  4  9 16 25 36]\n",
      "arr1 / 2: [0.5 1.  1.5 2.  2.5 3. ]\n",
      "arr1: [1 2 3 4 5 6]\n"
     ]
    }
   ],
   "source": [
    "arr1 = np.array([1, 2, 3, 4, 5, 6])\n",
    "print(f\"arr1 * 5: {arr1 * 5}\")\n",
    "print(f\"arr1 ** 2: {arr1 ** 2}\")\n",
    "print(f\"arr1 / 2: {arr1 / 2}\")\n",
    "print(f\"arr1: {arr1}\")"
   ]
  },
  {
   "cell_type": "code",
   "execution_count": 120,
   "id": "93b74f4e-fd94-46f4-9a35-a73a0da743c8",
   "metadata": {},
   "outputs": [
    {
     "name": "stdout",
     "output_type": "stream",
     "text": [
      "a + b: [ 6  8 10 12 14 16 18 20 22 24]\n",
      "\n",
      "a - b: [-4 -4 -4 -4 -4 -4 -4 -4 -4 -4]\n",
      "\n",
      "a * b: [  5  12  21  32  45  60  77  96 117 140]\n",
      "\n",
      "a / b: [0.2        0.33333333 0.42857143 0.5        0.55555556 0.6\n",
      " 0.63636364 0.66666667 0.69230769 0.71428571]\n",
      "\n",
      "a == b: [False False False False False False False False False False]\n",
      "\n",
      "a > b: [False False False False False False False False False False]\n",
      "\n",
      "a < b: [ True  True  True  True  True  True  True  True  True  True]\n",
      "\n"
     ]
    }
   ],
   "source": [
    "a = np.arange(1, 11)\n",
    "b = np.arange(5, 15)\n",
    "\n",
    "print(f\"a + b: {a + b}\\n\")\n",
    "print(f\"a - b: {a - b}\\n\")\n",
    "print(f\"a * b: {a * b}\\n\")\n",
    "print(f\"a / b: {(a / b)}\\n\")\n",
    "\n",
    "print(f\"a == b: {a == b}\\n\")\n",
    "print(f\"a > b: {a > b}\\n\")\n",
    "print(f\"a < b: {a < b}\\n\")\n",
    "\n"
   ]
  },
  {
   "cell_type": "code",
   "execution_count": 129,
   "id": "47f86ddd-cb33-4b00-ad5c-ea1cfbe5040f",
   "metadata": {},
   "outputs": [
    {
     "name": "stdout",
     "output_type": "stream",
     "text": [
      "a: \n",
      "[[ 1  2  3  4  5]\n",
      " [ 6  7  8  9 10]]\n",
      "\n",
      "a.sum() before reshaping: 55\n",
      "a.sum() after reshaping: 55\n",
      "\n",
      "a.sum(axis = 0): [ 7  9 11 13 15]\n",
      "a.sum(axis = 1): [15 40]\n"
     ]
    }
   ],
   "source": [
    "# sum()\n",
    "\n",
    "print(f\"a: \\n{a}\\n\")\n",
    "\n",
    "print(f\"a.sum() before reshaping: {a.sum()}\")\n",
    "a = a.reshape(2, 5)\n",
    "print(f\"a.sum() after reshaping: {a.sum()}\\n\")\n",
    "\n",
    "print(f\"a.sum(axis = 0): {a.sum(axis = 0)}\")\n",
    "print(f\"a.sum(axis = 1): {a.sum(axis = 1)}\")"
   ]
  },
  {
   "cell_type": "code",
   "execution_count": 166,
   "id": "aa184eda-1286-4495-8db2-96bb689a7ddd",
   "metadata": {},
   "outputs": [
    {
     "name": "stdout",
     "output_type": "stream",
     "text": [
      "[ 77 100  88  88  88  84  94  75  81  88  92  92]\n",
      "Average of class : 87.25\n",
      "Averages of columns: [82.         90.66666667 91.33333333 85.        ]\n",
      "Averages of rows: [88.25 85.25 88.25]\n"
     ]
    }
   ],
   "source": [
    "grades = np.full([12], np.random.randint(60, 101, 12))\n",
    "print(grades)\n",
    "grades = grades.reshape([3, 4])\n",
    "\n",
    "average = np.mean(grades)\n",
    "print(f\"Average of class : {(average):.2f}\")\n",
    "\n",
    "col_sum = grades.sum(axis = 0)\n",
    "col_avg = col_sum / 3\n",
    "print(f\"Averages of columns: {col_avg}\")\n",
    "\n",
    "row_sum = grades.sum(axis = 1)\n",
    "row_avg = row_sum / 4\n",
    "print(f\"Averages of rows: {row_avg}\")"
   ]
  },
  {
   "cell_type": "code",
   "execution_count": null,
   "id": "293e07a7-a6ed-4d22-bcbd-c20be8b221cc",
   "metadata": {},
   "outputs": [],
   "source": []
  }
 ],
 "metadata": {
  "kernelspec": {
   "display_name": "Python 3 (ipykernel)",
   "language": "python",
   "name": "python3"
  },
  "language_info": {
   "codemirror_mode": {
    "name": "ipython",
    "version": 3
   },
   "file_extension": ".py",
   "mimetype": "text/x-python",
   "name": "python",
   "nbconvert_exporter": "python",
   "pygments_lexer": "ipython3",
   "version": "3.11.7"
  }
 },
 "nbformat": 4,
 "nbformat_minor": 5
}
