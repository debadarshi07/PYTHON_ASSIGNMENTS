{
 "cells": [
  {
   "cell_type": "code",
   "execution_count": 3,
   "id": "7419b2a4-a334-4ba4-b102-266376f395fd",
   "metadata": {},
   "outputs": [
    {
     "name": "stdin",
     "output_type": "stream",
     "text": [
      "Enter a number:  8\n",
      "Enter a number:  0\n"
     ]
    },
    {
     "name": "stdout",
     "output_type": "stream",
     "text": [
      "Denominator can't be zero.\n",
      "\n",
      "Thanks for using our calculator.\n",
      "\n"
     ]
    },
    {
     "name": "stdin",
     "output_type": "stream",
     "text": [
      "Enter a number:  r\n"
     ]
    },
    {
     "name": "stdout",
     "output_type": "stream",
     "text": [
      "Enter a valid number.\n",
      "\n",
      "Thanks for using our calculator.\n",
      "\n"
     ]
    },
    {
     "name": "stdin",
     "output_type": "stream",
     "text": [
      "Enter a number:  i\n"
     ]
    },
    {
     "name": "stdout",
     "output_type": "stream",
     "text": [
      "Enter a valid number.\n",
      "\n",
      "Thanks for using our calculator.\n",
      "\n"
     ]
    },
    {
     "name": "stdin",
     "output_type": "stream",
     "text": [
      "Enter a number:  8\n",
      "Enter a number:  3\n"
     ]
    },
    {
     "name": "stdout",
     "output_type": "stream",
     "text": [
      "Result: 2.6666666666666665\n",
      "\n",
      "Thanks for using our calculator.\n",
      "\n"
     ]
    }
   ],
   "source": [
    "# Exception handling\n",
    "\n",
    "while True:\n",
    "    try:\n",
    "        n = int(input(\"Enter a number: \")) # numerator\n",
    "        m = int(input(\"Enter a number: \")) # denominator\n",
    "        r = n / m # result\n",
    "    except ValueError:\n",
    "        print(\"Enter a valid number.\")\n",
    "    except ZeroDivisionError:\n",
    "        print(\"Denominator can't be zero.\")\n",
    "    else:\n",
    "        print(f\"Result: {r}\")\n",
    "        break;\n",
    "    finally:\n",
    "        print(\"\\nThanks for using our calculator.\\n\")"
   ]
  },
  {
   "cell_type": "code",
   "execution_count": 4,
   "id": "3c74d6aa-1edc-4c3f-a641-9395d389eee1",
   "metadata": {},
   "outputs": [
    {
     "name": "stdin",
     "output_type": "stream",
     "text": [
      "Enter a number:  5\n",
      "Enter a number:  w\n"
     ]
    },
    {
     "name": "stdout",
     "output_type": "stream",
     "text": [
      "Enter a valid number.\n",
      "\n",
      "Thanks for using our calculator.\n",
      "\n"
     ]
    },
    {
     "name": "stdin",
     "output_type": "stream",
     "text": [
      "Enter a number:  8\n",
      "Enter a number:  2\n"
     ]
    },
    {
     "name": "stdout",
     "output_type": "stream",
     "text": [
      "Result: 4.0\n",
      "\n",
      "Thanks for using our calculator.\n",
      "\n"
     ]
    }
   ],
   "source": [
    "# Exception handling\n",
    "\n",
    "while True:\n",
    "    try:\n",
    "        n = int(input(\"Enter a number: \")) # numerator\n",
    "        m = int(input(\"Enter a number: \")) # denominator\n",
    "        r = n / m # result\n",
    "    except (ValueError, ZeroDivisionError):\n",
    "        print(\"Enter a valid number.\")\n",
    "    else:\n",
    "        print(f\"Result: {r}\")\n",
    "        break;\n",
    "    finally:\n",
    "        print(\"\\nThanks for using our calculator.\\n\")"
   ]
  }
 ],
 "metadata": {
  "kernelspec": {
   "display_name": "Python 3 (ipykernel)",
   "language": "python",
   "name": "python3"
  },
  "language_info": {
   "codemirror_mode": {
    "name": "ipython",
    "version": 3
   },
   "file_extension": ".py",
   "mimetype": "text/x-python",
   "name": "python",
   "nbconvert_exporter": "python",
   "pygments_lexer": "ipython3",
   "version": "3.11.7"
  }
 },
 "nbformat": 4,
 "nbformat_minor": 5
}
