{
 "cells": [
  {
   "cell_type": "code",
   "execution_count": 15,
   "id": "d82b66fc-bc93-458f-968d-0fca9f8a1a02",
   "metadata": {},
   "outputs": [],
   "source": [
    "# File handling\n",
    "\n",
    "# Writing a file\n",
    "with open('students.txt', mode = 'w') as st:\n",
    "    st.write('111 John 8.5\\n')\n",
    "    st.write('112 White 9.5\\n')\n",
    "    st.write('113 Green 7.8\\n')"
   ]
  },
  {
   "cell_type": "code",
   "execution_count": 16,
   "id": "8d87a459-b631-4924-b767-182dc2929751",
   "metadata": {},
   "outputs": [],
   "source": [
    "# Appending to a file\n",
    "\n",
    "with open('students.txt', mode = 'a') as st:\n",
    "    content = ['114 Ajay 8.8\\n', '115 Vijay 10.0\\n']\n",
    "    st.writelines(content)"
   ]
  },
  {
   "cell_type": "code",
   "execution_count": 17,
   "id": "14db81af-1a45-4b4b-a192-c243a224659a",
   "metadata": {},
   "outputs": [
    {
     "name": "stdout",
     "output_type": "stream",
     "text": [
      "111 John 8.5\n",
      "112 White 9.5\n",
      "113 Green 7.8\n",
      "114 Ajay 8.8\n",
      "115 Vijay 10.0\n"
     ]
    }
   ],
   "source": [
    "# Reading a file\n",
    "\n",
    "with open('students.txt', mode = 'r') as st:\n",
    "    for line in st:\n",
    "        print(line, end = '')"
   ]
  },
  {
   "cell_type": "code",
   "execution_count": 18,
   "id": "83621925-0e96-411e-be25-015fd1ef4ad2",
   "metadata": {},
   "outputs": [
    {
     "name": "stdout",
     "output_type": "stream",
     "text": [
      "1\t1\t1\t \tJ\to\th\tn\t \t8\t.\t5\t\n",
      "\t1\t1\t2\t \tW\th\ti\tt\te\t \t9\t.\t5\t\n",
      "\t1\t1\t3\t \tG\tr\te\te\tn\t \t7\t.\t8\t\n",
      "\t1\t1\t4\t \tA\tj\ta\ty\t \t8\t.\t8\t\n",
      "\t1\t1\t5\t \tV\ti\tj\ta\ty\t \t1\t0\t.\t0\t\n",
      "\t"
     ]
    }
   ],
   "source": [
    "with open('students.txt', mode = 'r') as st:\n",
    "    file = st.read()\n",
    "    for line in file:\n",
    "        print(line, end = '\\t')"
   ]
  },
  {
   "cell_type": "code",
   "execution_count": 19,
   "id": "ff980623-bfea-4c7e-a67e-570707bc034d",
   "metadata": {},
   "outputs": [
    {
     "name": "stdout",
     "output_type": "stream",
     "text": [
      "['111 John 8.5\\n', '112 White 9.5\\n', '113 Green 7.8\\n', '114 Ajay 8.8\\n', '115 Vijay 10.0\\n']\n"
     ]
    }
   ],
   "source": [
    "with open('students.txt', mode = 'r') as st:\n",
    "    file = st.readlines()\n",
    "    print(file)"
   ]
  },
  {
   "cell_type": "code",
   "execution_count": 20,
   "id": "c70883d4-507b-408e-9dff-dcb34e28f674",
   "metadata": {},
   "outputs": [],
   "source": [
    "file1 = open('students.txt', mode = 'r')\n",
    "file2 = open('nstudents.txt', mode = 'w')\n",
    "\n",
    "with file1, file2:\n",
    "    for line in file1:\n",
    "        if line.startswith('114'):\n",
    "            reg, name, gpa = line.split()\n",
    "            new = ' '.join([reg, 'Jay', gpa])\n",
    "            file2.write(new + '\\n')\n",
    "        else:\n",
    "            file2.write(line)"
   ]
  },
  {
   "cell_type": "code",
   "execution_count": 22,
   "id": "1bb8d9aa-dd3e-483e-a545-55421431ba28",
   "metadata": {},
   "outputs": [],
   "source": [
    "import os\n",
    "\n",
    "os.remove('students.txt')\n",
    "os.rename('nstudents.txt', 'students.txt')"
   ]
  },
  {
   "cell_type": "code",
   "execution_count": 26,
   "id": "3b60c9ae-cbe2-493f-b0a0-8d75eeb8924b",
   "metadata": {},
   "outputs": [],
   "source": [
    "with open ('students.txt', mode = 'r+') as st:\n",
    "    file = st.readlines()\n",
    "    st.seek(0)\n",
    "    for line in file:\n",
    "        if line.startswith('111'):\n",
    "            st.writelines(['111 Johnny 8.5\\n'])\n",
    "        else:\n",
    "            st.writelines([line])\n",
    "    st.truncate()"
   ]
  },
  {
   "cell_type": "code",
   "execution_count": 5,
   "id": "44d31c90-a396-42a1-be9f-a5dc3b221825",
   "metadata": {},
   "outputs": [],
   "source": [
    "# Handling CSV files\n",
    "import csv\n",
    "\n",
    "with open('accounts.csv', mode = 'w', newline = '') as acc:\n",
    "    writer = csv.writer(acc)\n",
    "    writer.writerow(['Acc No', 'Name', 'Amount'])\n",
    "    writer.writerow(['1111', 'Name1', 25])\n",
    "    writer.writerow(['1112', 'Name2', 43])"
   ]
  },
  {
   "cell_type": "code",
   "execution_count": 6,
   "id": "d4c7e842-66a0-4ab8-a93a-505ad95fe822",
   "metadata": {},
   "outputs": [
    {
     "name": "stdout",
     "output_type": "stream",
     "text": [
      "Acc No     Name       Amount    \n",
      "1111       Name1      25        \n",
      "1112       Name2      43        \n"
     ]
    }
   ],
   "source": [
    "with open('accounts.csv', mode = 'r', newline = '') as acc:\n",
    "    reader = csv.reader(acc)\n",
    "    for record in reader:\n",
    "        ac, na, ba = record\n",
    "        print(f\"{ac: <10} {na: <10} {ba: <10}\")"
   ]
  },
  {
   "cell_type": "code",
   "execution_count": 7,
   "id": "70498b9c-9365-433e-b67c-27e78d5efb90",
   "metadata": {},
   "outputs": [],
   "source": [
    "# Appending to CSV\n",
    "\n",
    "with open('accounts.csv', mode = 'a', newline = '') as acc:\n",
    "    writer = csv.writer(acc)\n",
    "    writer.writerow(['1113', 'Name3', 28])\n",
    "    writer.writerow(['1114', 'Name4', 35])"
   ]
  },
  {
   "cell_type": "code",
   "execution_count": 8,
   "id": "b2c9b16a-0fef-48fa-af4d-2f16f61e20c2",
   "metadata": {},
   "outputs": [],
   "source": [
    "# Using Pandas for CSV handling\n",
    "import pandas as pd"
   ]
  },
  {
   "cell_type": "code",
   "execution_count": 9,
   "id": "ad0042f7-c2ca-421e-a4ad-763a4df592c2",
   "metadata": {},
   "outputs": [
    {
     "data": {
      "text/html": [
       "<div>\n",
       "<style scoped>\n",
       "    .dataframe tbody tr th:only-of-type {\n",
       "        vertical-align: middle;\n",
       "    }\n",
       "\n",
       "    .dataframe tbody tr th {\n",
       "        vertical-align: top;\n",
       "    }\n",
       "\n",
       "    .dataframe thead th {\n",
       "        text-align: right;\n",
       "    }\n",
       "</style>\n",
       "<table border=\"1\" class=\"dataframe\">\n",
       "  <thead>\n",
       "    <tr style=\"text-align: right;\">\n",
       "      <th></th>\n",
       "      <th>Acc No</th>\n",
       "      <th>Name</th>\n",
       "      <th>Amount</th>\n",
       "    </tr>\n",
       "  </thead>\n",
       "  <tbody>\n",
       "    <tr>\n",
       "      <th>0</th>\n",
       "      <td>1111</td>\n",
       "      <td>Name1</td>\n",
       "      <td>25</td>\n",
       "    </tr>\n",
       "    <tr>\n",
       "      <th>1</th>\n",
       "      <td>1112</td>\n",
       "      <td>Name2</td>\n",
       "      <td>43</td>\n",
       "    </tr>\n",
       "    <tr>\n",
       "      <th>2</th>\n",
       "      <td>1113</td>\n",
       "      <td>Name3</td>\n",
       "      <td>28</td>\n",
       "    </tr>\n",
       "    <tr>\n",
       "      <th>3</th>\n",
       "      <td>1114</td>\n",
       "      <td>Name4</td>\n",
       "      <td>35</td>\n",
       "    </tr>\n",
       "  </tbody>\n",
       "</table>\n",
       "</div>"
      ],
      "text/plain": [
       "   Acc No   Name  Amount\n",
       "0    1111  Name1      25\n",
       "1    1112  Name2      43\n",
       "2    1113  Name3      28\n",
       "3    1114  Name4      35"
      ]
     },
     "execution_count": 9,
     "metadata": {},
     "output_type": "execute_result"
    }
   ],
   "source": [
    "# account = pd.read_csv('accounts.csv', names = ['ACCOUNT', 'NAME', 'BALANCE'])\n",
    "account = pd.read_csv('accounts.csv')\n",
    "account"
   ]
  },
  {
   "cell_type": "code",
   "execution_count": 10,
   "id": "55298a55-2508-4f02-8615-81fb885e87ce",
   "metadata": {},
   "outputs": [
    {
     "data": {
      "text/html": [
       "<div>\n",
       "<style scoped>\n",
       "    .dataframe tbody tr th:only-of-type {\n",
       "        vertical-align: middle;\n",
       "    }\n",
       "\n",
       "    .dataframe tbody tr th {\n",
       "        vertical-align: top;\n",
       "    }\n",
       "\n",
       "    .dataframe thead th {\n",
       "        text-align: right;\n",
       "    }\n",
       "</style>\n",
       "<table border=\"1\" class=\"dataframe\">\n",
       "  <thead>\n",
       "    <tr style=\"text-align: right;\">\n",
       "      <th></th>\n",
       "      <th>Acc No</th>\n",
       "      <th>Amount</th>\n",
       "    </tr>\n",
       "  </thead>\n",
       "  <tbody>\n",
       "    <tr>\n",
       "      <th>count</th>\n",
       "      <td>4.000000</td>\n",
       "      <td>4.00000</td>\n",
       "    </tr>\n",
       "    <tr>\n",
       "      <th>mean</th>\n",
       "      <td>1112.500000</td>\n",
       "      <td>32.75000</td>\n",
       "    </tr>\n",
       "    <tr>\n",
       "      <th>std</th>\n",
       "      <td>1.290994</td>\n",
       "      <td>8.01561</td>\n",
       "    </tr>\n",
       "    <tr>\n",
       "      <th>min</th>\n",
       "      <td>1111.000000</td>\n",
       "      <td>25.00000</td>\n",
       "    </tr>\n",
       "    <tr>\n",
       "      <th>25%</th>\n",
       "      <td>1111.750000</td>\n",
       "      <td>27.25000</td>\n",
       "    </tr>\n",
       "    <tr>\n",
       "      <th>50%</th>\n",
       "      <td>1112.500000</td>\n",
       "      <td>31.50000</td>\n",
       "    </tr>\n",
       "    <tr>\n",
       "      <th>75%</th>\n",
       "      <td>1113.250000</td>\n",
       "      <td>37.00000</td>\n",
       "    </tr>\n",
       "    <tr>\n",
       "      <th>max</th>\n",
       "      <td>1114.000000</td>\n",
       "      <td>43.00000</td>\n",
       "    </tr>\n",
       "  </tbody>\n",
       "</table>\n",
       "</div>"
      ],
      "text/plain": [
       "            Acc No    Amount\n",
       "count     4.000000   4.00000\n",
       "mean   1112.500000  32.75000\n",
       "std       1.290994   8.01561\n",
       "min    1111.000000  25.00000\n",
       "25%    1111.750000  27.25000\n",
       "50%    1112.500000  31.50000\n",
       "75%    1113.250000  37.00000\n",
       "max    1114.000000  43.00000"
      ]
     },
     "execution_count": 10,
     "metadata": {},
     "output_type": "execute_result"
    }
   ],
   "source": [
    "account.describe()"
   ]
  },
  {
   "cell_type": "code",
   "execution_count": 11,
   "id": "1e4deed2-6111-4af7-bd2f-d9ebf6c2a44c",
   "metadata": {},
   "outputs": [
    {
     "data": {
      "text/plain": [
       "count     4.00000\n",
       "mean     32.75000\n",
       "std       8.01561\n",
       "min      25.00000\n",
       "25%      27.25000\n",
       "50%      31.50000\n",
       "75%      37.00000\n",
       "max      43.00000\n",
       "Name: Amount, dtype: float64"
      ]
     },
     "execution_count": 11,
     "metadata": {},
     "output_type": "execute_result"
    }
   ],
   "source": [
    "account.Amount.describe()"
   ]
  },
  {
   "cell_type": "code",
   "execution_count": 12,
   "id": "15f298fc-6af2-4624-b28d-7f1258a252c2",
   "metadata": {},
   "outputs": [
    {
     "data": {
      "text/html": [
       "<div>\n",
       "<style scoped>\n",
       "    .dataframe tbody tr th:only-of-type {\n",
       "        vertical-align: middle;\n",
       "    }\n",
       "\n",
       "    .dataframe tbody tr th {\n",
       "        vertical-align: top;\n",
       "    }\n",
       "\n",
       "    .dataframe thead th {\n",
       "        text-align: right;\n",
       "    }\n",
       "</style>\n",
       "<table border=\"1\" class=\"dataframe\">\n",
       "  <thead>\n",
       "    <tr style=\"text-align: right;\">\n",
       "      <th></th>\n",
       "      <th>PassengerId</th>\n",
       "      <th>Survived</th>\n",
       "      <th>Pclass</th>\n",
       "      <th>Name</th>\n",
       "      <th>Sex</th>\n",
       "      <th>Age</th>\n",
       "      <th>SibSp</th>\n",
       "      <th>Parch</th>\n",
       "      <th>Ticket</th>\n",
       "      <th>Fare</th>\n",
       "      <th>Cabin</th>\n",
       "      <th>Embarked</th>\n",
       "    </tr>\n",
       "  </thead>\n",
       "  <tbody>\n",
       "    <tr>\n",
       "      <th>0</th>\n",
       "      <td>1</td>\n",
       "      <td>0</td>\n",
       "      <td>3</td>\n",
       "      <td>Braund, Mr. Owen Harris</td>\n",
       "      <td>male</td>\n",
       "      <td>22.0</td>\n",
       "      <td>1</td>\n",
       "      <td>0</td>\n",
       "      <td>A/5 21171</td>\n",
       "      <td>7.2500</td>\n",
       "      <td>NaN</td>\n",
       "      <td>S</td>\n",
       "    </tr>\n",
       "    <tr>\n",
       "      <th>1</th>\n",
       "      <td>2</td>\n",
       "      <td>1</td>\n",
       "      <td>1</td>\n",
       "      <td>Cumings, Mrs. John Bradley (Florence Briggs Th...</td>\n",
       "      <td>female</td>\n",
       "      <td>38.0</td>\n",
       "      <td>1</td>\n",
       "      <td>0</td>\n",
       "      <td>PC 17599</td>\n",
       "      <td>71.2833</td>\n",
       "      <td>C85</td>\n",
       "      <td>C</td>\n",
       "    </tr>\n",
       "    <tr>\n",
       "      <th>2</th>\n",
       "      <td>3</td>\n",
       "      <td>1</td>\n",
       "      <td>3</td>\n",
       "      <td>Heikkinen, Miss. Laina</td>\n",
       "      <td>female</td>\n",
       "      <td>26.0</td>\n",
       "      <td>0</td>\n",
       "      <td>0</td>\n",
       "      <td>STON/O2. 3101282</td>\n",
       "      <td>7.9250</td>\n",
       "      <td>NaN</td>\n",
       "      <td>S</td>\n",
       "    </tr>\n",
       "    <tr>\n",
       "      <th>3</th>\n",
       "      <td>4</td>\n",
       "      <td>1</td>\n",
       "      <td>1</td>\n",
       "      <td>Futrelle, Mrs. Jacques Heath (Lily May Peel)</td>\n",
       "      <td>female</td>\n",
       "      <td>35.0</td>\n",
       "      <td>1</td>\n",
       "      <td>0</td>\n",
       "      <td>113803</td>\n",
       "      <td>53.1000</td>\n",
       "      <td>C123</td>\n",
       "      <td>S</td>\n",
       "    </tr>\n",
       "    <tr>\n",
       "      <th>4</th>\n",
       "      <td>5</td>\n",
       "      <td>0</td>\n",
       "      <td>3</td>\n",
       "      <td>Allen, Mr. William Henry</td>\n",
       "      <td>male</td>\n",
       "      <td>35.0</td>\n",
       "      <td>0</td>\n",
       "      <td>0</td>\n",
       "      <td>373450</td>\n",
       "      <td>8.0500</td>\n",
       "      <td>NaN</td>\n",
       "      <td>S</td>\n",
       "    </tr>\n",
       "    <tr>\n",
       "      <th>...</th>\n",
       "      <td>...</td>\n",
       "      <td>...</td>\n",
       "      <td>...</td>\n",
       "      <td>...</td>\n",
       "      <td>...</td>\n",
       "      <td>...</td>\n",
       "      <td>...</td>\n",
       "      <td>...</td>\n",
       "      <td>...</td>\n",
       "      <td>...</td>\n",
       "      <td>...</td>\n",
       "      <td>...</td>\n",
       "    </tr>\n",
       "    <tr>\n",
       "      <th>886</th>\n",
       "      <td>887</td>\n",
       "      <td>0</td>\n",
       "      <td>2</td>\n",
       "      <td>Montvila, Rev. Juozas</td>\n",
       "      <td>male</td>\n",
       "      <td>27.0</td>\n",
       "      <td>0</td>\n",
       "      <td>0</td>\n",
       "      <td>211536</td>\n",
       "      <td>13.0000</td>\n",
       "      <td>NaN</td>\n",
       "      <td>S</td>\n",
       "    </tr>\n",
       "    <tr>\n",
       "      <th>887</th>\n",
       "      <td>888</td>\n",
       "      <td>1</td>\n",
       "      <td>1</td>\n",
       "      <td>Graham, Miss. Margaret Edith</td>\n",
       "      <td>female</td>\n",
       "      <td>19.0</td>\n",
       "      <td>0</td>\n",
       "      <td>0</td>\n",
       "      <td>112053</td>\n",
       "      <td>30.0000</td>\n",
       "      <td>B42</td>\n",
       "      <td>S</td>\n",
       "    </tr>\n",
       "    <tr>\n",
       "      <th>888</th>\n",
       "      <td>889</td>\n",
       "      <td>0</td>\n",
       "      <td>3</td>\n",
       "      <td>Johnston, Miss. Catherine Helen \"Carrie\"</td>\n",
       "      <td>female</td>\n",
       "      <td>NaN</td>\n",
       "      <td>1</td>\n",
       "      <td>2</td>\n",
       "      <td>W./C. 6607</td>\n",
       "      <td>23.4500</td>\n",
       "      <td>NaN</td>\n",
       "      <td>S</td>\n",
       "    </tr>\n",
       "    <tr>\n",
       "      <th>889</th>\n",
       "      <td>890</td>\n",
       "      <td>1</td>\n",
       "      <td>1</td>\n",
       "      <td>Behr, Mr. Karl Howell</td>\n",
       "      <td>male</td>\n",
       "      <td>26.0</td>\n",
       "      <td>0</td>\n",
       "      <td>0</td>\n",
       "      <td>111369</td>\n",
       "      <td>30.0000</td>\n",
       "      <td>C148</td>\n",
       "      <td>C</td>\n",
       "    </tr>\n",
       "    <tr>\n",
       "      <th>890</th>\n",
       "      <td>891</td>\n",
       "      <td>0</td>\n",
       "      <td>3</td>\n",
       "      <td>Dooley, Mr. Patrick</td>\n",
       "      <td>male</td>\n",
       "      <td>32.0</td>\n",
       "      <td>0</td>\n",
       "      <td>0</td>\n",
       "      <td>370376</td>\n",
       "      <td>7.7500</td>\n",
       "      <td>NaN</td>\n",
       "      <td>Q</td>\n",
       "    </tr>\n",
       "  </tbody>\n",
       "</table>\n",
       "<p>891 rows × 12 columns</p>\n",
       "</div>"
      ],
      "text/plain": [
       "     PassengerId  Survived  Pclass  \\\n",
       "0              1         0       3   \n",
       "1              2         1       1   \n",
       "2              3         1       3   \n",
       "3              4         1       1   \n",
       "4              5         0       3   \n",
       "..           ...       ...     ...   \n",
       "886          887         0       2   \n",
       "887          888         1       1   \n",
       "888          889         0       3   \n",
       "889          890         1       1   \n",
       "890          891         0       3   \n",
       "\n",
       "                                                  Name     Sex   Age  SibSp  \\\n",
       "0                              Braund, Mr. Owen Harris    male  22.0      1   \n",
       "1    Cumings, Mrs. John Bradley (Florence Briggs Th...  female  38.0      1   \n",
       "2                               Heikkinen, Miss. Laina  female  26.0      0   \n",
       "3         Futrelle, Mrs. Jacques Heath (Lily May Peel)  female  35.0      1   \n",
       "4                             Allen, Mr. William Henry    male  35.0      0   \n",
       "..                                                 ...     ...   ...    ...   \n",
       "886                              Montvila, Rev. Juozas    male  27.0      0   \n",
       "887                       Graham, Miss. Margaret Edith  female  19.0      0   \n",
       "888           Johnston, Miss. Catherine Helen \"Carrie\"  female   NaN      1   \n",
       "889                              Behr, Mr. Karl Howell    male  26.0      0   \n",
       "890                                Dooley, Mr. Patrick    male  32.0      0   \n",
       "\n",
       "     Parch            Ticket     Fare Cabin Embarked  \n",
       "0        0         A/5 21171   7.2500   NaN        S  \n",
       "1        0          PC 17599  71.2833   C85        C  \n",
       "2        0  STON/O2. 3101282   7.9250   NaN        S  \n",
       "3        0            113803  53.1000  C123        S  \n",
       "4        0            373450   8.0500   NaN        S  \n",
       "..     ...               ...      ...   ...      ...  \n",
       "886      0            211536  13.0000   NaN        S  \n",
       "887      0            112053  30.0000   B42        S  \n",
       "888      2        W./C. 6607  23.4500   NaN        S  \n",
       "889      0            111369  30.0000  C148        C  \n",
       "890      0            370376   7.7500   NaN        Q  \n",
       "\n",
       "[891 rows x 12 columns]"
      ]
     },
     "execution_count": 12,
     "metadata": {},
     "output_type": "execute_result"
    }
   ],
   "source": [
    "titanic = pd.read_csv(r'https://raw.githubusercontent.com/datasciencedojo/datasets/refs/heads/master/titanic.csv')\n",
    "titanic"
   ]
  },
  {
   "cell_type": "code",
   "execution_count": 13,
   "id": "396bb818-7244-46b9-9ad7-f5123a76dc6f",
   "metadata": {},
   "outputs": [
    {
     "data": {
      "text/plain": [
       "0      0\n",
       "1      1\n",
       "2      1\n",
       "3      1\n",
       "4      0\n",
       "      ..\n",
       "886    0\n",
       "887    1\n",
       "888    0\n",
       "889    1\n",
       "890    0\n",
       "Name: Survived, Length: 891, dtype: int64"
      ]
     },
     "execution_count": 13,
     "metadata": {},
     "output_type": "execute_result"
    }
   ],
   "source": [
    "survived = titanic.Survived\n",
    "survived"
   ]
  },
  {
   "cell_type": "code",
   "execution_count": 17,
   "id": "6191a6ff-04b6-41fd-83e3-c183a72c173b",
   "metadata": {},
   "outputs": [
    {
     "data": {
      "image/png": "[encoded data removed]",
      "text/plain": [
       "<Figure size 1000x600 with 1 Axes>"
      ]
     },
     "metadata": {},
     "output_type": "display_data"
    }
   ],
   "source": [
    "import matplotlib.pyplot as plt\n",
    "from collections import Counter\n",
    "\n",
    "c = Counter(survived)\n",
    "\n",
    "x = ['Died', 'Survived']\n",
    "y = c.values()\n",
    "\n",
    "plt.figure(figsize = (10, 6))\n",
    "plt.bar(x,y, color = ['red', 'green'], edgecolor = 'black')\n",
    "\n",
    "plt.ylabel('Count')\n",
    "plt.xlabel('Status')\n",
    "plt.title('Bar Chart')\n",
    "\n",
    "plt.show()"
   ]
  },
  {
   "cell_type": "code",
   "execution_count": 22,
   "id": "ec38a10c-cc55-4545-9d79-a750b574adfa",
   "metadata": {},
   "outputs": [
    {
     "data": {
      "image/png": "[encoded data removed]",
      "text/plain": [
       "<Figure size 1000x600 with 1 Axes>"
      ]
     },
     "metadata": {},
     "output_type": "display_data"
    }
   ],
   "source": [
    "pclass = titanic.Pclass\n",
    "c = Counter(pclass)\n",
    "\n",
    "x = c.keys()\n",
    "y = c.values()\n",
    "\n",
    "plt.figure(figsize = (10, 6))\n",
    "plt.bar(x,y, color = ['red', 'green', 'yellow'], edgecolor = 'black')\n",
    "\n",
    "plt.ylabel('Count')\n",
    "plt.xlabel('Status')\n",
    "plt.title('Bar Chart')\n",
    "\n",
    "plt.show()"
   ]
  },
  {
   "cell_type": "code",
   "execution_count": 29,
   "id": "908051bd-1c5e-4628-b6ac-59f6e5489dd6",
   "metadata": {},
   "outputs": [
    {
     "data": {
      "image/png": "[encoded data removed]",
      "text/plain": [
       "<Figure size 1000x600 with 1 Axes>"
      ]
     },
     "metadata": {},
     "output_type": "display_data"
    }
   ],
   "source": [
    "import numpy as np\n",
    "age = titanic.Age\n",
    "age = age.dropna()\n",
    "\n",
    "plt.figure(figsize = (10, 6))\n",
    "plt.hist(age, color = 'skyblue', edgecolor = 'black', bins = 10)\n",
    "\n",
    "bins_edges = np.linspace(min(age), max(age), 11)\n",
    "plt.xticks(bins_edges, rotation = 45)\n",
    "\n",
    "plt.xlabel('Age')\n",
    "plt.ylabel('Frequencies')\n",
    "plt.title('Distribution of ages')\n",
    "\n",
    "plt.show()"
   ]
  }
 ],
 "metadata": {
  "kernelspec": {
   "display_name": "Python 3 (ipykernel)",
   "language": "python",
   "name": "python3"
  },
  "language_info": {
   "codemirror_mode": {
    "name": "ipython",
    "version": 3
   },
   "file_extension": ".py",
   "mimetype": "text/x-python",
   "name": "python",
   "nbconvert_exporter": "python",
   "pygments_lexer": "ipython3",
   "version": "3.12.7"
  }
 },
 "nbformat": 4,
 "nbformat_minor": 5
}
