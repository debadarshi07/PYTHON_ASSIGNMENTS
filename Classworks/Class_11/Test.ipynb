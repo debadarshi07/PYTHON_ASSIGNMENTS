{
 "cells": [
  {
   "cell_type": "code",
   "execution_count": 7,
   "id": "c2d4d7a9-cdb7-4dfb-83b8-331a87e22f95",
   "metadata": {},
   "outputs": [
    {
     "name": "stdout",
     "output_type": "stream",
     "text": [
      "The frequency of outcome 1: 99862\n",
      "The frequency of outcome 2: 100214\n",
      "The frequency of outcome 3: 100389\n",
      "The frequency of outcome 4: 99541\n",
      "The frequency of outcome 5: 99867\n",
      "The frequency of outcome 6: 100127\n"
     ]
    }
   ],
   "source": [
    "from random import randrange as rr\n",
    "\n",
    "f1,f2,f3,f4,f5,f6 = 0,0,0,0,0,0\n",
    "\n",
    "for i in range(600000):\n",
    "    num = int(rr(1,7))\n",
    "    if num == 1:\n",
    "        f1 += 1\n",
    "    elif num == 2:\n",
    "        f2 += 1\n",
    "    elif num == 3:\n",
    "        f3 += 1\n",
    "    elif num == 4:\n",
    "        f4 += 1\n",
    "    elif num == 5:\n",
    "        f5 += 1\n",
    "    else:\n",
    "        f6 += 1\n",
    "\n",
    "print(f\"The frequency of outcome 1: {f1}\")\n",
    "print(f\"The frequency of outcome 2: {f2}\")\n",
    "print(f\"The frequency of outcome 3: {f3}\")\n",
    "print(f\"The frequency of outcome 4: {f4}\")\n",
    "print(f\"The frequency of outcome 5: {f5}\")\n",
    "print(f\"The frequency of outcome 6: {f6}\")"
   ]
  },
  {
   "cell_type": "code",
   "execution_count": 9,
   "id": "ffd5bc0d-0a0b-47c6-838a-8b671740e26d",
   "metadata": {},
   "outputs": [
    {
     "name": "stdout",
     "output_type": "stream",
     "text": [
      "The frequency of outcome 1: 99951\n",
      "The frequency of outcome 2: 100258\n",
      "The frequency of outcome 3: 100250\n",
      "The frequency of outcome 4: 99700\n",
      "The frequency of outcome 5: 99981\n",
      "The frequency of outcome 6: 99860\n"
     ]
    }
   ],
   "source": [
    "import random\n",
    "random.seed(10)\n",
    "\n",
    "f1,f2,f3,f4,f5,f6 = 0,0,0,0,0,0\n",
    "\n",
    "for i in range(600000):\n",
    "    num = rr(1,7)\n",
    "    if num == 1:\n",
    "        f1 += 1\n",
    "    elif num == 2:\n",
    "        f2 += 1\n",
    "    elif num == 3:\n",
    "        f3 += 1\n",
    "    elif num == 4:\n",
    "        f4 += 1\n",
    "    elif num == 5:\n",
    "        f5 += 1\n",
    "    else:\n",
    "        f6 += 1\n",
    "\n",
    "print(f\"The frequency of outcome 1: {f1}\")\n",
    "print(f\"The frequency of outcome 2: {f2}\")\n",
    "print(f\"The frequency of outcome 3: {f3}\")\n",
    "print(f\"The frequency of outcome 4: {f4}\")\n",
    "print(f\"The frequency of outcome 5: {f5}\")\n",
    "print(f\"The frequency of outcome 6: {f6}\")"
   ]
  },
  {
   "cell_type": "code",
   "execution_count": 17,
   "id": "e7bd7bb8-f384-436c-9e1f-ea5b2c85f25b",
   "metadata": {},
   "outputs": [
    {
     "name": "stdout",
     "output_type": "stream",
     "text": [
      "H T T H H T T T H H "
     ]
    }
   ],
   "source": [
    "import random\n",
    "random.seed(10)\n",
    "\n",
    "for i in range(10):\n",
    "    outcome = random.randrange(1,3)\n",
    "    print('H' if outcome == 1 else 'T' , end = ' ')"
   ]
  },
  {
   "cell_type": "code",
   "execution_count": 85,
   "id": "82898efe-1d1c-4212-aed2-e553c3b5f05f",
   "metadata": {},
   "outputs": [
    {
     "name": "stdout",
     "output_type": "stream",
     "text": [
      "Player has rolled 2 + 3 = 5\n",
      "\n",
      "Player has rolled 4 + 3 = 7\n",
      "\n",
      "Sorry! You Lost.\n"
     ]
    }
   ],
   "source": [
    "from random import randrange as rr\n",
    "\n",
    "def roll_dice():\n",
    "    die1 = rr(1, 7)\n",
    "    die2 = rr(1, 7)\n",
    "    return die1 , die2\n",
    "\n",
    "def display_roll(dice):\n",
    "    die1, die2 = dice\n",
    "    print(f\"Player has rolled {die1} + {die2} = {die1 + die2}\\n\")\n",
    "\n",
    "die_values = roll_dice()\n",
    "sum_of_outcomes = sum(die_values)\n",
    "if sum_of_outcomes in (7, 11):\n",
    "    game_status = 'WON'\n",
    "    display_roll(die_values)\n",
    "elif sum_of_outcomes in (2, 3, 12):\n",
    "    game_status = 'LOST'\n",
    "    display_roll(die_values)\n",
    "else:\n",
    "    game_status = 'CONTINUE'\n",
    "    point = sum_of_outcomes\n",
    "    display_roll(die_values)\n",
    "    \n",
    "while game_status == 'CONTINUE':\n",
    "    die_values = roll_dice()\n",
    "    display_roll(die_values)\n",
    "    sum_of_outcomes = sum(die_values)\n",
    "    \n",
    "    if sum_of_outcomes == point:\n",
    "        game_status = 'WON'\n",
    "    elif sum_of_outcomes == 7:\n",
    "        game_status = 'LOST'\n",
    "    else:\n",
    "        game_status == 'CONTINUE'\n",
    "\n",
    "if game_status == 'WON':\n",
    "    print(f\"Congrats! You Won.\")\n",
    "else:\n",
    "    print(f\"Sorry! You Lost.\")"
   ]
  },
  {
   "cell_type": "code",
   "execution_count": null,
   "id": "31cfec99-c371-4285-ba64-779d23fd6d19",
   "metadata": {},
   "outputs": [],
   "source": []
  }
 ],
 "metadata": {
  "kernelspec": {
   "display_name": "Python 3 (ipykernel)",
   "language": "python",
   "name": "python3"
  },
  "language_info": {
   "codemirror_mode": {
    "name": "ipython",
    "version": 3
   },
   "file_extension": ".py",
   "mimetype": "text/x-python",
   "name": "python",
   "nbconvert_exporter": "python",
   "pygments_lexer": "ipython3",
   "version": "3.11.7"
  }
 },
 "nbformat": 4,
 "nbformat_minor": 5
}
