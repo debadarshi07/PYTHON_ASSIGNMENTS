{
 "cells": [
  {
   "cell_type": "code",
   "execution_count": 2,
   "id": "9c42c6b3-52ca-425e-9880-fbbf75ad7cde",
   "metadata": {},
   "outputs": [
    {
     "name": "stdout",
     "output_type": "stream",
     "text": [
      "Yes\n"
     ]
    }
   ],
   "source": [
    "king = True\n",
    "if king:\n",
    "    print(\"Yes\")"
   ]
  },
  {
   "cell_type": "code",
   "execution_count": 6,
   "id": "7c49ee69-9e14-4081-bad6-35b55b58a93d",
   "metadata": {},
   "outputs": [
    {
     "name": "stdout",
     "output_type": "stream",
     "text": [
      "0 1 2 3 4 5 6 7 8 9 "
     ]
    }
   ],
   "source": [
    "for i in range(10):\n",
    "    print(i, end = \" \")"
   ]
  },
  {
   "cell_type": "code",
   "execution_count": 11,
   "id": "273ed69a-6982-4885-9d26-b4c50c78e42c",
   "metadata": {},
   "outputs": [
    {
     "name": "stdout",
     "output_type": "stream",
     "text": [
      "***** \n",
      "**** \n",
      "*** \n",
      "** \n",
      "* \n"
     ]
    }
   ],
   "source": [
    "for i in range(5):\n",
    "    for j in range(i, 5):\n",
    "        print(\"*\", end = \"\")\n",
    "    print(\" \")"
   ]
  },
  {
   "cell_type": "code",
   "execution_count": 16,
   "id": "b9a831d4-f239-4275-afa5-1ba7ce663418",
   "metadata": {},
   "outputs": [
    {
     "name": "stdout",
     "output_type": "stream",
     "text": [
      "*****\n",
      " ****\n",
      "  ***\n",
      "   **\n",
      "    *\n"
     ]
    }
   ],
   "source": [
    "for i in range(5):\n",
    "    for j in range(5):\n",
    "        if(j >= i):\n",
    "            print(\"*\",end = \"\")\n",
    "        else:\n",
    "            print(\" \", end = \"\")\n",
    "    print(\"\")"
   ]
  },
  {
   "cell_type": "code",
   "execution_count": 22,
   "id": "6b68490d-6f3d-422b-a326-cf9934f8e4c1",
   "metadata": {},
   "outputs": [
    {
     "name": "stdout",
     "output_type": "stream",
     "text": [
      "     \n",
      "    *\n",
      "   **\n",
      "  ***\n",
      " ****\n",
      "*****\n"
     ]
    }
   ],
   "source": [
    "count = 5\n",
    "for i in range(6):\n",
    "    for j in range(5):\n",
    "        if(j >= (count - i)):\n",
    "            print(\"*\",end = \"\")\n",
    "        else:\n",
    "            print(\" \", end = \"\")\n",
    "    print(\"\")"
   ]
  },
  {
   "cell_type": "code",
   "execution_count": 27,
   "id": "606286c8-a015-45cf-97fb-68773b4b2aae",
   "metadata": {},
   "outputs": [
    {
     "name": "stdout",
     "output_type": "stream",
     "text": [
      "2.8\n",
      "<class 'decimal.Decimal'>\n",
      "6.2\n"
     ]
    }
   ],
   "source": [
    "# import decimal\n",
    "from decimal import Decimal as d\n",
    "sum = d('1.3') + d('1.5')\n",
    "print(sum)\n",
    "print(type(sum))\n",
    "sum2 = d('1.2') + 5\n",
    "print(sum2)"
   ]
  },
  {
   "cell_type": "code",
   "execution_count": 34,
   "id": "13d74983-ab28-4e24-8228-ab74b4a36ada",
   "metadata": {},
   "outputs": [
    {
     "name": "stdout",
     "output_type": "stream",
     "text": [
      "After 1 years maturity amount is: 1050.00\n",
      "After 2 years maturity amount is: 1102.50\n",
      "After 3 years maturity amount is: 1157.62\n",
      "After 4 years maturity amount is: 1215.51\n",
      "After 5 years maturity amount is: 1276.28\n",
      "After 6 years maturity amount is: 1340.10\n",
      "After 7 years maturity amount is: 1407.10\n",
      "After 8 years maturity amount is: 1477.46\n",
      "After 9 years maturity amount is: 1551.33\n",
      "After 10 years maturity amount is: 1628.89\n"
     ]
    }
   ],
   "source": [
    "from decimal import Decimal as d\n",
    "p = d('1000')\n",
    "r = d('0.05')\n",
    "n = 10\n",
    "for i in range (1, n + 1):\n",
    "    a = p * ((1 + r)**i)\n",
    "    print(f\"After {i} years maturity amount is: {a:.2f}\")"
   ]
  },
  {
   "cell_type": "code",
   "execution_count": 41,
   "id": "92dca159-edf7-4d4f-b31f-d9f1bc3ad69b",
   "metadata": {},
   "outputs": [
    {
     "name": "stdout",
     "output_type": "stream",
     "text": [
      "1 2 3 4 5 6 7 8 9 10 11 12 13 14 15 16 17 18 19 20 21 22 23 24 25 26 27 28 29 30 31 32 33 34 35 36 37 38 39 "
     ]
    }
   ],
   "source": [
    "s = 0\n",
    "while s < 50:\n",
    "    s += 1\n",
    "    if (s == 40):\n",
    "        break\n",
    "    print(s, end = \" \")"
   ]
  },
  {
   "cell_type": "code",
   "execution_count": 42,
   "id": "43f0170b-6eba-4195-85a8-00d6f2a2e584",
   "metadata": {},
   "outputs": [
    {
     "name": "stdout",
     "output_type": "stream",
     "text": [
      "1 2 3 4 6 7 8 9 11 12 13 14 16 17 18 19 "
     ]
    }
   ],
   "source": [
    "for i in range(21):\n",
    "    if (i % 5 == 0):\n",
    "        continue\n",
    "    else:\n",
    "        print(i, end = \" \")"
   ]
  },
  {
   "cell_type": "code",
   "execution_count": 54,
   "id": "379126e7-0b2a-4907-8a23-c6f44da017ce",
   "metadata": {},
   "outputs": [
    {
     "name": "stdout",
     "output_type": "stream",
     "text": [
      "Mean is 4.93, Median is 5.00, Mode is 2.00\n"
     ]
    }
   ],
   "source": [
    "import statistics\n",
    "data = [1, 2, 2, 3, 4, 2, 8, 7, 9, 5, 5, 7, 8, 6]\n",
    "mean = statistics.mean(data)\n",
    "median = statistics.median(data)\n",
    "mode = statistics.mode(data)\n",
    "\n",
    "print(f\"Mean is {mean:.2f}, Median is {median:.2f}, Mode is {mode:.2f}\")"
   ]
  },
  {
   "cell_type": "code",
   "execution_count": 55,
   "id": "f02b40d4-7e6f-4b4f-b7cc-12b90f4744f3",
   "metadata": {},
   "outputs": [
    {
     "name": "stdout",
     "output_type": "stream",
     "text": [
      "a = 7 \n",
      "b = 7\n"
     ]
    }
   ],
   "source": [
    "a = b = 7\n",
    "print('a =', a, '\\nb =', b)"
   ]
  },
  {
   "cell_type": "code",
   "execution_count": 58,
   "id": "d470603b-e5c6-48eb-a825-bb07ad3ed243",
   "metadata": {},
   "outputs": [
    {
     "name": "stdout",
     "output_type": "stream",
     "text": [
      "> > > > > > > > > > \n",
      "< < < < < < < < < < \n",
      "> > > > > > > > > > \n",
      "< < < < < < < < < < \n",
      "> > > > > > > > > > \n",
      "< < < < < < < < < < \n",
      "> > > > > > > > > > \n",
      "< < < < < < < < < < \n",
      "> > > > > > > > > > \n",
      "< < < < < < < < < < \n"
     ]
    }
   ],
   "source": [
    "for row in range(10):\n",
    "    for column in range(10):\n",
    "        print('<' if row % 2 == 1 else '>' , end = \" \")\n",
    "    print()"
   ]
  },
  {
   "cell_type": "code",
   "execution_count": 60,
   "id": "2fcc5141-df8a-42bf-8804-412eede7cd70",
   "metadata": {},
   "outputs": [
    {
     "name": "stdout",
     "output_type": "stream",
     "text": [
      "@ @ @ @ @ @ @ \n",
      "@ @ @ @ @ @ @ \n"
     ]
    }
   ],
   "source": [
    "for i in range(2):\n",
    "    for j in range(7):\n",
    "        print(\"@\", end = \" \")\n",
    "    print()"
   ]
  },
  {
   "cell_type": "code",
   "execution_count": 66,
   "id": "9ea55ab3-4a04-4e33-b813-f586124afcbb",
   "metadata": {},
   "outputs": [
    {
     "name": "stdin",
     "output_type": "stream",
     "text": [
      "What's your problem ? u\n",
      "Have you had this problem before (Yes or No) ? No\n"
     ]
    },
    {
     "name": "stdout",
     "output_type": "stream",
     "text": [
      "Well, you have it now.\n"
     ]
    }
   ],
   "source": [
    "input(\"What's your problem ?\")\n",
    "response = input(\"Have you had this problem before (Yes or No) ?\")\n",
    "response = response.lower()\n",
    "if response == 'yes':\n",
    "    print(\"Well, you have it again.\")\n",
    "elif response == 'no':\n",
    "    print(\"Well, you have it now.\")\n",
    "else:\n",
    "    print(\"Enter valid input.\")"
   ]
  },
  {
   "cell_type": "code",
   "execution_count": null,
   "id": "4c5da097-d43b-4a3a-bbb1-030c033f8fc2",
   "metadata": {},
   "outputs": [],
   "source": []
  }
 ],
 "metadata": {
  "kernelspec": {
   "display_name": "Python 3 (ipykernel)",
   "language": "python",
   "name": "python3"
  },
  "language_info": {
   "codemirror_mode": {
    "name": "ipython",
    "version": 3
   },
   "file_extension": ".py",
   "mimetype": "text/x-python",
   "name": "python",
   "nbconvert_exporter": "python",
   "pygments_lexer": "ipython3",
   "version": "3.11.7"
  }
 },
 "nbformat": 4,
 "nbformat_minor": 5
}
