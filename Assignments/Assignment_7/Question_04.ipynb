{
 "cells": [
  {
   "cell_type": "code",
   "execution_count": 4,
   "id": "7c468c17-6742-4fc3-9e53-7da31a28c4b4",
   "metadata": {},
   "outputs": [
    {
     "name": "stdout",
     "output_type": "stream",
     "text": [
      "5 times a has occured in the string 'Debadarshi Omkar is an Indian.'\n"
     ]
    }
   ],
   "source": [
    "string = 'Debadarshi Omkar is an Indian.'\n",
    "character = 'a'\n",
    "\n",
    "print(f\"{string.count(character)} times {character} has occured in the string '{string}'\")"
   ]
  }
 ],
 "metadata": {
  "kernelspec": {
   "display_name": "Python 3 (ipykernel)",
   "language": "python",
   "name": "python3"
  },
  "language_info": {
   "codemirror_mode": {
    "name": "ipython",
    "version": 3
   },
   "file_extension": ".py",
   "mimetype": "text/x-python",
   "name": "python",
   "nbconvert_exporter": "python",
   "pygments_lexer": "ipython3",
   "version": "3.12.7"
  }
 },
 "nbformat": 4,
 "nbformat_minor": 5
}
