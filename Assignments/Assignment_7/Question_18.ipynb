{
 "cells": [
  {
   "cell_type": "code",
   "execution_count": 1,
   "id": "bbf791d2-ee73-4fc7-b3ab-87d62eff90ea",
   "metadata": {},
   "outputs": [
    {
     "name": "stdout",
     "output_type": "stream",
     "text": [
      "Output (a): THE QUICK BROWN FOX JUMPS OVER THE LAZY DOG\n",
      "Output (b): god yzal eht revo spmuj xof nworb kciuq ehT\n",
      "Output (c): quick brown fox\n",
      "Output (d): The quick brown cat jumps over the lazy dog\n",
      "Output (e): 4\n",
      "Output (f): True\n",
      "Output (g): True\n",
      "Output (h): False\n"
     ]
    }
   ],
   "source": [
    "quote = \"The quick brown fox jumps over the lazy dog\"\n",
    "\n",
    "# (a) Convert to uppercase\n",
    "print(\"Output (a):\", quote.upper())\n",
    "\n",
    "# (b) Reverse the string\n",
    "print(\"Output (b):\", quote[::-1])\n",
    "\n",
    "# (c) Extract a substring from index 4 to 19\n",
    "print(\"Output (c):\", quote[4:19])\n",
    "\n",
    "# (d) Replace 'fox' with 'cat'\n",
    "print(\"Output (d):\", quote.replace('fox', 'cat'))\n",
    "\n",
    "# (e) Count occurrences of 'o'\n",
    "print(\"Output (e):\", quote.count('o'))\n",
    "\n",
    "# (f) Check if the string starts with 'The'\n",
    "print(\"Output (f):\", quote.startswith('The'))\n",
    "\n",
    "# (g) Check if 'brown' is in the string\n",
    "print(\"Output (g):\", 'brown' in quote)\n",
    "\n",
    "# (h) Check if all characters are lowercase\n",
    "print(\"Output (h):\", quote.islower())"
   ]
  }
 ],
 "metadata": {
  "kernelspec": {
   "display_name": "Python 3 (ipykernel)",
   "language": "python",
   "name": "python3"
  },
  "language_info": {
   "codemirror_mode": {
    "name": "ipython",
    "version": 3
   },
   "file_extension": ".py",
   "mimetype": "text/x-python",
   "name": "python",
   "nbconvert_exporter": "python",
   "pygments_lexer": "ipython3",
   "version": "3.12.7"
  }
 },
 "nbformat": 4,
 "nbformat_minor": 5
}
