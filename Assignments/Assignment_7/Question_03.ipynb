{
 "cells": [
  {
   "cell_type": "code",
   "execution_count": 1,
   "id": "9baf84d3-7c48-4f4f-ade0-20c8cd8c8234",
   "metadata": {},
   "outputs": [],
   "source": [
    "def count_words(s):\n",
    "    words = s.split()\n",
    "    return len(words)"
   ]
  },
  {
   "cell_type": "code",
   "execution_count": 3,
   "id": "b6fdc2a0-a959-437c-98d4-b129c32362cb",
   "metadata": {},
   "outputs": [
    {
     "name": "stdout",
     "output_type": "stream",
     "text": [
      "Number of words: 14\n"
     ]
    }
   ],
   "source": [
    "string = \"This is a temporary test sentence to check the functionality of the function count_words.\"\n",
    "print(f\"Number of words: {count_words(string)}\")"
   ]
  }
 ],
 "metadata": {
  "kernelspec": {
   "display_name": "Python 3 (ipykernel)",
   "language": "python",
   "name": "python3"
  },
  "language_info": {
   "codemirror_mode": {
    "name": "ipython",
    "version": 3
   },
   "file_extension": ".py",
   "mimetype": "text/x-python",
   "name": "python",
   "nbconvert_exporter": "python",
   "pygments_lexer": "ipython3",
   "version": "3.12.7"
  }
 },
 "nbformat": 4,
 "nbformat_minor": 5
}
