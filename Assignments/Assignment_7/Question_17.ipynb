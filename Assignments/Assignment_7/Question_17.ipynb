{
 "cells": [
  {
   "cell_type": "code",
   "execution_count": 2,
   "id": "2f247760-c85c-4bf2-9dab-0d35c49a89ea",
   "metadata": {},
   "outputs": [
    {
     "name": "stdout",
     "output_type": "stream",
     "text": [
      "ow now brown c\n",
      "CW\n",
      "XYZracadXYZra\n",
      "jgnnq\n",
      "imps\n"
     ]
    }
   ],
   "source": [
    "# (a)\n",
    "s = \"how now brown cow\"\n",
    "print(s[s.find('o'):s.rfind('o')])\n",
    "\n",
    "# (b)\n",
    "print(chr(ord('A') + 2) + chr(ord('Z') - 3))\n",
    "\n",
    "# (c)\n",
    "# s = \"abc123def456ghi789\"\n",
    "# indices = [i for i, c in enumerate(s) if c == '']\n",
    "# result = s[indices[1]+1:indices[2]] + s[indices[4]+1:]\n",
    "# print(result)\n",
    "\n",
    "# (d)\n",
    "s = \"abracadabra\"\n",
    "print(s.replace(s[s.find('a'):s.find('r')], \"XYZ\"))\n",
    "\n",
    "# (e)\n",
    "s = \"hello\"\n",
    "shift = 2\n",
    "print(\"\".join(chr((ord(c) - 97 + shift) % 26 + 97) for c in s))\n",
    "\n",
    "# (f)\n",
    "s = \"mississippi\"\n",
    "print(\"\".join(sorted(set(s))))"
   ]
  }
 ],
 "metadata": {
  "kernelspec": {
   "display_name": "Python 3 (ipykernel)",
   "language": "python",
   "name": "python3"
  },
  "language_info": {
   "codemirror_mode": {
    "name": "ipython",
    "version": 3
   },
   "file_extension": ".py",
   "mimetype": "text/x-python",
   "name": "python",
   "nbconvert_exporter": "python",
   "pygments_lexer": "ipython3",
   "version": "3.12.7"
  }
 },
 "nbformat": 4,
 "nbformat_minor": 5
}
