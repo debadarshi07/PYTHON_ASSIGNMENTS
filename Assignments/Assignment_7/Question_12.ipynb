{
 "cells": [
  {
   "cell_type": "code",
   "execution_count": 1,
   "id": "57a7b879-ffba-4043-a903-8aca1a566eff",
   "metadata": {},
   "outputs": [],
   "source": [
    "from itertools import permutations"
   ]
  },
  {
   "cell_type": "code",
   "execution_count": 5,
   "id": "0df3628d-a7f4-4901-8374-66cd4cb0a471",
   "metadata": {},
   "outputs": [],
   "source": [
    "def generate_three_letter_combinations(word):\n",
    "    combinations = set([''.join(p) for p in permutations(word, 3)])\n",
    "    return combinations"
   ]
  },
  {
   "cell_type": "code",
   "execution_count": 6,
   "id": "8f348dfa-5fd8-49c2-9d6d-21b6373e99d2",
   "metadata": {},
   "outputs": [
    {
     "name": "stdin",
     "output_type": "stream",
     "text": [
      "Enter a five-letter word:  guddu\n"
     ]
    },
    {
     "name": "stdout",
     "output_type": "stream",
     "text": [
      "Three-letter combinations:\n",
      "{'udg', 'uug', 'gud', 'dug', 'udd', 'dgu', 'udu', 'uud', 'dgd', 'gdu', 'dud', 'ddg', 'ugd', 'ugu', 'ddu', 'gdd', 'guu', 'duu'}\n"
     ]
    }
   ],
   "source": [
    "word = input(\"Enter a five-letter word: \")\n",
    "\n",
    "if len(word) == 5 and word.isalpha():\n",
    "    result = generate_three_letter_combinations(word)\n",
    "    print(\"Three-letter combinations:\")\n",
    "    print(result)\n",
    "else:\n",
    "    print(\"Please enter a valid five-letter word.\")"
   ]
  }
 ],
 "metadata": {
  "kernelspec": {
   "display_name": "Python 3 (ipykernel)",
   "language": "python",
   "name": "python3"
  },
  "language_info": {
   "codemirror_mode": {
    "name": "ipython",
    "version": 3
   },
   "file_extension": ".py",
   "mimetype": "text/x-python",
   "name": "python",
   "nbconvert_exporter": "python",
   "pygments_lexer": "ipython3",
   "version": "3.12.7"
  }
 },
 "nbformat": 4,
 "nbformat_minor": 5
}
