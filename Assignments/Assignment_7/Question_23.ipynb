{
 "cells": [
  {
   "cell_type": "code",
   "execution_count": 1,
   "id": "99007929-65ff-4476-b608-d01ff4a45f4b",
   "metadata": {},
   "outputs": [],
   "source": [
    "def delete_char_at_index(s, i):\n",
    "    if i < 0 or i >= len(s):\n",
    "        return \"Invalid index\"\n",
    "    return s[:i] + s[i+1:]"
   ]
  },
  {
   "cell_type": "code",
   "execution_count": 5,
   "id": "91d1a869-fda8-4cb1-9e24-fa46e6402b22",
   "metadata": {},
   "outputs": [
    {
     "name": "stdin",
     "output_type": "stream",
     "text": [
      "Enter a string:  Debadarshi \n",
      "Enter the index to delete:  7\n"
     ]
    },
    {
     "name": "stdout",
     "output_type": "stream",
     "text": [
      "Resulting string: Debadarhi \n"
     ]
    }
   ],
   "source": [
    "s = input(\"Enter a string: \")\n",
    "i = int(input(\"Enter the index to delete: \"))\n",
    "result = delete_char_at_index(s, i)\n",
    "\n",
    "print(f\"Resulting string: {result}\")"
   ]
  }
 ],
 "metadata": {
  "kernelspec": {
   "display_name": "Python 3 (ipykernel)",
   "language": "python",
   "name": "python3"
  },
  "language_info": {
   "codemirror_mode": {
    "name": "ipython",
    "version": 3
   },
   "file_extension": ".py",
   "mimetype": "text/x-python",
   "name": "python",
   "nbconvert_exporter": "python",
   "pygments_lexer": "ipython3",
   "version": "3.12.7"
  }
 },
 "nbformat": 4,
 "nbformat_minor": 5
}
