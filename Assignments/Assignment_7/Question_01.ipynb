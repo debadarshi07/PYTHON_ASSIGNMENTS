{
 "cells": [
  {
   "cell_type": "code",
   "execution_count": 1,
   "id": "7c111999-6987-4abb-a11b-506d2c0f467e",
   "metadata": {},
   "outputs": [],
   "source": [
    "def replace(string):\n",
    "    result = string[0]\n",
    "    for i in range(1, len(string)):\n",
    "        if string[i] == string[i - 1]:\n",
    "            result += '*'\n",
    "        else:\n",
    "            result += string[i]\n",
    "    return result"
   ]
  },
  {
   "cell_type": "code",
   "execution_count": 3,
   "id": "18a7074e-57b7-4012-b07a-3aacfc70f5ca",
   "metadata": {},
   "outputs": [
    {
     "name": "stdout",
     "output_type": "stream",
     "text": [
      "bal*o*n\n"
     ]
    }
   ],
   "source": [
    "print(replace('balloon'))"
   ]
  }
 ],
 "metadata": {
  "kernelspec": {
   "display_name": "Python 3 (ipykernel)",
   "language": "python",
   "name": "python3"
  },
  "language_info": {
   "codemirror_mode": {
    "name": "ipython",
    "version": 3
   },
   "file_extension": ".py",
   "mimetype": "text/x-python",
   "name": "python",
   "nbconvert_exporter": "python",
   "pygments_lexer": "ipython3",
   "version": "3.12.7"
  }
 },
 "nbformat": 4,
 "nbformat_minor": 5
}
