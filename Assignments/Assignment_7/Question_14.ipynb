{
 "cells": [
  {
   "cell_type": "code",
   "execution_count": 1,
   "id": "3c2af870-d577-455f-aecc-febac4d15d21",
   "metadata": {},
   "outputs": [],
   "source": [
    "def reverse_middle_half(string):\n",
    "    size = len(string)\n",
    "    if size < 4:\n",
    "        return string\n",
    "\n",
    "    start = size // 4\n",
    "    end = size - start\n",
    "    middle_reversed = string[start:end][::-1]\n",
    "    return string[:start] + middle_reversed + string[end:]"
   ]
  },
  {
   "cell_type": "code",
   "execution_count": 3,
   "id": "9a5631de-dbf9-42cc-8a8d-94c84b187139",
   "metadata": {},
   "outputs": [
    {
     "name": "stdout",
     "output_type": "stream",
     "text": [
      "Original: abcdefghij\n",
      "Modified: abhgfedcij\n"
     ]
    }
   ],
   "source": [
    "string = \"abcdefghij\"\n",
    "result = reverse_middle_half(string)\n",
    "\n",
    "print(f\"Original: {string}\")\n",
    "print(f\"Modified: {result}\")"
   ]
  }
 ],
 "metadata": {
  "kernelspec": {
   "display_name": "Python 3 (ipykernel)",
   "language": "python",
   "name": "python3"
  },
  "language_info": {
   "codemirror_mode": {
    "name": "ipython",
    "version": 3
   },
   "file_extension": ".py",
   "mimetype": "text/x-python",
   "name": "python",
   "nbconvert_exporter": "python",
   "pygments_lexer": "ipython3",
   "version": "3.12.7"
  }
 },
 "nbformat": 4,
 "nbformat_minor": 5
}
