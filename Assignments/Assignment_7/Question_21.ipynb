{
 "cells": [
  {
   "cell_type": "code",
   "execution_count": 20,
   "id": "7e1f8406-561b-4764-9e5b-b8e77fad9358",
   "metadata": {},
   "outputs": [
    {
     "name": "stdout",
     "output_type": "stream",
     "text": [
      "Output (a): No match\n",
      "Output (b): Python Coding Language\n",
      "Output (c): ['Python Programming Language']\n",
      "Output (d): []\n"
     ]
    }
   ],
   "source": [
    "import re\n",
    "string1 = \"Python Programming Language\"\n",
    "\n",
    "# (a) Check if the entire string contains only alphabetic characters\n",
    "match1 = re.fullmatch(r'[A-Za-z]*', string1)\n",
    "print(\"Output (a):\", match1.group() if match1 else \"No match\")\n",
    "\n",
    "# (b) Replace 'Programming' with 'Coding'\n",
    "match2 = re.sub(r'Programming', 'Coding', string1)\n",
    "print(\"Output (b):\", match2)\n",
    "\n",
    "# (c) Split the string using the '+' character (no '+' character present)\n",
    "# Fix: Escape the '+' character with '\\+' in the regex\n",
    "match3 = re.split(r'\\+', string1)\n",
    "print(\"Output (c):\", match3)\n",
    "\n",
    "# (d) Find all occurrences of the '+' character (none present)\n",
    "match8 = re.findall(r'\\+', string1)\n",
    "print(\"Output (d):\", match8)"
   ]
  }
 ],
 "metadata": {
  "kernelspec": {
   "display_name": "Python 3 (ipykernel)",
   "language": "python",
   "name": "python3"
  },
  "language_info": {
   "codemirror_mode": {
    "name": "ipython",
    "version": 3
   },
   "file_extension": ".py",
   "mimetype": "text/x-python",
   "name": "python",
   "nbconvert_exporter": "python",
   "pygments_lexer": "ipython3",
   "version": "3.12.7"
  }
 },
 "nbformat": 4,
 "nbformat_minor": 5
}
