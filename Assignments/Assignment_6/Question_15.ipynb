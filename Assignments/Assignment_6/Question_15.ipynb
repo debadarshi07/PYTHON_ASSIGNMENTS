{
 "cells": [
  {
   "cell_type": "code",
   "execution_count": 1,
   "id": "99ea7034-bcce-4bc4-bd31-537d5dc28596",
   "metadata": {},
   "outputs": [],
   "source": [
    "import numpy as np"
   ]
  },
  {
   "cell_type": "code",
   "execution_count": 8,
   "id": "9639d6fa-2900-48d0-9657-3508d7c4b621",
   "metadata": {},
   "outputs": [
    {
     "name": "stdout",
     "output_type": "stream",
     "text": [
      "Array 0:\n",
      "[[5 6 0]\n",
      " [7 0 7]\n",
      " [8 0 2]]\n",
      "Median: 5.0, Mode: [0]\n",
      "\n",
      "Array 1:\n",
      "[[9 6 4 0]\n",
      " [6 5 4 4]\n",
      " [8 3 9 0]\n",
      " [2 7 6 1]]\n",
      "Median: 4.5, Mode: [4 6]\n",
      "\n",
      "Array 2:\n",
      "[[0 5 9 7 1]\n",
      " [5 7 3 2 8]]\n",
      "Median: 5.0, Mode: [5 7]\n",
      "\n"
     ]
    }
   ],
   "source": [
    "def median(arr):\n",
    "    return np.median(arr)\n",
    "\n",
    "def mode(arr):\n",
    "    values, counts = np.unique(arr, return_counts=True)\n",
    "    max_count = np.max(counts)\n",
    "    return values[counts == max_count]\n",
    "\n",
    "arrays = [np.random.randint(0, 10, (3, 3)), np.random.randint(0, 10, (4, 4)), np.random.randint(0, 10, (2, 5))]\n",
    "\n",
    "for i, arr in enumerate(arrays):\n",
    "    print(f\"Array {i}:\\n{arr}\")\n",
    "    print(f\"Median: {median(arr)}, Mode: {mode(arr)}\\n\")"
   ]
  }
 ],
 "metadata": {
  "kernelspec": {
   "display_name": "Python 3 (ipykernel)",
   "language": "python",
   "name": "python3"
  },
  "language_info": {
   "codemirror_mode": {
    "name": "ipython",
    "version": 3
   },
   "file_extension": ".py",
   "mimetype": "text/x-python",
   "name": "python",
   "nbconvert_exporter": "python",
   "pygments_lexer": "ipython3",
   "version": "3.12.7"
  }
 },
 "nbformat": 4,
 "nbformat_minor": 5
}
