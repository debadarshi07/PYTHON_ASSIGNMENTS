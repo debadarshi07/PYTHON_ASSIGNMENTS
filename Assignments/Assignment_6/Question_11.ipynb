{
 "cells": [
  {
   "cell_type": "code",
   "execution_count": 1,
   "id": "bc63f5cc-2bed-45e0-9a37-fbf4afb2acf6",
   "metadata": {},
   "outputs": [
    {
     "name": "stdout",
     "output_type": "stream",
     "text": [
      "Array3: \n",
      "[[0 1]\n",
      " [2 3]\n",
      " [4 5]\n",
      " [6 7]]\n",
      "\n",
      "Array4: \n",
      "[[0 1 4 5]\n",
      " [2 3 6 7]]\n",
      "\n",
      "Array5: \n",
      "[[0 1 4 5]\n",
      " [2 3 6 7]\n",
      " [0 1 4 5]\n",
      " [2 3 6 7]]\n",
      "\n",
      "Array6: \n",
      "[[0 1 0 1]\n",
      " [2 3 2 3]\n",
      " [4 5 4 5]\n",
      " [6 7 6 7]]\n",
      "\n"
     ]
    }
   ],
   "source": [
    "import numpy as np\n",
    "\n",
    "array1 = np.array([[0, 1], [2, 3]])\n",
    "array2 = np.array([[4, 5], [6, 7]])\n",
    "\n",
    "# (a) Vertical Stacking: Create a 4x2 array (array3)\n",
    "array3 = np.vstack((array1, array2))\n",
    "print(f\"Array3: \\n{array3}\\n\")\n",
    "\n",
    "# (b) Horizontal Stacking: Create a 2x4 array (array4)\n",
    "array4 = np.hstack((array1, array2))\n",
    "print(f\"Array4: \\n{array4}\\n\")\n",
    "\n",
    "# (c) Vertical Stacking with Two Copies of array4: Create a 4x4 array (array5)\n",
    "array5 = np.vstack((array4, array4))\n",
    "print(f\"Array5: \\n{array5}\\n\")\n",
    "\n",
    "# (d) Horizontal Stacking with Two Copies of array3: Create a 4x4 array (array6)\n",
    "array6 = np.hstack((array3, array3))\n",
    "print(f\"Array6: \\n{array6}\\n\")"
   ]
  }
 ],
 "metadata": {
  "kernelspec": {
   "display_name": "Python 3 (ipykernel)",
   "language": "python",
   "name": "python3"
  },
  "language_info": {
   "codemirror_mode": {
    "name": "ipython",
    "version": 3
   },
   "file_extension": ".py",
   "mimetype": "text/x-python",
   "name": "python",
   "nbconvert_exporter": "python",
   "pygments_lexer": "ipython3",
   "version": "3.12.7"
  }
 },
 "nbformat": 4,
 "nbformat_minor": 5
}
