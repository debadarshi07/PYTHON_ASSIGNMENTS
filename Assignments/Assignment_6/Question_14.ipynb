{
 "cells": [
  {
   "cell_type": "code",
   "execution_count": 1,
   "id": "5582a87f-e76c-441e-a2f6-84d49def6e69",
   "metadata": {},
   "outputs": [],
   "source": [
    "import numpy as np"
   ]
  },
  {
   "cell_type": "code",
   "execution_count": 3,
   "id": "c8032b1b-aa60-4584-abe7-0fdf2af2f058",
   "metadata": {},
   "outputs": [
    {
     "name": "stdout",
     "output_type": "stream",
     "text": [
      "Random array: \n",
      "[[52 60 65  7 20]\n",
      " [ 6 92 12 58 30]\n",
      " [58 79 37 66 73]\n",
      " [16 20 55  1 70]\n",
      " [63 71 35 38 65]]\n",
      "Occurrences of each integer: \n",
      "{1: 1, 6: 1, 7: 1, 12: 1, 16: 1, 20: 2, 30: 1, 35: 1, 37: 1, 38: 1, 52: 1, 55: 1, 58: 2, 60: 1, 63: 1, 65: 2, 66: 1, 70: 1, 71: 1, 73: 1, 79: 1, 92: 1}\n"
     ]
    }
   ],
   "source": [
    "random_array = np.random.randint(0, 100, (5, 5))\n",
    "values, counts = np.unique(random_array, return_counts=True)\n",
    "\n",
    "print(f\"Random array: \\n{random_array}\\nOccurrences of each integer: \\n{dict(zip(values, counts))}\")"
   ]
  }
 ],
 "metadata": {
  "kernelspec": {
   "display_name": "Python 3 (ipykernel)",
   "language": "python",
   "name": "python3"
  },
  "language_info": {
   "codemirror_mode": {
    "name": "ipython",
    "version": 3
   },
   "file_extension": ".py",
   "mimetype": "text/x-python",
   "name": "python",
   "nbconvert_exporter": "python",
   "pygments_lexer": "ipython3",
   "version": "3.12.7"
  }
 },
 "nbformat": 4,
 "nbformat_minor": 5
}
