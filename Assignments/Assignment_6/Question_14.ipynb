{
 "cells": [
  {
   "cell_type": "code",
   "execution_count": 1,
   "id": "5582a87f-e76c-441e-a2f6-84d49def6e69",
   "metadata": {},
   "outputs": [],
   "source": [
    "import numpy as np"
   ]
  },
  {
   "cell_type": "code",
   "execution_count": 10,
   "id": "7fe1b249-12f2-408d-975b-47e30866d96c",
   "metadata": {},
   "outputs": [
    {
     "name": "stdout",
     "output_type": "stream",
     "text": [
      "Random array:\n",
      " [[29 34 45 57 13]\n",
      " [11 97 10 22 59]\n",
      " [93 53 95 18  6]\n",
      " [41 69 41 86 41]\n",
      " [95  6 96 22 75]]\n",
      "Occurrences of each number (0–99):\n",
      " [0 0 0 0 0 0 2 0 0 0 1 1 0 1 0 0 0 0 1 0 0 0 2 0 0 0 0 0 0 1 0 0 0 0 1 0 0\n",
      " 0 0 0 0 3 0 0 0 1 0 0 0 0 0 0 0 1 0 0 0 1 0 1 0 0 0 0 0 0 0 0 0 1 0 0 0 0\n",
      " 0 1 0 0 0 0 0 0 0 0 0 0 1 0 0 0 0 0 0 1 0 2 1 1 0 0] \n",
      "\n"
     ]
    }
   ],
   "source": [
    "# using bincount\n",
    "\n",
    "random_array = np.random.randint(0, 100, (5, 5))\n",
    "counts = np.bincount(random_array.flatten(), minlength=100)\n",
    "\n",
    "print(\"Random array:\\n\", random_array)\n",
    "print(\"Occurrences of each number (0–99):\\n\", counts, '\\n')"
   ]
  },
  {
   "cell_type": "code",
   "execution_count": 11,
   "id": "c8032b1b-aa60-4584-abe7-0fdf2af2f058",
   "metadata": {},
   "outputs": [
    {
     "name": "stdout",
     "output_type": "stream",
     "text": [
      "Random array: \n",
      "[[45 77 56 49 10]\n",
      " [95 86 92 95 39]\n",
      " [39 80 49 57 26]\n",
      " [68 97 29 40 98]\n",
      " [77 80 90 53 62]]\n",
      "Occurrences of each integer: \n",
      "{10: 1, 26: 1, 29: 1, 39: 2, 40: 1, 45: 1, 49: 2, 53: 1, 56: 1, 57: 1, 62: 1, 68: 1, 77: 2, 80: 2, 86: 1, 90: 1, 92: 1, 95: 2, 97: 1, 98: 1}\n"
     ]
    }
   ],
   "source": [
    "# without using bincount\n",
    "random_array = np.random.randint(0, 100, (5, 5))\n",
    "values, counts = np.unique(random_array, return_counts=True)\n",
    "\n",
    "print(f\"Random array: \\n{random_array}\\nOccurrences of each integer: \\n{dict(zip(values, counts))}\")"
   ]
  }
 ],
 "metadata": {
  "kernelspec": {
   "display_name": "Python 3 (ipykernel)",
   "language": "python",
   "name": "python3"
  },
  "language_info": {
   "codemirror_mode": {
    "name": "ipython",
    "version": 3
   },
   "file_extension": ".py",
   "mimetype": "text/x-python",
   "name": "python",
   "nbconvert_exporter": "python",
   "pygments_lexer": "ipython3",
   "version": "3.12.7"
  }
 },
 "nbformat": 4,
 "nbformat_minor": 5
}
