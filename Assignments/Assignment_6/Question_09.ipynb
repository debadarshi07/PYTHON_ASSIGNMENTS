{
 "cells": [
  {
   "cell_type": "code",
   "execution_count": 3,
   "id": "421fad9f-be44-40e0-a13b-16b20cb8507c",
   "metadata": {},
   "outputs": [
    {
     "name": "stdout",
     "output_type": "stream",
     "text": [
      " 1  23  456\n",
      "78   9 1011\n",
      "12 345    6\n"
     ]
    }
   ],
   "source": [
    "import numpy as np\n",
    "\n",
    "def format_2d_array(arr):\n",
    "    np_arr = np.array(arr, dtype=object)\n",
    "\n",
    "    column_widths = [max(np.vectorize(lambda x: len(str(x)))(np_arr[:, col])) for col in range(np_arr.shape[1])]\n",
    "    \n",
    "    formatted_rows = []\n",
    "    for row in np_arr:\n",
    "        formatted_row = \" \".join(f\"{str(row[col]):>{column_widths[col]}}\" for col in range(np_arr.shape[1]))\n",
    "        formatted_rows.append(formatted_row)\n",
    "    \n",
    "    return \"\\n\".join(formatted_rows)\n",
    "\n",
    "arr = [\n",
    "    [1, 23, 456],\n",
    "    [78, 9, 1011],\n",
    "    [12, 345, 6]\n",
    "]\n",
    "\n",
    "formatted = format_2d_array(arr)\n",
    "print(formatted)"
   ]
  }
 ],
 "metadata": {
  "kernelspec": {
   "display_name": "Python 3 (ipykernel)",
   "language": "python",
   "name": "python3"
  },
  "language_info": {
   "codemirror_mode": {
    "name": "ipython",
    "version": 3
   },
   "file_extension": ".py",
   "mimetype": "text/x-python",
   "name": "python",
   "nbconvert_exporter": "python",
   "pygments_lexer": "ipython3",
   "version": "3.12.7"
  }
 },
 "nbformat": 4,
 "nbformat_minor": 5
}
