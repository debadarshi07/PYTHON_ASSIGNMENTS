{
 "cells": [
  {
   "cell_type": "code",
   "execution_count": 1,
   "id": "e9cd488c-a322-4aef-b22a-45d413879c6f",
   "metadata": {},
   "outputs": [
    {
     "name": "stdout",
     "output_type": "stream",
     "text": [
      "Array3:\n",
      "[[0 1]\n",
      " [2 3]\n",
      " [4 5]\n",
      " [6 7]]\n",
      "\n",
      "Array4:\n",
      "[[0 1 4 5]\n",
      " [2 3 6 7]]\n",
      "\n",
      "Array5:\n",
      "[[0 1 4 5]\n",
      " [2 3 6 7]\n",
      " [0 1 4 5]\n",
      " [2 3 6 7]]\n",
      "\n",
      "Array6:\n",
      "[[0 1 0 1]\n",
      " [2 3 2 3]\n",
      " [4 5 4 5]\n",
      " [6 7 6 7]]\n",
      "\n"
     ]
    }
   ],
   "source": [
    "import numpy as np\n",
    "\n",
    "array1 = np.array([[0, 1], [2, 3]])\n",
    "array2 = np.array([[4, 5], [6, 7]])\n",
    "\n",
    "array3 = np.concatenate((array1, array2), axis=0)\n",
    "print(f\"Array3:\\n{array3}\\n\")\n",
    "\n",
    "array4 = np.concatenate((array1, array2), axis=1)\n",
    "print(f\"Array4:\\n{array4}\\n\")\n",
    "\n",
    "array5 = np.concatenate((array4, array4), axis=0)\n",
    "print(f\"Array5:\\n{array5}\\n\")\n",
    "\n",
    "array6 = np.concatenate((array3, array3), axis=1)\n",
    "print(f\"Array6:\\n{array6}\\n\")"
   ]
  }
 ],
 "metadata": {
  "kernelspec": {
   "display_name": "Python 3 (ipykernel)",
   "language": "python",
   "name": "python3"
  },
  "language_info": {
   "codemirror_mode": {
    "name": "ipython",
    "version": 3
   },
   "file_extension": ".py",
   "mimetype": "text/x-python",
   "name": "python",
   "nbconvert_exporter": "python",
   "pygments_lexer": "ipython3",
   "version": "3.12.7"
  }
 },
 "nbformat": 4,
 "nbformat_minor": 5
}
