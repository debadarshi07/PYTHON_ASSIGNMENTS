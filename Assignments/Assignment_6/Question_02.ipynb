{
 "cells": [
  {
   "cell_type": "code",
   "execution_count": 11,
   "id": "27236c1c-47c3-45e6-9088-803d2e817a84",
   "metadata": {},
   "outputs": [
    {
     "name": "stdout",
     "output_type": "stream",
     "text": [
      "Original array: [0 1 2 3]\n",
      "\n",
      "Cube of every element: [ 0  1  8 27]\n",
      "\n",
      "Adding 7 to every element: [ 7  8  9 10]\n",
      "\n",
      "Multiplying every element by 2: [0 2 4 6]\n"
     ]
    }
   ],
   "source": [
    "import numpy as np\n",
    "\n",
    "arr = np.arange(4)\n",
    "print(f\"Original array: {arr}\\n\")\n",
    "\n",
    "# (a)\n",
    "cube_array = arr ** 3\n",
    "print(f\"Cube of every element: {cube_array}\\n\")\n",
    "\n",
    "# (b)\n",
    "added_seven = arr + 7\n",
    "print(f\"Adding 7 to every element: {added_seven}\\n\")\n",
    "\n",
    "# (c)\n",
    "multiplied_two = arr * 2\n",
    "print(f\"Multiplying every element by 2: {multiplied_two}\")"
   ]
  }
 ],
 "metadata": {
  "kernelspec": {
   "display_name": "Python 3 (ipykernel)",
   "language": "python",
   "name": "python3"
  },
  "language_info": {
   "codemirror_mode": {
    "name": "ipython",
    "version": 3
   },
   "file_extension": ".py",
   "mimetype": "text/x-python",
   "name": "python",
   "nbconvert_exporter": "python",
   "pygments_lexer": "ipython3",
   "version": "3.12.7"
  }
 },
 "nbformat": 4,
 "nbformat_minor": 5
}
