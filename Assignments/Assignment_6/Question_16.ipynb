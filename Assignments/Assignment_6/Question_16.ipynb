{
 "cells": [
  {
   "cell_type": "code",
   "execution_count": 1,
   "id": "02716ba1-f556-4bcf-88e7-70fd7933aa8d",
   "metadata": {},
   "outputs": [],
   "source": [
    "import numpy as np"
   ]
  },
  {
   "cell_type": "code",
   "execution_count": 8,
   "id": "21df2443-7d67-4c69-9818-dcc8bac6fb21",
   "metadata": {},
   "outputs": [
    {
     "name": "stdout",
     "output_type": "stream",
     "text": [
      "[[[0.51965953 0.26177533]\n",
      "  [0.53103073 0.41985118]\n",
      "  [0.69227423 0.76892244]\n",
      "  [0.12047247 0.24766394]\n",
      "  [0.06273042 0.38923119]]\n",
      "\n",
      " [[0.01660333 0.78167061]\n",
      "  [0.13381862 0.52568617]\n",
      "  [0.74871399 0.49576174]\n",
      "  [0.73466841 0.34138219]\n",
      "  [0.44739037 0.81078884]]\n",
      "\n",
      " [[0.27377665 0.06430041]\n",
      "  [0.87401136 0.39353907]\n",
      "  [0.96658569 0.15486016]\n",
      "  [0.40023022 0.7455372 ]\n",
      "  [0.44171066 0.52265872]]\n",
      "\n",
      " [[0.85707566 0.71417232]\n",
      "  [0.4065873  0.2871494 ]\n",
      "  [0.39773972 0.99426184]\n",
      "  [0.38346232 0.73933306]\n",
      "  [0.27550248 0.17782711]]\n",
      "\n",
      " [[0.74855918 0.94218269]\n",
      "  [0.61772714 0.18443175]\n",
      "  [0.84452961 0.79885812]\n",
      "  [0.41375888 0.68053215]\n",
      "  [0.4963663  0.30210481]]]\n"
     ]
    }
   ],
   "source": [
    "array = np.random.random((9, 9, 2))\n",
    "extracted = array[2:7, 2:7, :]\n",
    "\n",
    "print(extracted)"
   ]
  }
 ],
 "metadata": {
  "kernelspec": {
   "display_name": "Python 3 (ipykernel)",
   "language": "python",
   "name": "python3"
  },
  "language_info": {
   "codemirror_mode": {
    "name": "ipython",
    "version": 3
   },
   "file_extension": ".py",
   "mimetype": "text/x-python",
   "name": "python",
   "nbconvert_exporter": "python",
   "pygments_lexer": "ipython3",
   "version": "3.12.7"
  }
 },
 "nbformat": 4,
 "nbformat_minor": 5
}
