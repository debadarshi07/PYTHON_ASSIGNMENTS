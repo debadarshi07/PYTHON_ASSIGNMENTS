{
 "cells": [
  {
   "cell_type": "code",
   "execution_count": 2,
   "id": "02716ba1-f556-4bcf-88e7-70fd7933aa8d",
   "metadata": {},
   "outputs": [],
   "source": [
    "import numpy as np"
   ]
  },
  {
   "cell_type": "code",
   "execution_count": 21,
   "id": "21df2443-7d67-4c69-9818-dcc8bac6fb21",
   "metadata": {},
   "outputs": [
    {
     "name": "stdout",
     "output_type": "stream",
     "text": [
      "[[[94 21]\n",
      "  [48 67]\n",
      "  [97 52]\n",
      "  [90 62]\n",
      "  [80 87]]\n",
      "\n",
      " [[45 23]\n",
      "  [24 94]\n",
      "  [50 17]\n",
      "  [87 94]\n",
      "  [54 46]]\n",
      "\n",
      " [[37 99]\n",
      "  [46 29]\n",
      "  [98 87]\n",
      "  [92 91]\n",
      "  [12 51]]\n",
      "\n",
      " [[74 93]\n",
      "  [18 39]\n",
      "  [29 25]\n",
      "  [21 86]\n",
      "  [28 57]]\n",
      "\n",
      " [[98 54]\n",
      "  [74 25]\n",
      "  [13 29]\n",
      "  [62 82]\n",
      "  [86 85]]]\n"
     ]
    }
   ],
   "source": [
    "array = np.random.randint(10, 100, (9, 9, 2))\n",
    "extracted = array[2:7, 2:7, :]\n",
    "\n",
    "print(extracted)"
   ]
  }
 ],
 "metadata": {
  "kernelspec": {
   "display_name": "Python 3 (ipykernel)",
   "language": "python",
   "name": "python3"
  },
  "language_info": {
   "codemirror_mode": {
    "name": "ipython",
    "version": 3
   },
   "file_extension": ".py",
   "mimetype": "text/x-python",
   "name": "python",
   "nbconvert_exporter": "python",
   "pygments_lexer": "ipython3",
   "version": "3.12.7"
  }
 },
 "nbformat": 4,
 "nbformat_minor": 5
}
