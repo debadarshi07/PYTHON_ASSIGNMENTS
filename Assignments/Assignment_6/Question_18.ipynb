{
 "cells": [
  {
   "cell_type": "code",
   "execution_count": 1,
   "id": "3200ae28-e33f-457f-8bf1-c233852c39d8",
   "metadata": {},
   "outputs": [],
   "source": [
    "import pandas as pd\n",
    "import numpy as np"
   ]
  },
  {
   "cell_type": "code",
   "execution_count": 10,
   "id": "58df2030-dd0d-4e3b-851e-7938105047f9",
   "metadata": {},
   "outputs": [
    {
     "name": "stdout",
     "output_type": "stream",
     "text": [
      "DataFrame:\n",
      "    a   b   c\n",
      "1  76  67  19\n",
      "2  28  60  57\n",
      "3  38  10  25\n",
      "4  16   8  79\n",
      "5   6  84  47\n",
      "\n",
      "First column as Series:\n",
      "1    76\n",
      "2    28\n",
      "3    38\n",
      "4    16\n",
      "5     6\n",
      "Name: a, dtype: int32\n"
     ]
    }
   ],
   "source": [
    "df = pd.DataFrame(np.random.randint(1, 100, (5, 3)), columns=['a', 'b', 'c'], index = [1,2,3,4,5])\n",
    "series = pd.Series(df['a'])\n",
    "\n",
    "print(f\"DataFrame:\\n{df}\\n\")\n",
    "print(f\"First column as Series:\\n{series}\")"
   ]
  }
 ],
 "metadata": {
  "kernelspec": {
   "display_name": "Python 3 (ipykernel)",
   "language": "python",
   "name": "python3"
  },
  "language_info": {
   "codemirror_mode": {
    "name": "ipython",
    "version": 3
   },
   "file_extension": ".py",
   "mimetype": "text/x-python",
   "name": "python",
   "nbconvert_exporter": "python",
   "pygments_lexer": "ipython3",
   "version": "3.12.7"
  }
 },
 "nbformat": 4,
 "nbformat_minor": 5
}
