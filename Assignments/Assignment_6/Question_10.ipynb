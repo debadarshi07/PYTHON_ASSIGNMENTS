{
 "cells": [
  {
   "cell_type": "code",
   "execution_count": 1,
   "id": "6802b68a-1eaa-4601-b57f-6a8e8de44ad3",
   "metadata": {},
   "outputs": [
    {
     "name": "stdout",
     "output_type": "stream",
     "text": [
      "Original Array (3x5):\n",
      "[[ 1  2  3  4  5]\n",
      " [ 6  7  8  9 10]\n",
      " [11 12 13 14 15]]\n",
      "\n",
      "(a) Row 2:\n",
      "[ 6  7  8  9 10]\n",
      "\n",
      "(b) Column 5:\n",
      "[ 5 10 15]\n",
      "\n",
      "(c) Rows 0 and 1:\n",
      "[[ 1  2  3  4  5]\n",
      " [ 6  7  8  9 10]]\n",
      "\n",
      "(d) Columns 2-4:\n",
      "[[ 2  3  4]\n",
      " [ 7  8  9]\n",
      " [12 13 14]]\n",
      "\n",
      "(e) Element at row 1 and column 4:\n",
      "10\n",
      "\n",
      "(f) Elements from rows 1 and 2 in columns 0, 2, 4:\n",
      "[[ 6  8 10]\n",
      " [11 13 15]]\n"
     ]
    }
   ],
   "source": [
    "import numpy as np\n",
    "\n",
    "arr = np.arange(1, 16)\n",
    "arr = arr.reshape(3, 5)\n",
    "\n",
    "print(f\"Original Array (3x5):\\n{arr}\")\n",
    "\n",
    "# (a) Select row 2\n",
    "row_2 = arr[1, :]  # Row indices start at 0, so row 2 is index 1\n",
    "print(\"\\n(a) Row 2:\")\n",
    "print(row_2)\n",
    "\n",
    "# (b) Select column 5\n",
    "column_5 = arr[:, 4]  # Column indices start at 0, so column 5 is index 4\n",
    "print(\"\\n(b) Column 5:\")\n",
    "print(column_5)\n",
    "\n",
    "# (c) Select rows 0 and 1\n",
    "rows_0_and_1 = arr[0:2, :]  # Select rows 0 and 1 (index 0 and 1)\n",
    "print(\"\\n(c) Rows 0 and 1:\")\n",
    "print(rows_0_and_1)\n",
    "\n",
    "# (d) Select columns 2-4\n",
    "columns_2_to_4 = arr[:, 1:4]  # Select columns 2 to 4 (index 1 to 3)\n",
    "print(\"\\n(d) Columns 2-4:\")\n",
    "print(columns_2_to_4)\n",
    "\n",
    "# (e) Select the element that is in row 1 and column 4\n",
    "element_1_4 = arr[1, 4]  # Row 1, Column 4 (index 1, 4)\n",
    "print(\"\\n(e) Element at row 1 and column 4:\")\n",
    "print(element_1_4)\n",
    "\n",
    "# (f) Select all elements from rows 1 and 2 that are in columns 0, 2, 4\n",
    "elements_1_2_in_0_2_4 = arr[1:3, [0, 2, 4]]  # Rows 1 and 2 (index 1 and 2), columns 0, 2, 4 (index 0, 2, 4)\n",
    "print(\"\\n(f) Elements from rows 1 and 2 in columns 0, 2, 4:\")\n",
    "print(elements_1_2_in_0_2_4)"
   ]
  }
 ],
 "metadata": {
  "kernelspec": {
   "display_name": "Python 3 (ipykernel)",
   "language": "python",
   "name": "python3"
  },
  "language_info": {
   "codemirror_mode": {
    "name": "ipython",
    "version": 3
   },
   "file_extension": ".py",
   "mimetype": "text/x-python",
   "name": "python",
   "nbconvert_exporter": "python",
   "pygments_lexer": "ipython3",
   "version": "3.12.7"
  }
 },
 "nbformat": 4,
 "nbformat_minor": 5
}
