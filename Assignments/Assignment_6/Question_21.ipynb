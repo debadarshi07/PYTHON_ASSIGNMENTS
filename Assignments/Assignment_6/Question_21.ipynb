{
 "cells": [
  {
   "cell_type": "code",
   "execution_count": 1,
   "id": "4014f0fb-daef-41da-b5fc-794e61e88682",
   "metadata": {},
   "outputs": [],
   "source": [
    "import pandas as pd"
   ]
  },
  {
   "cell_type": "code",
   "execution_count": 13,
   "id": "d6f50747-4977-4221-befb-b7218375572e",
   "metadata": {},
   "outputs": [
    {
     "name": "stdout",
     "output_type": "stream",
     "text": [
      "Series with elements containing a vowel:\n",
      "1     Apple\n",
      "2    Orange\n",
      "4    Banana\n",
      "dtype: object\n",
      "\n",
      "Series with elements starting with a vowel:\n",
      "1     Apple\n",
      "2    Orange\n",
      "dtype: object\n"
     ]
    }
   ],
   "source": [
    "L = [\"Cry\", \"Apple\", \"Orange\", \"Sky\", \"Banana\"]\n",
    "series = pd.Series(L)\n",
    "\n",
    "contains_vowel = series[series.str.contains('a') | series.str.contains('e') | series.str.contains('i') | series.str.contains('o') | series.str.contains('u')]\n",
    "print(f\"Series with elements containing a vowel:\\n{contains_vowel}\\n\")\n",
    "\n",
    "starts_with_vowel = series[series.str[0].str.lower().isin([\"a\", \"e\", \"i\", \"o\", \"u\"])]\n",
    "print(f\"Series with elements starting with a vowel:\\n{starts_with_vowel}\")"
   ]
  }
 ],
 "metadata": {
  "kernelspec": {
   "display_name": "Python 3 (ipykernel)",
   "language": "python",
   "name": "python3"
  },
  "language_info": {
   "codemirror_mode": {
    "name": "ipython",
    "version": 3
   },
   "file_extension": ".py",
   "mimetype": "text/x-python",
   "name": "python",
   "nbconvert_exporter": "python",
   "pygments_lexer": "ipython3",
   "version": "3.12.7"
  }
 },
 "nbformat": 4,
 "nbformat_minor": 5
}
