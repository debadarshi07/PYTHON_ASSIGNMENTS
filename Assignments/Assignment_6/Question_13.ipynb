{
 "cells": [
  {
   "cell_type": "code",
   "execution_count": 4,
   "id": "b23540db-5e0f-4724-b3dc-654c9067af27",
   "metadata": {},
   "outputs": [
    {
     "name": "stdout",
     "output_type": "stream",
     "text": [
      "CheckBoard: \n",
      "[['-' '*' '-' '*' '-' '*' '-' '*']\n",
      " ['*' '-' '*' '-' '*' '-' '*' '-']\n",
      " ['-' '*' '-' '*' '-' '*' '-' '*']\n",
      " ['*' '-' '*' '-' '*' '-' '*' '-']\n",
      " ['-' '*' '-' '*' '-' '*' '-' '*']\n",
      " ['*' '-' '*' '-' '*' '-' '*' '-']\n",
      " ['-' '*' '-' '*' '-' '*' '-' '*']\n",
      " ['*' '-' '*' '-' '*' '-' '*' '-']]\n"
     ]
    }
   ],
   "source": [
    "import numpy as np\n",
    "\n",
    "block = np.array([['-', '*'], ['*', '-']])\n",
    "\n",
    "checkboard = np.tile(block, (4, 4))\n",
    "print(f\"CheckBoard: \\n{checkboard}\")"
   ]
  }
 ],
 "metadata": {
  "kernelspec": {
   "display_name": "Python 3 (ipykernel)",
   "language": "python",
   "name": "python3"
  },
  "language_info": {
   "codemirror_mode": {
    "name": "ipython",
    "version": 3
   },
   "file_extension": ".py",
   "mimetype": "text/x-python",
   "name": "python",
   "nbconvert_exporter": "python",
   "pygments_lexer": "ipython3",
   "version": "3.12.7"
  }
 },
 "nbformat": 4,
 "nbformat_minor": 5
}
