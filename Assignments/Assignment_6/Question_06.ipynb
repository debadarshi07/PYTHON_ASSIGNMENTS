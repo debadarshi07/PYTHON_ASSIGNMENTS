{
 "cells": [
  {
   "cell_type": "code",
   "execution_count": 28,
   "id": "6ef94ec1-2186-4d64-b952-95fc52e165c7",
   "metadata": {},
   "outputs": [
    {
     "name": "stdout",
     "output_type": "stream",
     "text": [
      "Original array: \n",
      "[[ 1  2  4]\n",
      " [ 8 16 32]]\n",
      "\n",
      "Flatten: \n",
      "[ 1  2  4  8 16 32]\n",
      "\n",
      "Original array: \n",
      "[[ 1  2  4]\n",
      " [ 8 16 32]]\n",
      "\n",
      "\n",
      "Ravel: \n",
      "[ 1  2  4  8 16 32]\n",
      "\n",
      "Original array: \n",
      "[[ 1  2  4]\n",
      " [ 8 16 32]]\n"
     ]
    }
   ],
   "source": [
    "import numpy as np\n",
    "\n",
    "arr = np.array([2 ** x for x in range(6)]).reshape([2, 3])\n",
    "print(f\"Original array: \\n{arr}\\n\")\n",
    "\n",
    "print(f\"Flatten: \\n{arr.flatten()}\\n\")\n",
    "print(f\"Original array: \\n{arr}\\n\\n\")\n",
    "\n",
    "print(f\"Ravel: \\n{arr.ravel()}\\n\")\n",
    "print(f\"Original array: \\n{arr}\")"
   ]
  }
 ],
 "metadata": {
  "kernelspec": {
   "display_name": "Python 3 (ipykernel)",
   "language": "python",
   "name": "python3"
  },
  "language_info": {
   "codemirror_mode": {
    "name": "ipython",
    "version": 3
   },
   "file_extension": ".py",
   "mimetype": "text/x-python",
   "name": "python",
   "nbconvert_exporter": "python",
   "pygments_lexer": "ipython3",
   "version": "3.12.7"
  }
 },
 "nbformat": 4,
 "nbformat_minor": 5
}
