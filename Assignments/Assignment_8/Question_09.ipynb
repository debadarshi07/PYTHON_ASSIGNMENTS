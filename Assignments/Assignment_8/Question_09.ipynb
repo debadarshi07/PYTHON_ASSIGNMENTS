{
 "cells": [
  {
   "cell_type": "code",
   "execution_count": null,
   "id": "aeb4e606-94b9-446e-b67f-37594c9eb4de",
   "metadata": {},
   "outputs": [],
   "source": [
    "def safe_divide(num1, num2):\n",
    "    try:\n",
    "        num1 = float(num1)\n",
    "        num2 = float(num2)\n",
    "        if num2 == 0:\n",
    "            raise ValueError(\"Error: Division by zero is not allowed.\")\n",
    "        result = num1 / num2\n",
    "        return result\n",
    "    except ValueError as ve:\n",
    "        return str(ve)\n",
    "    except Exception as e:\n",
    "        return f\"Error: {e}\"\n",
    "print(safe_divide(10, 2))\n",
    "print(safe_divide(10, 0))\n",
    "print(safe_divide('a', 2))\n",
    "print(safe_divide(10, 'b'))\n",
    "print(safe_divide('a', 'b'))"
   ]
  }
 ],
 "metadata": {
  "kernelspec": {
   "display_name": "Python 3 (ipykernel)",
   "language": "python",
   "name": "python3"
  },
  "language_info": {
   "codemirror_mode": {
    "name": "ipython",
    "version": 3
   },
   "file_extension": ".py",
   "mimetype": "text/x-python",
   "name": "python",
   "nbconvert_exporter": "python",
   "pygments_lexer": "ipython3",
   "version": "3.12.7"
  }
 },
 "nbformat": 4,
 "nbformat_minor": 5
}
