{
 "cells": [
  {
   "cell_type": "code",
   "execution_count": null,
   "id": "4afc5558-80cd-4f4d-9fb7-7b5f11f92b33",
   "metadata": {},
   "outputs": [],
   "source": [
    "def count_words_and_vowels(filename):\n",
    "    try:\n",
    "        with open(filename, 'r') as file:\n",
    "            content = file.read()\n",
    "            word_count = 0\n",
    "            vowel_count = 0\n",
    "            vowels = set(\"aeiouAEIOU\")\n",
    "            for char in content:\n",
    "                if char.isalpha():\n",
    "                    if char in vowels:\n",
    "                        vowel_count += 1\n",
    "            word_count = len(content.split())\n",
    "            print(f\"Number of words: {word_count}\")\n",
    "            print(f\"Number of vowels: {vowel_count}\")\n",
    "    except FileNotFoundError:\n",
    "        print(f\"Error: The file '{filename}' does not exist.\")\n",
    "count_words_and_vowels('file1.txt')"
   ]
  }
 ],
 "metadata": {
  "kernelspec": {
   "display_name": "Python 3 (ipykernel)",
   "language": "python",
   "name": "python3"
  },
  "language_info": {
   "codemirror_mode": {
    "name": "ipython",
    "version": 3
   },
   "file_extension": ".py",
   "mimetype": "text/x-python",
   "name": "python",
   "nbconvert_exporter": "python",
   "pygments_lexer": "ipython3",
   "version": "3.12.7"
  }
 },
 "nbformat": 4,
 "nbformat_minor": 5
}
