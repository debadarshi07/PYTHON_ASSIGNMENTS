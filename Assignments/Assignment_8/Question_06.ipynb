{
 "cells": [
  {
   "cell_type": "code",
   "execution_count": null,
   "id": "512e75e1-b490-480c-95d9-08a52d2717a3",
   "metadata": {},
   "outputs": [],
   "source": [
    "import csv\n",
    "header = ['FirstName', 'LastName', 'Exam1Grade', 'Exam2Grade', 'Exam3Grade']\n",
    "with open('grades.csv', 'a', newline='') as file:\n",
    "    writer = csv.writer(file)\n",
    "    if file.tell() == 0:\n",
    "        writer.writerow(header)\n",
    "    while True:\n",
    "        first_name = input(\"Enter the student's first name (or type 'exit' to quit): \")\n",
    "        if first_name.lower() == 'exit':\n",
    "            break\n",
    "        last_name = input(\"Enter the student's last name: \")\n",
    "        exam1_grade = int(input(\"Enter the grade for Exam 1: \"))\n",
    "        exam2_grade = int(input(\"Enter the grade for Exam 2: \"))\n",
    "        exam3_grade = int(input(\"Enter the grade for Exam 3: \"))\n",
    "        writer.writerow([first_name, last_name, exam1_grade, exam2_grade, exam3_grade])\n",
    "        print(\"Student data saved successfully.\\n\")\n",
    "print(\"Data entry complete.\")"
   ]
  }
 ],
 "metadata": {
  "kernelspec": {
   "display_name": "Python 3 (ipykernel)",
   "language": "python",
   "name": "python3"
  },
  "language_info": {
   "codemirror_mode": {
    "name": "ipython",
    "version": 3
   },
   "file_extension": ".py",
   "mimetype": "text/x-python",
   "name": "python",
   "nbconvert_exporter": "python",
   "pygments_lexer": "ipython3",
   "version": "3.12.7"
  }
 },
 "nbformat": 4,
 "nbformat_minor": 5
}
