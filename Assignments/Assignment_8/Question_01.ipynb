{
 "cells": [
  {
   "cell_type": "code",
   "execution_count": null,
   "id": "521161d3-4c03-47fc-863b-09bf9daadbc7",
   "metadata": {},
   "outputs": [],
   "source": [
    "\"\"\"In Python, the read and readlines methods are used to read the contents of a file, but they differ in functionality and output:\n",
    "\n",
    "1. read() Method\n",
    "Purpose: Reads the entire content of a file as a single string.\n",
    "Output: A single string containing all the data in the file.\n",
    "Usage:\n",
    "python\n",
    "Copy code\n",
    "with open(\"example.txt\", \"r\") as file:\n",
    "    content = file.read()\n",
    "    print(content)\n",
    "Best For: When you need the whole file's content as one continuous string.\n",
    "2. readlines() Method\n",
    "Purpose: Reads all the lines of a file and returns them as a list of strings.\n",
    "Output: A list where each element is a single line (including the newline character at the end of each line).\n",
    "Usage:\n",
    "python\n",
    "Copy code\n",
    "with open(\"example.txt\", \"r\") as file:\n",
    "    lines = file.readlines()\n",
    "    print(lines)\n",
    "Best For: When you need to process each line individually.\n",
    "Key Differences:\n",
    "Feature\tread\treadlines\n",
    "Output\tSingle string\tList of strings\n",
    "Memory Usage\tReads entire file into memory\tReads entire file into memory (split by lines)\n",
    "When to Use\tFor processing entire content\tFor line-by-line processing\n",
    "For large files, both can use significant memory. In such cases, consider reading the file line-by-line using a loop:\n",
    "\n",
    "python\n",
    "Copy code\n",
    "with open(\"example.txt\", \"r\") as file:\n",
    "    for line in file:\n",
    "        print(line.strip())\"\"\""
   ]
  }
 ],
 "metadata": {
  "kernelspec": {
   "display_name": "Python 3 (ipykernel)",
   "language": "python",
   "name": "python3"
  },
  "language_info": {
   "codemirror_mode": {
    "name": "ipython",
    "version": 3
   },
   "file_extension": ".py",
   "mimetype": "text/x-python",
   "name": "python",
   "nbconvert_exporter": "python",
   "pygments_lexer": "ipython3",
   "version": "3.12.7"
  }
 },
 "nbformat": 4,
 "nbformat_minor": 5
}
